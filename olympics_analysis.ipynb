{
  "nbformat": 4,
  "nbformat_minor": 0,
  "metadata": {
    "colab": {
      "name": "olympics-analysis.ipynb",
      "provenance": [],
      "collapsed_sections": [],
      "authorship_tag": "ABX9TyMyKYvydmtcQ7HK9hIKIwP1",
      "include_colab_link": true
    },
    "kernelspec": {
      "display_name": "Python 3",
      "name": "python3"
    },
    "language_info": {
      "name": "python"
    }
  },
  "cells": [
    {
      "cell_type": "markdown",
      "metadata": {
        "id": "view-in-github",
        "colab_type": "text"
      },
      "source": [
        "<a href=\"https://colab.research.google.com/github/lovelyoyrmia/machine-learning-notebook/blob/main/olympics_analysis.ipynb\" target=\"_parent\"><img src=\"https://colab.research.google.com/assets/colab-badge.svg\" alt=\"Open In Colab\"/></a>"
      ]
    },
    {
      "cell_type": "code",
      "metadata": {
        "id": "4GjviFFRv0AP"
      },
      "source": [
        "import pandas as pd\n",
        "import numpy as np"
      ],
      "execution_count": 1,
      "outputs": []
    },
    {
      "cell_type": "code",
      "metadata": {
        "id": "FaoRRpTXPZkl"
      },
      "source": [
        "from google.colab import files"
      ],
      "execution_count": 2,
      "outputs": []
    },
    {
      "cell_type": "code",
      "metadata": {
        "colab": {
          "base_uri": "https://localhost:8080/"
        },
        "id": "MgvNveGdwSbh",
        "outputId": "eb1211a4-080e-4327-fca1-affa355ac73f"
      },
      "source": [
        "df = pd.read_csv('/content/athlete_events.csv',error_bad_lines=False, engine='python')\n",
        "regions_df = pd.read_csv('/content/noc_regions.csv')"
      ],
      "execution_count": null,
      "outputs": [
        {
          "output_type": "stream",
          "name": "stderr",
          "text": [
            "Skipping line 144155: unexpected end of data\n"
          ]
        }
      ]
    },
    {
      "cell_type": "code",
      "metadata": {
        "colab": {
          "base_uri": "https://localhost:8080/",
          "height": 145
        },
        "id": "Ul5KDmiywib0",
        "outputId": "e1591185-395e-4168-e0b7-e6b7b7d3f754"
      },
      "source": [
        "df.head(2)"
      ],
      "execution_count": null,
      "outputs": [
        {
          "output_type": "execute_result",
          "data": {
            "text/html": [
              "<div>\n",
              "<style scoped>\n",
              "    .dataframe tbody tr th:only-of-type {\n",
              "        vertical-align: middle;\n",
              "    }\n",
              "\n",
              "    .dataframe tbody tr th {\n",
              "        vertical-align: top;\n",
              "    }\n",
              "\n",
              "    .dataframe thead th {\n",
              "        text-align: right;\n",
              "    }\n",
              "</style>\n",
              "<table border=\"1\" class=\"dataframe\">\n",
              "  <thead>\n",
              "    <tr style=\"text-align: right;\">\n",
              "      <th></th>\n",
              "      <th>ID</th>\n",
              "      <th>Name</th>\n",
              "      <th>Sex</th>\n",
              "      <th>Age</th>\n",
              "      <th>Height</th>\n",
              "      <th>Weight</th>\n",
              "      <th>Team</th>\n",
              "      <th>NOC</th>\n",
              "      <th>Games</th>\n",
              "      <th>Year</th>\n",
              "      <th>Season</th>\n",
              "      <th>City</th>\n",
              "      <th>Sport</th>\n",
              "      <th>Event</th>\n",
              "      <th>Medal</th>\n",
              "    </tr>\n",
              "  </thead>\n",
              "  <tbody>\n",
              "    <tr>\n",
              "      <th>0</th>\n",
              "      <td>1</td>\n",
              "      <td>A Dijiang</td>\n",
              "      <td>M</td>\n",
              "      <td>24.0</td>\n",
              "      <td>180.0</td>\n",
              "      <td>80</td>\n",
              "      <td>China</td>\n",
              "      <td>CHN</td>\n",
              "      <td>1992 Summer</td>\n",
              "      <td>1992</td>\n",
              "      <td>Summer</td>\n",
              "      <td>Barcelona</td>\n",
              "      <td>Basketball</td>\n",
              "      <td>Basketball Men's Basketball</td>\n",
              "      <td>NaN</td>\n",
              "    </tr>\n",
              "    <tr>\n",
              "      <th>1</th>\n",
              "      <td>2</td>\n",
              "      <td>A Lamusi</td>\n",
              "      <td>M</td>\n",
              "      <td>23.0</td>\n",
              "      <td>170.0</td>\n",
              "      <td>60</td>\n",
              "      <td>China</td>\n",
              "      <td>CHN</td>\n",
              "      <td>2012 Summer</td>\n",
              "      <td>2012</td>\n",
              "      <td>Summer</td>\n",
              "      <td>London</td>\n",
              "      <td>Judo</td>\n",
              "      <td>Judo Men's Extra-Lightweight</td>\n",
              "      <td>NaN</td>\n",
              "    </tr>\n",
              "  </tbody>\n",
              "</table>\n",
              "</div>"
            ],
            "text/plain": [
              "   ID       Name Sex  ...       Sport                         Event Medal\n",
              "0   1  A Dijiang   M  ...  Basketball   Basketball Men's Basketball   NaN\n",
              "1   2   A Lamusi   M  ...        Judo  Judo Men's Extra-Lightweight   NaN\n",
              "\n",
              "[2 rows x 15 columns]"
            ]
          },
          "metadata": {},
          "execution_count": 65
        }
      ]
    },
    {
      "cell_type": "code",
      "metadata": {
        "colab": {
          "base_uri": "https://localhost:8080/",
          "height": 581
        },
        "id": "IdWfqCo5x9tz",
        "outputId": "1fae6d1d-50d3-40b7-885d-bd125f385f8f"
      },
      "source": [
        "df.tail()"
      ],
      "execution_count": null,
      "outputs": [
        {
          "output_type": "execute_result",
          "data": {
            "text/html": [
              "<div>\n",
              "<style scoped>\n",
              "    .dataframe tbody tr th:only-of-type {\n",
              "        vertical-align: middle;\n",
              "    }\n",
              "\n",
              "    .dataframe tbody tr th {\n",
              "        vertical-align: top;\n",
              "    }\n",
              "\n",
              "    .dataframe thead th {\n",
              "        text-align: right;\n",
              "    }\n",
              "</style>\n",
              "<table border=\"1\" class=\"dataframe\">\n",
              "  <thead>\n",
              "    <tr style=\"text-align: right;\">\n",
              "      <th></th>\n",
              "      <th>ID</th>\n",
              "      <th>Name</th>\n",
              "      <th>Sex</th>\n",
              "      <th>Age</th>\n",
              "      <th>Height</th>\n",
              "      <th>Weight</th>\n",
              "      <th>Team</th>\n",
              "      <th>NOC</th>\n",
              "      <th>Games</th>\n",
              "      <th>Year</th>\n",
              "      <th>Season</th>\n",
              "      <th>City</th>\n",
              "      <th>Sport</th>\n",
              "      <th>Event</th>\n",
              "      <th>Medal</th>\n",
              "    </tr>\n",
              "  </thead>\n",
              "  <tbody>\n",
              "    <tr>\n",
              "      <th>144148</th>\n",
              "      <td>69020</td>\n",
              "      <td>Karel Letina</td>\n",
              "      <td>M</td>\n",
              "      <td>23.0</td>\n",
              "      <td>180.0</td>\n",
              "      <td>80</td>\n",
              "      <td>Czech Republic</td>\n",
              "      <td>CZE</td>\n",
              "      <td>1996 Summer</td>\n",
              "      <td>1996</td>\n",
              "      <td>Summer</td>\n",
              "      <td>Atlanta</td>\n",
              "      <td>Canoeing</td>\n",
              "      <td>Canoeing Men's Kayak Doubles, 500 metres</td>\n",
              "      <td>NaN</td>\n",
              "    </tr>\n",
              "    <tr>\n",
              "      <th>144149</th>\n",
              "      <td>69020</td>\n",
              "      <td>Karel Letina</td>\n",
              "      <td>M</td>\n",
              "      <td>23.0</td>\n",
              "      <td>180.0</td>\n",
              "      <td>80</td>\n",
              "      <td>Czech Republic</td>\n",
              "      <td>CZE</td>\n",
              "      <td>1996 Summer</td>\n",
              "      <td>1996</td>\n",
              "      <td>Summer</td>\n",
              "      <td>Atlanta</td>\n",
              "      <td>Canoeing</td>\n",
              "      <td>Canoeing Men's Kayak Fours, 1,000 metres</td>\n",
              "      <td>NaN</td>\n",
              "    </tr>\n",
              "    <tr>\n",
              "      <th>144150</th>\n",
              "      <td>69020</td>\n",
              "      <td>Karel Letina</td>\n",
              "      <td>M</td>\n",
              "      <td>27.0</td>\n",
              "      <td>180.0</td>\n",
              "      <td>80</td>\n",
              "      <td>Czech Republic</td>\n",
              "      <td>CZE</td>\n",
              "      <td>2000 Summer</td>\n",
              "      <td>2000</td>\n",
              "      <td>Summer</td>\n",
              "      <td>Sydney</td>\n",
              "      <td>Canoeing</td>\n",
              "      <td>Canoeing Men's Kayak Fours, 1,000 metres</td>\n",
              "      <td>NaN</td>\n",
              "    </tr>\n",
              "    <tr>\n",
              "      <th>144151</th>\n",
              "      <td>69021</td>\n",
              "      <td>Damiano Lestingi</td>\n",
              "      <td>M</td>\n",
              "      <td>19.0</td>\n",
              "      <td>184.0</td>\n",
              "      <td>71</td>\n",
              "      <td>Italy</td>\n",
              "      <td>ITA</td>\n",
              "      <td>2008 Summer</td>\n",
              "      <td>2008</td>\n",
              "      <td>Summer</td>\n",
              "      <td>Beijing</td>\n",
              "      <td>Swimming</td>\n",
              "      <td>Swimming Men's 100 metres Backstroke</td>\n",
              "      <td>NaN</td>\n",
              "    </tr>\n",
              "    <tr>\n",
              "      <th>144152</th>\n",
              "      <td>69021</td>\n",
              "      <td>Damiano Lestingi</td>\n",
              "      <td>M</td>\n",
              "      <td>19.0</td>\n",
              "      <td>184.0</td>\n",
              "      <td>71</td>\n",
              "      <td>Italy</td>\n",
              "      <td>ITA</td>\n",
              "      <td>2008 Summer</td>\n",
              "      <td>2008</td>\n",
              "      <td>Summer</td>\n",
              "      <td>Beijing</td>\n",
              "      <td>Swimming</td>\n",
              "      <td>Swimming Men's 200 metres Backstroke</td>\n",
              "      <td>NaN</td>\n",
              "    </tr>\n",
              "  </tbody>\n",
              "</table>\n",
              "</div>"
            ],
            "text/plain": [
              "           ID              Name  ...                                     Event  Medal\n",
              "144148  69020      Karel Letina  ...  Canoeing Men's Kayak Doubles, 500 metres    NaN\n",
              "144149  69020      Karel Letina  ...  Canoeing Men's Kayak Fours, 1,000 metres    NaN\n",
              "144150  69020      Karel Letina  ...  Canoeing Men's Kayak Fours, 1,000 metres    NaN\n",
              "144151  69021  Damiano Lestingi  ...      Swimming Men's 100 metres Backstroke    NaN\n",
              "144152  69021  Damiano Lestingi  ...      Swimming Men's 200 metres Backstroke    NaN\n",
              "\n",
              "[5 rows x 15 columns]"
            ]
          },
          "metadata": {},
          "execution_count": 66
        }
      ]
    },
    {
      "cell_type": "code",
      "metadata": {
        "colab": {
          "base_uri": "https://localhost:8080/"
        },
        "id": "2Y3drXykyHUc",
        "outputId": "c1015c43-519a-4126-eb51-ccaf9f34b057"
      },
      "source": [
        "df.shape"
      ],
      "execution_count": null,
      "outputs": [
        {
          "output_type": "execute_result",
          "data": {
            "text/plain": [
              "(144153, 15)"
            ]
          },
          "metadata": {},
          "execution_count": 67
        }
      ]
    },
    {
      "cell_type": "code",
      "metadata": {
        "colab": {
          "base_uri": "https://localhost:8080/",
          "height": 1000
        },
        "id": "0rqgQ-ik6eum",
        "outputId": "0636d55e-3a44-4877-ecfb-f755bde72663"
      },
      "source": [
        "df[df['Season'] == 'Summer']"
      ],
      "execution_count": null,
      "outputs": [
        {
          "output_type": "execute_result",
          "data": {
            "text/html": [
              "<div>\n",
              "<style scoped>\n",
              "    .dataframe tbody tr th:only-of-type {\n",
              "        vertical-align: middle;\n",
              "    }\n",
              "\n",
              "    .dataframe tbody tr th {\n",
              "        vertical-align: top;\n",
              "    }\n",
              "\n",
              "    .dataframe thead th {\n",
              "        text-align: right;\n",
              "    }\n",
              "</style>\n",
              "<table border=\"1\" class=\"dataframe\">\n",
              "  <thead>\n",
              "    <tr style=\"text-align: right;\">\n",
              "      <th></th>\n",
              "      <th>ID</th>\n",
              "      <th>Name</th>\n",
              "      <th>Sex</th>\n",
              "      <th>Age</th>\n",
              "      <th>Height</th>\n",
              "      <th>Weight</th>\n",
              "      <th>Team</th>\n",
              "      <th>NOC</th>\n",
              "      <th>Games</th>\n",
              "      <th>Year</th>\n",
              "      <th>Season</th>\n",
              "      <th>City</th>\n",
              "      <th>Sport</th>\n",
              "      <th>Event</th>\n",
              "      <th>Medal</th>\n",
              "    </tr>\n",
              "  </thead>\n",
              "  <tbody>\n",
              "    <tr>\n",
              "      <th>0</th>\n",
              "      <td>1</td>\n",
              "      <td>A Dijiang</td>\n",
              "      <td>M</td>\n",
              "      <td>24.0</td>\n",
              "      <td>180.0</td>\n",
              "      <td>80</td>\n",
              "      <td>China</td>\n",
              "      <td>CHN</td>\n",
              "      <td>1992 Summer</td>\n",
              "      <td>1992</td>\n",
              "      <td>Summer</td>\n",
              "      <td>Barcelona</td>\n",
              "      <td>Basketball</td>\n",
              "      <td>Basketball Men's Basketball</td>\n",
              "      <td>NaN</td>\n",
              "    </tr>\n",
              "    <tr>\n",
              "      <th>1</th>\n",
              "      <td>2</td>\n",
              "      <td>A Lamusi</td>\n",
              "      <td>M</td>\n",
              "      <td>23.0</td>\n",
              "      <td>170.0</td>\n",
              "      <td>60</td>\n",
              "      <td>China</td>\n",
              "      <td>CHN</td>\n",
              "      <td>2012 Summer</td>\n",
              "      <td>2012</td>\n",
              "      <td>Summer</td>\n",
              "      <td>London</td>\n",
              "      <td>Judo</td>\n",
              "      <td>Judo Men's Extra-Lightweight</td>\n",
              "      <td>NaN</td>\n",
              "    </tr>\n",
              "    <tr>\n",
              "      <th>2</th>\n",
              "      <td>3</td>\n",
              "      <td>Gunnar Nielsen Aaby</td>\n",
              "      <td>M</td>\n",
              "      <td>24.0</td>\n",
              "      <td>NaN</td>\n",
              "      <td>NaN</td>\n",
              "      <td>Denmark</td>\n",
              "      <td>DEN</td>\n",
              "      <td>1920 Summer</td>\n",
              "      <td>1920</td>\n",
              "      <td>Summer</td>\n",
              "      <td>Antwerpen</td>\n",
              "      <td>Football</td>\n",
              "      <td>Football Men's Football</td>\n",
              "      <td>NaN</td>\n",
              "    </tr>\n",
              "    <tr>\n",
              "      <th>3</th>\n",
              "      <td>4</td>\n",
              "      <td>Edgar Lindenau Aabye</td>\n",
              "      <td>M</td>\n",
              "      <td>34.0</td>\n",
              "      <td>NaN</td>\n",
              "      <td>NaN</td>\n",
              "      <td>Denmark/Sweden</td>\n",
              "      <td>DEN</td>\n",
              "      <td>1900 Summer</td>\n",
              "      <td>1900</td>\n",
              "      <td>Summer</td>\n",
              "      <td>Paris</td>\n",
              "      <td>Tug-Of-War</td>\n",
              "      <td>Tug-Of-War Men's Tug-Of-War</td>\n",
              "      <td>Gold</td>\n",
              "    </tr>\n",
              "    <tr>\n",
              "      <th>26</th>\n",
              "      <td>8</td>\n",
              "      <td>Cornelia \"Cor\" Aalten (-Strannood)</td>\n",
              "      <td>F</td>\n",
              "      <td>18.0</td>\n",
              "      <td>168.0</td>\n",
              "      <td>NaN</td>\n",
              "      <td>Netherlands</td>\n",
              "      <td>NED</td>\n",
              "      <td>1932 Summer</td>\n",
              "      <td>1932</td>\n",
              "      <td>Summer</td>\n",
              "      <td>Los Angeles</td>\n",
              "      <td>Athletics</td>\n",
              "      <td>Athletics Women's 100 metres</td>\n",
              "      <td>NaN</td>\n",
              "    </tr>\n",
              "    <tr>\n",
              "      <th>...</th>\n",
              "      <td>...</td>\n",
              "      <td>...</td>\n",
              "      <td>...</td>\n",
              "      <td>...</td>\n",
              "      <td>...</td>\n",
              "      <td>...</td>\n",
              "      <td>...</td>\n",
              "      <td>...</td>\n",
              "      <td>...</td>\n",
              "      <td>...</td>\n",
              "      <td>...</td>\n",
              "      <td>...</td>\n",
              "      <td>...</td>\n",
              "      <td>...</td>\n",
              "      <td>...</td>\n",
              "    </tr>\n",
              "    <tr>\n",
              "      <th>144148</th>\n",
              "      <td>69020</td>\n",
              "      <td>Karel Letina</td>\n",
              "      <td>M</td>\n",
              "      <td>23.0</td>\n",
              "      <td>180.0</td>\n",
              "      <td>80</td>\n",
              "      <td>Czech Republic</td>\n",
              "      <td>CZE</td>\n",
              "      <td>1996 Summer</td>\n",
              "      <td>1996</td>\n",
              "      <td>Summer</td>\n",
              "      <td>Atlanta</td>\n",
              "      <td>Canoeing</td>\n",
              "      <td>Canoeing Men's Kayak Doubles, 500 metres</td>\n",
              "      <td>NaN</td>\n",
              "    </tr>\n",
              "    <tr>\n",
              "      <th>144149</th>\n",
              "      <td>69020</td>\n",
              "      <td>Karel Letina</td>\n",
              "      <td>M</td>\n",
              "      <td>23.0</td>\n",
              "      <td>180.0</td>\n",
              "      <td>80</td>\n",
              "      <td>Czech Republic</td>\n",
              "      <td>CZE</td>\n",
              "      <td>1996 Summer</td>\n",
              "      <td>1996</td>\n",
              "      <td>Summer</td>\n",
              "      <td>Atlanta</td>\n",
              "      <td>Canoeing</td>\n",
              "      <td>Canoeing Men's Kayak Fours, 1,000 metres</td>\n",
              "      <td>NaN</td>\n",
              "    </tr>\n",
              "    <tr>\n",
              "      <th>144150</th>\n",
              "      <td>69020</td>\n",
              "      <td>Karel Letina</td>\n",
              "      <td>M</td>\n",
              "      <td>27.0</td>\n",
              "      <td>180.0</td>\n",
              "      <td>80</td>\n",
              "      <td>Czech Republic</td>\n",
              "      <td>CZE</td>\n",
              "      <td>2000 Summer</td>\n",
              "      <td>2000</td>\n",
              "      <td>Summer</td>\n",
              "      <td>Sydney</td>\n",
              "      <td>Canoeing</td>\n",
              "      <td>Canoeing Men's Kayak Fours, 1,000 metres</td>\n",
              "      <td>NaN</td>\n",
              "    </tr>\n",
              "    <tr>\n",
              "      <th>144151</th>\n",
              "      <td>69021</td>\n",
              "      <td>Damiano Lestingi</td>\n",
              "      <td>M</td>\n",
              "      <td>19.0</td>\n",
              "      <td>184.0</td>\n",
              "      <td>71</td>\n",
              "      <td>Italy</td>\n",
              "      <td>ITA</td>\n",
              "      <td>2008 Summer</td>\n",
              "      <td>2008</td>\n",
              "      <td>Summer</td>\n",
              "      <td>Beijing</td>\n",
              "      <td>Swimming</td>\n",
              "      <td>Swimming Men's 100 metres Backstroke</td>\n",
              "      <td>NaN</td>\n",
              "    </tr>\n",
              "    <tr>\n",
              "      <th>144152</th>\n",
              "      <td>69021</td>\n",
              "      <td>Damiano Lestingi</td>\n",
              "      <td>M</td>\n",
              "      <td>19.0</td>\n",
              "      <td>184.0</td>\n",
              "      <td>71</td>\n",
              "      <td>Italy</td>\n",
              "      <td>ITA</td>\n",
              "      <td>2008 Summer</td>\n",
              "      <td>2008</td>\n",
              "      <td>Summer</td>\n",
              "      <td>Beijing</td>\n",
              "      <td>Swimming</td>\n",
              "      <td>Swimming Men's 200 metres Backstroke</td>\n",
              "      <td>NaN</td>\n",
              "    </tr>\n",
              "  </tbody>\n",
              "</table>\n",
              "<p>118130 rows × 15 columns</p>\n",
              "</div>"
            ],
            "text/plain": [
              "           ID  ... Medal\n",
              "0           1  ...   NaN\n",
              "1           2  ...   NaN\n",
              "2           3  ...   NaN\n",
              "3           4  ...  Gold\n",
              "26          8  ...   NaN\n",
              "...       ...  ...   ...\n",
              "144148  69020  ...   NaN\n",
              "144149  69020  ...   NaN\n",
              "144150  69020  ...   NaN\n",
              "144151  69021  ...   NaN\n",
              "144152  69021  ...   NaN\n",
              "\n",
              "[118130 rows x 15 columns]"
            ]
          },
          "metadata": {},
          "execution_count": 68
        }
      ]
    },
    {
      "cell_type": "code",
      "metadata": {
        "id": "AMEE5kG96ofz"
      },
      "source": [
        "df = df[df['Season'] == 'Summer']"
      ],
      "execution_count": null,
      "outputs": []
    },
    {
      "cell_type": "code",
      "metadata": {
        "colab": {
          "base_uri": "https://localhost:8080/"
        },
        "id": "mJ7Q7eLD63hP",
        "outputId": "3f4009fe-0bc5-4939-bab1-a2c010bcd402"
      },
      "source": [
        "df.shape"
      ],
      "execution_count": null,
      "outputs": [
        {
          "output_type": "execute_result",
          "data": {
            "text/plain": [
              "(118130, 15)"
            ]
          },
          "metadata": {},
          "execution_count": 70
        }
      ]
    },
    {
      "cell_type": "code",
      "metadata": {
        "colab": {
          "base_uri": "https://localhost:8080/",
          "height": 581
        },
        "id": "7aDJbiUg649P",
        "outputId": "1f2475a6-5cce-4577-c542-c72afd1371e7"
      },
      "source": [
        "df.tail()"
      ],
      "execution_count": null,
      "outputs": [
        {
          "output_type": "execute_result",
          "data": {
            "text/html": [
              "<div>\n",
              "<style scoped>\n",
              "    .dataframe tbody tr th:only-of-type {\n",
              "        vertical-align: middle;\n",
              "    }\n",
              "\n",
              "    .dataframe tbody tr th {\n",
              "        vertical-align: top;\n",
              "    }\n",
              "\n",
              "    .dataframe thead th {\n",
              "        text-align: right;\n",
              "    }\n",
              "</style>\n",
              "<table border=\"1\" class=\"dataframe\">\n",
              "  <thead>\n",
              "    <tr style=\"text-align: right;\">\n",
              "      <th></th>\n",
              "      <th>ID</th>\n",
              "      <th>Name</th>\n",
              "      <th>Sex</th>\n",
              "      <th>Age</th>\n",
              "      <th>Height</th>\n",
              "      <th>Weight</th>\n",
              "      <th>Team</th>\n",
              "      <th>NOC</th>\n",
              "      <th>Games</th>\n",
              "      <th>Year</th>\n",
              "      <th>Season</th>\n",
              "      <th>City</th>\n",
              "      <th>Sport</th>\n",
              "      <th>Event</th>\n",
              "      <th>Medal</th>\n",
              "    </tr>\n",
              "  </thead>\n",
              "  <tbody>\n",
              "    <tr>\n",
              "      <th>144148</th>\n",
              "      <td>69020</td>\n",
              "      <td>Karel Letina</td>\n",
              "      <td>M</td>\n",
              "      <td>23.0</td>\n",
              "      <td>180.0</td>\n",
              "      <td>80</td>\n",
              "      <td>Czech Republic</td>\n",
              "      <td>CZE</td>\n",
              "      <td>1996 Summer</td>\n",
              "      <td>1996</td>\n",
              "      <td>Summer</td>\n",
              "      <td>Atlanta</td>\n",
              "      <td>Canoeing</td>\n",
              "      <td>Canoeing Men's Kayak Doubles, 500 metres</td>\n",
              "      <td>NaN</td>\n",
              "    </tr>\n",
              "    <tr>\n",
              "      <th>144149</th>\n",
              "      <td>69020</td>\n",
              "      <td>Karel Letina</td>\n",
              "      <td>M</td>\n",
              "      <td>23.0</td>\n",
              "      <td>180.0</td>\n",
              "      <td>80</td>\n",
              "      <td>Czech Republic</td>\n",
              "      <td>CZE</td>\n",
              "      <td>1996 Summer</td>\n",
              "      <td>1996</td>\n",
              "      <td>Summer</td>\n",
              "      <td>Atlanta</td>\n",
              "      <td>Canoeing</td>\n",
              "      <td>Canoeing Men's Kayak Fours, 1,000 metres</td>\n",
              "      <td>NaN</td>\n",
              "    </tr>\n",
              "    <tr>\n",
              "      <th>144150</th>\n",
              "      <td>69020</td>\n",
              "      <td>Karel Letina</td>\n",
              "      <td>M</td>\n",
              "      <td>27.0</td>\n",
              "      <td>180.0</td>\n",
              "      <td>80</td>\n",
              "      <td>Czech Republic</td>\n",
              "      <td>CZE</td>\n",
              "      <td>2000 Summer</td>\n",
              "      <td>2000</td>\n",
              "      <td>Summer</td>\n",
              "      <td>Sydney</td>\n",
              "      <td>Canoeing</td>\n",
              "      <td>Canoeing Men's Kayak Fours, 1,000 metres</td>\n",
              "      <td>NaN</td>\n",
              "    </tr>\n",
              "    <tr>\n",
              "      <th>144151</th>\n",
              "      <td>69021</td>\n",
              "      <td>Damiano Lestingi</td>\n",
              "      <td>M</td>\n",
              "      <td>19.0</td>\n",
              "      <td>184.0</td>\n",
              "      <td>71</td>\n",
              "      <td>Italy</td>\n",
              "      <td>ITA</td>\n",
              "      <td>2008 Summer</td>\n",
              "      <td>2008</td>\n",
              "      <td>Summer</td>\n",
              "      <td>Beijing</td>\n",
              "      <td>Swimming</td>\n",
              "      <td>Swimming Men's 100 metres Backstroke</td>\n",
              "      <td>NaN</td>\n",
              "    </tr>\n",
              "    <tr>\n",
              "      <th>144152</th>\n",
              "      <td>69021</td>\n",
              "      <td>Damiano Lestingi</td>\n",
              "      <td>M</td>\n",
              "      <td>19.0</td>\n",
              "      <td>184.0</td>\n",
              "      <td>71</td>\n",
              "      <td>Italy</td>\n",
              "      <td>ITA</td>\n",
              "      <td>2008 Summer</td>\n",
              "      <td>2008</td>\n",
              "      <td>Summer</td>\n",
              "      <td>Beijing</td>\n",
              "      <td>Swimming</td>\n",
              "      <td>Swimming Men's 200 metres Backstroke</td>\n",
              "      <td>NaN</td>\n",
              "    </tr>\n",
              "  </tbody>\n",
              "</table>\n",
              "</div>"
            ],
            "text/plain": [
              "           ID              Name  ...                                     Event  Medal\n",
              "144148  69020      Karel Letina  ...  Canoeing Men's Kayak Doubles, 500 metres    NaN\n",
              "144149  69020      Karel Letina  ...  Canoeing Men's Kayak Fours, 1,000 metres    NaN\n",
              "144150  69020      Karel Letina  ...  Canoeing Men's Kayak Fours, 1,000 metres    NaN\n",
              "144151  69021  Damiano Lestingi  ...      Swimming Men's 100 metres Backstroke    NaN\n",
              "144152  69021  Damiano Lestingi  ...      Swimming Men's 200 metres Backstroke    NaN\n",
              "\n",
              "[5 rows x 15 columns]"
            ]
          },
          "metadata": {},
          "execution_count": 71
        }
      ]
    },
    {
      "cell_type": "code",
      "metadata": {
        "colab": {
          "base_uri": "https://localhost:8080/",
          "height": 204
        },
        "id": "LUI4_2f_7Dp6",
        "outputId": "f1043c24-6a91-4bb7-c34c-455d66757379"
      },
      "source": [
        "regions_df.tail()"
      ],
      "execution_count": null,
      "outputs": [
        {
          "output_type": "execute_result",
          "data": {
            "text/html": [
              "<div>\n",
              "<style scoped>\n",
              "    .dataframe tbody tr th:only-of-type {\n",
              "        vertical-align: middle;\n",
              "    }\n",
              "\n",
              "    .dataframe tbody tr th {\n",
              "        vertical-align: top;\n",
              "    }\n",
              "\n",
              "    .dataframe thead th {\n",
              "        text-align: right;\n",
              "    }\n",
              "</style>\n",
              "<table border=\"1\" class=\"dataframe\">\n",
              "  <thead>\n",
              "    <tr style=\"text-align: right;\">\n",
              "      <th></th>\n",
              "      <th>NOC</th>\n",
              "      <th>region</th>\n",
              "      <th>notes</th>\n",
              "    </tr>\n",
              "  </thead>\n",
              "  <tbody>\n",
              "    <tr>\n",
              "      <th>225</th>\n",
              "      <td>YEM</td>\n",
              "      <td>Yemen</td>\n",
              "      <td>NaN</td>\n",
              "    </tr>\n",
              "    <tr>\n",
              "      <th>226</th>\n",
              "      <td>YMD</td>\n",
              "      <td>Yemen</td>\n",
              "      <td>South Yemen</td>\n",
              "    </tr>\n",
              "    <tr>\n",
              "      <th>227</th>\n",
              "      <td>YUG</td>\n",
              "      <td>Serbia</td>\n",
              "      <td>Yugoslavia</td>\n",
              "    </tr>\n",
              "    <tr>\n",
              "      <th>228</th>\n",
              "      <td>ZAM</td>\n",
              "      <td>Zambia</td>\n",
              "      <td>NaN</td>\n",
              "    </tr>\n",
              "    <tr>\n",
              "      <th>229</th>\n",
              "      <td>ZIM</td>\n",
              "      <td>Zimbabwe</td>\n",
              "      <td>NaN</td>\n",
              "    </tr>\n",
              "  </tbody>\n",
              "</table>\n",
              "</div>"
            ],
            "text/plain": [
              "     NOC    region        notes\n",
              "225  YEM     Yemen          NaN\n",
              "226  YMD     Yemen  South Yemen\n",
              "227  YUG    Serbia   Yugoslavia\n",
              "228  ZAM    Zambia          NaN\n",
              "229  ZIM  Zimbabwe          NaN"
            ]
          },
          "metadata": {},
          "execution_count": 72
        }
      ]
    },
    {
      "cell_type": "code",
      "metadata": {
        "id": "Fe8wiNSb7LM4"
      },
      "source": [
        "df = df.merge(regions_df, how='left', on='NOC')"
      ],
      "execution_count": null,
      "outputs": []
    },
    {
      "cell_type": "code",
      "metadata": {
        "colab": {
          "base_uri": "https://localhost:8080/",
          "height": 581
        },
        "id": "hjWLcsAH7psB",
        "outputId": "6c04eef6-d75c-4852-837f-b7b77c338d33"
      },
      "source": [
        "df.tail()"
      ],
      "execution_count": null,
      "outputs": [
        {
          "output_type": "execute_result",
          "data": {
            "text/html": [
              "<div>\n",
              "<style scoped>\n",
              "    .dataframe tbody tr th:only-of-type {\n",
              "        vertical-align: middle;\n",
              "    }\n",
              "\n",
              "    .dataframe tbody tr th {\n",
              "        vertical-align: top;\n",
              "    }\n",
              "\n",
              "    .dataframe thead th {\n",
              "        text-align: right;\n",
              "    }\n",
              "</style>\n",
              "<table border=\"1\" class=\"dataframe\">\n",
              "  <thead>\n",
              "    <tr style=\"text-align: right;\">\n",
              "      <th></th>\n",
              "      <th>ID</th>\n",
              "      <th>Name</th>\n",
              "      <th>Sex</th>\n",
              "      <th>Age</th>\n",
              "      <th>Height</th>\n",
              "      <th>Weight</th>\n",
              "      <th>Team</th>\n",
              "      <th>NOC</th>\n",
              "      <th>Games</th>\n",
              "      <th>Year</th>\n",
              "      <th>Season</th>\n",
              "      <th>City</th>\n",
              "      <th>Sport</th>\n",
              "      <th>Event</th>\n",
              "      <th>Medal</th>\n",
              "      <th>region</th>\n",
              "      <th>notes</th>\n",
              "    </tr>\n",
              "  </thead>\n",
              "  <tbody>\n",
              "    <tr>\n",
              "      <th>118125</th>\n",
              "      <td>69020</td>\n",
              "      <td>Karel Letina</td>\n",
              "      <td>M</td>\n",
              "      <td>23.0</td>\n",
              "      <td>180.0</td>\n",
              "      <td>80</td>\n",
              "      <td>Czech Republic</td>\n",
              "      <td>CZE</td>\n",
              "      <td>1996 Summer</td>\n",
              "      <td>1996</td>\n",
              "      <td>Summer</td>\n",
              "      <td>Atlanta</td>\n",
              "      <td>Canoeing</td>\n",
              "      <td>Canoeing Men's Kayak Doubles, 500 metres</td>\n",
              "      <td>NaN</td>\n",
              "      <td>Czech Republic</td>\n",
              "      <td>NaN</td>\n",
              "    </tr>\n",
              "    <tr>\n",
              "      <th>118126</th>\n",
              "      <td>69020</td>\n",
              "      <td>Karel Letina</td>\n",
              "      <td>M</td>\n",
              "      <td>23.0</td>\n",
              "      <td>180.0</td>\n",
              "      <td>80</td>\n",
              "      <td>Czech Republic</td>\n",
              "      <td>CZE</td>\n",
              "      <td>1996 Summer</td>\n",
              "      <td>1996</td>\n",
              "      <td>Summer</td>\n",
              "      <td>Atlanta</td>\n",
              "      <td>Canoeing</td>\n",
              "      <td>Canoeing Men's Kayak Fours, 1,000 metres</td>\n",
              "      <td>NaN</td>\n",
              "      <td>Czech Republic</td>\n",
              "      <td>NaN</td>\n",
              "    </tr>\n",
              "    <tr>\n",
              "      <th>118127</th>\n",
              "      <td>69020</td>\n",
              "      <td>Karel Letina</td>\n",
              "      <td>M</td>\n",
              "      <td>27.0</td>\n",
              "      <td>180.0</td>\n",
              "      <td>80</td>\n",
              "      <td>Czech Republic</td>\n",
              "      <td>CZE</td>\n",
              "      <td>2000 Summer</td>\n",
              "      <td>2000</td>\n",
              "      <td>Summer</td>\n",
              "      <td>Sydney</td>\n",
              "      <td>Canoeing</td>\n",
              "      <td>Canoeing Men's Kayak Fours, 1,000 metres</td>\n",
              "      <td>NaN</td>\n",
              "      <td>Czech Republic</td>\n",
              "      <td>NaN</td>\n",
              "    </tr>\n",
              "    <tr>\n",
              "      <th>118128</th>\n",
              "      <td>69021</td>\n",
              "      <td>Damiano Lestingi</td>\n",
              "      <td>M</td>\n",
              "      <td>19.0</td>\n",
              "      <td>184.0</td>\n",
              "      <td>71</td>\n",
              "      <td>Italy</td>\n",
              "      <td>ITA</td>\n",
              "      <td>2008 Summer</td>\n",
              "      <td>2008</td>\n",
              "      <td>Summer</td>\n",
              "      <td>Beijing</td>\n",
              "      <td>Swimming</td>\n",
              "      <td>Swimming Men's 100 metres Backstroke</td>\n",
              "      <td>NaN</td>\n",
              "      <td>Italy</td>\n",
              "      <td>NaN</td>\n",
              "    </tr>\n",
              "    <tr>\n",
              "      <th>118129</th>\n",
              "      <td>69021</td>\n",
              "      <td>Damiano Lestingi</td>\n",
              "      <td>M</td>\n",
              "      <td>19.0</td>\n",
              "      <td>184.0</td>\n",
              "      <td>71</td>\n",
              "      <td>Italy</td>\n",
              "      <td>ITA</td>\n",
              "      <td>2008 Summer</td>\n",
              "      <td>2008</td>\n",
              "      <td>Summer</td>\n",
              "      <td>Beijing</td>\n",
              "      <td>Swimming</td>\n",
              "      <td>Swimming Men's 200 metres Backstroke</td>\n",
              "      <td>NaN</td>\n",
              "      <td>Italy</td>\n",
              "      <td>NaN</td>\n",
              "    </tr>\n",
              "  </tbody>\n",
              "</table>\n",
              "</div>"
            ],
            "text/plain": [
              "           ID              Name Sex  ...  Medal          region notes\n",
              "118125  69020      Karel Letina   M  ...    NaN  Czech Republic   NaN\n",
              "118126  69020      Karel Letina   M  ...    NaN  Czech Republic   NaN\n",
              "118127  69020      Karel Letina   M  ...    NaN  Czech Republic   NaN\n",
              "118128  69021  Damiano Lestingi   M  ...    NaN           Italy   NaN\n",
              "118129  69021  Damiano Lestingi   M  ...    NaN           Italy   NaN\n",
              "\n",
              "[5 rows x 17 columns]"
            ]
          },
          "metadata": {},
          "execution_count": 74
        }
      ]
    },
    {
      "cell_type": "code",
      "metadata": {
        "colab": {
          "base_uri": "https://localhost:8080/"
        },
        "id": "1yN4x6kB77ji",
        "outputId": "0e54f387-f34e-43fe-d45c-5bb6b8948a72"
      },
      "source": [
        "df['region'].unique()"
      ],
      "execution_count": null,
      "outputs": [
        {
          "output_type": "execute_result",
          "data": {
            "text/plain": [
              "array(['China', 'Denmark', 'Netherlands', 'Finland', 'Norway', 'Romania',\n",
              "       'Estonia', 'France', 'Morocco', 'Spain', 'Egypt', 'Iran',\n",
              "       'Bulgaria', 'Italy', 'Chad', 'Azerbaijan', 'Sudan', 'Russia',\n",
              "       'Argentina', 'Cuba', 'Belarus', 'Greece', 'Cameroon', 'Turkey',\n",
              "       'Chile', 'Mexico', 'USA', 'Nicaragua', 'Hungary', 'Nigeria',\n",
              "       'Algeria', 'Kuwait', 'Bahrain', 'Pakistan', 'Iraq', 'Syria',\n",
              "       'Lebanon', 'Qatar', 'Malaysia', 'Germany', 'Canada', 'Ireland',\n",
              "       'Australia', 'South Africa', 'Eritrea', 'Tanzania', 'Jordan',\n",
              "       'Tunisia', 'Libya', 'Belgium', 'Djibouti', 'Palestine', 'Comoros',\n",
              "       'Kazakhstan', 'Brunei', 'India', 'Saudi Arabia', 'Maldives',\n",
              "       'Ethiopia', 'United Arab Emirates', 'Yemen', 'Indonesia',\n",
              "       'Philippines', nan, 'Uzbekistan', 'Kyrgyzstan', 'Tajikistan',\n",
              "       'Japan', 'Republic of Congo', 'Switzerland', 'Brazil', 'Monaco',\n",
              "       'Israel', 'Uruguay', 'Sweden', 'Sri Lanka', 'Armenia',\n",
              "       'Ivory Coast', 'Kenya', 'Benin', 'UK', 'Ghana', 'Somalia', 'Niger',\n",
              "       'Mali', 'Afghanistan', 'Poland', 'Costa Rica', 'Panama', 'Georgia',\n",
              "       'Slovenia', 'Guyana', 'New Zealand', 'Portugal', 'Paraguay',\n",
              "       'Angola', 'Venezuela', 'Colombia', 'Bangladesh', 'Peru',\n",
              "       'El Salvador', 'Puerto Rico', 'Uganda', 'Honduras', 'Ecuador',\n",
              "       'Turkmenistan', 'Mauritius', 'Seychelles', 'Czech Republic',\n",
              "       'Luxembourg', 'Mauritania', 'Saint Kitts', 'Trinidad',\n",
              "       'Dominican Republic', 'Saint Vincent', 'Jamaica', 'Liberia',\n",
              "       'Suriname', 'Nepal', 'Mongolia', 'Austria', 'Palau', 'Lithuania',\n",
              "       'Togo', 'Namibia', 'Curacao', 'Ukraine', 'Iceland',\n",
              "       'American Samoa', 'Samoa', 'Rwanda', 'Croatia', 'Dominica',\n",
              "       'Haiti', 'Malta', 'Cyprus', 'Guinea', 'Belize', 'Thailand',\n",
              "       'Bermuda', 'Serbia', 'Sierra Leone', 'Papua New Guinea',\n",
              "       'Individual Olympic Athletes', 'Oman', 'Fiji', 'Vanuatu',\n",
              "       'Moldova', 'Bahamas', 'Guatemala', 'Latvia',\n",
              "       'Virgin Islands, British', 'Mozambique', 'Virgin Islands, US',\n",
              "       'Central African Republic', 'Madagascar', 'Bosnia and Herzegovina',\n",
              "       'Guam', 'Cayman Islands', 'Slovakia', 'Barbados', 'Guinea-Bissau',\n",
              "       'Timor-Leste', 'Democratic Republic of the Congo', 'Gabon',\n",
              "       'San Marino', 'Laos', 'Botswana', 'South Korea', 'Cambodia',\n",
              "       'North Korea', 'Solomon Islands', 'Senegal', 'Cape Verde',\n",
              "       'Equatorial Guinea', 'Boliva', 'Antigua', 'Andorra', 'Zimbabwe',\n",
              "       'Grenada', 'Saint Lucia', 'Micronesia', 'Myanmar', 'Malawi',\n",
              "       'Zambia', 'Taiwan', 'Sao Tome and Principe', 'Macedonia',\n",
              "       'Liechtenstein', 'Montenegro', 'Gambia', 'Cook Islands', 'Albania',\n",
              "       'Swaziland', 'Burkina Faso', 'Burundi', 'Aruba', 'Nauru',\n",
              "       'Vietnam', 'Bhutan', 'Marshall Islands', 'Kiribati', 'Tonga',\n",
              "       'Kosovo', 'South Sudan', 'Lesotho'], dtype=object)"
            ]
          },
          "metadata": {},
          "execution_count": 75
        }
      ]
    },
    {
      "cell_type": "code",
      "metadata": {
        "colab": {
          "base_uri": "https://localhost:8080/"
        },
        "id": "z7YjOOZL8Dj8",
        "outputId": "0501eff3-21ac-4872-debc-68f119dca1c5"
      },
      "source": [
        "df.isnull().sum()"
      ],
      "execution_count": null,
      "outputs": [
        {
          "output_type": "execute_result",
          "data": {
            "text/plain": [
              "ID             0\n",
              "Name           0\n",
              "Sex            0\n",
              "Age         4954\n",
              "Height     28152\n",
              "Weight     29379\n",
              "Team           0\n",
              "NOC            0\n",
              "Games          0\n",
              "Year           0\n",
              "Season         0\n",
              "City           0\n",
              "Sport          0\n",
              "Event          0\n",
              "Medal     100292\n",
              "region       148\n",
              "notes     115847\n",
              "dtype: int64"
            ]
          },
          "metadata": {},
          "execution_count": 76
        }
      ]
    },
    {
      "cell_type": "code",
      "metadata": {
        "colab": {
          "base_uri": "https://localhost:8080/"
        },
        "id": "dHD3JAuu8fIl",
        "outputId": "c5f7ea80-4f08-4a7d-841e-d12a33935c55"
      },
      "source": [
        "df.duplicated().sum()"
      ],
      "execution_count": null,
      "outputs": [
        {
          "output_type": "execute_result",
          "data": {
            "text/plain": [
              "6339"
            ]
          },
          "metadata": {},
          "execution_count": 77
        }
      ]
    },
    {
      "cell_type": "code",
      "metadata": {
        "id": "7MV29G849Po6"
      },
      "source": [
        "# Drop duplicate data\n",
        "df.drop_duplicates(inplace=True)"
      ],
      "execution_count": null,
      "outputs": []
    },
    {
      "cell_type": "code",
      "metadata": {
        "colab": {
          "base_uri": "https://localhost:8080/"
        },
        "id": "l3M8hM_99Vqq",
        "outputId": "1d85ea67-8692-43ee-a11a-91cd9b75eeeb"
      },
      "source": [
        "df['Medal'].value_counts()"
      ],
      "execution_count": null,
      "outputs": [
        {
          "output_type": "execute_result",
          "data": {
            "text/plain": [
              "Gold      5715\n",
              "Bronze    5669\n",
              "Silver    5610\n",
              "Name: Medal, dtype: int64"
            ]
          },
          "metadata": {},
          "execution_count": 79
        }
      ]
    },
    {
      "cell_type": "code",
      "metadata": {
        "id": "SioocGMD9q2Y"
      },
      "source": [
        "df = pd.concat([df, pd.get_dummies(df['Medal'])], axis=1)"
      ],
      "execution_count": null,
      "outputs": []
    },
    {
      "cell_type": "code",
      "metadata": {
        "colab": {
          "base_uri": "https://localhost:8080/"
        },
        "id": "7XsdtcA_9y_m",
        "outputId": "58b6f7b3-fa50-4608-f1df-e49b17529255"
      },
      "source": [
        "df.shape"
      ],
      "execution_count": null,
      "outputs": [
        {
          "output_type": "execute_result",
          "data": {
            "text/plain": [
              "(111791, 20)"
            ]
          },
          "metadata": {},
          "execution_count": 81
        }
      ]
    },
    {
      "cell_type": "code",
      "metadata": {
        "colab": {
          "base_uri": "https://localhost:8080/",
          "height": 204
        },
        "id": "OLthKbC195It",
        "outputId": "3ca77add-2e50-4c61-c906-fada310c794e"
      },
      "source": [
        "df.groupby('NOC').sum()[['Gold', 'Silver', 'Bronze']].sort_values('Gold', ascending=False).reset_index().head()"
      ],
      "execution_count": null,
      "outputs": [
        {
          "output_type": "execute_result",
          "data": {
            "text/html": [
              "<div>\n",
              "<style scoped>\n",
              "    .dataframe tbody tr th:only-of-type {\n",
              "        vertical-align: middle;\n",
              "    }\n",
              "\n",
              "    .dataframe tbody tr th {\n",
              "        vertical-align: top;\n",
              "    }\n",
              "\n",
              "    .dataframe thead th {\n",
              "        text-align: right;\n",
              "    }\n",
              "</style>\n",
              "<table border=\"1\" class=\"dataframe\">\n",
              "  <thead>\n",
              "    <tr style=\"text-align: right;\">\n",
              "      <th></th>\n",
              "      <th>NOC</th>\n",
              "      <th>Gold</th>\n",
              "      <th>Silver</th>\n",
              "      <th>Bronze</th>\n",
              "    </tr>\n",
              "  </thead>\n",
              "  <tbody>\n",
              "    <tr>\n",
              "      <th>0</th>\n",
              "      <td>USA</td>\n",
              "      <td>1280.0</td>\n",
              "      <td>719.0</td>\n",
              "      <td>619.0</td>\n",
              "    </tr>\n",
              "    <tr>\n",
              "      <th>1</th>\n",
              "      <td>URS</td>\n",
              "      <td>381.0</td>\n",
              "      <td>292.0</td>\n",
              "      <td>294.0</td>\n",
              "    </tr>\n",
              "    <tr>\n",
              "      <th>2</th>\n",
              "      <td>GBR</td>\n",
              "      <td>338.0</td>\n",
              "      <td>394.0</td>\n",
              "      <td>317.0</td>\n",
              "    </tr>\n",
              "    <tr>\n",
              "      <th>3</th>\n",
              "      <td>FRA</td>\n",
              "      <td>299.0</td>\n",
              "      <td>343.0</td>\n",
              "      <td>355.0</td>\n",
              "    </tr>\n",
              "    <tr>\n",
              "      <th>4</th>\n",
              "      <td>GER</td>\n",
              "      <td>281.0</td>\n",
              "      <td>280.0</td>\n",
              "      <td>323.0</td>\n",
              "    </tr>\n",
              "  </tbody>\n",
              "</table>\n",
              "</div>"
            ],
            "text/plain": [
              "   NOC    Gold  Silver  Bronze\n",
              "0  USA  1280.0   719.0   619.0\n",
              "1  URS   381.0   292.0   294.0\n",
              "2  GBR   338.0   394.0   317.0\n",
              "3  FRA   299.0   343.0   355.0\n",
              "4  GER   281.0   280.0   323.0"
            ]
          },
          "metadata": {},
          "execution_count": 82
        }
      ]
    },
    {
      "cell_type": "code",
      "metadata": {
        "colab": {
          "base_uri": "https://localhost:8080/",
          "height": 411
        },
        "id": "FpaeP2TU-fvm",
        "outputId": "50d40c95-d823-4660-ab6f-02858a025b4f"
      },
      "source": [
        "df[(df['NOC'] == 'INA') & (df['Medal'] == 'Gold')]"
      ],
      "execution_count": null,
      "outputs": [
        {
          "output_type": "execute_result",
          "data": {
            "text/html": [
              "<div>\n",
              "<style scoped>\n",
              "    .dataframe tbody tr th:only-of-type {\n",
              "        vertical-align: middle;\n",
              "    }\n",
              "\n",
              "    .dataframe tbody tr th {\n",
              "        vertical-align: top;\n",
              "    }\n",
              "\n",
              "    .dataframe thead th {\n",
              "        text-align: right;\n",
              "    }\n",
              "</style>\n",
              "<table border=\"1\" class=\"dataframe\">\n",
              "  <thead>\n",
              "    <tr style=\"text-align: right;\">\n",
              "      <th></th>\n",
              "      <th>ID</th>\n",
              "      <th>Name</th>\n",
              "      <th>Sex</th>\n",
              "      <th>Age</th>\n",
              "      <th>Height</th>\n",
              "      <th>Weight</th>\n",
              "      <th>Team</th>\n",
              "      <th>NOC</th>\n",
              "      <th>Games</th>\n",
              "      <th>Year</th>\n",
              "      <th>Season</th>\n",
              "      <th>City</th>\n",
              "      <th>Sport</th>\n",
              "      <th>Event</th>\n",
              "      <th>Medal</th>\n",
              "      <th>region</th>\n",
              "      <th>notes</th>\n",
              "      <th>Bronze</th>\n",
              "      <th>Gold</th>\n",
              "      <th>Silver</th>\n",
              "    </tr>\n",
              "  </thead>\n",
              "  <tbody>\n",
              "    <tr>\n",
              "      <th>2143</th>\n",
              "      <td>1374</td>\n",
              "      <td>Tontowi Ahmad</td>\n",
              "      <td>M</td>\n",
              "      <td>29.0</td>\n",
              "      <td>179.0</td>\n",
              "      <td>72</td>\n",
              "      <td>Indonesia-1</td>\n",
              "      <td>INA</td>\n",
              "      <td>2016 Summer</td>\n",
              "      <td>2016</td>\n",
              "      <td>Summer</td>\n",
              "      <td>Rio de Janeiro</td>\n",
              "      <td>Badminton</td>\n",
              "      <td>Badminton Mixed Doubles</td>\n",
              "      <td>Gold</td>\n",
              "      <td>Indonesia</td>\n",
              "      <td>NaN</td>\n",
              "      <td>0</td>\n",
              "      <td>1</td>\n",
              "      <td>0</td>\n",
              "    </tr>\n",
              "    <tr>\n",
              "      <th>26122</th>\n",
              "      <td>16152</td>\n",
              "      <td>Alexander Alan Budikusuma Wiratama</td>\n",
              "      <td>M</td>\n",
              "      <td>24.0</td>\n",
              "      <td>178.0</td>\n",
              "      <td>71</td>\n",
              "      <td>Indonesia</td>\n",
              "      <td>INA</td>\n",
              "      <td>1992 Summer</td>\n",
              "      <td>1992</td>\n",
              "      <td>Summer</td>\n",
              "      <td>Barcelona</td>\n",
              "      <td>Badminton</td>\n",
              "      <td>Badminton Men's Singles</td>\n",
              "      <td>Gold</td>\n",
              "      <td>Indonesia</td>\n",
              "      <td>NaN</td>\n",
              "      <td>0</td>\n",
              "      <td>1</td>\n",
              "      <td>0</td>\n",
              "    </tr>\n",
              "    <tr>\n",
              "      <th>71980</th>\n",
              "      <td>43865</td>\n",
              "      <td>Tony Gunawan</td>\n",
              "      <td>M</td>\n",
              "      <td>25.0</td>\n",
              "      <td>173.0</td>\n",
              "      <td>80</td>\n",
              "      <td>Indonesia</td>\n",
              "      <td>INA</td>\n",
              "      <td>2000 Summer</td>\n",
              "      <td>2000</td>\n",
              "      <td>Summer</td>\n",
              "      <td>Sydney</td>\n",
              "      <td>Badminton</td>\n",
              "      <td>Badminton Men's Doubles</td>\n",
              "      <td>Gold</td>\n",
              "      <td>Indonesia</td>\n",
              "      <td>NaN</td>\n",
              "      <td>0</td>\n",
              "      <td>1</td>\n",
              "      <td>0</td>\n",
              "    </tr>\n",
              "    <tr>\n",
              "      <th>79341</th>\n",
              "      <td>48435</td>\n",
              "      <td>Taufik Hidayat</td>\n",
              "      <td>M</td>\n",
              "      <td>23.0</td>\n",
              "      <td>175.0</td>\n",
              "      <td>65</td>\n",
              "      <td>Indonesia</td>\n",
              "      <td>INA</td>\n",
              "      <td>2004 Summer</td>\n",
              "      <td>2004</td>\n",
              "      <td>Summer</td>\n",
              "      <td>Athina</td>\n",
              "      <td>Badminton</td>\n",
              "      <td>Badminton Men's Singles</td>\n",
              "      <td>Gold</td>\n",
              "      <td>Indonesia</td>\n",
              "      <td>NaN</td>\n",
              "      <td>0</td>\n",
              "      <td>1</td>\n",
              "      <td>0</td>\n",
              "    </tr>\n",
              "    <tr>\n",
              "      <th>97096</th>\n",
              "      <td>59576</td>\n",
              "      <td>Markis Kido</td>\n",
              "      <td>M</td>\n",
              "      <td>23.0</td>\n",
              "      <td>165.0</td>\n",
              "      <td>62</td>\n",
              "      <td>Indonesia-1</td>\n",
              "      <td>INA</td>\n",
              "      <td>2008 Summer</td>\n",
              "      <td>2008</td>\n",
              "      <td>Summer</td>\n",
              "      <td>Beijing</td>\n",
              "      <td>Badminton</td>\n",
              "      <td>Badminton Men's Doubles</td>\n",
              "      <td>Gold</td>\n",
              "      <td>Indonesia</td>\n",
              "      <td>NaN</td>\n",
              "      <td>0</td>\n",
              "      <td>1</td>\n",
              "      <td>0</td>\n",
              "    </tr>\n",
              "  </tbody>\n",
              "</table>\n",
              "</div>"
            ],
            "text/plain": [
              "          ID                                Name Sex  ...  Bronze  Gold Silver\n",
              "2143    1374                       Tontowi Ahmad   M  ...       0     1      0\n",
              "26122  16152  Alexander Alan Budikusuma Wiratama   M  ...       0     1      0\n",
              "71980  43865                        Tony Gunawan   M  ...       0     1      0\n",
              "79341  48435                      Taufik Hidayat   M  ...       0     1      0\n",
              "97096  59576                         Markis Kido   M  ...       0     1      0\n",
              "\n",
              "[5 rows x 20 columns]"
            ]
          },
          "metadata": {},
          "execution_count": 83
        }
      ]
    },
    {
      "cell_type": "code",
      "metadata": {
        "id": "8qqdwKwEABW5"
      },
      "source": [
        "medal_tally = df.drop_duplicates(subset=['Team', 'NOC', 'Games', 'Year', 'City', 'Sport', 'Event', 'Medal'])"
      ],
      "execution_count": null,
      "outputs": []
    },
    {
      "cell_type": "code",
      "metadata": {
        "id": "fFoPSu9fAzVq"
      },
      "source": [
        "medal_tally = medal_tally.groupby('NOC').sum()[['Gold', 'Silver', 'Bronze']].sort_values('Gold', ascending=False).reset_index()"
      ],
      "execution_count": null,
      "outputs": []
    },
    {
      "cell_type": "code",
      "metadata": {
        "colab": {
          "base_uri": "https://localhost:8080/",
          "height": 80
        },
        "id": "bpVtXFPmBFeR",
        "outputId": "7ea89ef5-bc1a-47d6-dcad-d7d58b83a93b"
      },
      "source": [
        "medal_tally[medal_tally['NOC'] == 'INA']"
      ],
      "execution_count": null,
      "outputs": [
        {
          "output_type": "execute_result",
          "data": {
            "text/html": [
              "<div>\n",
              "<style scoped>\n",
              "    .dataframe tbody tr th:only-of-type {\n",
              "        vertical-align: middle;\n",
              "    }\n",
              "\n",
              "    .dataframe tbody tr th {\n",
              "        vertical-align: top;\n",
              "    }\n",
              "\n",
              "    .dataframe thead th {\n",
              "        text-align: right;\n",
              "    }\n",
              "</style>\n",
              "<table border=\"1\" class=\"dataframe\">\n",
              "  <thead>\n",
              "    <tr style=\"text-align: right;\">\n",
              "      <th></th>\n",
              "      <th>NOC</th>\n",
              "      <th>Gold</th>\n",
              "      <th>Silver</th>\n",
              "      <th>Bronze</th>\n",
              "    </tr>\n",
              "  </thead>\n",
              "  <tbody>\n",
              "    <tr>\n",
              "      <th>48</th>\n",
              "      <td>INA</td>\n",
              "      <td>5.0</td>\n",
              "      <td>6.0</td>\n",
              "      <td>6.0</td>\n",
              "    </tr>\n",
              "  </tbody>\n",
              "</table>\n",
              "</div>"
            ],
            "text/plain": [
              "    NOC  Gold  Silver  Bronze\n",
              "48  INA   5.0     6.0     6.0"
            ]
          },
          "metadata": {},
          "execution_count": 86
        }
      ]
    },
    {
      "cell_type": "code",
      "metadata": {
        "id": "xs2qNDlQBeF5"
      },
      "source": [
        "medal_tally['Total'] = medal_tally['Gold'] + medal_tally['Silver'] + medal_tally['Bronze']"
      ],
      "execution_count": null,
      "outputs": []
    },
    {
      "cell_type": "code",
      "metadata": {
        "colab": {
          "base_uri": "https://localhost:8080/"
        },
        "id": "b6kIY6c2B00Q",
        "outputId": "d54019b9-2f6f-4bf9-96b3-8771a0f4bf5f"
      },
      "source": [
        "medal_tally['Total']"
      ],
      "execution_count": null,
      "outputs": [
        {
          "output_type": "execute_result",
          "data": {
            "text/plain": [
              "0      1552.0\n",
              "1       574.0\n",
              "2       612.0\n",
              "3       539.0\n",
              "4       498.0\n",
              "        ...  \n",
              "225       0.0\n",
              "226       8.0\n",
              "227       1.0\n",
              "228       0.0\n",
              "229       0.0\n",
              "Name: Total, Length: 230, dtype: float64"
            ]
          },
          "metadata": {},
          "execution_count": 88
        }
      ]
    },
    {
      "cell_type": "code",
      "metadata": {
        "id": "0Nk-3tqcFbYs"
      },
      "source": [
        "years = df['Year'].unique().tolist()"
      ],
      "execution_count": null,
      "outputs": []
    },
    {
      "cell_type": "code",
      "metadata": {
        "id": "N1QkMrDeI3hO"
      },
      "source": [
        "years.sort()"
      ],
      "execution_count": null,
      "outputs": []
    },
    {
      "cell_type": "code",
      "metadata": {
        "id": "3jJdkxh_I6U8"
      },
      "source": [
        "years"
      ],
      "execution_count": null,
      "outputs": []
    },
    {
      "cell_type": "code",
      "metadata": {
        "id": "FPKZ-Lq_I93k"
      },
      "source": [
        "years.insert(0, 'Overall')"
      ],
      "execution_count": null,
      "outputs": []
    },
    {
      "cell_type": "code",
      "metadata": {
        "id": "ixtENRVsJFpF"
      },
      "source": [
        "years"
      ],
      "execution_count": null,
      "outputs": []
    },
    {
      "cell_type": "code",
      "metadata": {
        "id": "j8zrnIfvJG1z"
      },
      "source": [
        "country = df['region'].unique().tolist()"
      ],
      "execution_count": null,
      "outputs": []
    },
    {
      "cell_type": "code",
      "metadata": {
        "id": "ZEJn6YwTJT6R"
      },
      "source": [
        "country = np.unique(df['region'].dropna().values).tolist()"
      ],
      "execution_count": null,
      "outputs": []
    },
    {
      "cell_type": "code",
      "metadata": {
        "id": "VE9lWM_xJWji"
      },
      "source": [
        "country.sort()"
      ],
      "execution_count": null,
      "outputs": []
    },
    {
      "cell_type": "code",
      "metadata": {
        "id": "hbdC4rhAJbe-"
      },
      "source": [
        "country"
      ],
      "execution_count": null,
      "outputs": []
    },
    {
      "cell_type": "code",
      "metadata": {
        "id": "iHIwqmCtKEAv"
      },
      "source": [
        "country.insert(0, 'Overall')"
      ],
      "execution_count": null,
      "outputs": []
    },
    {
      "cell_type": "code",
      "metadata": {
        "id": "ySIldaJCKSG7"
      },
      "source": [
        "country"
      ],
      "execution_count": null,
      "outputs": []
    },
    {
      "cell_type": "code",
      "metadata": {
        "id": "uqFOKS7ZKT0q"
      },
      "source": [
        "def fetch_medal_tally(year, country):\n",
        "  medal_df = df.drop_duplicates(subset=['Team', 'NOC', 'Games', 'Year', 'City', 'Sport', 'Event', 'Medal'])\n",
        "  flag = 0\n",
        "  if year == 'Overall' and country == 'Overall':\n",
        "    temp_df = medal_df\n",
        "  if year == 'Overall' and country != 'Overall':\n",
        "    flag = 1\n",
        "    temp_df = medal_df[medal_df['region'] == country]\n",
        "  if year != 'Overall' and country == 'Overall':\n",
        "    temp_df = medal_df[medal_df['Year'] == int(year)]\n",
        "  if year != 'Overall' and country != 'Overall':\n",
        "    temp_df = medal_df[(medal_df['Year'] == 2016) & (medal_df['region'] == country)]\n",
        "\n",
        "  if flag == 1:\n",
        "    x = temp_df.groupby('Year').sum()[['Gold', 'Silver', 'Bronze']].sort_values('Year').reset_index()\n",
        "  else:\n",
        "    x = temp_df.groupby('region').sum()[['Gold', 'Silver', 'Bronze']].sort_values('Gold', ascending=False).reset_index()\n",
        "\n",
        "  x['Total'] = x['Gold'] + x['Silver'] + x['Bronze']\n",
        "\n",
        "  print(x)\n"
      ],
      "execution_count": null,
      "outputs": []
    },
    {
      "cell_type": "code",
      "metadata": {
        "id": "3Z0o3Ot9sUrO"
      },
      "source": [
        "medal_df = df.drop_duplicates(subset=['Team', 'NOC', 'Games', 'Year', 'City', 'Sport', 'Event', 'Medal'])"
      ],
      "execution_count": null,
      "outputs": []
    },
    {
      "cell_type": "code",
      "metadata": {
        "colab": {
          "base_uri": "https://localhost:8080/"
        },
        "id": "9v_TqIBiPVqq",
        "outputId": "01793a92-5804-4f9e-8913-e84a1ac73394"
      },
      "source": [
        "fetch_medal_tally(year=2016, country='Overall')"
      ],
      "execution_count": null,
      "outputs": [
        {
          "output_type": "stream",
          "name": "stdout",
          "text": [
            "Empty DataFrame\n",
            "Columns: [region, Gold, Silver, Bronze, Total]\n",
            "Index: []\n"
          ]
        }
      ]
    },
    {
      "cell_type": "code",
      "metadata": {
        "id": "Yix1xkufNH5c"
      },
      "source": [
        ""
      ],
      "execution_count": null,
      "outputs": []
    },
    {
      "cell_type": "code",
      "metadata": {
        "colab": {
          "base_uri": "https://localhost:8080/",
          "height": 847
        },
        "id": "ybxEu-UnNtM4",
        "outputId": "09a63784-1597-44ad-afa1-b786412f20f2"
      },
      "source": [
        "medal_df[medal_df['region'] == 'Indonesia']"
      ],
      "execution_count": null,
      "outputs": [
        {
          "output_type": "execute_result",
          "data": {
            "text/html": [
              "<div>\n",
              "<style scoped>\n",
              "    .dataframe tbody tr th:only-of-type {\n",
              "        vertical-align: middle;\n",
              "    }\n",
              "\n",
              "    .dataframe tbody tr th {\n",
              "        vertical-align: top;\n",
              "    }\n",
              "\n",
              "    .dataframe thead th {\n",
              "        text-align: right;\n",
              "    }\n",
              "</style>\n",
              "<table border=\"1\" class=\"dataframe\">\n",
              "  <thead>\n",
              "    <tr style=\"text-align: right;\">\n",
              "      <th></th>\n",
              "      <th>ID</th>\n",
              "      <th>Name</th>\n",
              "      <th>Sex</th>\n",
              "      <th>Age</th>\n",
              "      <th>Height</th>\n",
              "      <th>Weight</th>\n",
              "      <th>Team</th>\n",
              "      <th>NOC</th>\n",
              "      <th>Games</th>\n",
              "      <th>Year</th>\n",
              "      <th>Season</th>\n",
              "      <th>City</th>\n",
              "      <th>Sport</th>\n",
              "      <th>Event</th>\n",
              "      <th>Medal</th>\n",
              "      <th>region</th>\n",
              "      <th>notes</th>\n",
              "      <th>Bronze</th>\n",
              "      <th>Gold</th>\n",
              "      <th>Silver</th>\n",
              "    </tr>\n",
              "  </thead>\n",
              "  <tbody>\n",
              "    <tr>\n",
              "      <th>472</th>\n",
              "      <td>310</td>\n",
              "      <td>Patmawati Abdul Wahid</td>\n",
              "      <td>F</td>\n",
              "      <td>32.0</td>\n",
              "      <td>158.0</td>\n",
              "      <td>58</td>\n",
              "      <td>Indonesia</td>\n",
              "      <td>INA</td>\n",
              "      <td>2004 Summer</td>\n",
              "      <td>2004</td>\n",
              "      <td>Summer</td>\n",
              "      <td>Athina</td>\n",
              "      <td>Weightlifting</td>\n",
              "      <td>Weightlifting Women's Lightweight</td>\n",
              "      <td>NaN</td>\n",
              "      <td>Indonesia</td>\n",
              "      <td>NaN</td>\n",
              "      <td>0</td>\n",
              "      <td>0</td>\n",
              "      <td>0</td>\n",
              "    </tr>\n",
              "    <tr>\n",
              "      <th>1600</th>\n",
              "      <td>1019</td>\n",
              "      <td>Selvyana Adrian-Sofyan</td>\n",
              "      <td>F</td>\n",
              "      <td>33.0</td>\n",
              "      <td>151.0</td>\n",
              "      <td>52</td>\n",
              "      <td>Indonesia</td>\n",
              "      <td>INA</td>\n",
              "      <td>1984 Summer</td>\n",
              "      <td>1984</td>\n",
              "      <td>Summer</td>\n",
              "      <td>Los Angeles</td>\n",
              "      <td>Shooting</td>\n",
              "      <td>Shooting Women's Sporting Pistol, 25 metres</td>\n",
              "      <td>NaN</td>\n",
              "      <td>Indonesia</td>\n",
              "      <td>NaN</td>\n",
              "      <td>0</td>\n",
              "      <td>0</td>\n",
              "      <td>0</td>\n",
              "    </tr>\n",
              "    <tr>\n",
              "      <th>1601</th>\n",
              "      <td>1019</td>\n",
              "      <td>Selvyana Adrian-Sofyan</td>\n",
              "      <td>F</td>\n",
              "      <td>37.0</td>\n",
              "      <td>151.0</td>\n",
              "      <td>52</td>\n",
              "      <td>Indonesia</td>\n",
              "      <td>INA</td>\n",
              "      <td>1988 Summer</td>\n",
              "      <td>1988</td>\n",
              "      <td>Summer</td>\n",
              "      <td>Seoul</td>\n",
              "      <td>Shooting</td>\n",
              "      <td>Shooting Women's Air Pistol, 10 metres</td>\n",
              "      <td>NaN</td>\n",
              "      <td>Indonesia</td>\n",
              "      <td>NaN</td>\n",
              "      <td>0</td>\n",
              "      <td>0</td>\n",
              "      <td>0</td>\n",
              "    </tr>\n",
              "    <tr>\n",
              "      <th>1602</th>\n",
              "      <td>1019</td>\n",
              "      <td>Selvyana Adrian-Sofyan</td>\n",
              "      <td>F</td>\n",
              "      <td>37.0</td>\n",
              "      <td>151.0</td>\n",
              "      <td>52</td>\n",
              "      <td>Indonesia</td>\n",
              "      <td>INA</td>\n",
              "      <td>1988 Summer</td>\n",
              "      <td>1988</td>\n",
              "      <td>Summer</td>\n",
              "      <td>Seoul</td>\n",
              "      <td>Shooting</td>\n",
              "      <td>Shooting Women's Sporting Pistol, 25 metres</td>\n",
              "      <td>NaN</td>\n",
              "      <td>Indonesia</td>\n",
              "      <td>NaN</td>\n",
              "      <td>0</td>\n",
              "      <td>0</td>\n",
              "      <td>0</td>\n",
              "    </tr>\n",
              "    <tr>\n",
              "      <th>2031</th>\n",
              "      <td>1301</td>\n",
              "      <td>Sri Wahyuni Agustiani</td>\n",
              "      <td>F</td>\n",
              "      <td>21.0</td>\n",
              "      <td>147.0</td>\n",
              "      <td>47</td>\n",
              "      <td>Indonesia</td>\n",
              "      <td>INA</td>\n",
              "      <td>2016 Summer</td>\n",
              "      <td>2016</td>\n",
              "      <td>Summer</td>\n",
              "      <td>Rio de Janeiro</td>\n",
              "      <td>Weightlifting</td>\n",
              "      <td>Weightlifting Women's Flyweight</td>\n",
              "      <td>Silver</td>\n",
              "      <td>Indonesia</td>\n",
              "      <td>NaN</td>\n",
              "      <td>0</td>\n",
              "      <td>0</td>\n",
              "      <td>1</td>\n",
              "    </tr>\n",
              "    <tr>\n",
              "      <th>...</th>\n",
              "      <td>...</td>\n",
              "      <td>...</td>\n",
              "      <td>...</td>\n",
              "      <td>...</td>\n",
              "      <td>...</td>\n",
              "      <td>...</td>\n",
              "      <td>...</td>\n",
              "      <td>...</td>\n",
              "      <td>...</td>\n",
              "      <td>...</td>\n",
              "      <td>...</td>\n",
              "      <td>...</td>\n",
              "      <td>...</td>\n",
              "      <td>...</td>\n",
              "      <td>...</td>\n",
              "      <td>...</td>\n",
              "      <td>...</td>\n",
              "      <td>...</td>\n",
              "      <td>...</td>\n",
              "      <td>...</td>\n",
              "    </tr>\n",
              "    <tr>\n",
              "      <th>107402</th>\n",
              "      <td>65923</td>\n",
              "      <td>Ilham B. Lahia</td>\n",
              "      <td>M</td>\n",
              "      <td>20.0</td>\n",
              "      <td>165.0</td>\n",
              "      <td>57</td>\n",
              "      <td>Indonesia</td>\n",
              "      <td>INA</td>\n",
              "      <td>1988 Summer</td>\n",
              "      <td>1988</td>\n",
              "      <td>Summer</td>\n",
              "      <td>Seoul</td>\n",
              "      <td>Boxing</td>\n",
              "      <td>Boxing Men's Featherweight</td>\n",
              "      <td>NaN</td>\n",
              "      <td>Indonesia</td>\n",
              "      <td>NaN</td>\n",
              "      <td>0</td>\n",
              "      <td>0</td>\n",
              "      <td>0</td>\n",
              "    </tr>\n",
              "    <tr>\n",
              "      <th>112084</th>\n",
              "      <td>68756</td>\n",
              "      <td>Handry Octavianus Lenzun</td>\n",
              "      <td>M</td>\n",
              "      <td>20.0</td>\n",
              "      <td>NaN</td>\n",
              "      <td>NaN</td>\n",
              "      <td>Indonesia</td>\n",
              "      <td>INA</td>\n",
              "      <td>1992 Summer</td>\n",
              "      <td>1992</td>\n",
              "      <td>Summer</td>\n",
              "      <td>Barcelona</td>\n",
              "      <td>Fencing</td>\n",
              "      <td>Fencing Men's epee, Individual</td>\n",
              "      <td>NaN</td>\n",
              "      <td>Indonesia</td>\n",
              "      <td>NaN</td>\n",
              "      <td>0</td>\n",
              "      <td>0</td>\n",
              "      <td>0</td>\n",
              "    </tr>\n",
              "    <tr>\n",
              "      <th>112528</th>\n",
              "      <td>69013</td>\n",
              "      <td>Warino Lestanto</td>\n",
              "      <td>M</td>\n",
              "      <td>23.0</td>\n",
              "      <td>168.0</td>\n",
              "      <td>67</td>\n",
              "      <td>Indonesia</td>\n",
              "      <td>INA</td>\n",
              "      <td>1976 Summer</td>\n",
              "      <td>1976</td>\n",
              "      <td>Summer</td>\n",
              "      <td>Montreal</td>\n",
              "      <td>Weightlifting</td>\n",
              "      <td>Weightlifting Men's Lightweight</td>\n",
              "      <td>NaN</td>\n",
              "      <td>Indonesia</td>\n",
              "      <td>NaN</td>\n",
              "      <td>0</td>\n",
              "      <td>0</td>\n",
              "      <td>0</td>\n",
              "    </tr>\n",
              "    <tr>\n",
              "      <th>112529</th>\n",
              "      <td>69014</td>\n",
              "      <td>Afdiharto Mardi Lestari</td>\n",
              "      <td>M</td>\n",
              "      <td>20.0</td>\n",
              "      <td>166.0</td>\n",
              "      <td>63</td>\n",
              "      <td>Indonesia</td>\n",
              "      <td>INA</td>\n",
              "      <td>1988 Summer</td>\n",
              "      <td>1988</td>\n",
              "      <td>Summer</td>\n",
              "      <td>Seoul</td>\n",
              "      <td>Athletics</td>\n",
              "      <td>Athletics Men's 100 metres</td>\n",
              "      <td>NaN</td>\n",
              "      <td>Indonesia</td>\n",
              "      <td>NaN</td>\n",
              "      <td>0</td>\n",
              "      <td>0</td>\n",
              "      <td>0</td>\n",
              "    </tr>\n",
              "    <tr>\n",
              "      <th>112530</th>\n",
              "      <td>69014</td>\n",
              "      <td>Afdiharto Mardi Lestari</td>\n",
              "      <td>M</td>\n",
              "      <td>20.0</td>\n",
              "      <td>166.0</td>\n",
              "      <td>63</td>\n",
              "      <td>Indonesia</td>\n",
              "      <td>INA</td>\n",
              "      <td>1988 Summer</td>\n",
              "      <td>1988</td>\n",
              "      <td>Summer</td>\n",
              "      <td>Seoul</td>\n",
              "      <td>Athletics</td>\n",
              "      <td>Athletics Men's 4 x 100 metres Relay</td>\n",
              "      <td>NaN</td>\n",
              "      <td>Indonesia</td>\n",
              "      <td>NaN</td>\n",
              "      <td>0</td>\n",
              "      <td>0</td>\n",
              "      <td>0</td>\n",
              "    </tr>\n",
              "  </tbody>\n",
              "</table>\n",
              "<p>128 rows × 20 columns</p>\n",
              "</div>"
            ],
            "text/plain": [
              "           ID                      Name Sex   Age  ...  notes Bronze Gold Silver\n",
              "472       310     Patmawati Abdul Wahid   F  32.0  ...    NaN      0    0      0\n",
              "1600     1019    Selvyana Adrian-Sofyan   F  33.0  ...    NaN      0    0      0\n",
              "1601     1019    Selvyana Adrian-Sofyan   F  37.0  ...    NaN      0    0      0\n",
              "1602     1019    Selvyana Adrian-Sofyan   F  37.0  ...    NaN      0    0      0\n",
              "2031     1301     Sri Wahyuni Agustiani   F  21.0  ...    NaN      0    0      1\n",
              "...       ...                       ...  ..   ...  ...    ...    ...  ...    ...\n",
              "107402  65923            Ilham B. Lahia   M  20.0  ...    NaN      0    0      0\n",
              "112084  68756  Handry Octavianus Lenzun   M  20.0  ...    NaN      0    0      0\n",
              "112528  69013           Warino Lestanto   M  23.0  ...    NaN      0    0      0\n",
              "112529  69014   Afdiharto Mardi Lestari   M  20.0  ...    NaN      0    0      0\n",
              "112530  69014   Afdiharto Mardi Lestari   M  20.0  ...    NaN      0    0      0\n",
              "\n",
              "[128 rows x 20 columns]"
            ]
          },
          "metadata": {},
          "execution_count": 103
        }
      ]
    },
    {
      "cell_type": "code",
      "metadata": {
        "id": "mnZ890cZNKeq"
      },
      "source": [
        "nations_over_time = df.drop_duplicates(['Year', 'region'])['Year'].value_counts().reset_index().sort_values('index')"
      ],
      "execution_count": null,
      "outputs": []
    },
    {
      "cell_type": "code",
      "metadata": {
        "id": "cFyc-zrUiMV5"
      },
      "source": [
        "nations_over_time.rename(columns={'index':'Edition', 'Year':'No of Countries'}, inplace=True)"
      ],
      "execution_count": null,
      "outputs": []
    },
    {
      "cell_type": "code",
      "metadata": {
        "id": "8te31qVXilb6"
      },
      "source": [
        "import plotly.express as px\n",
        "import seaborn as sns"
      ],
      "execution_count": 5,
      "outputs": []
    },
    {
      "cell_type": "code",
      "metadata": {
        "id": "0DM-i18yiq-7"
      },
      "source": [
        "fig = px.line(nations_over_time, x='Edition', y='No of Countries')"
      ],
      "execution_count": null,
      "outputs": []
    },
    {
      "cell_type": "code",
      "metadata": {
        "id": "96qu8OSSueRN"
      },
      "source": [
        "   x = df.drop_duplicates(['Year', 'Sport', 'Event'])"
      ],
      "execution_count": null,
      "outputs": []
    },
    {
      "cell_type": "code",
      "metadata": {
        "id": "UFG4A7SdvkPk"
      },
      "source": [
        "sns.heatmap(x.pivot_table(index='Sport', columns='Year', \n",
        "                           values='Event', aggfunc='count').fillna(0).astype('int'), annot=True)"
      ],
      "execution_count": null,
      "outputs": []
    },
    {
      "cell_type": "code",
      "metadata": {
        "id": "Vb1CkEdMxTw7"
      },
      "source": [
        "df.dropna(subset=['Medal'])['Name'].value_counts().reset_index().merge(df, left_on='index', \n",
        "                                                                       right_on='Name', how='left')[['index', 'Name']]"
      ],
      "execution_count": null,
      "outputs": []
    },
    {
      "cell_type": "code",
      "metadata": {
        "id": "_KXvBASmx38M"
      },
      "source": [
        ""
      ],
      "execution_count": null,
      "outputs": []
    },
    {
      "cell_type": "code",
      "metadata": {
        "id": "hnlabVmuw52N"
      },
      "source": [
        "def most_successful(df, sport):\n",
        "  temp_df = df.dropna(subset=['Medal'])\n",
        "\n",
        "  if sport != 'Overall':\n",
        "    temp_df = temp_df[temp_df['Sport'] == sport]\n",
        "\n",
        "  x = temp_df['Name'].value_counts().reset_index().head(15).merge(df, left_on='index', \n",
        "                                                                     right_on='Name', how='left')[['index', \n",
        "                                                                     'Name_x', 'Sport', 'region']].drop_duplicates('index')\n",
        "  x.rename(columns={'index': 'Name', 'Name_x': 'Medals'}, inplace=True)\n",
        "\n",
        "  return x"
      ],
      "execution_count": null,
      "outputs": []
    },
    {
      "cell_type": "code",
      "metadata": {
        "id": "5aIqNGUS2leD"
      },
      "source": [
        "temp_df = df.dropna(subset=['Medal'])\n",
        "temp_df.drop_duplicates(subset=['Team', 'NOC', 'Games', 'Year', 'City', 'Sport', 'Event', 'Medal'], inplace=True)\n",
        "new_df = temp_df[temp_df['region'] == 'USA']\n",
        "final_df = new_df.groupby('Year').count()['Medal'].reset_index()"
      ],
      "execution_count": null,
      "outputs": []
    },
    {
      "cell_type": "code",
      "metadata": {
        "id": "qjaqAtJM3uzG"
      },
      "source": [
        "fig = px.line(final_df, x='Year', y='Medal')"
      ],
      "execution_count": null,
      "outputs": []
    },
    {
      "cell_type": "code",
      "metadata": {
        "id": "lYiCE4qP9N7e"
      },
      "source": [
        "new_df = temp_df[temp_df['region'] == 'USA']\n",
        "sns.heatmap(new_df.pivot_table(index='Sport', columns='Year', values='Medal', aggfunc='count').fillna(0), annot=True)"
      ],
      "execution_count": null,
      "outputs": []
    },
    {
      "cell_type": "code",
      "metadata": {
        "id": "VAI1mEECGpo0"
      },
      "source": [
        "import plotly.figure_factory as ff"
      ],
      "execution_count": 6,
      "outputs": []
    },
    {
      "cell_type": "code",
      "metadata": {
        "id": "XdDrNZXXGuGa"
      },
      "source": [
        "athletes_df = df.drop_duplicates(subset=['Name', 'region'])"
      ],
      "execution_count": null,
      "outputs": []
    },
    {
      "cell_type": "code",
      "metadata": {
        "id": "eMbNKqXPHo0G"
      },
      "source": [
        "x1 = athletes_df['Age'].dropna()\n",
        "x2 = athletes_df[athletes_df['Medal'] == 'Gold']['Age'].dropna()\n",
        "x3 = athletes_df[athletes_df['Medal'] == 'Silver']['Age'].dropna()\n",
        "x4 = athletes_df[athletes_df['Medal'] == 'Bronze']['Age'].dropna()"
      ],
      "execution_count": null,
      "outputs": []
    },
    {
      "cell_type": "code",
      "metadata": {
        "id": "7e7YDDs0HCna"
      },
      "source": [
        "ff.create_distplot([x1, x2, x3, x4], ['Age Distribution', 'Gold Medalist', 'Silver Medalist', 'Bronze Medalist'], \n",
        "                   show_hist=False, show_rug=False)"
      ],
      "execution_count": null,
      "outputs": []
    },
    {
      "cell_type": "code",
      "metadata": {
        "id": "MfMZToQ5Jjr3"
      },
      "source": [
        "x = []\n",
        "name = []\n",
        "\n",
        "for sport in famous_sports:\n",
        "  temp_df = athletes_df[athletes_df['Sport'] == sport]\n",
        "  x.append(temp_df[temp_df['Medal'] == 'Gold']['Age'].dropna())\n",
        "  name.append(sport)"
      ],
      "execution_count": null,
      "outputs": []
    }
  ]
}