{
  "nbformat": 4,
  "nbformat_minor": 0,
  "metadata": {
    "colab": {
      "name": "face-masked-v1.ipynb",
      "provenance": [],
      "authorship_tag": "ABX9TyPJl6RMC+EhOLN78gPk0ZDY",
      "include_colab_link": true
    },
    "kernelspec": {
      "name": "python3",
      "display_name": "Python 3"
    },
    "language_info": {
      "name": "python"
    }
  },
  "cells": [
    {
      "cell_type": "markdown",
      "metadata": {
        "id": "view-in-github",
        "colab_type": "text"
      },
      "source": [
        "<a href=\"https://colab.research.google.com/github/lovelyoyrmia/machine-learning-notebook/blob/main/face_masked_v1.ipynb\" target=\"_parent\"><img src=\"https://colab.research.google.com/assets/colab-badge.svg\" alt=\"Open In Colab\"/></a>"
      ]
    },
    {
      "cell_type": "markdown",
      "source": [
        "# **Face Masked Detection**"
      ],
      "metadata": {
        "id": "zc6bTJziMLm2"
      }
    },
    {
      "cell_type": "code",
      "execution_count": 1,
      "metadata": {
        "id": "lRPu02gIKd07"
      },
      "outputs": [],
      "source": [
        "import warnings\n",
        "warnings.filterwarnings('ignore')"
      ]
    },
    {
      "cell_type": "markdown",
      "source": [
        "## Import all of the packages"
      ],
      "metadata": {
        "id": "CW_IXeQCMFd7"
      }
    },
    {
      "cell_type": "code",
      "source": [
        "import cv2\n",
        "import numpy as np\n",
        "import os\n",
        "import matplotlib.pyplot as plt\n",
        "from sklearn.model_selection import train_test_split\n",
        "from keras.preprocessing.image import ImageDataGenerator\n",
        "from keras.utils.np_utils import to_categorical\n",
        "from keras.models import Sequential\n",
        "from keras.layers import Conv2D, Dense, MaxPooling2D, Activation, Dropout\n",
        "from keras.optimizers import adam_v2"
      ],
      "metadata": {
        "id": "4nvPCyxFK4Ld"
      },
      "execution_count": 3,
      "outputs": []
    },
    {
      "cell_type": "markdown",
      "source": [
        "## Unzip Dataset"
      ],
      "metadata": {
        "id": "R3h-3VhjNAQj"
      }
    },
    {
      "cell_type": "code",
      "source": [
        "! unzip masked.zip "
      ],
      "metadata": {
        "colab": {
          "base_uri": "https://localhost:8080/"
        },
        "id": "5YIIDKV7L-f0",
        "outputId": "aabeb1bb-4137-42fa-f329-d315d0fde8a3"
      },
      "execution_count": 7,
      "outputs": [
        {
          "output_type": "stream",
          "name": "stdout",
          "text": [
            "Archive:  masked.zip\n",
            "  inflating: Image Scraper/Mask On/2.jpeg  \n",
            "  inflating: Image Scraper/Mask On/Screen Shot 2021-12-10 at 6.38.46 PM.png  \n",
            "  inflating: Image Scraper/Mask On/IMG-20200318-WA0002.jpeg  \n",
            "  inflating: Image Scraper/Mask On/Screen Shot 2021-12-10 at 6.35.20 PM.png  \n",
            "  inflating: Image Scraper/Mask On/3.jpg  \n",
            "  inflating: Image Scraper/Mask On/1.jpg  \n",
            "  inflating: Image Scraper/Mask On/people with masks on14.jpeg  \n",
            "  inflating: Image Scraper/Mask On/IMG-20210214-WA0000.jpeg  \n",
            "  inflating: Image Scraper/Mask On/100062100773_132845.jpeg  \n",
            "  inflating: Image Scraper/Mask On/IMG-20200317-WA0000.jpeg  \n",
            "  inflating: Image Scraper/Mask On/people with masks on2.jpeg  \n",
            "  inflating: Image Scraper/Mask On/IMG-20210306-WA0015.jpeg  \n",
            "  inflating: Image Scraper/Mask On/Screen Shot 2021-12-10 at 6.37.04 PM.png  \n",
            "  inflating: Image Scraper/Mask On/PXL_20210214_170134333.PORTRAIT.jpg  \n",
            "  inflating: Image Scraper/Mask On/5d0d1386-707b-42f7-94f1-37a77bd2e7ae-etsy-face-mask.jpg  \n",
            "  inflating: Image Scraper/Mask On/stay-safe-and-wear-a-face-mask-royalty-free-image-1628719581.jpg  \n",
            "  inflating: Image Scraper/Mask On/5f6dfa1f0f4d5500110324a3.png  \n",
            "  inflating: Image Scraper/No Mask/IMG-20180902-WA0012.jpeg  \n",
            "  inflating: Image Scraper/Gojek Driver/jason.jpg  \n",
            "  inflating: Image Scraper/Mask On/masker_untuk_indonesia_masker_mehow_fashion_mask_sport_full03_f6a70ou0.jpg  \n",
            "  inflating: Image Scraper/No Mask/IMG_20181215_193422.jpeg  \n",
            "  inflating: Image Scraper/Mask On/Screen Shot 2021-12-10 at 6.32.03 PM.png  \n",
            "  inflating: Image Scraper/Gojek Driver/1017978_720.jpg  \n",
            "  inflating: Image Scraper/No Mask/IMG-20201225-WA0026.jpeg  \n",
            "  inflating: Image Scraper/No Mask/IMG_20180318_191334.jpeg  \n",
            "  inflating: Image Scraper/Gojek Driver/43a549fe-988b-4c29-b33f-a11aac7395ae_169.jpeg  \n",
            "  inflating: Image Scraper/No Mask/IMG-20211106-WA0030.jpeg  \n",
            "  inflating: Image Scraper/Mask On/file-20200407-18916-1p3qplf.jpg  \n",
            "  inflating: Image Scraper/No Mask/Screen Shot 2021-12-10 at 6.40.42 PM.png  \n",
            "  inflating: Image Scraper/Mask On/savage-x-face-mask-1617825135.jpg  \n",
            "  inflating: Image Scraper/Gojek Driver/gojek.jpg  \n",
            "  inflating: Image Scraper/Gojek Driver/2667297023.jpg  \n",
            "  inflating: Image Scraper/Gojek Driver/676394-1000.jpg  \n",
            "  inflating: Image Scraper/Gojek Driver/driver_stories-ibu_venty-3.jpg  \n",
            "  inflating: Image Scraper/Mask On/file-20200404-74255-1jr55gc.jpeg  \n",
            "  inflating: Image Scraper/No Mask/Screen Shot 2021-12-10 at 6.33.14 PM.png  \n",
            "  inflating: Image Scraper/Mask On/ratio3x2_1800.jpg  \n",
            "  inflating: Image Scraper/No Mask/Screen Shot 2021-12-10 at 6.40.08 PM.png  \n",
            "  inflating: Image Scraper/Gojek Driver/images.jfif  \n",
            "  inflating: Image Scraper/No Mask/IMG-20211106-WA0029.jpeg  \n",
            "  inflating: Image Scraper/No Mask/640px-Charles_Flynn_as_Jack_Armstrong_1943.jpg  \n",
            "  inflating: Image Scraper/Mask On/IMG-20210908-WA0010.jpeg  \n",
            "  inflating: Image Scraper/Gojek Driver/j3k-gojek-ambil-bagian-dalam-pencegahan-covid19-di-makassar-qnp.jpg  \n",
            "  inflating: Image Scraper/No Mask/dwayne-johnson-e1573760481985.jpeg  \n",
            "  inflating: Image Scraper/Mask On/images.jpeg  \n",
            "  inflating: Image Scraper/No Mask/65493650-D5F5-44F3-A5DC-460260EC122E_1_105_c.jpeg  \n",
            "  inflating: Image Scraper/Gojek Driver/2069212824.jpg  \n",
            "  inflating: Image Scraper/No Mask/Screen Shot 2021-12-10 at 6.29.30 PM.png  \n",
            "  inflating: Image Scraper/Gojek Driver/2097959445.jpg  \n",
            "  inflating: Image Scraper/No Mask/Screen Shot 2021-12-10 at 6.29.07 PM.png  \n",
            "  inflating: Image Scraper/No Mask/All-American-Heartthrob.jpg  \n",
            "  inflating: Image Scraper/No Mask/Screen Shot 2021-12-10 at 6.30.27 PM.png  \n",
            "  inflating: Image Scraper/No Mask/IMG_20200220_225320.jpg  \n",
            "  inflating: Image Scraper/No Mask/ALA213b_0685b.jpg  \n",
            "  inflating: Image Scraper/No Mask/tania.JPG  \n",
            "  inflating: Image Scraper/No Mask/ffbf04919951-Mat_UIUX.jpg  \n",
            "  inflating: Image Scraper/No Mask/jeff.jpg  \n",
            "  inflating: Image Scraper/No Mask/IMG_0674.JPG  \n",
            "  inflating: Image Scraper/No Mask/IMG_0673.JPG  \n"
          ]
        }
      ]
    },
    {
      "cell_type": "markdown",
      "source": [
        "## Declare Variable"
      ],
      "metadata": {
        "id": "MfbldvA4NJLp"
      }
    },
    {
      "cell_type": "code",
      "source": [
        "path = 'Image_Scraper'\n",
        "images = []\n",
        "classNo = []\n",
        "testRatio = 0.2\n",
        "valRatio = 0.2\n",
        "imgDimension = (32, 32, 3)"
      ],
      "metadata": {
        "id": "RVUJLdbSMcmA"
      },
      "execution_count": 8,
      "outputs": []
    },
    {
      "cell_type": "markdown",
      "source": [
        "## Load Classes Path"
      ],
      "metadata": {
        "id": "NcIUAMw6PFjZ"
      }
    },
    {
      "cell_type": "code",
      "source": [
        "myList = os.listdir(path)\n",
        "myList.remove('.ipynb_checkpoints')\n",
        "numOfClasses = len(myList)\n",
        "numOfClasses"
      ],
      "metadata": {
        "colab": {
          "base_uri": "https://localhost:8080/"
        },
        "id": "9UpG9r04OEhu",
        "outputId": "d40c6f0a-0868-4a40-81dd-35bf87990b07"
      },
      "execution_count": 18,
      "outputs": [
        {
          "output_type": "execute_result",
          "data": {
            "text/plain": [
              "2"
            ]
          },
          "metadata": {},
          "execution_count": 18
        }
      ]
    },
    {
      "cell_type": "code",
      "source": [
        "for x in range(0, numOfClasses):\n",
        "  myPicList = os.listdir(path + '/' + str(x))\n",
        "  for y in myPicList:\n",
        "    curImg = cv2.imread(path + '/' + str(x) + '/' + y)\n",
        "    curImg = cv2.resize(curImg, (imgDimension[0], imgDimension[1]))\n",
        "    images.append(curImg)\n",
        "    classNo.append(x)\n",
        "  print(x)"
      ],
      "metadata": {
        "colab": {
          "base_uri": "https://localhost:8080/"
        },
        "id": "MkpfLIXoOoih",
        "outputId": "7e6c8a8e-b65e-4aba-bbf0-18104fca0270"
      },
      "execution_count": 23,
      "outputs": [
        {
          "output_type": "stream",
          "name": "stdout",
          "text": [
            "0\n",
            "1\n"
          ]
        }
      ]
    },
    {
      "cell_type": "code",
      "source": [
        ""
      ],
      "metadata": {
        "id": "hpX2pknIP5tB"
      },
      "execution_count": 26,
      "outputs": []
    },
    {
      "cell_type": "code",
      "source": [
        "images = np.array(images)\n",
        "classNo = np.array(classNo)\n",
        "print(images.shape)\n",
        "classNo.shape"
      ],
      "metadata": {
        "colab": {
          "base_uri": "https://localhost:8080/"
        },
        "id": "Ba8kx55ZQ7kj",
        "outputId": "be07c974-3051-48bf-9c15-60596dcb8e7b"
      },
      "execution_count": 30,
      "outputs": [
        {
          "output_type": "stream",
          "name": "stdout",
          "text": [
            "(144, 32, 32, 3)\n"
          ]
        },
        {
          "output_type": "execute_result",
          "data": {
            "text/plain": [
              "(144,)"
            ]
          },
          "metadata": {},
          "execution_count": 30
        }
      ]
    },
    {
      "cell_type": "markdown",
      "source": [
        "## Spliting the data"
      ],
      "metadata": {
        "id": "VhZoUvvUW9d4"
      }
    },
    {
      "cell_type": "code",
      "source": [
        "X_train, X_test, y_train, y_test = train_test_split(images, classNo, test_size=testRatio)\n",
        "X_train, X_val, y_train, y_val = train_test_split(X_train, y_train, test_size=valRatio)"
      ],
      "metadata": {
        "id": "kAE9VvXIRIjE"
      },
      "execution_count": 31,
      "outputs": []
    },
    {
      "cell_type": "code",
      "source": [
        "X_train.shape"
      ],
      "metadata": {
        "colab": {
          "base_uri": "https://localhost:8080/"
        },
        "id": "OX-NfWXKXm0_",
        "outputId": "aede6b18-0cbf-44e3-c2c3-666922fe4835"
      },
      "execution_count": 32,
      "outputs": [
        {
          "output_type": "execute_result",
          "data": {
            "text/plain": [
              "(92, 32, 32, 3)"
            ]
          },
          "metadata": {},
          "execution_count": 32
        }
      ]
    },
    {
      "cell_type": "code",
      "source": [
        "numOfSample = []\n",
        "\n",
        "for x in range(0, numOfClasses):\n",
        "  numOfSample.append(len(np.where(y_train==x)[0]))"
      ],
      "metadata": {
        "id": "ohPO76J0XpTo"
      },
      "execution_count": 33,
      "outputs": []
    },
    {
      "cell_type": "code",
      "source": [
        "numOfSample"
      ],
      "metadata": {
        "colab": {
          "base_uri": "https://localhost:8080/"
        },
        "id": "6yAcqYKEX9ZN",
        "outputId": "bef8eada-4cb2-4bd5-b9f0-117f98bb4489"
      },
      "execution_count": 34,
      "outputs": [
        {
          "output_type": "execute_result",
          "data": {
            "text/plain": [
              "[41, 51]"
            ]
          },
          "metadata": {},
          "execution_count": 34
        }
      ]
    },
    {
      "cell_type": "markdown",
      "source": [
        "## Visualize data"
      ],
      "metadata": {
        "id": "67KtGauyYHOn"
      }
    },
    {
      "cell_type": "code",
      "source": [
        "plt.figure(figsize=(15, 10))\n",
        "plt.bar(range(0, numOfClasses), numOfSample)\n",
        "plt.title('Bar plot of Classes & Images')\n",
        "plt.xlabel('No of Classes')\n",
        "plt.ylabel('No of Images')\n",
        "plt.show()"
      ],
      "metadata": {
        "colab": {
          "base_uri": "https://localhost:8080/",
          "height": 621
        },
        "id": "VEy9_BGAX_19",
        "outputId": "6a71bf52-d01c-4673-d060-c88a47913c46"
      },
      "execution_count": 35,
      "outputs": [
        {
          "output_type": "display_data",
          "data": {
            "image/png": "[encoded data removed]",
            "text/plain": [
              "<Figure size 1080x720 with 1 Axes>"
            ]
          },
          "metadata": {
            "needs_background": "light"
          }
        }
      ]
    },
    {
      "cell_type": "markdown",
      "source": [
        "## Processing Data"
      ],
      "metadata": {
        "id": "24yEKqexYwgC"
      }
    },
    {
      "cell_type": "code",
      "source": [
        "def preprocessing(img):\n",
        "  img = cv2.cvtColor(img, cv2.COLOR_BGR2GRAY)\n",
        "  img = cv2.equalizeHist(img)\n",
        "  img = img / 255\n",
        "  return img"
      ],
      "metadata": {
        "id": "kQZfi1CAYkz6"
      },
      "execution_count": 36,
      "outputs": []
    },
    {
      "cell_type": "code",
      "source": [
        "X_train = np.array(list(map(preprocessing, X_train)))\n",
        "X_test = np.array(list(map(preprocessing, X_test)))\n",
        "X_val = np.array(list(map(preprocessing, X_val)))"
      ],
      "metadata": {
        "id": "dlUEpJz3ZFtq"
      },
      "execution_count": 37,
      "outputs": []
    },
    {
      "cell_type": "code",
      "source": [
        "X_train = X_train.reshape(X_train.shape[0], X_train.shape[1], X_train.shape[2], 1)\n",
        "X_test = X_test.reshape(X_test.shape[0], X_test.shape[1], X_test.shape[2], 1)\n",
        "X_val = X_val.reshape(X_val.shape[0], X_val.shape[1], X_val.shape[2], 1)"
      ],
      "metadata": {
        "id": "cu7b1EzNZsuG"
      },
      "execution_count": 39,
      "outputs": []
    },
    {
      "cell_type": "code",
      "source": [
        "dataGen = ImageDataGenerator(width_shift_range=0.1,\n",
        "                             height_shift_range=0.1,\n",
        "                             zoom_range=0.2,\n",
        "                             shear_range=0.1,\n",
        "                             rotation_range=10)"
      ],
      "metadata": {
        "id": "lbY-jKhSaSNw"
      },
      "execution_count": 40,
      "outputs": []
    },
    {
      "cell_type": "code",
      "source": [
        "dataGen.fit(X_train)"
      ],
      "metadata": {
        "id": "8jiFQsseaoC0"
      },
      "execution_count": 41,
      "outputs": []
    },
    {
      "cell_type": "code",
      "source": [
        "y_train = to_categorical(y_train, numOfClasses)\n",
        "y_test = to_categorical(y_test, numOfClasses)\n",
        "y_val = to_categorical(y_val, numOfClasses)"
      ],
      "metadata": {
        "id": "3IuLx1B2bCLO"
      },
      "execution_count": 42,
      "outputs": []
    },
    {
      "cell_type": "markdown",
      "source": [
        "## Create Model"
      ],
      "metadata": {
        "id": "xt_-JIk8d5oO"
      }
    },
    {
      "cell_type": "code",
      "source": [
        "from keras.optimizer_v2.adam import Adam\n",
        "from keras.layers.core.flatten import Flatten\n",
        "def myModel():\n",
        "  sizeOfFilter1 = (3, 3)\n",
        "  sizeOfFilter2 = (3, 3)\n",
        "  sizeOfPool = (2, 2)\n",
        "\n",
        "  model = Sequential()\n",
        "  model.add((Conv2D(32, sizeOfFilter1, input_shape=(imgDimension[0], imgDimension[1], 1), activation='relu')))\n",
        "  model.add((Conv2D(32, sizeOfFilter1, activation='relu')))\n",
        "  model.add(MaxPooling2D(pool_size=sizeOfPool))\n",
        "\n",
        "  model.add((Conv2D(64, sizeOfFilter2, activation='relu')))\n",
        "  model.add((Conv2D(64, sizeOfFilter2, activation='relu')))\n",
        "  model.add(MaxPooling2D(pool_size=sizeOfPool))\n",
        "  model.add(Dropout(0.5))\n",
        "\n",
        "  model.add(Flatten())\n",
        "  model.add(Dense(64, activation='relu'))\n",
        "  model.add(Dropout(0.5))\n",
        "  model.add(Dense(numOfClasses, activation='softmax'))\n",
        "  model.compile(Adam(learning_rate=0.001), loss='categorical_crossentropy', metrics=['accuracy'])\n",
        "\n",
        "  return model"
      ],
      "metadata": {
        "id": "A7Jtp0KHbDvq"
      },
      "execution_count": 43,
      "outputs": []
    },
    {
      "cell_type": "code",
      "source": [
        "model = myModel()\n",
        "model.summary()"
      ],
      "metadata": {
        "colab": {
          "base_uri": "https://localhost:8080/"
        },
        "id": "1d2XFX0kdoiH",
        "outputId": "204970d3-0a20-499e-e700-eb38af1570ac"
      },
      "execution_count": 44,
      "outputs": [
        {
          "output_type": "stream",
          "name": "stdout",
          "text": [
            "Model: \"sequential\"\n",
            "_________________________________________________________________\n",
            " Layer (type)                Output Shape              Param #   \n",
            "=================================================================\n",
            " conv2d (Conv2D)             (None, 30, 30, 32)        320       \n",
            "                                                                 \n",
            " conv2d_1 (Conv2D)           (None, 28, 28, 32)        9248      \n",
            "                                                                 \n",
            " max_pooling2d (MaxPooling2D  (None, 14, 14, 32)       0         \n",
            " )                                                               \n",
            "                                                                 \n",
            " conv2d_2 (Conv2D)           (None, 12, 12, 64)        18496     \n",
            "                                                                 \n",
            " conv2d_3 (Conv2D)           (None, 10, 10, 64)        36928     \n",
            "                                                                 \n",
            " max_pooling2d_1 (MaxPooling  (None, 5, 5, 64)         0         \n",
            " 2D)                                                             \n",
            "                                                                 \n",
            " dropout (Dropout)           (None, 5, 5, 64)          0         \n",
            "                                                                 \n",
            " flatten (Flatten)           (None, 1600)              0         \n",
            "                                                                 \n",
            " dense (Dense)               (None, 64)                102464    \n",
            "                                                                 \n",
            " dropout_1 (Dropout)         (None, 64)                0         \n",
            "                                                                 \n",
            " dense_1 (Dense)             (None, 2)                 130       \n",
            "                                                                 \n",
            "=================================================================\n",
            "Total params: 167,586\n",
            "Trainable params: 167,586\n",
            "Non-trainable params: 0\n",
            "_________________________________________________________________\n"
          ]
        }
      ]
    },
    {
      "cell_type": "code",
      "source": [
        "history = model.fit_generator(dataGen.flow(X_train, y_train, batch_size=50), \n",
        "                              steps_per_epoch=1000, epochs=2, validation_data=(X_val, y_val), shuffle=1)"
      ],
      "metadata": {
        "colab": {
          "base_uri": "https://localhost:8080/"
        },
        "id": "abMWlP-1dtez",
        "outputId": "09054396-6a37-46dd-fcf5-df0ca691c110"
      },
      "execution_count": 45,
      "outputs": [
        {
          "output_type": "stream",
          "name": "stdout",
          "text": [
            "Epoch 1/2\n",
            "   2/1000 [..............................] - ETA: 2:09 - loss: 0.6948 - accuracy: 0.4565 WARNING:tensorflow:Your input ran out of data; interrupting training. Make sure that your dataset or generator can generate at least `steps_per_epoch * epochs` batches (in this case, 2000 batches). You may need to use the repeat() function when building your dataset.\n",
            "1000/1000 [==============================] - 2s 417us/step - loss: 0.6948 - accuracy: 0.4565 - val_loss: 0.7031 - val_accuracy: 0.3913\n"
          ]
        }
      ]
    },
    {
      "cell_type": "code",
      "source": [
        ""
      ],
      "metadata": {
        "id": "kvLhYZ9ZeVvv"
      },
      "execution_count": null,
      "outputs": []
    }
  ]
}