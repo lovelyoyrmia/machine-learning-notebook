{
  "nbformat": 4,
  "nbformat_minor": 0,
  "metadata": {
    "colab": {
      "name": "data-analytics-learning.ipynb",
      "provenance": [],
      "authorship_tag": "ABX9TyNcqF6GAFTnJbbLfZY6rKEI",
      "include_colab_link": true
    },
    "kernelspec": {
      "name": "python3",
      "display_name": "Python 3"
    },
    "language_info": {
      "name": "python"
    }
  },
  "cells": [
    {
      "cell_type": "markdown",
      "metadata": {
        "id": "view-in-github",
        "colab_type": "text"
      },
      "source": [
        "<a href=\"https://colab.research.google.com/github/lovelyoyrmia/machine-learning-notebook/blob/main/data_analytics_learning.ipynb\" target=\"_parent\"><img src=\"https://colab.research.google.com/assets/colab-badge.svg\" alt=\"Open In Colab\"/></a>"
      ]
    },
    {
      "cell_type": "markdown",
      "source": [
        "## Create a DataFrame from an array"
      ],
      "metadata": {
        "id": "Wy4bu0sXT7AL"
      }
    },
    {
      "cell_type": "code",
      "execution_count": null,
      "metadata": {
        "id": "ltlCBSxbRzSj"
      },
      "outputs": [],
      "source": [
        "import pandas as pd\n",
        "import numpy as np"
      ]
    },
    {
      "cell_type": "code",
      "source": [
        "data = np.array([[1, 2], [3, 4], [6, 7]])"
      ],
      "metadata": {
        "id": "-HBvUWVmSi3Y"
      },
      "execution_count": null,
      "outputs": []
    },
    {
      "cell_type": "code",
      "source": [
        "df = pd.DataFrame(data, index=['row1', 'row2', 'row3'], columns=['col1', 'col2'])"
      ],
      "metadata": {
        "id": "GvJw_PPaTG5l"
      },
      "execution_count": null,
      "outputs": []
    },
    {
      "cell_type": "code",
      "source": [
        "df"
      ],
      "metadata": {
        "colab": {
          "base_uri": "https://localhost:8080/",
          "height": 143
        },
        "id": "Qf0-fjLuTVHY",
        "outputId": "fd660813-5b8e-443d-8feb-9c319fddc922"
      },
      "execution_count": null,
      "outputs": [
        {
          "output_type": "execute_result",
          "data": {
            "text/html": [
              "\n",
              "  <div id=\"df-265130bf-9bc5-403d-acbd-6ee97adfad25\">\n",
              "    <div class=\"colab-df-container\">\n",
              "      <div>\n",
              "<style scoped>\n",
              "    .dataframe tbody tr th:only-of-type {\n",
              "        vertical-align: middle;\n",
              "    }\n",
              "\n",
              "    .dataframe tbody tr th {\n",
              "        vertical-align: top;\n",
              "    }\n",
              "\n",
              "    .dataframe thead th {\n",
              "        text-align: right;\n",
              "    }\n",
              "</style>\n",
              "<table border=\"1\" class=\"dataframe\">\n",
              "  <thead>\n",
              "    <tr style=\"text-align: right;\">\n",
              "      <th></th>\n",
              "      <th>col1</th>\n",
              "      <th>col2</th>\n",
              "    </tr>\n",
              "  </thead>\n",
              "  <tbody>\n",
              "    <tr>\n",
              "      <th>row1</th>\n",
              "      <td>1</td>\n",
              "      <td>2</td>\n",
              "    </tr>\n",
              "    <tr>\n",
              "      <th>row2</th>\n",
              "      <td>3</td>\n",
              "      <td>4</td>\n",
              "    </tr>\n",
              "    <tr>\n",
              "      <th>row3</th>\n",
              "      <td>6</td>\n",
              "      <td>7</td>\n",
              "    </tr>\n",
              "  </tbody>\n",
              "</table>\n",
              "</div>\n",
              "      <button class=\"colab-df-convert\" onclick=\"convertToInteractive('df-265130bf-9bc5-403d-acbd-6ee97adfad25')\"\n",
              "              title=\"Convert this dataframe to an interactive table.\"\n",
              "              style=\"display:none;\">\n",
              "        \n",
              "  <svg xmlns=\"http://www.w3.org/2000/svg\" height=\"24px\"viewBox=\"0 0 24 24\"\n",
              "       width=\"24px\">\n",
              "    <path d=\"M0 0h24v24H0V0z\" fill=\"none\"/>\n",
              "    <path d=\"M18.56 5.44l.94 2.06.94-2.06 2.06-.94-2.06-.94-.94-2.06-.94 2.06-2.06.94zm-11 1L8.5 8.5l.94-2.06 2.06-.94-2.06-.94L8.5 2.5l-.94 2.06-2.06.94zm10 10l.94 2.06.94-2.06 2.06-.94-2.06-.94-.94-2.06-.94 2.06-2.06.94z\"/><path d=\"M17.41 7.96l-1.37-1.37c-.4-.4-.92-.59-1.43-.59-.52 0-1.04.2-1.43.59L10.3 9.45l-7.72 7.72c-.78.78-.78 2.05 0 2.83L4 21.41c.39.39.9.59 1.41.59.51 0 1.02-.2 1.41-.59l7.78-7.78 2.81-2.81c.8-.78.8-2.07 0-2.86zM5.41 20L4 18.59l7.72-7.72 1.47 1.35L5.41 20z\"/>\n",
              "  </svg>\n",
              "      </button>\n",
              "      \n",
              "  <style>\n",
              "    .colab-df-container {\n",
              "      display:flex;\n",
              "      flex-wrap:wrap;\n",
              "      gap: 12px;\n",
              "    }\n",
              "\n",
              "    .colab-df-convert {\n",
              "      background-color: #E8F0FE;\n",
              "      border: none;\n",
              "      border-radius: 50%;\n",
              "      cursor: pointer;\n",
              "      display: none;\n",
              "      fill: #1967D2;\n",
              "      height: 32px;\n",
              "      padding: 0 0 0 0;\n",
              "      width: 32px;\n",
              "    }\n",
              "\n",
              "    .colab-df-convert:hover {\n",
              "      background-color: #E2EBFA;\n",
              "      box-shadow: 0px 1px 2px rgba(60, 64, 67, 0.3), 0px 1px 3px 1px rgba(60, 64, 67, 0.15);\n",
              "      fill: #174EA6;\n",
              "    }\n",
              "\n",
              "    [theme=dark] .colab-df-convert {\n",
              "      background-color: #3B4455;\n",
              "      fill: #D2E3FC;\n",
              "    }\n",
              "\n",
              "    [theme=dark] .colab-df-convert:hover {\n",
              "      background-color: #434B5C;\n",
              "      box-shadow: 0px 1px 3px 1px rgba(0, 0, 0, 0.15);\n",
              "      filter: drop-shadow(0px 1px 2px rgba(0, 0, 0, 0.3));\n",
              "      fill: #FFFFFF;\n",
              "    }\n",
              "  </style>\n",
              "\n",
              "      <script>\n",
              "        const buttonEl =\n",
              "          document.querySelector('#df-265130bf-9bc5-403d-acbd-6ee97adfad25 button.colab-df-convert');\n",
              "        buttonEl.style.display =\n",
              "          google.colab.kernel.accessAllowed ? 'block' : 'none';\n",
              "\n",
              "        async function convertToInteractive(key) {\n",
              "          const element = document.querySelector('#df-265130bf-9bc5-403d-acbd-6ee97adfad25');\n",
              "          const dataTable =\n",
              "            await google.colab.kernel.invokeFunction('convertToInteractive',\n",
              "                                                     [key], {});\n",
              "          if (!dataTable) return;\n",
              "\n",
              "          const docLinkHtml = 'Like what you see? Visit the ' +\n",
              "            '<a target=\"_blank\" href=https://colab.research.google.com/notebooks/data_table.ipynb>data table notebook</a>'\n",
              "            + ' to learn more about interactive tables.';\n",
              "          element.innerHTML = '';\n",
              "          dataTable['output_type'] = 'display_data';\n",
              "          await google.colab.output.renderOutput(dataTable, element);\n",
              "          const docLink = document.createElement('div');\n",
              "          docLink.innerHTML = docLinkHtml;\n",
              "          element.appendChild(docLink);\n",
              "        }\n",
              "      </script>\n",
              "    </div>\n",
              "  </div>\n",
              "  "
            ],
            "text/plain": [
              "      col1  col2\n",
              "row1     1     2\n",
              "row2     3     4\n",
              "row3     6     7"
            ]
          },
          "metadata": {},
          "execution_count": 10
        }
      ]
    },
    {
      "cell_type": "markdown",
      "source": [
        "## Create a DataFrame from a dictionary"
      ],
      "metadata": {
        "id": "2dG7lYcgUAYC"
      }
    },
    {
      "cell_type": "code",
      "source": [
        "states = ['California', 'Texas', 'Florida', 'New York']\n",
        "population = [3242532, 3859389, 3098123, 3495867]"
      ],
      "metadata": {
        "id": "kKKuBeYpTrQx"
      },
      "execution_count": null,
      "outputs": []
    },
    {
      "cell_type": "code",
      "source": [
        "dict_states = {'States': states, 'Population': population}"
      ],
      "metadata": {
        "id": "10JgmPzGUZYy"
      },
      "execution_count": null,
      "outputs": []
    },
    {
      "cell_type": "code",
      "source": [
        "df_states = pd.DataFrame(dict_states)"
      ],
      "metadata": {
        "id": "sE85__muUocP"
      },
      "execution_count": null,
      "outputs": []
    },
    {
      "cell_type": "code",
      "source": [
        "df_states"
      ],
      "metadata": {
        "colab": {
          "base_uri": "https://localhost:8080/",
          "height": 175
        },
        "id": "p0PXZiURUtfq",
        "outputId": "5f9f3725-632a-42c1-c065-3a2a0b45f91b"
      },
      "execution_count": null,
      "outputs": [
        {
          "output_type": "execute_result",
          "data": {
            "text/html": [
              "\n",
              "  <div id=\"df-544c806d-dd3c-4658-a3d5-e006cbe1fbf7\">\n",
              "    <div class=\"colab-df-container\">\n",
              "      <div>\n",
              "<style scoped>\n",
              "    .dataframe tbody tr th:only-of-type {\n",
              "        vertical-align: middle;\n",
              "    }\n",
              "\n",
              "    .dataframe tbody tr th {\n",
              "        vertical-align: top;\n",
              "    }\n",
              "\n",
              "    .dataframe thead th {\n",
              "        text-align: right;\n",
              "    }\n",
              "</style>\n",
              "<table border=\"1\" class=\"dataframe\">\n",
              "  <thead>\n",
              "    <tr style=\"text-align: right;\">\n",
              "      <th></th>\n",
              "      <th>States</th>\n",
              "      <th>Population</th>\n",
              "    </tr>\n",
              "  </thead>\n",
              "  <tbody>\n",
              "    <tr>\n",
              "      <th>0</th>\n",
              "      <td>California</td>\n",
              "      <td>3242532</td>\n",
              "    </tr>\n",
              "    <tr>\n",
              "      <th>1</th>\n",
              "      <td>Texas</td>\n",
              "      <td>3859389</td>\n",
              "    </tr>\n",
              "    <tr>\n",
              "      <th>2</th>\n",
              "      <td>Florida</td>\n",
              "      <td>3098123</td>\n",
              "    </tr>\n",
              "    <tr>\n",
              "      <th>3</th>\n",
              "      <td>New York</td>\n",
              "      <td>3495867</td>\n",
              "    </tr>\n",
              "  </tbody>\n",
              "</table>\n",
              "</div>\n",
              "      <button class=\"colab-df-convert\" onclick=\"convertToInteractive('df-544c806d-dd3c-4658-a3d5-e006cbe1fbf7')\"\n",
              "              title=\"Convert this dataframe to an interactive table.\"\n",
              "              style=\"display:none;\">\n",
              "        \n",
              "  <svg xmlns=\"http://www.w3.org/2000/svg\" height=\"24px\"viewBox=\"0 0 24 24\"\n",
              "       width=\"24px\">\n",
              "    <path d=\"M0 0h24v24H0V0z\" fill=\"none\"/>\n",
              "    <path d=\"M18.56 5.44l.94 2.06.94-2.06 2.06-.94-2.06-.94-.94-2.06-.94 2.06-2.06.94zm-11 1L8.5 8.5l.94-2.06 2.06-.94-2.06-.94L8.5 2.5l-.94 2.06-2.06.94zm10 10l.94 2.06.94-2.06 2.06-.94-2.06-.94-.94-2.06-.94 2.06-2.06.94z\"/><path d=\"M17.41 7.96l-1.37-1.37c-.4-.4-.92-.59-1.43-.59-.52 0-1.04.2-1.43.59L10.3 9.45l-7.72 7.72c-.78.78-.78 2.05 0 2.83L4 21.41c.39.39.9.59 1.41.59.51 0 1.02-.2 1.41-.59l7.78-7.78 2.81-2.81c.8-.78.8-2.07 0-2.86zM5.41 20L4 18.59l7.72-7.72 1.47 1.35L5.41 20z\"/>\n",
              "  </svg>\n",
              "      </button>\n",
              "      \n",
              "  <style>\n",
              "    .colab-df-container {\n",
              "      display:flex;\n",
              "      flex-wrap:wrap;\n",
              "      gap: 12px;\n",
              "    }\n",
              "\n",
              "    .colab-df-convert {\n",
              "      background-color: #E8F0FE;\n",
              "      border: none;\n",
              "      border-radius: 50%;\n",
              "      cursor: pointer;\n",
              "      display: none;\n",
              "      fill: #1967D2;\n",
              "      height: 32px;\n",
              "      padding: 0 0 0 0;\n",
              "      width: 32px;\n",
              "    }\n",
              "\n",
              "    .colab-df-convert:hover {\n",
              "      background-color: #E2EBFA;\n",
              "      box-shadow: 0px 1px 2px rgba(60, 64, 67, 0.3), 0px 1px 3px 1px rgba(60, 64, 67, 0.15);\n",
              "      fill: #174EA6;\n",
              "    }\n",
              "\n",
              "    [theme=dark] .colab-df-convert {\n",
              "      background-color: #3B4455;\n",
              "      fill: #D2E3FC;\n",
              "    }\n",
              "\n",
              "    [theme=dark] .colab-df-convert:hover {\n",
              "      background-color: #434B5C;\n",
              "      box-shadow: 0px 1px 3px 1px rgba(0, 0, 0, 0.15);\n",
              "      filter: drop-shadow(0px 1px 2px rgba(0, 0, 0, 0.3));\n",
              "      fill: #FFFFFF;\n",
              "    }\n",
              "  </style>\n",
              "\n",
              "      <script>\n",
              "        const buttonEl =\n",
              "          document.querySelector('#df-544c806d-dd3c-4658-a3d5-e006cbe1fbf7 button.colab-df-convert');\n",
              "        buttonEl.style.display =\n",
              "          google.colab.kernel.accessAllowed ? 'block' : 'none';\n",
              "\n",
              "        async function convertToInteractive(key) {\n",
              "          const element = document.querySelector('#df-544c806d-dd3c-4658-a3d5-e006cbe1fbf7');\n",
              "          const dataTable =\n",
              "            await google.colab.kernel.invokeFunction('convertToInteractive',\n",
              "                                                     [key], {});\n",
              "          if (!dataTable) return;\n",
              "\n",
              "          const docLinkHtml = 'Like what you see? Visit the ' +\n",
              "            '<a target=\"_blank\" href=https://colab.research.google.com/notebooks/data_table.ipynb>data table notebook</a>'\n",
              "            + ' to learn more about interactive tables.';\n",
              "          element.innerHTML = '';\n",
              "          dataTable['output_type'] = 'display_data';\n",
              "          await google.colab.output.renderOutput(dataTable, element);\n",
              "          const docLink = document.createElement('div');\n",
              "          docLink.innerHTML = docLinkHtml;\n",
              "          element.appendChild(docLink);\n",
              "        }\n",
              "      </script>\n",
              "    </div>\n",
              "  </div>\n",
              "  "
            ],
            "text/plain": [
              "       States  Population\n",
              "0  California     3242532\n",
              "1       Texas     3859389\n",
              "2     Florida     3098123\n",
              "3    New York     3495867"
            ]
          },
          "metadata": {},
          "execution_count": 15
        }
      ]
    },
    {
      "cell_type": "markdown",
      "source": [
        "## Create a DataFrame from a csv"
      ],
      "metadata": {
        "id": "JrNCxTymVAPH"
      }
    },
    {
      "cell_type": "code",
      "source": [
        "from google.colab import files"
      ],
      "metadata": {
        "id": "Gm_NRbbuU7tl"
      },
      "execution_count": null,
      "outputs": []
    },
    {
      "cell_type": "code",
      "source": [
        "files.upload()"
      ],
      "metadata": {
        "id": "z22C4BTDWFIX",
        "colab": {
          "resources": {
            "http://localhost:8080/nbextensions/google.colab/files.js": {
              "data": "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",
              "ok": true,
              "headers": [
                [
                  "content-type",
                  "application/javascript"
                ]
              ],
              "status": 200,
              "status_text": ""
            }
          },
          "base_uri": "https://localhost:8080/",
          "height": 111
        },
        "outputId": "e38be8d2-93a8-4dff-b52c-59bf66f12157"
      },
      "execution_count": null,
      "outputs": [
        {
          "output_type": "display_data",
          "data": {
            "text/html": [
              "\n",
              "     <input type=\"file\" id=\"files-48a804ca-bcfc-483f-b728-8710fe6f8e4c\" name=\"files[]\" multiple disabled\n",
              "        style=\"border:none\" />\n",
              "     <output id=\"result-48a804ca-bcfc-483f-b728-8710fe6f8e4c\">\n",
              "      Upload widget is only available when the cell has been executed in the\n",
              "      current browser session. Please rerun this cell to enable.\n",
              "      </output>\n",
              "      <script src=\"/nbextensions/google.colab/files.js\"></script> "
            ],
            "text/plain": [
              "<IPython.core.display.HTML object>"
            ]
          },
          "metadata": {}
        },
        {
          "output_type": "stream",
          "name": "stdout",
          "text": [
            "Saving StudentsPerformance.csv to StudentsPerformance.csv\n"
          ]
        },
        {
          "output_type": "execute_result",
          "data": {
            "text/plain": [
              "{'StudentsPerformance.csv': b'\"gender\",\"race/ethnicity\",\"parental level of education\",\"lunch\",\"test preparation course\",\"math score\",\"reading score\",\"writing score\"\\n\"female\",\"group B\",\"bachelor\\'s degree\",\"standard\",\"none\",\"72\",\"72\",\"74\"\\n\"female\",\"group C\",\"some college\",\"standard\",\"completed\",\"69\",\"90\",\"88\"\\n\"female\",\"group B\",\"master\\'s degree\",\"standard\",\"none\",\"90\",\"95\",\"93\"\\n\"male\",\"group A\",\"associate\\'s degree\",\"free/reduced\",\"none\",\"47\",\"57\",\"44\"\\n\"male\",\"group C\",\"some college\",\"standard\",\"none\",\"76\",\"78\",\"75\"\\n\"female\",\"group B\",\"associate\\'s degree\",\"standard\",\"none\",\"71\",\"83\",\"78\"\\n\"female\",\"group B\",\"some college\",\"standard\",\"completed\",\"88\",\"95\",\"92\"\\n\"male\",\"group B\",\"some college\",\"free/reduced\",\"none\",\"40\",\"43\",\"39\"\\n\"male\",\"group D\",\"high school\",\"free/reduced\",\"completed\",\"64\",\"64\",\"67\"\\n\"female\",\"group B\",\"high school\",\"free/reduced\",\"none\",\"38\",\"60\",\"50\"\\n\"male\",\"group C\",\"associate\\'s degree\",\"standard\",\"none\",\"58\",\"54\",\"52\"\\n\"male\",\"group D\",\"associate\\'s degree\",\"standard\",\"none\",\"40\",\"52\",\"43\"\\n\"female\",\"group B\",\"high school\",\"standard\",\"none\",\"65\",\"81\",\"73\"\\n\"male\",\"group A\",\"some college\",\"standard\",\"completed\",\"78\",\"72\",\"70\"\\n\"female\",\"group A\",\"master\\'s degree\",\"standard\",\"none\",\"50\",\"53\",\"58\"\\n\"female\",\"group C\",\"some high school\",\"standard\",\"none\",\"69\",\"75\",\"78\"\\n\"male\",\"group C\",\"high school\",\"standard\",\"none\",\"88\",\"89\",\"86\"\\n\"female\",\"group B\",\"some high school\",\"free/reduced\",\"none\",\"18\",\"32\",\"28\"\\n\"male\",\"group C\",\"master\\'s degree\",\"free/reduced\",\"completed\",\"46\",\"42\",\"46\"\\n\"female\",\"group C\",\"associate\\'s degree\",\"free/reduced\",\"none\",\"54\",\"58\",\"61\"\\n\"male\",\"group D\",\"high school\",\"standard\",\"none\",\"66\",\"69\",\"63\"\\n\"female\",\"group B\",\"some college\",\"free/reduced\",\"completed\",\"65\",\"75\",\"70\"\\n\"male\",\"group D\",\"some college\",\"standard\",\"none\",\"44\",\"54\",\"53\"\\n\"female\",\"group C\",\"some high school\",\"standard\",\"none\",\"69\",\"73\",\"73\"\\n\"male\",\"group D\",\"bachelor\\'s degree\",\"free/reduced\",\"completed\",\"74\",\"71\",\"80\"\\n\"male\",\"group A\",\"master\\'s degree\",\"free/reduced\",\"none\",\"73\",\"74\",\"72\"\\n\"male\",\"group B\",\"some college\",\"standard\",\"none\",\"69\",\"54\",\"55\"\\n\"female\",\"group C\",\"bachelor\\'s degree\",\"standard\",\"none\",\"67\",\"69\",\"75\"\\n\"male\",\"group C\",\"high school\",\"standard\",\"none\",\"70\",\"70\",\"65\"\\n\"female\",\"group D\",\"master\\'s degree\",\"standard\",\"none\",\"62\",\"70\",\"75\"\\n\"female\",\"group D\",\"some college\",\"standard\",\"none\",\"69\",\"74\",\"74\"\\n\"female\",\"group B\",\"some college\",\"standard\",\"none\",\"63\",\"65\",\"61\"\\n\"female\",\"group E\",\"master\\'s degree\",\"free/reduced\",\"none\",\"56\",\"72\",\"65\"\\n\"male\",\"group D\",\"some college\",\"standard\",\"none\",\"40\",\"42\",\"38\"\\n\"male\",\"group E\",\"some college\",\"standard\",\"none\",\"97\",\"87\",\"82\"\\n\"male\",\"group E\",\"associate\\'s degree\",\"standard\",\"completed\",\"81\",\"81\",\"79\"\\n\"female\",\"group D\",\"associate\\'s degree\",\"standard\",\"none\",\"74\",\"81\",\"83\"\\n\"female\",\"group D\",\"some high school\",\"free/reduced\",\"none\",\"50\",\"64\",\"59\"\\n\"female\",\"group D\",\"associate\\'s degree\",\"free/reduced\",\"completed\",\"75\",\"90\",\"88\"\\n\"male\",\"group B\",\"associate\\'s degree\",\"free/reduced\",\"none\",\"57\",\"56\",\"57\"\\n\"male\",\"group C\",\"associate\\'s degree\",\"free/reduced\",\"none\",\"55\",\"61\",\"54\"\\n\"female\",\"group C\",\"associate\\'s degree\",\"standard\",\"none\",\"58\",\"73\",\"68\"\\n\"female\",\"group B\",\"associate\\'s degree\",\"standard\",\"none\",\"53\",\"58\",\"65\"\\n\"male\",\"group B\",\"some college\",\"free/reduced\",\"completed\",\"59\",\"65\",\"66\"\\n\"female\",\"group E\",\"associate\\'s degree\",\"free/reduced\",\"none\",\"50\",\"56\",\"54\"\\n\"male\",\"group B\",\"associate\\'s degree\",\"standard\",\"none\",\"65\",\"54\",\"57\"\\n\"female\",\"group A\",\"associate\\'s degree\",\"standard\",\"completed\",\"55\",\"65\",\"62\"\\n\"female\",\"group C\",\"high school\",\"standard\",\"none\",\"66\",\"71\",\"76\"\\n\"female\",\"group D\",\"associate\\'s degree\",\"free/reduced\",\"completed\",\"57\",\"74\",\"76\"\\n\"male\",\"group C\",\"high school\",\"standard\",\"completed\",\"82\",\"84\",\"82\"\\n\"male\",\"group E\",\"some college\",\"standard\",\"none\",\"53\",\"55\",\"48\"\\n\"male\",\"group E\",\"associate\\'s degree\",\"free/reduced\",\"completed\",\"77\",\"69\",\"68\"\\n\"male\",\"group C\",\"some college\",\"standard\",\"none\",\"53\",\"44\",\"42\"\\n\"male\",\"group D\",\"high school\",\"standard\",\"none\",\"88\",\"78\",\"75\"\\n\"female\",\"group C\",\"some high school\",\"free/reduced\",\"completed\",\"71\",\"84\",\"87\"\\n\"female\",\"group C\",\"high school\",\"free/reduced\",\"none\",\"33\",\"41\",\"43\"\\n\"female\",\"group E\",\"associate\\'s degree\",\"standard\",\"completed\",\"82\",\"85\",\"86\"\\n\"male\",\"group D\",\"associate\\'s degree\",\"standard\",\"none\",\"52\",\"55\",\"49\"\\n\"male\",\"group D\",\"some college\",\"standard\",\"completed\",\"58\",\"59\",\"58\"\\n\"female\",\"group C\",\"some high school\",\"free/reduced\",\"none\",\"0\",\"17\",\"10\"\\n\"male\",\"group E\",\"bachelor\\'s degree\",\"free/reduced\",\"completed\",\"79\",\"74\",\"72\"\\n\"male\",\"group A\",\"some high school\",\"free/reduced\",\"none\",\"39\",\"39\",\"34\"\\n\"male\",\"group A\",\"associate\\'s degree\",\"free/reduced\",\"none\",\"62\",\"61\",\"55\"\\n\"female\",\"group C\",\"associate\\'s degree\",\"standard\",\"none\",\"69\",\"80\",\"71\"\\n\"female\",\"group D\",\"some high school\",\"standard\",\"none\",\"59\",\"58\",\"59\"\\n\"male\",\"group B\",\"some high school\",\"standard\",\"none\",\"67\",\"64\",\"61\"\\n\"male\",\"group D\",\"some high school\",\"free/reduced\",\"none\",\"45\",\"37\",\"37\"\\n\"female\",\"group C\",\"some college\",\"standard\",\"none\",\"60\",\"72\",\"74\"\\n\"male\",\"group B\",\"associate\\'s degree\",\"free/reduced\",\"none\",\"61\",\"58\",\"56\"\\n\"female\",\"group C\",\"associate\\'s degree\",\"standard\",\"none\",\"39\",\"64\",\"57\"\\n\"female\",\"group D\",\"some college\",\"free/reduced\",\"completed\",\"58\",\"63\",\"73\"\\n\"male\",\"group D\",\"some college\",\"standard\",\"completed\",\"63\",\"55\",\"63\"\\n\"female\",\"group A\",\"associate\\'s degree\",\"free/reduced\",\"none\",\"41\",\"51\",\"48\"\\n\"male\",\"group C\",\"some high school\",\"free/reduced\",\"none\",\"61\",\"57\",\"56\"\\n\"male\",\"group C\",\"some high school\",\"standard\",\"none\",\"49\",\"49\",\"41\"\\n\"male\",\"group B\",\"associate\\'s degree\",\"free/reduced\",\"none\",\"44\",\"41\",\"38\"\\n\"male\",\"group E\",\"some high school\",\"standard\",\"none\",\"30\",\"26\",\"22\"\\n\"male\",\"group A\",\"bachelor\\'s degree\",\"standard\",\"completed\",\"80\",\"78\",\"81\"\\n\"female\",\"group D\",\"some high school\",\"standard\",\"completed\",\"61\",\"74\",\"72\"\\n\"female\",\"group E\",\"master\\'s degree\",\"standard\",\"none\",\"62\",\"68\",\"68\"\\n\"female\",\"group B\",\"associate\\'s degree\",\"standard\",\"none\",\"47\",\"49\",\"50\"\\n\"male\",\"group B\",\"high school\",\"free/reduced\",\"none\",\"49\",\"45\",\"45\"\\n\"male\",\"group A\",\"some college\",\"free/reduced\",\"completed\",\"50\",\"47\",\"54\"\\n\"male\",\"group E\",\"associate\\'s degree\",\"standard\",\"none\",\"72\",\"64\",\"63\"\\n\"male\",\"group D\",\"high school\",\"free/reduced\",\"none\",\"42\",\"39\",\"34\"\\n\"female\",\"group C\",\"some college\",\"standard\",\"none\",\"73\",\"80\",\"82\"\\n\"female\",\"group C\",\"some college\",\"free/reduced\",\"none\",\"76\",\"83\",\"88\"\\n\"female\",\"group D\",\"associate\\'s degree\",\"standard\",\"none\",\"71\",\"71\",\"74\"\\n\"female\",\"group A\",\"some college\",\"standard\",\"none\",\"58\",\"70\",\"67\"\\n\"female\",\"group D\",\"some high school\",\"standard\",\"none\",\"73\",\"86\",\"82\"\\n\"female\",\"group C\",\"bachelor\\'s degree\",\"standard\",\"none\",\"65\",\"72\",\"74\"\\n\"male\",\"group C\",\"high school\",\"free/reduced\",\"none\",\"27\",\"34\",\"36\"\\n\"male\",\"group C\",\"high school\",\"standard\",\"none\",\"71\",\"79\",\"71\"\\n\"male\",\"group C\",\"associate\\'s degree\",\"free/reduced\",\"completed\",\"43\",\"45\",\"50\"\\n\"female\",\"group B\",\"some college\",\"standard\",\"none\",\"79\",\"86\",\"92\"\\n\"male\",\"group C\",\"associate\\'s degree\",\"free/reduced\",\"completed\",\"78\",\"81\",\"82\"\\n\"male\",\"group B\",\"some high school\",\"standard\",\"completed\",\"65\",\"66\",\"62\"\\n\"female\",\"group E\",\"some college\",\"standard\",\"completed\",\"63\",\"72\",\"70\"\\n\"female\",\"group D\",\"some college\",\"free/reduced\",\"none\",\"58\",\"67\",\"62\"\\n\"female\",\"group D\",\"bachelor\\'s degree\",\"standard\",\"none\",\"65\",\"67\",\"62\"\\n\"male\",\"group B\",\"some college\",\"standard\",\"none\",\"79\",\"67\",\"67\"\\n\"male\",\"group D\",\"bachelor\\'s degree\",\"standard\",\"completed\",\"68\",\"74\",\"74\"\\n\"female\",\"group D\",\"associate\\'s degree\",\"standard\",\"none\",\"85\",\"91\",\"89\"\\n\"male\",\"group B\",\"high school\",\"standard\",\"completed\",\"60\",\"44\",\"47\"\\n\"male\",\"group C\",\"some college\",\"standard\",\"completed\",\"98\",\"86\",\"90\"\\n\"female\",\"group C\",\"some college\",\"standard\",\"none\",\"58\",\"67\",\"72\"\\n\"female\",\"group D\",\"master\\'s degree\",\"standard\",\"none\",\"87\",\"100\",\"100\"\\n\"male\",\"group E\",\"associate\\'s degree\",\"standard\",\"completed\",\"66\",\"63\",\"64\"\\n\"female\",\"group B\",\"associate\\'s degree\",\"free/reduced\",\"none\",\"52\",\"76\",\"70\"\\n\"female\",\"group B\",\"some high school\",\"standard\",\"none\",\"70\",\"64\",\"72\"\\n\"female\",\"group D\",\"associate\\'s degree\",\"free/reduced\",\"completed\",\"77\",\"89\",\"98\"\\n\"male\",\"group C\",\"high school\",\"standard\",\"none\",\"62\",\"55\",\"49\"\\n\"male\",\"group A\",\"associate\\'s degree\",\"standard\",\"none\",\"54\",\"53\",\"47\"\\n\"female\",\"group D\",\"some college\",\"standard\",\"none\",\"51\",\"58\",\"54\"\\n\"female\",\"group E\",\"bachelor\\'s degree\",\"standard\",\"completed\",\"99\",\"100\",\"100\"\\n\"male\",\"group C\",\"high school\",\"standard\",\"none\",\"84\",\"77\",\"74\"\\n\"female\",\"group B\",\"bachelor\\'s degree\",\"free/reduced\",\"none\",\"75\",\"85\",\"82\"\\n\"female\",\"group D\",\"bachelor\\'s degree\",\"standard\",\"none\",\"78\",\"82\",\"79\"\\n\"female\",\"group D\",\"some high school\",\"standard\",\"none\",\"51\",\"63\",\"61\"\\n\"female\",\"group C\",\"some college\",\"standard\",\"none\",\"55\",\"69\",\"65\"\\n\"female\",\"group C\",\"bachelor\\'s degree\",\"standard\",\"completed\",\"79\",\"92\",\"89\"\\n\"male\",\"group B\",\"associate\\'s degree\",\"standard\",\"completed\",\"91\",\"89\",\"92\"\\n\"female\",\"group C\",\"some college\",\"standard\",\"completed\",\"88\",\"93\",\"93\"\\n\"male\",\"group D\",\"high school\",\"free/reduced\",\"none\",\"63\",\"57\",\"56\"\\n\"male\",\"group E\",\"some college\",\"standard\",\"none\",\"83\",\"80\",\"73\"\\n\"female\",\"group B\",\"high school\",\"standard\",\"none\",\"87\",\"95\",\"86\"\\n\"male\",\"group B\",\"some high school\",\"standard\",\"none\",\"72\",\"68\",\"67\"\\n\"male\",\"group D\",\"some college\",\"standard\",\"completed\",\"65\",\"77\",\"74\"\\n\"male\",\"group D\",\"master\\'s degree\",\"standard\",\"none\",\"82\",\"82\",\"74\"\\n\"female\",\"group A\",\"bachelor\\'s degree\",\"standard\",\"none\",\"51\",\"49\",\"51\"\\n\"male\",\"group D\",\"master\\'s degree\",\"standard\",\"none\",\"89\",\"84\",\"82\"\\n\"male\",\"group C\",\"some high school\",\"free/reduced\",\"completed\",\"53\",\"37\",\"40\"\\n\"male\",\"group E\",\"some college\",\"free/reduced\",\"completed\",\"87\",\"74\",\"70\"\\n\"female\",\"group C\",\"some college\",\"standard\",\"completed\",\"75\",\"81\",\"84\"\\n\"male\",\"group D\",\"bachelor\\'s degree\",\"free/reduced\",\"completed\",\"74\",\"79\",\"75\"\\n\"male\",\"group C\",\"bachelor\\'s degree\",\"standard\",\"none\",\"58\",\"55\",\"48\"\\n\"male\",\"group B\",\"some high school\",\"standard\",\"completed\",\"51\",\"54\",\"41\"\\n\"male\",\"group E\",\"high school\",\"standard\",\"none\",\"70\",\"55\",\"56\"\\n\"female\",\"group C\",\"associate\\'s degree\",\"standard\",\"none\",\"59\",\"66\",\"67\"\\n\"male\",\"group D\",\"some college\",\"standard\",\"completed\",\"71\",\"61\",\"69\"\\n\"female\",\"group D\",\"some high school\",\"standard\",\"none\",\"76\",\"72\",\"71\"\\n\"female\",\"group C\",\"some college\",\"free/reduced\",\"none\",\"59\",\"62\",\"64\"\\n\"female\",\"group E\",\"some college\",\"free/reduced\",\"completed\",\"42\",\"55\",\"54\"\\n\"male\",\"group A\",\"high school\",\"standard\",\"none\",\"57\",\"43\",\"47\"\\n\"male\",\"group D\",\"some college\",\"standard\",\"none\",\"88\",\"73\",\"78\"\\n\"female\",\"group C\",\"some college\",\"free/reduced\",\"none\",\"22\",\"39\",\"33\"\\n\"male\",\"group B\",\"some high school\",\"standard\",\"none\",\"88\",\"84\",\"75\"\\n\"male\",\"group C\",\"associate\\'s degree\",\"free/reduced\",\"none\",\"73\",\"68\",\"66\"\\n\"female\",\"group D\",\"bachelor\\'s degree\",\"standard\",\"completed\",\"68\",\"75\",\"81\"\\n\"male\",\"group E\",\"associate\\'s degree\",\"free/reduced\",\"completed\",\"100\",\"100\",\"93\"\\n\"male\",\"group A\",\"some high school\",\"standard\",\"completed\",\"62\",\"67\",\"69\"\\n\"male\",\"group A\",\"bachelor\\'s degree\",\"standard\",\"none\",\"77\",\"67\",\"68\"\\n\"female\",\"group B\",\"associate\\'s degree\",\"standard\",\"completed\",\"59\",\"70\",\"66\"\\n\"male\",\"group D\",\"bachelor\\'s degree\",\"standard\",\"none\",\"54\",\"49\",\"47\"\\n\"male\",\"group D\",\"some high school\",\"standard\",\"none\",\"62\",\"67\",\"61\"\\n\"female\",\"group C\",\"some college\",\"standard\",\"completed\",\"70\",\"89\",\"88\"\\n\"female\",\"group E\",\"high school\",\"free/reduced\",\"completed\",\"66\",\"74\",\"78\"\\n\"male\",\"group B\",\"some college\",\"free/reduced\",\"none\",\"60\",\"60\",\"60\"\\n\"female\",\"group B\",\"associate\\'s degree\",\"standard\",\"completed\",\"61\",\"86\",\"87\"\\n\"male\",\"group D\",\"associate\\'s degree\",\"free/reduced\",\"none\",\"66\",\"62\",\"64\"\\n\"male\",\"group B\",\"associate\\'s degree\",\"free/reduced\",\"completed\",\"82\",\"78\",\"74\"\\n\"female\",\"group E\",\"some college\",\"free/reduced\",\"completed\",\"75\",\"88\",\"85\"\\n\"male\",\"group B\",\"master\\'s degree\",\"free/reduced\",\"none\",\"49\",\"53\",\"52\"\\n\"male\",\"group C\",\"high school\",\"standard\",\"none\",\"52\",\"53\",\"49\"\\n\"female\",\"group E\",\"master\\'s degree\",\"standard\",\"none\",\"81\",\"92\",\"91\"\\n\"female\",\"group C\",\"bachelor\\'s degree\",\"standard\",\"completed\",\"96\",\"100\",\"100\"\\n\"male\",\"group C\",\"high school\",\"free/reduced\",\"completed\",\"53\",\"51\",\"51\"\\n\"female\",\"group B\",\"master\\'s degree\",\"free/reduced\",\"completed\",\"58\",\"76\",\"78\"\\n\"female\",\"group B\",\"high school\",\"standard\",\"completed\",\"68\",\"83\",\"78\"\\n\"female\",\"group C\",\"some college\",\"free/reduced\",\"completed\",\"67\",\"75\",\"70\"\\n\"male\",\"group A\",\"high school\",\"standard\",\"completed\",\"72\",\"73\",\"74\"\\n\"male\",\"group E\",\"some high school\",\"standard\",\"none\",\"94\",\"88\",\"78\"\\n\"female\",\"group D\",\"some college\",\"standard\",\"none\",\"79\",\"86\",\"81\"\\n\"female\",\"group C\",\"associate\\'s degree\",\"standard\",\"none\",\"63\",\"67\",\"70\"\\n\"female\",\"group C\",\"bachelor\\'s degree\",\"free/reduced\",\"completed\",\"43\",\"51\",\"54\"\\n\"female\",\"group C\",\"master\\'s degree\",\"standard\",\"completed\",\"81\",\"91\",\"87\"\\n\"female\",\"group B\",\"high school\",\"free/reduced\",\"completed\",\"46\",\"54\",\"58\"\\n\"female\",\"group C\",\"associate\\'s degree\",\"standard\",\"completed\",\"71\",\"77\",\"77\"\\n\"female\",\"group B\",\"master\\'s degree\",\"free/reduced\",\"completed\",\"52\",\"70\",\"62\"\\n\"female\",\"group D\",\"some high school\",\"standard\",\"completed\",\"97\",\"100\",\"100\"\\n\"male\",\"group C\",\"master\\'s degree\",\"free/reduced\",\"completed\",\"62\",\"68\",\"75\"\\n\"female\",\"group C\",\"some college\",\"free/reduced\",\"none\",\"46\",\"64\",\"66\"\\n\"female\",\"group E\",\"high school\",\"standard\",\"none\",\"50\",\"50\",\"47\"\\n\"female\",\"group D\",\"associate\\'s degree\",\"standard\",\"none\",\"65\",\"69\",\"70\"\\n\"male\",\"group C\",\"some high school\",\"free/reduced\",\"completed\",\"45\",\"52\",\"49\"\\n\"male\",\"group C\",\"associate\\'s degree\",\"free/reduced\",\"completed\",\"65\",\"67\",\"65\"\\n\"male\",\"group E\",\"high school\",\"standard\",\"none\",\"80\",\"76\",\"65\"\\n\"male\",\"group D\",\"some high school\",\"standard\",\"completed\",\"62\",\"66\",\"68\"\\n\"male\",\"group B\",\"some high school\",\"free/reduced\",\"none\",\"48\",\"52\",\"45\"\\n\"female\",\"group C\",\"bachelor\\'s degree\",\"standard\",\"none\",\"77\",\"88\",\"87\"\\n\"female\",\"group E\",\"associate\\'s degree\",\"standard\",\"none\",\"66\",\"65\",\"69\"\\n\"male\",\"group D\",\"some college\",\"standard\",\"completed\",\"76\",\"83\",\"79\"\\n\"female\",\"group B\",\"some high school\",\"standard\",\"none\",\"62\",\"64\",\"66\"\\n\"male\",\"group D\",\"some college\",\"standard\",\"completed\",\"77\",\"62\",\"62\"\\n\"female\",\"group C\",\"master\\'s degree\",\"standard\",\"completed\",\"69\",\"84\",\"85\"\\n\"male\",\"group D\",\"associate\\'s degree\",\"standard\",\"none\",\"61\",\"55\",\"52\"\\n\"male\",\"group C\",\"some high school\",\"free/reduced\",\"completed\",\"59\",\"69\",\"65\"\\n\"male\",\"group E\",\"high school\",\"free/reduced\",\"none\",\"55\",\"56\",\"51\"\\n\"female\",\"group B\",\"some college\",\"free/reduced\",\"none\",\"45\",\"53\",\"55\"\\n\"female\",\"group B\",\"bachelor\\'s degree\",\"free/reduced\",\"none\",\"78\",\"79\",\"76\"\\n\"female\",\"group C\",\"associate\\'s degree\",\"standard\",\"completed\",\"67\",\"84\",\"86\"\\n\"female\",\"group D\",\"some college\",\"free/reduced\",\"none\",\"65\",\"81\",\"77\"\\n\"male\",\"group C\",\"associate\\'s degree\",\"standard\",\"none\",\"69\",\"77\",\"69\"\\n\"female\",\"group B\",\"associate\\'s degree\",\"standard\",\"none\",\"57\",\"69\",\"68\"\\n\"male\",\"group C\",\"some college\",\"standard\",\"none\",\"59\",\"41\",\"42\"\\n\"male\",\"group D\",\"some high school\",\"standard\",\"completed\",\"74\",\"71\",\"78\"\\n\"male\",\"group E\",\"bachelor\\'s degree\",\"standard\",\"none\",\"82\",\"62\",\"62\"\\n\"male\",\"group E\",\"high school\",\"standard\",\"completed\",\"81\",\"80\",\"76\"\\n\"female\",\"group B\",\"some college\",\"free/reduced\",\"none\",\"74\",\"81\",\"76\"\\n\"female\",\"group B\",\"some college\",\"free/reduced\",\"none\",\"58\",\"61\",\"66\"\\n\"male\",\"group D\",\"some high school\",\"free/reduced\",\"completed\",\"80\",\"79\",\"79\"\\n\"male\",\"group C\",\"some college\",\"free/reduced\",\"none\",\"35\",\"28\",\"27\"\\n\"female\",\"group C\",\"high school\",\"free/reduced\",\"none\",\"42\",\"62\",\"60\"\\n\"male\",\"group C\",\"associate\\'s degree\",\"free/reduced\",\"completed\",\"60\",\"51\",\"56\"\\n\"male\",\"group E\",\"high school\",\"standard\",\"completed\",\"87\",\"91\",\"81\"\\n\"male\",\"group B\",\"some high school\",\"standard\",\"completed\",\"84\",\"83\",\"75\"\\n\"female\",\"group E\",\"associate\\'s degree\",\"free/reduced\",\"completed\",\"83\",\"86\",\"88\"\\n\"female\",\"group C\",\"high school\",\"free/reduced\",\"none\",\"34\",\"42\",\"39\"\\n\"male\",\"group B\",\"high school\",\"free/reduced\",\"none\",\"66\",\"77\",\"70\"\\n\"male\",\"group B\",\"some high school\",\"standard\",\"completed\",\"61\",\"56\",\"56\"\\n\"female\",\"group D\",\"high school\",\"standard\",\"completed\",\"56\",\"68\",\"74\"\\n\"male\",\"group B\",\"associate\\'s degree\",\"standard\",\"none\",\"87\",\"85\",\"73\"\\n\"female\",\"group C\",\"some high school\",\"free/reduced\",\"none\",\"55\",\"65\",\"62\"\\n\"male\",\"group D\",\"some high school\",\"standard\",\"none\",\"86\",\"80\",\"75\"\\n\"female\",\"group B\",\"associate\\'s degree\",\"standard\",\"completed\",\"52\",\"66\",\"73\"\\n\"female\",\"group E\",\"master\\'s degree\",\"free/reduced\",\"none\",\"45\",\"56\",\"54\"\\n\"female\",\"group C\",\"some college\",\"standard\",\"none\",\"72\",\"72\",\"71\"\\n\"male\",\"group D\",\"high school\",\"standard\",\"none\",\"57\",\"50\",\"54\"\\n\"male\",\"group A\",\"some high school\",\"free/reduced\",\"none\",\"68\",\"72\",\"64\"\\n\"female\",\"group C\",\"some college\",\"standard\",\"completed\",\"88\",\"95\",\"94\"\\n\"male\",\"group D\",\"some college\",\"standard\",\"none\",\"76\",\"64\",\"66\"\\n\"male\",\"group C\",\"associate\\'s degree\",\"standard\",\"none\",\"46\",\"43\",\"42\"\\n\"female\",\"group B\",\"bachelor\\'s degree\",\"standard\",\"none\",\"67\",\"86\",\"83\"\\n\"male\",\"group E\",\"some high school\",\"standard\",\"none\",\"92\",\"87\",\"78\"\\n\"male\",\"group C\",\"bachelor\\'s degree\",\"standard\",\"completed\",\"83\",\"82\",\"84\"\\n\"male\",\"group D\",\"associate\\'s degree\",\"standard\",\"none\",\"80\",\"75\",\"77\"\\n\"male\",\"group D\",\"bachelor\\'s degree\",\"free/reduced\",\"none\",\"63\",\"66\",\"67\"\\n\"female\",\"group D\",\"some high school\",\"standard\",\"completed\",\"64\",\"60\",\"74\"\\n\"male\",\"group B\",\"some college\",\"standard\",\"none\",\"54\",\"52\",\"51\"\\n\"male\",\"group C\",\"associate\\'s degree\",\"standard\",\"none\",\"84\",\"80\",\"80\"\\n\"male\",\"group D\",\"high school\",\"free/reduced\",\"completed\",\"73\",\"68\",\"66\"\\n\"female\",\"group E\",\"bachelor\\'s degree\",\"standard\",\"none\",\"80\",\"83\",\"83\"\\n\"female\",\"group D\",\"high school\",\"standard\",\"none\",\"56\",\"52\",\"55\"\\n\"male\",\"group E\",\"some college\",\"standard\",\"none\",\"59\",\"51\",\"43\"\\n\"male\",\"group D\",\"some high school\",\"standard\",\"none\",\"75\",\"74\",\"69\"\\n\"male\",\"group C\",\"associate\\'s degree\",\"standard\",\"none\",\"85\",\"76\",\"71\"\\n\"male\",\"group E\",\"associate\\'s degree\",\"standard\",\"none\",\"89\",\"76\",\"74\"\\n\"female\",\"group B\",\"high school\",\"standard\",\"completed\",\"58\",\"70\",\"68\"\\n\"female\",\"group B\",\"high school\",\"standard\",\"none\",\"65\",\"64\",\"62\"\\n\"male\",\"group C\",\"high school\",\"standard\",\"none\",\"68\",\"60\",\"53\"\\n\"male\",\"group A\",\"some high school\",\"standard\",\"completed\",\"47\",\"49\",\"49\"\\n\"female\",\"group D\",\"some college\",\"free/reduced\",\"none\",\"71\",\"83\",\"83\"\\n\"female\",\"group B\",\"some high school\",\"standard\",\"completed\",\"60\",\"70\",\"70\"\\n\"male\",\"group D\",\"master\\'s degree\",\"standard\",\"none\",\"80\",\"80\",\"72\"\\n\"male\",\"group D\",\"high school\",\"standard\",\"none\",\"54\",\"52\",\"52\"\\n\"female\",\"group E\",\"some college\",\"standard\",\"none\",\"62\",\"73\",\"70\"\\n\"female\",\"group C\",\"associate\\'s degree\",\"free/reduced\",\"none\",\"64\",\"73\",\"68\"\\n\"male\",\"group C\",\"associate\\'s degree\",\"standard\",\"completed\",\"78\",\"77\",\"77\"\\n\"female\",\"group B\",\"some college\",\"standard\",\"none\",\"70\",\"75\",\"78\"\\n\"female\",\"group C\",\"master\\'s degree\",\"free/reduced\",\"completed\",\"65\",\"81\",\"81\"\\n\"female\",\"group C\",\"some high school\",\"free/reduced\",\"completed\",\"64\",\"79\",\"77\"\\n\"male\",\"group C\",\"some college\",\"standard\",\"completed\",\"79\",\"79\",\"78\"\\n\"female\",\"group C\",\"some high school\",\"free/reduced\",\"none\",\"44\",\"50\",\"51\"\\n\"female\",\"group E\",\"high school\",\"standard\",\"none\",\"99\",\"93\",\"90\"\\n\"male\",\"group D\",\"high school\",\"standard\",\"none\",\"76\",\"73\",\"68\"\\n\"male\",\"group D\",\"some high school\",\"free/reduced\",\"none\",\"59\",\"42\",\"41\"\\n\"female\",\"group C\",\"bachelor\\'s degree\",\"standard\",\"none\",\"63\",\"75\",\"81\"\\n\"female\",\"group D\",\"high school\",\"standard\",\"none\",\"69\",\"72\",\"77\"\\n\"female\",\"group D\",\"associate\\'s degree\",\"standard\",\"completed\",\"88\",\"92\",\"95\"\\n\"female\",\"group E\",\"some college\",\"free/reduced\",\"none\",\"71\",\"76\",\"70\"\\n\"male\",\"group C\",\"bachelor\\'s degree\",\"standard\",\"none\",\"69\",\"63\",\"61\"\\n\"male\",\"group C\",\"some college\",\"standard\",\"none\",\"58\",\"49\",\"42\"\\n\"female\",\"group D\",\"associate\\'s degree\",\"free/reduced\",\"none\",\"47\",\"53\",\"58\"\\n\"female\",\"group D\",\"some college\",\"standard\",\"none\",\"65\",\"70\",\"71\"\\n\"male\",\"group B\",\"some college\",\"standard\",\"completed\",\"88\",\"85\",\"76\"\\n\"male\",\"group C\",\"bachelor\\'s degree\",\"standard\",\"none\",\"83\",\"78\",\"73\"\\n\"female\",\"group C\",\"some high school\",\"standard\",\"completed\",\"85\",\"92\",\"93\"\\n\"female\",\"group E\",\"high school\",\"standard\",\"completed\",\"59\",\"63\",\"75\"\\n\"female\",\"group C\",\"some high school\",\"free/reduced\",\"none\",\"65\",\"86\",\"80\"\\n\"male\",\"group B\",\"bachelor\\'s degree\",\"free/reduced\",\"none\",\"73\",\"56\",\"57\"\\n\"male\",\"group D\",\"high school\",\"standard\",\"none\",\"53\",\"52\",\"42\"\\n\"male\",\"group D\",\"high school\",\"standard\",\"none\",\"45\",\"48\",\"46\"\\n\"female\",\"group D\",\"bachelor\\'s degree\",\"free/reduced\",\"none\",\"73\",\"79\",\"84\"\\n\"female\",\"group D\",\"some college\",\"free/reduced\",\"completed\",\"70\",\"78\",\"78\"\\n\"female\",\"group B\",\"some high school\",\"standard\",\"none\",\"37\",\"46\",\"46\"\\n\"male\",\"group B\",\"associate\\'s degree\",\"standard\",\"completed\",\"81\",\"82\",\"82\"\\n\"male\",\"group E\",\"associate\\'s degree\",\"standard\",\"completed\",\"97\",\"82\",\"88\"\\n\"female\",\"group B\",\"some high school\",\"standard\",\"none\",\"67\",\"89\",\"82\"\\n\"male\",\"group B\",\"bachelor\\'s degree\",\"free/reduced\",\"none\",\"88\",\"75\",\"76\"\\n\"male\",\"group E\",\"some high school\",\"standard\",\"completed\",\"77\",\"76\",\"77\"\\n\"male\",\"group C\",\"associate\\'s degree\",\"standard\",\"none\",\"76\",\"70\",\"68\"\\n\"male\",\"group D\",\"some high school\",\"standard\",\"none\",\"86\",\"73\",\"70\"\\n\"male\",\"group C\",\"some high school\",\"standard\",\"completed\",\"63\",\"60\",\"57\"\\n\"female\",\"group E\",\"bachelor\\'s degree\",\"standard\",\"none\",\"65\",\"73\",\"75\"\\n\"male\",\"group D\",\"high school\",\"free/reduced\",\"completed\",\"78\",\"77\",\"80\"\\n\"male\",\"group B\",\"associate\\'s degree\",\"free/reduced\",\"none\",\"67\",\"62\",\"60\"\\n\"male\",\"group A\",\"some high school\",\"standard\",\"completed\",\"46\",\"41\",\"43\"\\n\"male\",\"group E\",\"associate\\'s degree\",\"standard\",\"completed\",\"71\",\"74\",\"68\"\\n\"male\",\"group C\",\"high school\",\"free/reduced\",\"completed\",\"40\",\"46\",\"50\"\\n\"male\",\"group D\",\"associate\\'s degree\",\"free/reduced\",\"none\",\"90\",\"87\",\"75\"\\n\"male\",\"group A\",\"some college\",\"free/reduced\",\"completed\",\"81\",\"78\",\"81\"\\n\"male\",\"group D\",\"some high school\",\"free/reduced\",\"none\",\"56\",\"54\",\"52\"\\n\"female\",\"group C\",\"associate\\'s degree\",\"standard\",\"completed\",\"67\",\"84\",\"81\"\\n\"male\",\"group B\",\"associate\\'s degree\",\"standard\",\"none\",\"80\",\"76\",\"64\"\\n\"female\",\"group C\",\"associate\\'s degree\",\"standard\",\"completed\",\"74\",\"75\",\"83\"\\n\"male\",\"group A\",\"some college\",\"standard\",\"none\",\"69\",\"67\",\"69\"\\n\"male\",\"group E\",\"some college\",\"standard\",\"completed\",\"99\",\"87\",\"81\"\\n\"male\",\"group C\",\"some high school\",\"standard\",\"none\",\"51\",\"52\",\"44\"\\n\"female\",\"group B\",\"associate\\'s degree\",\"free/reduced\",\"none\",\"53\",\"71\",\"67\"\\n\"female\",\"group D\",\"high school\",\"free/reduced\",\"none\",\"49\",\"57\",\"52\"\\n\"female\",\"group B\",\"associate\\'s degree\",\"standard\",\"none\",\"73\",\"76\",\"80\"\\n\"male\",\"group B\",\"bachelor\\'s degree\",\"standard\",\"none\",\"66\",\"60\",\"57\"\\n\"male\",\"group D\",\"bachelor\\'s degree\",\"standard\",\"completed\",\"67\",\"61\",\"68\"\\n\"female\",\"group C\",\"associate\\'s degree\",\"free/reduced\",\"completed\",\"68\",\"67\",\"69\"\\n\"female\",\"group C\",\"bachelor\\'s degree\",\"standard\",\"completed\",\"59\",\"64\",\"75\"\\n\"male\",\"group C\",\"high school\",\"standard\",\"none\",\"71\",\"66\",\"65\"\\n\"female\",\"group D\",\"master\\'s degree\",\"standard\",\"completed\",\"77\",\"82\",\"91\"\\n\"male\",\"group C\",\"associate\\'s degree\",\"standard\",\"none\",\"83\",\"72\",\"78\"\\n\"male\",\"group B\",\"bachelor\\'s degree\",\"standard\",\"none\",\"63\",\"71\",\"69\"\\n\"female\",\"group D\",\"associate\\'s degree\",\"free/reduced\",\"none\",\"56\",\"65\",\"63\"\\n\"female\",\"group C\",\"high school\",\"free/reduced\",\"completed\",\"67\",\"79\",\"84\"\\n\"female\",\"group E\",\"high school\",\"standard\",\"none\",\"75\",\"86\",\"79\"\\n\"female\",\"group C\",\"some college\",\"standard\",\"none\",\"71\",\"81\",\"80\"\\n\"female\",\"group C\",\"some high school\",\"free/reduced\",\"none\",\"43\",\"53\",\"53\"\\n\"female\",\"group C\",\"high school\",\"free/reduced\",\"none\",\"41\",\"46\",\"43\"\\n\"female\",\"group C\",\"some college\",\"standard\",\"none\",\"82\",\"90\",\"94\"\\n\"male\",\"group C\",\"some college\",\"standard\",\"none\",\"61\",\"61\",\"62\"\\n\"male\",\"group A\",\"some college\",\"free/reduced\",\"none\",\"28\",\"23\",\"19\"\\n\"male\",\"group C\",\"associate\\'s degree\",\"standard\",\"completed\",\"82\",\"75\",\"77\"\\n\"female\",\"group B\",\"some high school\",\"standard\",\"none\",\"41\",\"55\",\"51\"\\n\"male\",\"group C\",\"high school\",\"standard\",\"none\",\"71\",\"60\",\"61\"\\n\"male\",\"group C\",\"associate\\'s degree\",\"standard\",\"none\",\"47\",\"37\",\"35\"\\n\"male\",\"group E\",\"associate\\'s degree\",\"standard\",\"completed\",\"62\",\"56\",\"53\"\\n\"male\",\"group B\",\"associate\\'s degree\",\"standard\",\"none\",\"90\",\"78\",\"81\"\\n\"female\",\"group C\",\"bachelor\\'s degree\",\"standard\",\"none\",\"83\",\"93\",\"95\"\\n\"female\",\"group B\",\"some college\",\"free/reduced\",\"none\",\"61\",\"68\",\"66\"\\n\"male\",\"group D\",\"some high school\",\"standard\",\"completed\",\"76\",\"70\",\"69\"\\n\"male\",\"group C\",\"associate\\'s degree\",\"standard\",\"none\",\"49\",\"51\",\"43\"\\n\"female\",\"group B\",\"some high school\",\"free/reduced\",\"none\",\"24\",\"38\",\"27\"\\n\"female\",\"group D\",\"some high school\",\"free/reduced\",\"completed\",\"35\",\"55\",\"60\"\\n\"male\",\"group C\",\"high school\",\"free/reduced\",\"none\",\"58\",\"61\",\"52\"\\n\"female\",\"group C\",\"high school\",\"standard\",\"none\",\"61\",\"73\",\"63\"\\n\"female\",\"group B\",\"high school\",\"standard\",\"completed\",\"69\",\"76\",\"74\"\\n\"male\",\"group D\",\"associate\\'s degree\",\"standard\",\"completed\",\"67\",\"72\",\"67\"\\n\"male\",\"group D\",\"some college\",\"standard\",\"none\",\"79\",\"73\",\"67\"\\n\"female\",\"group C\",\"high school\",\"standard\",\"none\",\"72\",\"80\",\"75\"\\n\"male\",\"group B\",\"some college\",\"standard\",\"none\",\"62\",\"61\",\"57\"\\n\"female\",\"group C\",\"bachelor\\'s degree\",\"standard\",\"completed\",\"77\",\"94\",\"95\"\\n\"male\",\"group D\",\"high school\",\"free/reduced\",\"none\",\"75\",\"74\",\"66\"\\n\"male\",\"group E\",\"associate\\'s degree\",\"standard\",\"none\",\"87\",\"74\",\"76\"\\n\"female\",\"group B\",\"bachelor\\'s degree\",\"standard\",\"none\",\"52\",\"65\",\"69\"\\n\"male\",\"group E\",\"some college\",\"standard\",\"none\",\"66\",\"57\",\"52\"\\n\"female\",\"group C\",\"some college\",\"standard\",\"completed\",\"63\",\"78\",\"80\"\\n\"female\",\"group C\",\"associate\\'s degree\",\"standard\",\"none\",\"46\",\"58\",\"57\"\\n\"female\",\"group C\",\"some college\",\"standard\",\"none\",\"59\",\"71\",\"70\"\\n\"female\",\"group B\",\"bachelor\\'s degree\",\"standard\",\"none\",\"61\",\"72\",\"70\"\\n\"male\",\"group A\",\"associate\\'s degree\",\"standard\",\"none\",\"63\",\"61\",\"61\"\\n\"female\",\"group C\",\"some college\",\"free/reduced\",\"completed\",\"42\",\"66\",\"69\"\\n\"male\",\"group D\",\"some college\",\"free/reduced\",\"none\",\"59\",\"62\",\"61\"\\n\"female\",\"group D\",\"some college\",\"standard\",\"none\",\"80\",\"90\",\"89\"\\n\"female\",\"group B\",\"high school\",\"standard\",\"none\",\"58\",\"62\",\"59\"\\n\"male\",\"group B\",\"some high school\",\"standard\",\"completed\",\"85\",\"84\",\"78\"\\n\"female\",\"group C\",\"some college\",\"standard\",\"none\",\"52\",\"58\",\"58\"\\n\"female\",\"group D\",\"some high school\",\"free/reduced\",\"none\",\"27\",\"34\",\"32\"\\n\"male\",\"group C\",\"some college\",\"standard\",\"none\",\"59\",\"60\",\"58\"\\n\"male\",\"group A\",\"bachelor\\'s degree\",\"free/reduced\",\"completed\",\"49\",\"58\",\"60\"\\n\"male\",\"group C\",\"high school\",\"standard\",\"completed\",\"69\",\"58\",\"53\"\\n\"male\",\"group C\",\"bachelor\\'s degree\",\"free/reduced\",\"none\",\"61\",\"66\",\"61\"\\n\"female\",\"group A\",\"some high school\",\"free/reduced\",\"none\",\"44\",\"64\",\"58\"\\n\"female\",\"group D\",\"some high school\",\"standard\",\"none\",\"73\",\"84\",\"85\"\\n\"male\",\"group E\",\"some college\",\"standard\",\"none\",\"84\",\"77\",\"71\"\\n\"female\",\"group C\",\"some college\",\"free/reduced\",\"completed\",\"45\",\"73\",\"70\"\\n\"male\",\"group D\",\"some high school\",\"standard\",\"none\",\"74\",\"74\",\"72\"\\n\"female\",\"group D\",\"some college\",\"standard\",\"completed\",\"82\",\"97\",\"96\"\\n\"female\",\"group D\",\"bachelor\\'s degree\",\"standard\",\"none\",\"59\",\"70\",\"73\"\\n\"male\",\"group E\",\"associate\\'s degree\",\"free/reduced\",\"none\",\"46\",\"43\",\"41\"\\n\"female\",\"group D\",\"some high school\",\"standard\",\"none\",\"80\",\"90\",\"82\"\\n\"female\",\"group D\",\"master\\'s degree\",\"free/reduced\",\"completed\",\"85\",\"95\",\"100\"\\n\"female\",\"group A\",\"some high school\",\"standard\",\"none\",\"71\",\"83\",\"77\"\\n\"male\",\"group A\",\"bachelor\\'s degree\",\"standard\",\"none\",\"66\",\"64\",\"62\"\\n\"female\",\"group B\",\"associate\\'s degree\",\"standard\",\"none\",\"80\",\"86\",\"83\"\\n\"male\",\"group C\",\"associate\\'s degree\",\"standard\",\"completed\",\"87\",\"100\",\"95\"\\n\"male\",\"group C\",\"master\\'s degree\",\"free/reduced\",\"none\",\"79\",\"81\",\"71\"\\n\"female\",\"group E\",\"some high school\",\"free/reduced\",\"none\",\"38\",\"49\",\"45\"\\n\"female\",\"group A\",\"some high school\",\"free/reduced\",\"none\",\"38\",\"43\",\"43\"\\n\"female\",\"group E\",\"some college\",\"standard\",\"none\",\"67\",\"76\",\"75\"\\n\"female\",\"group E\",\"bachelor\\'s degree\",\"standard\",\"none\",\"64\",\"73\",\"70\"\\n\"female\",\"group C\",\"associate\\'s degree\",\"free/reduced\",\"none\",\"57\",\"78\",\"67\"\\n\"female\",\"group D\",\"high school\",\"standard\",\"none\",\"62\",\"64\",\"64\"\\n\"male\",\"group D\",\"master\\'s degree\",\"standard\",\"none\",\"73\",\"70\",\"75\"\\n\"male\",\"group E\",\"some high school\",\"free/reduced\",\"completed\",\"73\",\"67\",\"59\"\\n\"female\",\"group D\",\"some college\",\"standard\",\"none\",\"77\",\"68\",\"77\"\\n\"male\",\"group E\",\"some college\",\"standard\",\"none\",\"76\",\"67\",\"67\"\\n\"male\",\"group C\",\"associate\\'s degree\",\"standard\",\"completed\",\"57\",\"54\",\"56\"\\n\"female\",\"group C\",\"some high school\",\"standard\",\"completed\",\"65\",\"74\",\"77\"\\n\"male\",\"group A\",\"high school\",\"free/reduced\",\"none\",\"48\",\"45\",\"41\"\\n\"female\",\"group B\",\"high school\",\"free/reduced\",\"none\",\"50\",\"67\",\"63\"\\n\"female\",\"group C\",\"associate\\'s degree\",\"standard\",\"none\",\"85\",\"89\",\"95\"\\n\"male\",\"group B\",\"some high school\",\"standard\",\"none\",\"74\",\"63\",\"57\"\\n\"male\",\"group D\",\"some high school\",\"standard\",\"none\",\"60\",\"59\",\"54\"\\n\"female\",\"group C\",\"some high school\",\"standard\",\"completed\",\"59\",\"54\",\"67\"\\n\"male\",\"group A\",\"some college\",\"standard\",\"none\",\"53\",\"43\",\"43\"\\n\"female\",\"group A\",\"some college\",\"free/reduced\",\"none\",\"49\",\"65\",\"55\"\\n\"female\",\"group D\",\"high school\",\"standard\",\"completed\",\"88\",\"99\",\"100\"\\n\"female\",\"group C\",\"high school\",\"standard\",\"none\",\"54\",\"59\",\"62\"\\n\"female\",\"group C\",\"some high school\",\"standard\",\"none\",\"63\",\"73\",\"68\"\\n\"male\",\"group B\",\"associate\\'s degree\",\"standard\",\"completed\",\"65\",\"65\",\"63\"\\n\"female\",\"group B\",\"associate\\'s degree\",\"standard\",\"none\",\"82\",\"80\",\"77\"\\n\"female\",\"group D\",\"high school\",\"free/reduced\",\"completed\",\"52\",\"57\",\"56\"\\n\"male\",\"group D\",\"associate\\'s degree\",\"standard\",\"completed\",\"87\",\"84\",\"85\"\\n\"female\",\"group D\",\"master\\'s degree\",\"standard\",\"completed\",\"70\",\"71\",\"74\"\\n\"male\",\"group E\",\"some college\",\"standard\",\"completed\",\"84\",\"83\",\"78\"\\n\"male\",\"group D\",\"associate\\'s degree\",\"standard\",\"none\",\"71\",\"66\",\"60\"\\n\"male\",\"group B\",\"some high school\",\"standard\",\"completed\",\"63\",\"67\",\"67\"\\n\"female\",\"group C\",\"bachelor\\'s degree\",\"free/reduced\",\"completed\",\"51\",\"72\",\"79\"\\n\"male\",\"group E\",\"high school\",\"standard\",\"none\",\"84\",\"73\",\"69\"\\n\"male\",\"group C\",\"bachelor\\'s degree\",\"standard\",\"completed\",\"71\",\"74\",\"68\"\\n\"male\",\"group C\",\"associate\\'s degree\",\"standard\",\"none\",\"74\",\"73\",\"67\"\\n\"male\",\"group D\",\"some college\",\"standard\",\"none\",\"68\",\"59\",\"62\"\\n\"male\",\"group E\",\"high school\",\"free/reduced\",\"completed\",\"57\",\"56\",\"54\"\\n\"female\",\"group C\",\"associate\\'s degree\",\"free/reduced\",\"completed\",\"82\",\"93\",\"93\"\\n\"female\",\"group D\",\"high school\",\"standard\",\"completed\",\"57\",\"58\",\"64\"\\n\"female\",\"group D\",\"master\\'s degree\",\"free/reduced\",\"completed\",\"47\",\"58\",\"67\"\\n\"female\",\"group A\",\"some high school\",\"standard\",\"completed\",\"59\",\"85\",\"80\"\\n\"male\",\"group B\",\"some college\",\"free/reduced\",\"none\",\"41\",\"39\",\"34\"\\n\"female\",\"group C\",\"some college\",\"free/reduced\",\"none\",\"62\",\"67\",\"62\"\\n\"male\",\"group C\",\"bachelor\\'s degree\",\"standard\",\"none\",\"86\",\"83\",\"86\"\\n\"male\",\"group C\",\"some high school\",\"free/reduced\",\"none\",\"69\",\"71\",\"65\"\\n\"male\",\"group A\",\"some high school\",\"free/reduced\",\"none\",\"65\",\"59\",\"53\"\\n\"male\",\"group C\",\"some high school\",\"free/reduced\",\"none\",\"68\",\"63\",\"54\"\\n\"male\",\"group C\",\"associate\\'s degree\",\"free/reduced\",\"none\",\"64\",\"66\",\"59\"\\n\"female\",\"group C\",\"high school\",\"standard\",\"none\",\"61\",\"72\",\"70\"\\n\"male\",\"group C\",\"high school\",\"standard\",\"none\",\"61\",\"56\",\"55\"\\n\"female\",\"group A\",\"some high school\",\"free/reduced\",\"none\",\"47\",\"59\",\"50\"\\n\"male\",\"group C\",\"some high school\",\"standard\",\"none\",\"73\",\"66\",\"66\"\\n\"male\",\"group C\",\"some college\",\"free/reduced\",\"completed\",\"50\",\"48\",\"53\"\\n\"male\",\"group D\",\"associate\\'s degree\",\"standard\",\"none\",\"75\",\"68\",\"64\"\\n\"male\",\"group D\",\"associate\\'s degree\",\"free/reduced\",\"none\",\"75\",\"66\",\"73\"\\n\"male\",\"group C\",\"high school\",\"standard\",\"none\",\"70\",\"56\",\"51\"\\n\"male\",\"group D\",\"some high school\",\"standard\",\"completed\",\"89\",\"88\",\"82\"\\n\"female\",\"group C\",\"some college\",\"standard\",\"completed\",\"67\",\"81\",\"79\"\\n\"female\",\"group D\",\"high school\",\"standard\",\"none\",\"78\",\"81\",\"80\"\\n\"female\",\"group A\",\"some high school\",\"free/reduced\",\"none\",\"59\",\"73\",\"69\"\\n\"female\",\"group B\",\"associate\\'s degree\",\"standard\",\"none\",\"73\",\"83\",\"76\"\\n\"male\",\"group A\",\"some high school\",\"free/reduced\",\"none\",\"79\",\"82\",\"73\"\\n\"female\",\"group C\",\"some high school\",\"standard\",\"completed\",\"67\",\"74\",\"77\"\\n\"male\",\"group D\",\"some college\",\"free/reduced\",\"none\",\"69\",\"66\",\"60\"\\n\"male\",\"group C\",\"high school\",\"standard\",\"completed\",\"86\",\"81\",\"80\"\\n\"male\",\"group B\",\"high school\",\"standard\",\"none\",\"47\",\"46\",\"42\"\\n\"male\",\"group B\",\"associate\\'s degree\",\"standard\",\"none\",\"81\",\"73\",\"72\"\\n\"female\",\"group C\",\"some college\",\"free/reduced\",\"completed\",\"64\",\"85\",\"85\"\\n\"female\",\"group E\",\"some college\",\"standard\",\"none\",\"100\",\"92\",\"97\"\\n\"female\",\"group C\",\"associate\\'s degree\",\"free/reduced\",\"none\",\"65\",\"77\",\"74\"\\n\"male\",\"group C\",\"some college\",\"free/reduced\",\"none\",\"65\",\"58\",\"49\"\\n\"female\",\"group C\",\"associate\\'s degree\",\"free/reduced\",\"none\",\"53\",\"61\",\"62\"\\n\"male\",\"group C\",\"bachelor\\'s degree\",\"free/reduced\",\"none\",\"37\",\"56\",\"47\"\\n\"female\",\"group D\",\"bachelor\\'s degree\",\"standard\",\"none\",\"79\",\"89\",\"89\"\\n\"male\",\"group D\",\"associate\\'s degree\",\"free/reduced\",\"none\",\"53\",\"54\",\"48\"\\n\"female\",\"group E\",\"bachelor\\'s degree\",\"standard\",\"none\",\"100\",\"100\",\"100\"\\n\"male\",\"group B\",\"high school\",\"standard\",\"completed\",\"72\",\"65\",\"68\"\\n\"male\",\"group C\",\"bachelor\\'s degree\",\"free/reduced\",\"none\",\"53\",\"58\",\"55\"\\n\"male\",\"group B\",\"some college\",\"free/reduced\",\"none\",\"54\",\"54\",\"45\"\\n\"female\",\"group E\",\"some college\",\"standard\",\"none\",\"71\",\"70\",\"76\"\\n\"female\",\"group C\",\"some college\",\"free/reduced\",\"none\",\"77\",\"90\",\"91\"\\n\"male\",\"group A\",\"bachelor\\'s degree\",\"standard\",\"completed\",\"75\",\"58\",\"62\"\\n\"female\",\"group C\",\"some college\",\"standard\",\"none\",\"84\",\"87\",\"91\"\\n\"female\",\"group D\",\"associate\\'s degree\",\"free/reduced\",\"none\",\"26\",\"31\",\"38\"\\n\"male\",\"group A\",\"high school\",\"free/reduced\",\"completed\",\"72\",\"67\",\"65\"\\n\"female\",\"group A\",\"high school\",\"free/reduced\",\"completed\",\"77\",\"88\",\"85\"\\n\"male\",\"group C\",\"some college\",\"standard\",\"none\",\"91\",\"74\",\"76\"\\n\"female\",\"group C\",\"associate\\'s degree\",\"standard\",\"completed\",\"83\",\"85\",\"90\"\\n\"female\",\"group C\",\"high school\",\"standard\",\"none\",\"63\",\"69\",\"74\"\\n\"female\",\"group C\",\"associate\\'s degree\",\"standard\",\"completed\",\"68\",\"86\",\"84\"\\n\"female\",\"group D\",\"some high school\",\"standard\",\"none\",\"59\",\"67\",\"61\"\\n\"female\",\"group B\",\"associate\\'s degree\",\"standard\",\"completed\",\"90\",\"90\",\"91\"\\n\"female\",\"group D\",\"bachelor\\'s degree\",\"standard\",\"completed\",\"71\",\"76\",\"83\"\\n\"male\",\"group E\",\"bachelor\\'s degree\",\"standard\",\"completed\",\"76\",\"62\",\"66\"\\n\"male\",\"group D\",\"associate\\'s degree\",\"standard\",\"none\",\"80\",\"68\",\"72\"\\n\"female\",\"group D\",\"master\\'s degree\",\"standard\",\"none\",\"55\",\"64\",\"70\"\\n\"male\",\"group E\",\"associate\\'s degree\",\"standard\",\"none\",\"76\",\"71\",\"67\"\\n\"male\",\"group B\",\"high school\",\"standard\",\"completed\",\"73\",\"71\",\"68\"\\n\"female\",\"group D\",\"associate\\'s degree\",\"free/reduced\",\"none\",\"52\",\"59\",\"56\"\\n\"male\",\"group C\",\"some college\",\"free/reduced\",\"none\",\"68\",\"68\",\"61\"\\n\"male\",\"group A\",\"high school\",\"standard\",\"none\",\"59\",\"52\",\"46\"\\n\"female\",\"group B\",\"associate\\'s degree\",\"standard\",\"none\",\"49\",\"52\",\"54\"\\n\"male\",\"group C\",\"high school\",\"standard\",\"none\",\"70\",\"74\",\"71\"\\n\"male\",\"group D\",\"some college\",\"free/reduced\",\"none\",\"61\",\"47\",\"56\"\\n\"female\",\"group C\",\"associate\\'s degree\",\"free/reduced\",\"none\",\"60\",\"75\",\"74\"\\n\"male\",\"group B\",\"some high school\",\"standard\",\"completed\",\"64\",\"53\",\"57\"\\n\"male\",\"group A\",\"associate\\'s degree\",\"free/reduced\",\"completed\",\"79\",\"82\",\"82\"\\n\"female\",\"group A\",\"associate\\'s degree\",\"free/reduced\",\"none\",\"65\",\"85\",\"76\"\\n\"female\",\"group C\",\"associate\\'s degree\",\"standard\",\"none\",\"64\",\"64\",\"70\"\\n\"female\",\"group C\",\"some college\",\"standard\",\"none\",\"83\",\"83\",\"90\"\\n\"female\",\"group C\",\"bachelor\\'s degree\",\"standard\",\"none\",\"81\",\"88\",\"90\"\\n\"female\",\"group B\",\"high school\",\"standard\",\"none\",\"54\",\"64\",\"68\"\\n\"male\",\"group D\",\"high school\",\"standard\",\"completed\",\"68\",\"64\",\"66\"\\n\"female\",\"group C\",\"some college\",\"standard\",\"none\",\"54\",\"48\",\"52\"\\n\"female\",\"group D\",\"some college\",\"free/reduced\",\"completed\",\"59\",\"78\",\"76\"\\n\"female\",\"group B\",\"some high school\",\"standard\",\"none\",\"66\",\"69\",\"68\"\\n\"male\",\"group E\",\"some college\",\"standard\",\"none\",\"76\",\"71\",\"72\"\\n\"female\",\"group D\",\"master\\'s degree\",\"standard\",\"none\",\"74\",\"79\",\"82\"\\n\"female\",\"group B\",\"associate\\'s degree\",\"standard\",\"completed\",\"94\",\"87\",\"92\"\\n\"male\",\"group C\",\"some college\",\"free/reduced\",\"none\",\"63\",\"61\",\"54\"\\n\"female\",\"group E\",\"associate\\'s degree\",\"standard\",\"completed\",\"95\",\"89\",\"92\"\\n\"female\",\"group D\",\"master\\'s degree\",\"free/reduced\",\"none\",\"40\",\"59\",\"54\"\\n\"female\",\"group B\",\"some high school\",\"standard\",\"none\",\"82\",\"82\",\"80\"\\n\"male\",\"group A\",\"high school\",\"standard\",\"none\",\"68\",\"70\",\"66\"\\n\"male\",\"group B\",\"bachelor\\'s degree\",\"free/reduced\",\"none\",\"55\",\"59\",\"54\"\\n\"male\",\"group C\",\"master\\'s degree\",\"standard\",\"none\",\"79\",\"78\",\"77\"\\n\"female\",\"group C\",\"bachelor\\'s degree\",\"standard\",\"none\",\"86\",\"92\",\"87\"\\n\"male\",\"group D\",\"some college\",\"standard\",\"none\",\"76\",\"71\",\"73\"\\n\"male\",\"group A\",\"some high school\",\"standard\",\"none\",\"64\",\"50\",\"43\"\\n\"male\",\"group D\",\"some high school\",\"free/reduced\",\"none\",\"62\",\"49\",\"52\"\\n\"female\",\"group B\",\"some high school\",\"standard\",\"completed\",\"54\",\"61\",\"62\"\\n\"female\",\"group B\",\"master\\'s degree\",\"free/reduced\",\"completed\",\"77\",\"97\",\"94\"\\n\"female\",\"group C\",\"some high school\",\"standard\",\"completed\",\"76\",\"87\",\"85\"\\n\"female\",\"group D\",\"some college\",\"standard\",\"none\",\"74\",\"89\",\"84\"\\n\"female\",\"group E\",\"some college\",\"standard\",\"completed\",\"66\",\"74\",\"73\"\\n\"female\",\"group D\",\"some high school\",\"standard\",\"completed\",\"66\",\"78\",\"78\"\\n\"female\",\"group B\",\"high school\",\"free/reduced\",\"completed\",\"67\",\"78\",\"79\"\\n\"male\",\"group D\",\"some college\",\"standard\",\"none\",\"71\",\"49\",\"52\"\\n\"female\",\"group C\",\"associate\\'s degree\",\"standard\",\"none\",\"91\",\"86\",\"84\"\\n\"male\",\"group D\",\"bachelor\\'s degree\",\"standard\",\"none\",\"69\",\"58\",\"57\"\\n\"male\",\"group C\",\"master\\'s degree\",\"free/reduced\",\"none\",\"54\",\"59\",\"50\"\\n\"male\",\"group C\",\"high school\",\"standard\",\"completed\",\"53\",\"52\",\"49\"\\n\"male\",\"group E\",\"some college\",\"standard\",\"none\",\"68\",\"60\",\"59\"\\n\"male\",\"group C\",\"some high school\",\"free/reduced\",\"completed\",\"56\",\"61\",\"60\"\\n\"female\",\"group C\",\"high school\",\"free/reduced\",\"none\",\"36\",\"53\",\"43\"\\n\"female\",\"group D\",\"bachelor\\'s degree\",\"free/reduced\",\"none\",\"29\",\"41\",\"47\"\\n\"female\",\"group C\",\"associate\\'s degree\",\"standard\",\"none\",\"62\",\"74\",\"70\"\\n\"female\",\"group C\",\"associate\\'s degree\",\"standard\",\"completed\",\"68\",\"67\",\"73\"\\n\"female\",\"group C\",\"some high school\",\"standard\",\"none\",\"47\",\"54\",\"53\"\\n\"male\",\"group E\",\"associate\\'s degree\",\"standard\",\"completed\",\"62\",\"61\",\"58\"\\n\"female\",\"group E\",\"associate\\'s degree\",\"standard\",\"completed\",\"79\",\"88\",\"94\"\\n\"male\",\"group B\",\"high school\",\"standard\",\"completed\",\"73\",\"69\",\"68\"\\n\"female\",\"group C\",\"bachelor\\'s degree\",\"free/reduced\",\"completed\",\"66\",\"83\",\"83\"\\n\"male\",\"group C\",\"associate\\'s degree\",\"standard\",\"completed\",\"51\",\"60\",\"58\"\\n\"female\",\"group D\",\"high school\",\"standard\",\"none\",\"51\",\"66\",\"62\"\\n\"male\",\"group E\",\"bachelor\\'s degree\",\"standard\",\"completed\",\"85\",\"66\",\"71\"\\n\"male\",\"group A\",\"associate\\'s degree\",\"standard\",\"completed\",\"97\",\"92\",\"86\"\\n\"male\",\"group C\",\"high school\",\"standard\",\"completed\",\"75\",\"69\",\"68\"\\n\"male\",\"group D\",\"associate\\'s degree\",\"free/reduced\",\"completed\",\"79\",\"82\",\"80\"\\n\"female\",\"group C\",\"associate\\'s degree\",\"standard\",\"none\",\"81\",\"77\",\"79\"\\n\"female\",\"group D\",\"associate\\'s degree\",\"standard\",\"none\",\"82\",\"95\",\"89\"\\n\"female\",\"group D\",\"master\\'s degree\",\"standard\",\"none\",\"64\",\"63\",\"66\"\\n\"male\",\"group E\",\"some high school\",\"free/reduced\",\"completed\",\"78\",\"83\",\"80\"\\n\"female\",\"group A\",\"some high school\",\"standard\",\"completed\",\"92\",\"100\",\"97\"\\n\"male\",\"group C\",\"high school\",\"standard\",\"completed\",\"72\",\"67\",\"64\"\\n\"female\",\"group C\",\"high school\",\"free/reduced\",\"none\",\"62\",\"67\",\"64\"\\n\"male\",\"group C\",\"master\\'s degree\",\"standard\",\"none\",\"79\",\"72\",\"69\"\\n\"male\",\"group C\",\"some high school\",\"free/reduced\",\"none\",\"79\",\"76\",\"65\"\\n\"male\",\"group B\",\"bachelor\\'s degree\",\"free/reduced\",\"completed\",\"87\",\"90\",\"88\"\\n\"female\",\"group B\",\"associate\\'s degree\",\"standard\",\"none\",\"40\",\"48\",\"50\"\\n\"male\",\"group D\",\"some college\",\"free/reduced\",\"none\",\"77\",\"62\",\"64\"\\n\"male\",\"group E\",\"associate\\'s degree\",\"standard\",\"none\",\"53\",\"45\",\"40\"\\n\"female\",\"group C\",\"some college\",\"free/reduced\",\"none\",\"32\",\"39\",\"33\"\\n\"female\",\"group C\",\"associate\\'s degree\",\"standard\",\"completed\",\"55\",\"72\",\"79\"\\n\"male\",\"group C\",\"master\\'s degree\",\"free/reduced\",\"none\",\"61\",\"67\",\"66\"\\n\"female\",\"group B\",\"associate\\'s degree\",\"free/reduced\",\"none\",\"53\",\"70\",\"70\"\\n\"male\",\"group D\",\"some high school\",\"standard\",\"none\",\"73\",\"66\",\"62\"\\n\"female\",\"group D\",\"some college\",\"standard\",\"completed\",\"74\",\"75\",\"79\"\\n\"female\",\"group C\",\"some college\",\"standard\",\"none\",\"63\",\"74\",\"74\"\\n\"male\",\"group C\",\"bachelor\\'s degree\",\"standard\",\"completed\",\"96\",\"90\",\"92\"\\n\"female\",\"group D\",\"some college\",\"free/reduced\",\"completed\",\"63\",\"80\",\"80\"\\n\"male\",\"group B\",\"bachelor\\'s degree\",\"free/reduced\",\"none\",\"48\",\"51\",\"46\"\\n\"male\",\"group B\",\"associate\\'s degree\",\"standard\",\"none\",\"48\",\"43\",\"45\"\\n\"female\",\"group E\",\"bachelor\\'s degree\",\"free/reduced\",\"completed\",\"92\",\"100\",\"100\"\\n\"female\",\"group D\",\"master\\'s degree\",\"free/reduced\",\"completed\",\"61\",\"71\",\"78\"\\n\"male\",\"group B\",\"high school\",\"free/reduced\",\"none\",\"63\",\"48\",\"47\"\\n\"male\",\"group D\",\"bachelor\\'s degree\",\"free/reduced\",\"none\",\"68\",\"68\",\"67\"\\n\"male\",\"group B\",\"some college\",\"standard\",\"completed\",\"71\",\"75\",\"70\"\\n\"male\",\"group A\",\"bachelor\\'s degree\",\"standard\",\"none\",\"91\",\"96\",\"92\"\\n\"female\",\"group C\",\"some college\",\"standard\",\"none\",\"53\",\"62\",\"56\"\\n\"female\",\"group C\",\"high school\",\"free/reduced\",\"completed\",\"50\",\"66\",\"64\"\\n\"female\",\"group E\",\"high school\",\"standard\",\"none\",\"74\",\"81\",\"71\"\\n\"male\",\"group A\",\"associate\\'s degree\",\"free/reduced\",\"completed\",\"40\",\"55\",\"53\"\\n\"male\",\"group A\",\"some college\",\"standard\",\"completed\",\"61\",\"51\",\"52\"\\n\"female\",\"group B\",\"high school\",\"standard\",\"none\",\"81\",\"91\",\"89\"\\n\"female\",\"group B\",\"some college\",\"free/reduced\",\"completed\",\"48\",\"56\",\"58\"\\n\"female\",\"group D\",\"master\\'s degree\",\"standard\",\"none\",\"53\",\"61\",\"68\"\\n\"female\",\"group D\",\"some high school\",\"standard\",\"none\",\"81\",\"97\",\"96\"\\n\"female\",\"group E\",\"some high school\",\"standard\",\"none\",\"77\",\"79\",\"80\"\\n\"female\",\"group D\",\"bachelor\\'s degree\",\"free/reduced\",\"none\",\"63\",\"73\",\"78\"\\n\"female\",\"group D\",\"associate\\'s degree\",\"standard\",\"completed\",\"73\",\"75\",\"80\"\\n\"female\",\"group D\",\"some college\",\"standard\",\"none\",\"69\",\"77\",\"77\"\\n\"female\",\"group C\",\"associate\\'s degree\",\"standard\",\"none\",\"65\",\"76\",\"76\"\\n\"female\",\"group A\",\"high school\",\"standard\",\"none\",\"55\",\"73\",\"73\"\\n\"female\",\"group C\",\"bachelor\\'s degree\",\"free/reduced\",\"none\",\"44\",\"63\",\"62\"\\n\"female\",\"group C\",\"some college\",\"standard\",\"none\",\"54\",\"64\",\"65\"\\n\"female\",\"group A\",\"some high school\",\"standard\",\"none\",\"48\",\"66\",\"65\"\\n\"male\",\"group C\",\"some college\",\"free/reduced\",\"none\",\"58\",\"57\",\"54\"\\n\"male\",\"group A\",\"some high school\",\"standard\",\"none\",\"71\",\"62\",\"50\"\\n\"male\",\"group E\",\"bachelor\\'s degree\",\"standard\",\"none\",\"68\",\"68\",\"64\"\\n\"female\",\"group E\",\"high school\",\"standard\",\"none\",\"74\",\"76\",\"73\"\\n\"female\",\"group C\",\"bachelor\\'s degree\",\"standard\",\"completed\",\"92\",\"100\",\"99\"\\n\"female\",\"group C\",\"bachelor\\'s degree\",\"standard\",\"completed\",\"56\",\"79\",\"72\"\\n\"male\",\"group B\",\"high school\",\"free/reduced\",\"none\",\"30\",\"24\",\"15\"\\n\"male\",\"group A\",\"some high school\",\"standard\",\"none\",\"53\",\"54\",\"48\"\\n\"female\",\"group D\",\"high school\",\"standard\",\"none\",\"69\",\"77\",\"73\"\\n\"female\",\"group D\",\"some high school\",\"standard\",\"none\",\"65\",\"82\",\"81\"\\n\"female\",\"group D\",\"master\\'s degree\",\"standard\",\"none\",\"54\",\"60\",\"63\"\\n\"female\",\"group C\",\"high school\",\"standard\",\"none\",\"29\",\"29\",\"30\"\\n\"female\",\"group E\",\"some college\",\"standard\",\"none\",\"76\",\"78\",\"80\"\\n\"male\",\"group D\",\"high school\",\"free/reduced\",\"none\",\"60\",\"57\",\"51\"\\n\"male\",\"group D\",\"master\\'s degree\",\"free/reduced\",\"completed\",\"84\",\"89\",\"90\"\\n\"male\",\"group C\",\"some high school\",\"standard\",\"none\",\"75\",\"72\",\"62\"\\n\"female\",\"group C\",\"associate\\'s degree\",\"standard\",\"none\",\"85\",\"84\",\"82\"\\n\"female\",\"group C\",\"master\\'s degree\",\"free/reduced\",\"none\",\"40\",\"58\",\"54\"\\n\"female\",\"group E\",\"some college\",\"standard\",\"none\",\"61\",\"64\",\"62\"\\n\"female\",\"group B\",\"associate\\'s degree\",\"standard\",\"none\",\"58\",\"63\",\"65\"\\n\"male\",\"group D\",\"some college\",\"free/reduced\",\"completed\",\"69\",\"60\",\"63\"\\n\"female\",\"group C\",\"some college\",\"standard\",\"none\",\"58\",\"59\",\"66\"\\n\"male\",\"group C\",\"bachelor\\'s degree\",\"standard\",\"completed\",\"94\",\"90\",\"91\"\\n\"female\",\"group C\",\"associate\\'s degree\",\"standard\",\"none\",\"65\",\"77\",\"74\"\\n\"female\",\"group A\",\"associate\\'s degree\",\"standard\",\"none\",\"82\",\"93\",\"93\"\\n\"female\",\"group C\",\"high school\",\"standard\",\"none\",\"60\",\"68\",\"72\"\\n\"female\",\"group E\",\"bachelor\\'s degree\",\"standard\",\"none\",\"37\",\"45\",\"38\"\\n\"male\",\"group D\",\"bachelor\\'s degree\",\"standard\",\"none\",\"88\",\"78\",\"83\"\\n\"male\",\"group D\",\"master\\'s degree\",\"standard\",\"none\",\"95\",\"81\",\"84\"\\n\"male\",\"group C\",\"associate\\'s degree\",\"free/reduced\",\"completed\",\"65\",\"73\",\"68\"\\n\"female\",\"group C\",\"high school\",\"free/reduced\",\"none\",\"35\",\"61\",\"54\"\\n\"male\",\"group B\",\"bachelor\\'s degree\",\"free/reduced\",\"none\",\"62\",\"63\",\"56\"\\n\"male\",\"group C\",\"high school\",\"free/reduced\",\"completed\",\"58\",\"51\",\"52\"\\n\"male\",\"group A\",\"some college\",\"standard\",\"completed\",\"100\",\"96\",\"86\"\\n\"female\",\"group E\",\"bachelor\\'s degree\",\"free/reduced\",\"none\",\"61\",\"58\",\"62\"\\n\"male\",\"group D\",\"some college\",\"standard\",\"completed\",\"100\",\"97\",\"99\"\\n\"male\",\"group B\",\"associate\\'s degree\",\"free/reduced\",\"completed\",\"69\",\"70\",\"63\"\\n\"male\",\"group D\",\"associate\\'s degree\",\"standard\",\"none\",\"61\",\"48\",\"46\"\\n\"male\",\"group D\",\"some college\",\"free/reduced\",\"none\",\"49\",\"57\",\"46\"\\n\"female\",\"group C\",\"some high school\",\"standard\",\"completed\",\"44\",\"51\",\"55\"\\n\"male\",\"group D\",\"some college\",\"standard\",\"none\",\"67\",\"64\",\"70\"\\n\"male\",\"group B\",\"high school\",\"standard\",\"none\",\"79\",\"60\",\"65\"\\n\"female\",\"group B\",\"bachelor\\'s degree\",\"standard\",\"completed\",\"66\",\"74\",\"81\"\\n\"female\",\"group C\",\"high school\",\"standard\",\"none\",\"75\",\"88\",\"85\"\\n\"male\",\"group D\",\"some high school\",\"standard\",\"none\",\"84\",\"84\",\"80\"\\n\"male\",\"group A\",\"high school\",\"standard\",\"none\",\"71\",\"74\",\"64\"\\n\"female\",\"group B\",\"high school\",\"free/reduced\",\"completed\",\"67\",\"80\",\"81\"\\n\"female\",\"group D\",\"some high school\",\"standard\",\"completed\",\"80\",\"92\",\"88\"\\n\"male\",\"group E\",\"some college\",\"standard\",\"none\",\"86\",\"76\",\"74\"\\n\"female\",\"group D\",\"associate\\'s degree\",\"standard\",\"none\",\"76\",\"74\",\"73\"\\n\"male\",\"group D\",\"high school\",\"standard\",\"none\",\"41\",\"52\",\"51\"\\n\"female\",\"group D\",\"associate\\'s degree\",\"free/reduced\",\"completed\",\"74\",\"88\",\"90\"\\n\"female\",\"group B\",\"some high school\",\"free/reduced\",\"none\",\"72\",\"81\",\"79\"\\n\"female\",\"group E\",\"high school\",\"standard\",\"completed\",\"74\",\"79\",\"80\"\\n\"male\",\"group B\",\"high school\",\"standard\",\"none\",\"70\",\"65\",\"60\"\\n\"female\",\"group B\",\"bachelor\\'s degree\",\"standard\",\"completed\",\"65\",\"81\",\"81\"\\n\"female\",\"group D\",\"associate\\'s degree\",\"standard\",\"none\",\"59\",\"70\",\"65\"\\n\"female\",\"group E\",\"high school\",\"free/reduced\",\"none\",\"64\",\"62\",\"68\"\\n\"female\",\"group B\",\"high school\",\"standard\",\"none\",\"50\",\"53\",\"55\"\\n\"female\",\"group D\",\"some college\",\"standard\",\"completed\",\"69\",\"79\",\"81\"\\n\"male\",\"group C\",\"some high school\",\"free/reduced\",\"completed\",\"51\",\"56\",\"53\"\\n\"female\",\"group A\",\"high school\",\"standard\",\"completed\",\"68\",\"80\",\"76\"\\n\"female\",\"group D\",\"some college\",\"standard\",\"completed\",\"85\",\"86\",\"98\"\\n\"female\",\"group A\",\"associate\\'s degree\",\"standard\",\"completed\",\"65\",\"70\",\"74\"\\n\"female\",\"group B\",\"some high school\",\"standard\",\"none\",\"73\",\"79\",\"79\"\\n\"female\",\"group B\",\"some college\",\"standard\",\"none\",\"62\",\"67\",\"67\"\\n\"male\",\"group C\",\"associate\\'s degree\",\"free/reduced\",\"none\",\"77\",\"67\",\"64\"\\n\"male\",\"group D\",\"some high school\",\"standard\",\"none\",\"69\",\"66\",\"61\"\\n\"female\",\"group D\",\"associate\\'s degree\",\"free/reduced\",\"none\",\"43\",\"60\",\"58\"\\n\"male\",\"group D\",\"associate\\'s degree\",\"standard\",\"none\",\"90\",\"87\",\"85\"\\n\"male\",\"group C\",\"some college\",\"free/reduced\",\"none\",\"74\",\"77\",\"73\"\\n\"male\",\"group C\",\"some high school\",\"standard\",\"none\",\"73\",\"66\",\"63\"\\n\"female\",\"group D\",\"some college\",\"free/reduced\",\"none\",\"55\",\"71\",\"69\"\\n\"female\",\"group C\",\"high school\",\"standard\",\"none\",\"65\",\"69\",\"67\"\\n\"male\",\"group D\",\"associate\\'s degree\",\"standard\",\"none\",\"80\",\"63\",\"63\"\\n\"female\",\"group C\",\"some high school\",\"free/reduced\",\"completed\",\"50\",\"60\",\"60\"\\n\"female\",\"group C\",\"some college\",\"free/reduced\",\"completed\",\"63\",\"73\",\"71\"\\n\"female\",\"group B\",\"bachelor\\'s degree\",\"free/reduced\",\"none\",\"77\",\"85\",\"87\"\\n\"male\",\"group C\",\"some college\",\"standard\",\"none\",\"73\",\"74\",\"61\"\\n\"male\",\"group D\",\"associate\\'s degree\",\"standard\",\"completed\",\"81\",\"72\",\"77\"\\n\"female\",\"group C\",\"high school\",\"free/reduced\",\"none\",\"66\",\"76\",\"68\"\\n\"male\",\"group D\",\"associate\\'s degree\",\"free/reduced\",\"none\",\"52\",\"57\",\"50\"\\n\"female\",\"group C\",\"some college\",\"standard\",\"none\",\"69\",\"78\",\"76\"\\n\"female\",\"group C\",\"associate\\'s degree\",\"standard\",\"completed\",\"65\",\"84\",\"84\"\\n\"female\",\"group D\",\"high school\",\"standard\",\"completed\",\"69\",\"77\",\"78\"\\n\"female\",\"group B\",\"some college\",\"standard\",\"completed\",\"50\",\"64\",\"66\"\\n\"female\",\"group E\",\"some college\",\"standard\",\"completed\",\"73\",\"78\",\"76\"\\n\"female\",\"group C\",\"some high school\",\"standard\",\"completed\",\"70\",\"82\",\"76\"\\n\"male\",\"group D\",\"associate\\'s degree\",\"free/reduced\",\"none\",\"81\",\"75\",\"78\"\\n\"male\",\"group D\",\"some college\",\"free/reduced\",\"none\",\"63\",\"61\",\"60\"\\n\"female\",\"group D\",\"high school\",\"standard\",\"none\",\"67\",\"72\",\"74\"\\n\"male\",\"group B\",\"high school\",\"standard\",\"none\",\"60\",\"68\",\"60\"\\n\"male\",\"group B\",\"high school\",\"standard\",\"none\",\"62\",\"55\",\"54\"\\n\"female\",\"group C\",\"some high school\",\"free/reduced\",\"completed\",\"29\",\"40\",\"44\"\\n\"male\",\"group B\",\"some college\",\"standard\",\"completed\",\"62\",\"66\",\"68\"\\n\"female\",\"group E\",\"master\\'s degree\",\"standard\",\"completed\",\"94\",\"99\",\"100\"\\n\"male\",\"group E\",\"some college\",\"standard\",\"completed\",\"85\",\"75\",\"68\"\\n\"male\",\"group D\",\"associate\\'s degree\",\"free/reduced\",\"none\",\"77\",\"78\",\"73\"\\n\"male\",\"group A\",\"high school\",\"free/reduced\",\"none\",\"53\",\"58\",\"44\"\\n\"male\",\"group E\",\"some college\",\"free/reduced\",\"none\",\"93\",\"90\",\"83\"\\n\"female\",\"group C\",\"associate\\'s degree\",\"standard\",\"none\",\"49\",\"53\",\"53\"\\n\"female\",\"group E\",\"associate\\'s degree\",\"free/reduced\",\"none\",\"73\",\"76\",\"78\"\\n\"female\",\"group C\",\"bachelor\\'s degree\",\"free/reduced\",\"completed\",\"66\",\"74\",\"81\"\\n\"female\",\"group D\",\"associate\\'s degree\",\"standard\",\"none\",\"77\",\"77\",\"73\"\\n\"female\",\"group C\",\"some high school\",\"standard\",\"none\",\"49\",\"63\",\"56\"\\n\"female\",\"group D\",\"some college\",\"free/reduced\",\"none\",\"79\",\"89\",\"86\"\\n\"female\",\"group C\",\"associate\\'s degree\",\"standard\",\"completed\",\"75\",\"82\",\"90\"\\n\"female\",\"group A\",\"bachelor\\'s degree\",\"standard\",\"none\",\"59\",\"72\",\"70\"\\n\"female\",\"group D\",\"associate\\'s degree\",\"standard\",\"completed\",\"57\",\"78\",\"79\"\\n\"male\",\"group C\",\"high school\",\"free/reduced\",\"none\",\"66\",\"66\",\"59\"\\n\"female\",\"group E\",\"bachelor\\'s degree\",\"standard\",\"completed\",\"79\",\"81\",\"82\"\\n\"female\",\"group B\",\"some high school\",\"standard\",\"none\",\"57\",\"67\",\"72\"\\n\"male\",\"group A\",\"bachelor\\'s degree\",\"standard\",\"completed\",\"87\",\"84\",\"87\"\\n\"female\",\"group D\",\"some college\",\"standard\",\"none\",\"63\",\"64\",\"67\"\\n\"female\",\"group B\",\"some high school\",\"free/reduced\",\"completed\",\"59\",\"63\",\"64\"\\n\"male\",\"group A\",\"bachelor\\'s degree\",\"free/reduced\",\"none\",\"62\",\"72\",\"65\"\\n\"male\",\"group D\",\"high school\",\"standard\",\"none\",\"46\",\"34\",\"36\"\\n\"male\",\"group C\",\"some college\",\"standard\",\"none\",\"66\",\"59\",\"52\"\\n\"male\",\"group D\",\"high school\",\"standard\",\"none\",\"89\",\"87\",\"79\"\\n\"female\",\"group D\",\"associate\\'s degree\",\"free/reduced\",\"completed\",\"42\",\"61\",\"58\"\\n\"male\",\"group C\",\"some college\",\"standard\",\"completed\",\"93\",\"84\",\"90\"\\n\"female\",\"group E\",\"some high school\",\"standard\",\"completed\",\"80\",\"85\",\"85\"\\n\"female\",\"group D\",\"some college\",\"standard\",\"none\",\"98\",\"100\",\"99\"\\n\"male\",\"group D\",\"master\\'s degree\",\"standard\",\"none\",\"81\",\"81\",\"84\"\\n\"female\",\"group B\",\"some high school\",\"standard\",\"completed\",\"60\",\"70\",\"74\"\\n\"female\",\"group B\",\"associate\\'s degree\",\"free/reduced\",\"completed\",\"76\",\"94\",\"87\"\\n\"male\",\"group C\",\"associate\\'s degree\",\"standard\",\"completed\",\"73\",\"78\",\"72\"\\n\"female\",\"group C\",\"associate\\'s degree\",\"standard\",\"completed\",\"96\",\"96\",\"99\"\\n\"female\",\"group C\",\"high school\",\"standard\",\"none\",\"76\",\"76\",\"74\"\\n\"male\",\"group E\",\"associate\\'s degree\",\"free/reduced\",\"completed\",\"91\",\"73\",\"80\"\\n\"female\",\"group C\",\"some college\",\"free/reduced\",\"none\",\"62\",\"72\",\"70\"\\n\"male\",\"group D\",\"some high school\",\"free/reduced\",\"completed\",\"55\",\"59\",\"59\"\\n\"female\",\"group B\",\"some high school\",\"free/reduced\",\"completed\",\"74\",\"90\",\"88\"\\n\"male\",\"group C\",\"high school\",\"standard\",\"none\",\"50\",\"48\",\"42\"\\n\"male\",\"group B\",\"some college\",\"standard\",\"none\",\"47\",\"43\",\"41\"\\n\"male\",\"group E\",\"some college\",\"standard\",\"completed\",\"81\",\"74\",\"71\"\\n\"female\",\"group E\",\"associate\\'s degree\",\"standard\",\"completed\",\"65\",\"75\",\"77\"\\n\"male\",\"group E\",\"some high school\",\"standard\",\"completed\",\"68\",\"51\",\"57\"\\n\"female\",\"group D\",\"high school\",\"free/reduced\",\"none\",\"73\",\"92\",\"84\"\\n\"male\",\"group C\",\"some college\",\"standard\",\"none\",\"53\",\"39\",\"37\"\\n\"female\",\"group B\",\"associate\\'s degree\",\"free/reduced\",\"completed\",\"68\",\"77\",\"80\"\\n\"male\",\"group A\",\"some high school\",\"free/reduced\",\"none\",\"55\",\"46\",\"43\"\\n\"female\",\"group C\",\"some college\",\"standard\",\"completed\",\"87\",\"89\",\"94\"\\n\"male\",\"group D\",\"some high school\",\"standard\",\"none\",\"55\",\"47\",\"44\"\\n\"female\",\"group E\",\"some college\",\"free/reduced\",\"none\",\"53\",\"58\",\"57\"\\n\"male\",\"group C\",\"master\\'s degree\",\"standard\",\"none\",\"67\",\"57\",\"59\"\\n\"male\",\"group C\",\"associate\\'s degree\",\"standard\",\"none\",\"92\",\"79\",\"84\"\\n\"female\",\"group B\",\"some college\",\"free/reduced\",\"completed\",\"53\",\"66\",\"73\"\\n\"male\",\"group D\",\"associate\\'s degree\",\"standard\",\"none\",\"81\",\"71\",\"73\"\\n\"male\",\"group C\",\"high school\",\"free/reduced\",\"none\",\"61\",\"60\",\"55\"\\n\"male\",\"group D\",\"bachelor\\'s degree\",\"standard\",\"none\",\"80\",\"73\",\"72\"\\n\"female\",\"group A\",\"associate\\'s degree\",\"free/reduced\",\"none\",\"37\",\"57\",\"56\"\\n\"female\",\"group C\",\"high school\",\"standard\",\"none\",\"81\",\"84\",\"82\"\\n\"female\",\"group C\",\"associate\\'s degree\",\"standard\",\"completed\",\"59\",\"73\",\"72\"\\n\"male\",\"group B\",\"some college\",\"free/reduced\",\"none\",\"55\",\"55\",\"47\"\\n\"male\",\"group D\",\"associate\\'s degree\",\"standard\",\"none\",\"72\",\"79\",\"74\"\\n\"male\",\"group D\",\"high school\",\"standard\",\"none\",\"69\",\"75\",\"71\"\\n\"male\",\"group C\",\"some college\",\"standard\",\"none\",\"69\",\"64\",\"68\"\\n\"female\",\"group C\",\"bachelor\\'s degree\",\"free/reduced\",\"none\",\"50\",\"60\",\"59\"\\n\"male\",\"group B\",\"some college\",\"standard\",\"completed\",\"87\",\"84\",\"86\"\\n\"male\",\"group D\",\"some high school\",\"standard\",\"completed\",\"71\",\"69\",\"68\"\\n\"male\",\"group E\",\"some college\",\"standard\",\"none\",\"68\",\"72\",\"65\"\\n\"male\",\"group C\",\"master\\'s degree\",\"free/reduced\",\"completed\",\"79\",\"77\",\"75\"\\n\"female\",\"group C\",\"some high school\",\"standard\",\"completed\",\"77\",\"90\",\"85\"\\n\"male\",\"group C\",\"associate\\'s degree\",\"free/reduced\",\"none\",\"58\",\"55\",\"53\"\\n\"female\",\"group E\",\"associate\\'s degree\",\"standard\",\"none\",\"84\",\"95\",\"92\"\\n\"male\",\"group D\",\"some college\",\"standard\",\"none\",\"55\",\"58\",\"52\"\\n\"male\",\"group E\",\"bachelor\\'s degree\",\"free/reduced\",\"completed\",\"70\",\"68\",\"72\"\\n\"female\",\"group D\",\"some college\",\"free/reduced\",\"completed\",\"52\",\"59\",\"65\"\\n\"male\",\"group B\",\"some college\",\"standard\",\"completed\",\"69\",\"77\",\"77\"\\n\"female\",\"group C\",\"high school\",\"free/reduced\",\"none\",\"53\",\"72\",\"64\"\\n\"female\",\"group D\",\"some high school\",\"standard\",\"none\",\"48\",\"58\",\"54\"\\n\"male\",\"group D\",\"some high school\",\"standard\",\"completed\",\"78\",\"81\",\"86\"\\n\"female\",\"group B\",\"high school\",\"standard\",\"none\",\"62\",\"62\",\"63\"\\n\"male\",\"group D\",\"some college\",\"standard\",\"none\",\"60\",\"63\",\"59\"\\n\"female\",\"group B\",\"high school\",\"standard\",\"none\",\"74\",\"72\",\"72\"\\n\"female\",\"group C\",\"high school\",\"standard\",\"completed\",\"58\",\"75\",\"77\"\\n\"male\",\"group B\",\"high school\",\"standard\",\"completed\",\"76\",\"62\",\"60\"\\n\"female\",\"group D\",\"some high school\",\"standard\",\"none\",\"68\",\"71\",\"75\"\\n\"male\",\"group A\",\"some college\",\"free/reduced\",\"none\",\"58\",\"60\",\"57\"\\n\"male\",\"group B\",\"high school\",\"standard\",\"none\",\"52\",\"48\",\"49\"\\n\"male\",\"group D\",\"bachelor\\'s degree\",\"standard\",\"none\",\"75\",\"73\",\"74\"\\n\"female\",\"group B\",\"some high school\",\"free/reduced\",\"completed\",\"52\",\"67\",\"72\"\\n\"female\",\"group C\",\"bachelor\\'s degree\",\"free/reduced\",\"none\",\"62\",\"78\",\"79\"\\n\"male\",\"group B\",\"some college\",\"standard\",\"none\",\"66\",\"65\",\"60\"\\n\"female\",\"group B\",\"some high school\",\"free/reduced\",\"none\",\"49\",\"58\",\"55\"\\n\"female\",\"group B\",\"high school\",\"standard\",\"none\",\"66\",\"72\",\"70\"\\n\"female\",\"group C\",\"some college\",\"free/reduced\",\"none\",\"35\",\"44\",\"43\"\\n\"female\",\"group A\",\"some college\",\"standard\",\"completed\",\"72\",\"79\",\"82\"\\n\"male\",\"group E\",\"associate\\'s degree\",\"standard\",\"completed\",\"94\",\"85\",\"82\"\\n\"female\",\"group D\",\"associate\\'s degree\",\"free/reduced\",\"none\",\"46\",\"56\",\"57\"\\n\"female\",\"group B\",\"master\\'s degree\",\"standard\",\"none\",\"77\",\"90\",\"84\"\\n\"female\",\"group B\",\"high school\",\"free/reduced\",\"completed\",\"76\",\"85\",\"82\"\\n\"female\",\"group C\",\"associate\\'s degree\",\"standard\",\"completed\",\"52\",\"59\",\"62\"\\n\"male\",\"group C\",\"bachelor\\'s degree\",\"standard\",\"completed\",\"91\",\"81\",\"79\"\\n\"female\",\"group B\",\"some high school\",\"standard\",\"completed\",\"32\",\"51\",\"44\"\\n\"female\",\"group E\",\"some high school\",\"free/reduced\",\"none\",\"72\",\"79\",\"77\"\\n\"female\",\"group B\",\"some college\",\"standard\",\"none\",\"19\",\"38\",\"32\"\\n\"male\",\"group C\",\"associate\\'s degree\",\"free/reduced\",\"none\",\"68\",\"65\",\"61\"\\n\"female\",\"group C\",\"master\\'s degree\",\"free/reduced\",\"none\",\"52\",\"65\",\"61\"\\n\"female\",\"group B\",\"high school\",\"standard\",\"none\",\"48\",\"62\",\"60\"\\n\"female\",\"group D\",\"some college\",\"free/reduced\",\"none\",\"60\",\"66\",\"70\"\\n\"male\",\"group D\",\"high school\",\"free/reduced\",\"none\",\"66\",\"74\",\"69\"\\n\"male\",\"group E\",\"some high school\",\"standard\",\"completed\",\"89\",\"84\",\"77\"\\n\"female\",\"group B\",\"high school\",\"standard\",\"none\",\"42\",\"52\",\"51\"\\n\"female\",\"group E\",\"associate\\'s degree\",\"free/reduced\",\"completed\",\"57\",\"68\",\"73\"\\n\"male\",\"group D\",\"high school\",\"standard\",\"none\",\"70\",\"70\",\"70\"\\n\"female\",\"group E\",\"associate\\'s degree\",\"free/reduced\",\"none\",\"70\",\"84\",\"81\"\\n\"male\",\"group E\",\"some college\",\"standard\",\"none\",\"69\",\"60\",\"54\"\\n\"female\",\"group C\",\"associate\\'s degree\",\"standard\",\"none\",\"52\",\"55\",\"57\"\\n\"male\",\"group C\",\"some high school\",\"standard\",\"completed\",\"67\",\"73\",\"68\"\\n\"male\",\"group C\",\"some high school\",\"standard\",\"completed\",\"76\",\"80\",\"73\"\\n\"female\",\"group E\",\"associate\\'s degree\",\"standard\",\"none\",\"87\",\"94\",\"95\"\\n\"female\",\"group B\",\"some college\",\"standard\",\"none\",\"82\",\"85\",\"87\"\\n\"female\",\"group C\",\"some college\",\"standard\",\"none\",\"73\",\"76\",\"78\"\\n\"male\",\"group A\",\"some college\",\"free/reduced\",\"none\",\"75\",\"81\",\"74\"\\n\"female\",\"group D\",\"some college\",\"free/reduced\",\"none\",\"64\",\"74\",\"75\"\\n\"female\",\"group E\",\"high school\",\"free/reduced\",\"none\",\"41\",\"45\",\"40\"\\n\"male\",\"group C\",\"high school\",\"standard\",\"none\",\"90\",\"75\",\"69\"\\n\"male\",\"group B\",\"bachelor\\'s degree\",\"standard\",\"none\",\"59\",\"54\",\"51\"\\n\"male\",\"group A\",\"some high school\",\"standard\",\"none\",\"51\",\"31\",\"36\"\\n\"male\",\"group A\",\"high school\",\"free/reduced\",\"none\",\"45\",\"47\",\"49\"\\n\"female\",\"group C\",\"master\\'s degree\",\"standard\",\"completed\",\"54\",\"64\",\"67\"\\n\"male\",\"group E\",\"some high school\",\"standard\",\"completed\",\"87\",\"84\",\"76\"\\n\"female\",\"group C\",\"high school\",\"standard\",\"none\",\"72\",\"80\",\"83\"\\n\"male\",\"group B\",\"some high school\",\"standard\",\"completed\",\"94\",\"86\",\"87\"\\n\"female\",\"group A\",\"bachelor\\'s degree\",\"standard\",\"none\",\"45\",\"59\",\"64\"\\n\"male\",\"group D\",\"bachelor\\'s degree\",\"free/reduced\",\"completed\",\"61\",\"70\",\"76\"\\n\"female\",\"group B\",\"high school\",\"free/reduced\",\"none\",\"60\",\"72\",\"68\"\\n\"female\",\"group C\",\"some high school\",\"standard\",\"none\",\"77\",\"91\",\"88\"\\n\"female\",\"group A\",\"some high school\",\"standard\",\"completed\",\"85\",\"90\",\"92\"\\n\"female\",\"group D\",\"bachelor\\'s degree\",\"free/reduced\",\"none\",\"78\",\"90\",\"93\"\\n\"male\",\"group E\",\"some college\",\"free/reduced\",\"completed\",\"49\",\"52\",\"51\"\\n\"female\",\"group B\",\"high school\",\"free/reduced\",\"none\",\"71\",\"87\",\"82\"\\n\"female\",\"group C\",\"some high school\",\"free/reduced\",\"none\",\"48\",\"58\",\"52\"\\n\"male\",\"group C\",\"high school\",\"standard\",\"none\",\"62\",\"67\",\"58\"\\n\"female\",\"group C\",\"associate\\'s degree\",\"free/reduced\",\"completed\",\"56\",\"68\",\"70\"\\n\"female\",\"group C\",\"some high school\",\"standard\",\"none\",\"65\",\"69\",\"76\"\\n\"female\",\"group D\",\"some high school\",\"free/reduced\",\"completed\",\"69\",\"86\",\"81\"\\n\"male\",\"group B\",\"some high school\",\"standard\",\"none\",\"68\",\"54\",\"53\"\\n\"female\",\"group A\",\"some college\",\"free/reduced\",\"none\",\"61\",\"60\",\"57\"\\n\"female\",\"group C\",\"bachelor\\'s degree\",\"free/reduced\",\"completed\",\"74\",\"86\",\"89\"\\n\"male\",\"group A\",\"bachelor\\'s degree\",\"standard\",\"none\",\"64\",\"60\",\"58\"\\n\"female\",\"group B\",\"high school\",\"standard\",\"completed\",\"77\",\"82\",\"89\"\\n\"male\",\"group B\",\"some college\",\"standard\",\"none\",\"58\",\"50\",\"45\"\\n\"female\",\"group C\",\"high school\",\"standard\",\"completed\",\"60\",\"64\",\"74\"\\n\"male\",\"group E\",\"high school\",\"standard\",\"none\",\"73\",\"64\",\"57\"\\n\"female\",\"group A\",\"high school\",\"standard\",\"completed\",\"75\",\"82\",\"79\"\\n\"male\",\"group B\",\"associate\\'s degree\",\"free/reduced\",\"completed\",\"58\",\"57\",\"53\"\\n\"female\",\"group C\",\"associate\\'s degree\",\"standard\",\"none\",\"66\",\"77\",\"73\"\\n\"female\",\"group D\",\"high school\",\"free/reduced\",\"none\",\"39\",\"52\",\"46\"\\n\"male\",\"group C\",\"some high school\",\"standard\",\"none\",\"64\",\"58\",\"51\"\\n\"female\",\"group B\",\"high school\",\"free/reduced\",\"completed\",\"23\",\"44\",\"36\"\\n\"male\",\"group B\",\"some college\",\"free/reduced\",\"completed\",\"74\",\"77\",\"76\"\\n\"female\",\"group D\",\"some high school\",\"free/reduced\",\"completed\",\"40\",\"65\",\"64\"\\n\"male\",\"group E\",\"master\\'s degree\",\"standard\",\"none\",\"90\",\"85\",\"84\"\\n\"male\",\"group C\",\"master\\'s degree\",\"standard\",\"completed\",\"91\",\"85\",\"85\"\\n\"male\",\"group D\",\"high school\",\"standard\",\"none\",\"64\",\"54\",\"50\"\\n\"female\",\"group C\",\"high school\",\"standard\",\"none\",\"59\",\"72\",\"68\"\\n\"male\",\"group D\",\"associate\\'s degree\",\"standard\",\"none\",\"80\",\"75\",\"69\"\\n\"male\",\"group C\",\"master\\'s degree\",\"standard\",\"none\",\"71\",\"67\",\"67\"\\n\"female\",\"group A\",\"high school\",\"standard\",\"none\",\"61\",\"68\",\"63\"\\n\"female\",\"group E\",\"some college\",\"standard\",\"none\",\"87\",\"85\",\"93\"\\n\"male\",\"group E\",\"some high school\",\"standard\",\"none\",\"82\",\"67\",\"61\"\\n\"male\",\"group C\",\"some high school\",\"standard\",\"none\",\"62\",\"64\",\"55\"\\n\"female\",\"group B\",\"bachelor\\'s degree\",\"standard\",\"none\",\"97\",\"97\",\"96\"\\n\"male\",\"group B\",\"some college\",\"free/reduced\",\"none\",\"75\",\"68\",\"65\"\\n\"female\",\"group C\",\"bachelor\\'s degree\",\"standard\",\"none\",\"65\",\"79\",\"81\"\\n\"male\",\"group B\",\"high school\",\"standard\",\"completed\",\"52\",\"49\",\"46\"\\n\"male\",\"group C\",\"associate\\'s degree\",\"free/reduced\",\"none\",\"87\",\"73\",\"72\"\\n\"female\",\"group C\",\"associate\\'s degree\",\"standard\",\"none\",\"53\",\"62\",\"53\"\\n\"female\",\"group E\",\"master\\'s degree\",\"free/reduced\",\"none\",\"81\",\"86\",\"87\"\\n\"male\",\"group D\",\"bachelor\\'s degree\",\"free/reduced\",\"completed\",\"39\",\"42\",\"38\"\\n\"female\",\"group C\",\"some college\",\"standard\",\"completed\",\"71\",\"71\",\"80\"\\n\"male\",\"group C\",\"associate\\'s degree\",\"standard\",\"none\",\"97\",\"93\",\"91\"\\n\"male\",\"group D\",\"some college\",\"standard\",\"completed\",\"82\",\"82\",\"88\"\\n\"male\",\"group C\",\"high school\",\"free/reduced\",\"none\",\"59\",\"53\",\"52\"\\n\"male\",\"group B\",\"associate\\'s degree\",\"standard\",\"none\",\"61\",\"42\",\"41\"\\n\"male\",\"group E\",\"associate\\'s degree\",\"free/reduced\",\"completed\",\"78\",\"74\",\"72\"\\n\"male\",\"group C\",\"associate\\'s degree\",\"free/reduced\",\"none\",\"49\",\"51\",\"51\"\\n\"male\",\"group B\",\"high school\",\"standard\",\"none\",\"59\",\"58\",\"47\"\\n\"female\",\"group C\",\"some college\",\"standard\",\"completed\",\"70\",\"72\",\"76\"\\n\"male\",\"group B\",\"associate\\'s degree\",\"standard\",\"completed\",\"82\",\"84\",\"78\"\\n\"male\",\"group E\",\"associate\\'s degree\",\"free/reduced\",\"none\",\"90\",\"90\",\"82\"\\n\"female\",\"group C\",\"bachelor\\'s degree\",\"free/reduced\",\"none\",\"43\",\"62\",\"61\"\\n\"male\",\"group C\",\"some college\",\"free/reduced\",\"none\",\"80\",\"64\",\"66\"\\n\"male\",\"group D\",\"some college\",\"standard\",\"none\",\"81\",\"82\",\"84\"\\n\"male\",\"group C\",\"some high school\",\"standard\",\"none\",\"57\",\"61\",\"54\"\\n\"female\",\"group D\",\"some high school\",\"standard\",\"none\",\"59\",\"72\",\"80\"\\n\"female\",\"group D\",\"associate\\'s degree\",\"standard\",\"none\",\"64\",\"76\",\"74\"\\n\"male\",\"group C\",\"bachelor\\'s degree\",\"standard\",\"completed\",\"63\",\"64\",\"66\"\\n\"female\",\"group E\",\"bachelor\\'s degree\",\"standard\",\"completed\",\"71\",\"70\",\"70\"\\n\"female\",\"group B\",\"high school\",\"free/reduced\",\"none\",\"64\",\"73\",\"71\"\\n\"male\",\"group D\",\"bachelor\\'s degree\",\"free/reduced\",\"none\",\"55\",\"46\",\"44\"\\n\"female\",\"group E\",\"associate\\'s degree\",\"standard\",\"none\",\"51\",\"51\",\"54\"\\n\"female\",\"group C\",\"associate\\'s degree\",\"standard\",\"completed\",\"62\",\"76\",\"80\"\\n\"female\",\"group E\",\"associate\\'s degree\",\"standard\",\"completed\",\"93\",\"100\",\"95\"\\n\"male\",\"group C\",\"high school\",\"free/reduced\",\"none\",\"54\",\"72\",\"59\"\\n\"female\",\"group D\",\"some college\",\"free/reduced\",\"none\",\"69\",\"65\",\"74\"\\n\"male\",\"group D\",\"high school\",\"free/reduced\",\"none\",\"44\",\"51\",\"48\"\\n\"female\",\"group E\",\"some college\",\"standard\",\"completed\",\"86\",\"85\",\"91\"\\n\"female\",\"group E\",\"associate\\'s degree\",\"standard\",\"none\",\"85\",\"92\",\"85\"\\n\"female\",\"group A\",\"master\\'s degree\",\"free/reduced\",\"none\",\"50\",\"67\",\"73\"\\n\"male\",\"group D\",\"some high school\",\"standard\",\"completed\",\"88\",\"74\",\"75\"\\n\"female\",\"group E\",\"associate\\'s degree\",\"standard\",\"none\",\"59\",\"62\",\"69\"\\n\"female\",\"group E\",\"some high school\",\"free/reduced\",\"none\",\"32\",\"34\",\"38\"\\n\"male\",\"group B\",\"high school\",\"free/reduced\",\"none\",\"36\",\"29\",\"27\"\\n\"female\",\"group B\",\"some high school\",\"free/reduced\",\"completed\",\"63\",\"78\",\"79\"\\n\"male\",\"group D\",\"associate\\'s degree\",\"standard\",\"completed\",\"67\",\"54\",\"63\"\\n\"female\",\"group D\",\"some high school\",\"standard\",\"completed\",\"65\",\"78\",\"82\"\\n\"male\",\"group D\",\"master\\'s degree\",\"standard\",\"none\",\"85\",\"84\",\"89\"\\n\"female\",\"group C\",\"master\\'s degree\",\"standard\",\"none\",\"73\",\"78\",\"74\"\\n\"female\",\"group A\",\"high school\",\"free/reduced\",\"completed\",\"34\",\"48\",\"41\"\\n\"female\",\"group D\",\"bachelor\\'s degree\",\"free/reduced\",\"completed\",\"93\",\"100\",\"100\"\\n\"female\",\"group D\",\"some high school\",\"free/reduced\",\"none\",\"67\",\"84\",\"84\"\\n\"male\",\"group D\",\"some college\",\"standard\",\"none\",\"88\",\"77\",\"77\"\\n\"male\",\"group B\",\"high school\",\"standard\",\"none\",\"57\",\"48\",\"51\"\\n\"female\",\"group D\",\"some college\",\"standard\",\"completed\",\"79\",\"84\",\"91\"\\n\"female\",\"group C\",\"bachelor\\'s degree\",\"free/reduced\",\"none\",\"67\",\"75\",\"72\"\\n\"male\",\"group E\",\"bachelor\\'s degree\",\"standard\",\"completed\",\"70\",\"64\",\"70\"\\n\"male\",\"group D\",\"bachelor\\'s degree\",\"free/reduced\",\"none\",\"50\",\"42\",\"48\"\\n\"female\",\"group A\",\"some college\",\"standard\",\"none\",\"69\",\"84\",\"82\"\\n\"female\",\"group C\",\"bachelor\\'s degree\",\"standard\",\"completed\",\"52\",\"61\",\"66\"\\n\"female\",\"group C\",\"bachelor\\'s degree\",\"free/reduced\",\"completed\",\"47\",\"62\",\"66\"\\n\"female\",\"group B\",\"associate\\'s degree\",\"free/reduced\",\"none\",\"46\",\"61\",\"55\"\\n\"female\",\"group E\",\"some college\",\"standard\",\"none\",\"68\",\"70\",\"66\"\\n\"male\",\"group E\",\"bachelor\\'s degree\",\"standard\",\"completed\",\"100\",\"100\",\"100\"\\n\"female\",\"group C\",\"high school\",\"standard\",\"none\",\"44\",\"61\",\"52\"\\n\"female\",\"group C\",\"associate\\'s degree\",\"standard\",\"completed\",\"57\",\"77\",\"80\"\\n\"male\",\"group B\",\"some college\",\"standard\",\"completed\",\"91\",\"96\",\"91\"\\n\"male\",\"group D\",\"high school\",\"free/reduced\",\"none\",\"69\",\"70\",\"67\"\\n\"female\",\"group C\",\"high school\",\"free/reduced\",\"none\",\"35\",\"53\",\"46\"\\n\"male\",\"group D\",\"high school\",\"standard\",\"none\",\"72\",\"66\",\"66\"\\n\"female\",\"group B\",\"associate\\'s degree\",\"free/reduced\",\"none\",\"54\",\"65\",\"65\"\\n\"male\",\"group D\",\"high school\",\"free/reduced\",\"none\",\"74\",\"70\",\"69\"\\n\"male\",\"group E\",\"some high school\",\"standard\",\"completed\",\"74\",\"64\",\"60\"\\n\"male\",\"group E\",\"associate\\'s degree\",\"free/reduced\",\"none\",\"64\",\"56\",\"52\"\\n\"female\",\"group D\",\"high school\",\"free/reduced\",\"completed\",\"65\",\"61\",\"71\"\\n\"male\",\"group E\",\"associate\\'s degree\",\"free/reduced\",\"completed\",\"46\",\"43\",\"44\"\\n\"female\",\"group C\",\"some high school\",\"free/reduced\",\"none\",\"48\",\"56\",\"51\"\\n\"male\",\"group C\",\"some college\",\"free/reduced\",\"completed\",\"67\",\"74\",\"70\"\\n\"male\",\"group D\",\"some college\",\"free/reduced\",\"none\",\"62\",\"57\",\"62\"\\n\"male\",\"group D\",\"associate\\'s degree\",\"free/reduced\",\"completed\",\"61\",\"71\",\"73\"\\n\"male\",\"group C\",\"bachelor\\'s degree\",\"free/reduced\",\"completed\",\"70\",\"75\",\"74\"\\n\"male\",\"group C\",\"associate\\'s degree\",\"standard\",\"completed\",\"98\",\"87\",\"90\"\\n\"male\",\"group D\",\"some college\",\"free/reduced\",\"none\",\"70\",\"63\",\"58\"\\n\"male\",\"group A\",\"associate\\'s degree\",\"standard\",\"none\",\"67\",\"57\",\"53\"\\n\"female\",\"group E\",\"high school\",\"free/reduced\",\"none\",\"57\",\"58\",\"57\"\\n\"male\",\"group D\",\"some college\",\"standard\",\"completed\",\"85\",\"81\",\"85\"\\n\"male\",\"group D\",\"some high school\",\"standard\",\"completed\",\"77\",\"68\",\"69\"\\n\"male\",\"group C\",\"master\\'s degree\",\"free/reduced\",\"completed\",\"72\",\"66\",\"72\"\\n\"female\",\"group D\",\"master\\'s degree\",\"standard\",\"none\",\"78\",\"91\",\"96\"\\n\"male\",\"group C\",\"high school\",\"standard\",\"none\",\"81\",\"66\",\"64\"\\n\"male\",\"group A\",\"some high school\",\"free/reduced\",\"completed\",\"61\",\"62\",\"61\"\\n\"female\",\"group B\",\"high school\",\"standard\",\"none\",\"58\",\"68\",\"61\"\\n\"female\",\"group C\",\"associate\\'s degree\",\"standard\",\"none\",\"54\",\"61\",\"58\"\\n\"male\",\"group B\",\"high school\",\"standard\",\"none\",\"82\",\"82\",\"80\"\\n\"female\",\"group D\",\"some college\",\"free/reduced\",\"none\",\"49\",\"58\",\"60\"\\n\"male\",\"group B\",\"some high school\",\"free/reduced\",\"completed\",\"49\",\"50\",\"52\"\\n\"female\",\"group E\",\"high school\",\"free/reduced\",\"completed\",\"57\",\"75\",\"73\"\\n\"male\",\"group E\",\"high school\",\"standard\",\"none\",\"94\",\"73\",\"71\"\\n\"female\",\"group D\",\"some college\",\"standard\",\"completed\",\"75\",\"77\",\"83\"\\n\"female\",\"group E\",\"some high school\",\"free/reduced\",\"none\",\"74\",\"74\",\"72\"\\n\"male\",\"group C\",\"high school\",\"standard\",\"completed\",\"58\",\"52\",\"54\"\\n\"female\",\"group C\",\"some college\",\"standard\",\"none\",\"62\",\"69\",\"69\"\\n\"male\",\"group E\",\"associate\\'s degree\",\"standard\",\"none\",\"72\",\"57\",\"62\"\\n\"male\",\"group C\",\"some college\",\"standard\",\"none\",\"84\",\"87\",\"81\"\\n\"female\",\"group D\",\"master\\'s degree\",\"standard\",\"none\",\"92\",\"100\",\"100\"\\n\"female\",\"group D\",\"high school\",\"standard\",\"none\",\"45\",\"63\",\"59\"\\n\"male\",\"group C\",\"high school\",\"standard\",\"none\",\"75\",\"81\",\"71\"\\n\"female\",\"group A\",\"some college\",\"standard\",\"none\",\"56\",\"58\",\"64\"\\n\"female\",\"group D\",\"some high school\",\"free/reduced\",\"none\",\"48\",\"54\",\"53\"\\n\"female\",\"group E\",\"associate\\'s degree\",\"standard\",\"none\",\"100\",\"100\",\"100\"\\n\"female\",\"group C\",\"some high school\",\"free/reduced\",\"completed\",\"65\",\"76\",\"75\"\\n\"male\",\"group D\",\"some college\",\"standard\",\"none\",\"72\",\"57\",\"58\"\\n\"female\",\"group D\",\"some college\",\"standard\",\"none\",\"62\",\"70\",\"72\"\\n\"male\",\"group A\",\"some high school\",\"standard\",\"completed\",\"66\",\"68\",\"64\"\\n\"male\",\"group C\",\"some college\",\"standard\",\"none\",\"63\",\"63\",\"60\"\\n\"female\",\"group E\",\"associate\\'s degree\",\"standard\",\"none\",\"68\",\"76\",\"67\"\\n\"female\",\"group B\",\"bachelor\\'s degree\",\"standard\",\"none\",\"75\",\"84\",\"80\"\\n\"female\",\"group D\",\"bachelor\\'s degree\",\"standard\",\"none\",\"89\",\"100\",\"100\"\\n\"male\",\"group C\",\"some high school\",\"standard\",\"completed\",\"78\",\"72\",\"69\"\\n\"female\",\"group A\",\"high school\",\"free/reduced\",\"completed\",\"53\",\"50\",\"60\"\\n\"female\",\"group D\",\"some college\",\"free/reduced\",\"none\",\"49\",\"65\",\"61\"\\n\"female\",\"group A\",\"some college\",\"standard\",\"none\",\"54\",\"63\",\"67\"\\n\"female\",\"group C\",\"some college\",\"standard\",\"completed\",\"64\",\"82\",\"77\"\\n\"male\",\"group B\",\"some college\",\"free/reduced\",\"completed\",\"60\",\"62\",\"60\"\\n\"male\",\"group C\",\"associate\\'s degree\",\"standard\",\"none\",\"62\",\"65\",\"58\"\\n\"male\",\"group D\",\"high school\",\"standard\",\"completed\",\"55\",\"41\",\"48\"\\n\"female\",\"group C\",\"associate\\'s degree\",\"standard\",\"none\",\"91\",\"95\",\"94\"\\n\"female\",\"group B\",\"high school\",\"free/reduced\",\"none\",\"8\",\"24\",\"23\"\\n\"male\",\"group D\",\"some high school\",\"standard\",\"none\",\"81\",\"78\",\"78\"\\n\"male\",\"group B\",\"some high school\",\"standard\",\"completed\",\"79\",\"85\",\"86\"\\n\"female\",\"group A\",\"some college\",\"standard\",\"completed\",\"78\",\"87\",\"91\"\\n\"female\",\"group C\",\"some high school\",\"standard\",\"none\",\"74\",\"75\",\"82\"\\n\"male\",\"group A\",\"high school\",\"standard\",\"none\",\"57\",\"51\",\"54\"\\n\"female\",\"group C\",\"associate\\'s degree\",\"standard\",\"none\",\"40\",\"59\",\"51\"\\n\"male\",\"group E\",\"some high school\",\"standard\",\"completed\",\"81\",\"75\",\"76\"\\n\"female\",\"group A\",\"some high school\",\"free/reduced\",\"none\",\"44\",\"45\",\"45\"\\n\"female\",\"group D\",\"some college\",\"free/reduced\",\"completed\",\"67\",\"86\",\"83\"\\n\"male\",\"group E\",\"high school\",\"free/reduced\",\"completed\",\"86\",\"81\",\"75\"\\n\"female\",\"group B\",\"some high school\",\"standard\",\"completed\",\"65\",\"82\",\"78\"\\n\"female\",\"group D\",\"associate\\'s degree\",\"free/reduced\",\"none\",\"55\",\"76\",\"76\"\\n\"female\",\"group D\",\"bachelor\\'s degree\",\"free/reduced\",\"none\",\"62\",\"72\",\"74\"\\n\"male\",\"group A\",\"high school\",\"standard\",\"none\",\"63\",\"63\",\"62\"\\n\"female\",\"group E\",\"master\\'s degree\",\"standard\",\"completed\",\"88\",\"99\",\"95\"\\n\"male\",\"group C\",\"high school\",\"free/reduced\",\"none\",\"62\",\"55\",\"55\"\\n\"female\",\"group C\",\"high school\",\"free/reduced\",\"completed\",\"59\",\"71\",\"65\"\\n\"female\",\"group D\",\"some college\",\"standard\",\"completed\",\"68\",\"78\",\"77\"\\n\"female\",\"group D\",\"some college\",\"free/reduced\",\"none\",\"77\",\"86\",\"86\"\\n'}"
            ]
          },
          "metadata": {},
          "execution_count": 2
        }
      ]
    },
    {
      "cell_type": "code",
      "source": [
        "df_exams = pd.read_csv('StudentsPerformance.csv')"
      ],
      "metadata": {
        "id": "T0tUTAHZWGsF"
      },
      "execution_count": null,
      "outputs": []
    },
    {
      "cell_type": "code",
      "source": [
        "df_exams"
      ],
      "metadata": {
        "colab": {
          "base_uri": "https://localhost:8080/",
          "height": 424
        },
        "id": "SA1Qba0lYgoA",
        "outputId": "63dfd921-fdce-4078-f4e8-6c5f9bd258bc"
      },
      "execution_count": null,
      "outputs": [
        {
          "output_type": "execute_result",
          "data": {
            "text/html": [
              "\n",
              "  <div id=\"df-c435acac-eb21-42e9-8f09-66f5a205def1\">\n",
              "    <div class=\"colab-df-container\">\n",
              "      <div>\n",
              "<style scoped>\n",
              "    .dataframe tbody tr th:only-of-type {\n",
              "        vertical-align: middle;\n",
              "    }\n",
              "\n",
              "    .dataframe tbody tr th {\n",
              "        vertical-align: top;\n",
              "    }\n",
              "\n",
              "    .dataframe thead th {\n",
              "        text-align: right;\n",
              "    }\n",
              "</style>\n",
              "<table border=\"1\" class=\"dataframe\">\n",
              "  <thead>\n",
              "    <tr style=\"text-align: right;\">\n",
              "      <th></th>\n",
              "      <th>gender</th>\n",
              "      <th>race/ethnicity</th>\n",
              "      <th>parental level of education</th>\n",
              "      <th>lunch</th>\n",
              "      <th>test preparation course</th>\n",
              "      <th>math score</th>\n",
              "      <th>reading score</th>\n",
              "      <th>writing score</th>\n",
              "    </tr>\n",
              "  </thead>\n",
              "  <tbody>\n",
              "    <tr>\n",
              "      <th>0</th>\n",
              "      <td>female</td>\n",
              "      <td>group B</td>\n",
              "      <td>bachelor's degree</td>\n",
              "      <td>standard</td>\n",
              "      <td>none</td>\n",
              "      <td>72</td>\n",
              "      <td>72</td>\n",
              "      <td>74</td>\n",
              "    </tr>\n",
              "    <tr>\n",
              "      <th>1</th>\n",
              "      <td>female</td>\n",
              "      <td>group C</td>\n",
              "      <td>some college</td>\n",
              "      <td>standard</td>\n",
              "      <td>completed</td>\n",
              "      <td>69</td>\n",
              "      <td>90</td>\n",
              "      <td>88</td>\n",
              "    </tr>\n",
              "    <tr>\n",
              "      <th>2</th>\n",
              "      <td>female</td>\n",
              "      <td>group B</td>\n",
              "      <td>master's degree</td>\n",
              "      <td>standard</td>\n",
              "      <td>none</td>\n",
              "      <td>90</td>\n",
              "      <td>95</td>\n",
              "      <td>93</td>\n",
              "    </tr>\n",
              "    <tr>\n",
              "      <th>3</th>\n",
              "      <td>male</td>\n",
              "      <td>group A</td>\n",
              "      <td>associate's degree</td>\n",
              "      <td>free/reduced</td>\n",
              "      <td>none</td>\n",
              "      <td>47</td>\n",
              "      <td>57</td>\n",
              "      <td>44</td>\n",
              "    </tr>\n",
              "    <tr>\n",
              "      <th>4</th>\n",
              "      <td>male</td>\n",
              "      <td>group C</td>\n",
              "      <td>some college</td>\n",
              "      <td>standard</td>\n",
              "      <td>none</td>\n",
              "      <td>76</td>\n",
              "      <td>78</td>\n",
              "      <td>75</td>\n",
              "    </tr>\n",
              "    <tr>\n",
              "      <th>...</th>\n",
              "      <td>...</td>\n",
              "      <td>...</td>\n",
              "      <td>...</td>\n",
              "      <td>...</td>\n",
              "      <td>...</td>\n",
              "      <td>...</td>\n",
              "      <td>...</td>\n",
              "      <td>...</td>\n",
              "    </tr>\n",
              "    <tr>\n",
              "      <th>995</th>\n",
              "      <td>female</td>\n",
              "      <td>group E</td>\n",
              "      <td>master's degree</td>\n",
              "      <td>standard</td>\n",
              "      <td>completed</td>\n",
              "      <td>88</td>\n",
              "      <td>99</td>\n",
              "      <td>95</td>\n",
              "    </tr>\n",
              "    <tr>\n",
              "      <th>996</th>\n",
              "      <td>male</td>\n",
              "      <td>group C</td>\n",
              "      <td>high school</td>\n",
              "      <td>free/reduced</td>\n",
              "      <td>none</td>\n",
              "      <td>62</td>\n",
              "      <td>55</td>\n",
              "      <td>55</td>\n",
              "    </tr>\n",
              "    <tr>\n",
              "      <th>997</th>\n",
              "      <td>female</td>\n",
              "      <td>group C</td>\n",
              "      <td>high school</td>\n",
              "      <td>free/reduced</td>\n",
              "      <td>completed</td>\n",
              "      <td>59</td>\n",
              "      <td>71</td>\n",
              "      <td>65</td>\n",
              "    </tr>\n",
              "    <tr>\n",
              "      <th>998</th>\n",
              "      <td>female</td>\n",
              "      <td>group D</td>\n",
              "      <td>some college</td>\n",
              "      <td>standard</td>\n",
              "      <td>completed</td>\n",
              "      <td>68</td>\n",
              "      <td>78</td>\n",
              "      <td>77</td>\n",
              "    </tr>\n",
              "    <tr>\n",
              "      <th>999</th>\n",
              "      <td>female</td>\n",
              "      <td>group D</td>\n",
              "      <td>some college</td>\n",
              "      <td>free/reduced</td>\n",
              "      <td>none</td>\n",
              "      <td>77</td>\n",
              "      <td>86</td>\n",
              "      <td>86</td>\n",
              "    </tr>\n",
              "  </tbody>\n",
              "</table>\n",
              "<p>1000 rows × 8 columns</p>\n",
              "</div>\n",
              "      <button class=\"colab-df-convert\" onclick=\"convertToInteractive('df-c435acac-eb21-42e9-8f09-66f5a205def1')\"\n",
              "              title=\"Convert this dataframe to an interactive table.\"\n",
              "              style=\"display:none;\">\n",
              "        \n",
              "  <svg xmlns=\"http://www.w3.org/2000/svg\" height=\"24px\"viewBox=\"0 0 24 24\"\n",
              "       width=\"24px\">\n",
              "    <path d=\"M0 0h24v24H0V0z\" fill=\"none\"/>\n",
              "    <path d=\"M18.56 5.44l.94 2.06.94-2.06 2.06-.94-2.06-.94-.94-2.06-.94 2.06-2.06.94zm-11 1L8.5 8.5l.94-2.06 2.06-.94-2.06-.94L8.5 2.5l-.94 2.06-2.06.94zm10 10l.94 2.06.94-2.06 2.06-.94-2.06-.94-.94-2.06-.94 2.06-2.06.94z\"/><path d=\"M17.41 7.96l-1.37-1.37c-.4-.4-.92-.59-1.43-.59-.52 0-1.04.2-1.43.59L10.3 9.45l-7.72 7.72c-.78.78-.78 2.05 0 2.83L4 21.41c.39.39.9.59 1.41.59.51 0 1.02-.2 1.41-.59l7.78-7.78 2.81-2.81c.8-.78.8-2.07 0-2.86zM5.41 20L4 18.59l7.72-7.72 1.47 1.35L5.41 20z\"/>\n",
              "  </svg>\n",
              "      </button>\n",
              "      \n",
              "  <style>\n",
              "    .colab-df-container {\n",
              "      display:flex;\n",
              "      flex-wrap:wrap;\n",
              "      gap: 12px;\n",
              "    }\n",
              "\n",
              "    .colab-df-convert {\n",
              "      background-color: #E8F0FE;\n",
              "      border: none;\n",
              "      border-radius: 50%;\n",
              "      cursor: pointer;\n",
              "      display: none;\n",
              "      fill: #1967D2;\n",
              "      height: 32px;\n",
              "      padding: 0 0 0 0;\n",
              "      width: 32px;\n",
              "    }\n",
              "\n",
              "    .colab-df-convert:hover {\n",
              "      background-color: #E2EBFA;\n",
              "      box-shadow: 0px 1px 2px rgba(60, 64, 67, 0.3), 0px 1px 3px 1px rgba(60, 64, 67, 0.15);\n",
              "      fill: #174EA6;\n",
              "    }\n",
              "\n",
              "    [theme=dark] .colab-df-convert {\n",
              "      background-color: #3B4455;\n",
              "      fill: #D2E3FC;\n",
              "    }\n",
              "\n",
              "    [theme=dark] .colab-df-convert:hover {\n",
              "      background-color: #434B5C;\n",
              "      box-shadow: 0px 1px 3px 1px rgba(0, 0, 0, 0.15);\n",
              "      filter: drop-shadow(0px 1px 2px rgba(0, 0, 0, 0.3));\n",
              "      fill: #FFFFFF;\n",
              "    }\n",
              "  </style>\n",
              "\n",
              "      <script>\n",
              "        const buttonEl =\n",
              "          document.querySelector('#df-c435acac-eb21-42e9-8f09-66f5a205def1 button.colab-df-convert');\n",
              "        buttonEl.style.display =\n",
              "          google.colab.kernel.accessAllowed ? 'block' : 'none';\n",
              "\n",
              "        async function convertToInteractive(key) {\n",
              "          const element = document.querySelector('#df-c435acac-eb21-42e9-8f09-66f5a205def1');\n",
              "          const dataTable =\n",
              "            await google.colab.kernel.invokeFunction('convertToInteractive',\n",
              "                                                     [key], {});\n",
              "          if (!dataTable) return;\n",
              "\n",
              "          const docLinkHtml = 'Like what you see? Visit the ' +\n",
              "            '<a target=\"_blank\" href=https://colab.research.google.com/notebooks/data_table.ipynb>data table notebook</a>'\n",
              "            + ' to learn more about interactive tables.';\n",
              "          element.innerHTML = '';\n",
              "          dataTable['output_type'] = 'display_data';\n",
              "          await google.colab.output.renderOutput(dataTable, element);\n",
              "          const docLink = document.createElement('div');\n",
              "          docLink.innerHTML = docLinkHtml;\n",
              "          element.appendChild(docLink);\n",
              "        }\n",
              "      </script>\n",
              "    </div>\n",
              "  </div>\n",
              "  "
            ],
            "text/plain": [
              "     gender race/ethnicity  ... reading score writing score\n",
              "0    female        group B  ...            72            74\n",
              "1    female        group C  ...            90            88\n",
              "2    female        group B  ...            95            93\n",
              "3      male        group A  ...            57            44\n",
              "4      male        group C  ...            78            75\n",
              "..      ...            ...  ...           ...           ...\n",
              "995  female        group E  ...            99            95\n",
              "996    male        group C  ...            55            55\n",
              "997  female        group C  ...            71            65\n",
              "998  female        group D  ...            78            77\n",
              "999  female        group D  ...            86            86\n",
              "\n",
              "[1000 rows x 8 columns]"
            ]
          },
          "metadata": {},
          "execution_count": 6
        }
      ]
    },
    {
      "cell_type": "markdown",
      "source": [
        "### Pandas Function"
      ],
      "metadata": {
        "id": "hIM0QvPmtnFH"
      }
    },
    {
      "cell_type": "code",
      "source": [
        "df_exams.head()"
      ],
      "metadata": {
        "colab": {
          "base_uri": "https://localhost:8080/",
          "height": 206
        },
        "id": "gnOfagK2Yhr-",
        "outputId": "c5faf572-d01b-4b62-faeb-a4f773d99a1f"
      },
      "execution_count": null,
      "outputs": [
        {
          "output_type": "execute_result",
          "data": {
            "text/html": [
              "\n",
              "  <div id=\"df-97347f30-7e40-4824-8f1e-c3f22fbb4c5a\">\n",
              "    <div class=\"colab-df-container\">\n",
              "      <div>\n",
              "<style scoped>\n",
              "    .dataframe tbody tr th:only-of-type {\n",
              "        vertical-align: middle;\n",
              "    }\n",
              "\n",
              "    .dataframe tbody tr th {\n",
              "        vertical-align: top;\n",
              "    }\n",
              "\n",
              "    .dataframe thead th {\n",
              "        text-align: right;\n",
              "    }\n",
              "</style>\n",
              "<table border=\"1\" class=\"dataframe\">\n",
              "  <thead>\n",
              "    <tr style=\"text-align: right;\">\n",
              "      <th></th>\n",
              "      <th>gender</th>\n",
              "      <th>race/ethnicity</th>\n",
              "      <th>parental level of education</th>\n",
              "      <th>lunch</th>\n",
              "      <th>test preparation course</th>\n",
              "      <th>math score</th>\n",
              "      <th>reading score</th>\n",
              "      <th>writing score</th>\n",
              "    </tr>\n",
              "  </thead>\n",
              "  <tbody>\n",
              "    <tr>\n",
              "      <th>0</th>\n",
              "      <td>female</td>\n",
              "      <td>group B</td>\n",
              "      <td>bachelor's degree</td>\n",
              "      <td>standard</td>\n",
              "      <td>none</td>\n",
              "      <td>72</td>\n",
              "      <td>72</td>\n",
              "      <td>74</td>\n",
              "    </tr>\n",
              "    <tr>\n",
              "      <th>1</th>\n",
              "      <td>female</td>\n",
              "      <td>group C</td>\n",
              "      <td>some college</td>\n",
              "      <td>standard</td>\n",
              "      <td>completed</td>\n",
              "      <td>69</td>\n",
              "      <td>90</td>\n",
              "      <td>88</td>\n",
              "    </tr>\n",
              "    <tr>\n",
              "      <th>2</th>\n",
              "      <td>female</td>\n",
              "      <td>group B</td>\n",
              "      <td>master's degree</td>\n",
              "      <td>standard</td>\n",
              "      <td>none</td>\n",
              "      <td>90</td>\n",
              "      <td>95</td>\n",
              "      <td>93</td>\n",
              "    </tr>\n",
              "    <tr>\n",
              "      <th>3</th>\n",
              "      <td>male</td>\n",
              "      <td>group A</td>\n",
              "      <td>associate's degree</td>\n",
              "      <td>free/reduced</td>\n",
              "      <td>none</td>\n",
              "      <td>47</td>\n",
              "      <td>57</td>\n",
              "      <td>44</td>\n",
              "    </tr>\n",
              "    <tr>\n",
              "      <th>4</th>\n",
              "      <td>male</td>\n",
              "      <td>group C</td>\n",
              "      <td>some college</td>\n",
              "      <td>standard</td>\n",
              "      <td>none</td>\n",
              "      <td>76</td>\n",
              "      <td>78</td>\n",
              "      <td>75</td>\n",
              "    </tr>\n",
              "  </tbody>\n",
              "</table>\n",
              "</div>\n",
              "      <button class=\"colab-df-convert\" onclick=\"convertToInteractive('df-97347f30-7e40-4824-8f1e-c3f22fbb4c5a')\"\n",
              "              title=\"Convert this dataframe to an interactive table.\"\n",
              "              style=\"display:none;\">\n",
              "        \n",
              "  <svg xmlns=\"http://www.w3.org/2000/svg\" height=\"24px\"viewBox=\"0 0 24 24\"\n",
              "       width=\"24px\">\n",
              "    <path d=\"M0 0h24v24H0V0z\" fill=\"none\"/>\n",
              "    <path d=\"M18.56 5.44l.94 2.06.94-2.06 2.06-.94-2.06-.94-.94-2.06-.94 2.06-2.06.94zm-11 1L8.5 8.5l.94-2.06 2.06-.94-2.06-.94L8.5 2.5l-.94 2.06-2.06.94zm10 10l.94 2.06.94-2.06 2.06-.94-2.06-.94-.94-2.06-.94 2.06-2.06.94z\"/><path d=\"M17.41 7.96l-1.37-1.37c-.4-.4-.92-.59-1.43-.59-.52 0-1.04.2-1.43.59L10.3 9.45l-7.72 7.72c-.78.78-.78 2.05 0 2.83L4 21.41c.39.39.9.59 1.41.59.51 0 1.02-.2 1.41-.59l7.78-7.78 2.81-2.81c.8-.78.8-2.07 0-2.86zM5.41 20L4 18.59l7.72-7.72 1.47 1.35L5.41 20z\"/>\n",
              "  </svg>\n",
              "      </button>\n",
              "      \n",
              "  <style>\n",
              "    .colab-df-container {\n",
              "      display:flex;\n",
              "      flex-wrap:wrap;\n",
              "      gap: 12px;\n",
              "    }\n",
              "\n",
              "    .colab-df-convert {\n",
              "      background-color: #E8F0FE;\n",
              "      border: none;\n",
              "      border-radius: 50%;\n",
              "      cursor: pointer;\n",
              "      display: none;\n",
              "      fill: #1967D2;\n",
              "      height: 32px;\n",
              "      padding: 0 0 0 0;\n",
              "      width: 32px;\n",
              "    }\n",
              "\n",
              "    .colab-df-convert:hover {\n",
              "      background-color: #E2EBFA;\n",
              "      box-shadow: 0px 1px 2px rgba(60, 64, 67, 0.3), 0px 1px 3px 1px rgba(60, 64, 67, 0.15);\n",
              "      fill: #174EA6;\n",
              "    }\n",
              "\n",
              "    [theme=dark] .colab-df-convert {\n",
              "      background-color: #3B4455;\n",
              "      fill: #D2E3FC;\n",
              "    }\n",
              "\n",
              "    [theme=dark] .colab-df-convert:hover {\n",
              "      background-color: #434B5C;\n",
              "      box-shadow: 0px 1px 3px 1px rgba(0, 0, 0, 0.15);\n",
              "      filter: drop-shadow(0px 1px 2px rgba(0, 0, 0, 0.3));\n",
              "      fill: #FFFFFF;\n",
              "    }\n",
              "  </style>\n",
              "\n",
              "      <script>\n",
              "        const buttonEl =\n",
              "          document.querySelector('#df-97347f30-7e40-4824-8f1e-c3f22fbb4c5a button.colab-df-convert');\n",
              "        buttonEl.style.display =\n",
              "          google.colab.kernel.accessAllowed ? 'block' : 'none';\n",
              "\n",
              "        async function convertToInteractive(key) {\n",
              "          const element = document.querySelector('#df-97347f30-7e40-4824-8f1e-c3f22fbb4c5a');\n",
              "          const dataTable =\n",
              "            await google.colab.kernel.invokeFunction('convertToInteractive',\n",
              "                                                     [key], {});\n",
              "          if (!dataTable) return;\n",
              "\n",
              "          const docLinkHtml = 'Like what you see? Visit the ' +\n",
              "            '<a target=\"_blank\" href=https://colab.research.google.com/notebooks/data_table.ipynb>data table notebook</a>'\n",
              "            + ' to learn more about interactive tables.';\n",
              "          element.innerHTML = '';\n",
              "          dataTable['output_type'] = 'display_data';\n",
              "          await google.colab.output.renderOutput(dataTable, element);\n",
              "          const docLink = document.createElement('div');\n",
              "          docLink.innerHTML = docLinkHtml;\n",
              "          element.appendChild(docLink);\n",
              "        }\n",
              "      </script>\n",
              "    </div>\n",
              "  </div>\n",
              "  "
            ],
            "text/plain": [
              "   gender race/ethnicity  ... reading score writing score\n",
              "0  female        group B  ...            72            74\n",
              "1  female        group C  ...            90            88\n",
              "2  female        group B  ...            95            93\n",
              "3    male        group A  ...            57            44\n",
              "4    male        group C  ...            78            75\n",
              "\n",
              "[5 rows x 8 columns]"
            ]
          },
          "metadata": {},
          "execution_count": 7
        }
      ]
    },
    {
      "cell_type": "code",
      "source": [
        "df_exams.tail()"
      ],
      "metadata": {
        "id": "wKmx9IpuciZ5",
        "colab": {
          "base_uri": "https://localhost:8080/",
          "height": 206
        },
        "outputId": "30731baf-1ca8-43c7-a7c4-4491060e0f82"
      },
      "execution_count": null,
      "outputs": [
        {
          "output_type": "execute_result",
          "data": {
            "text/html": [
              "\n",
              "  <div id=\"df-c84c6ad0-b6f2-45d8-a9bf-afee2ceff4bf\">\n",
              "    <div class=\"colab-df-container\">\n",
              "      <div>\n",
              "<style scoped>\n",
              "    .dataframe tbody tr th:only-of-type {\n",
              "        vertical-align: middle;\n",
              "    }\n",
              "\n",
              "    .dataframe tbody tr th {\n",
              "        vertical-align: top;\n",
              "    }\n",
              "\n",
              "    .dataframe thead th {\n",
              "        text-align: right;\n",
              "    }\n",
              "</style>\n",
              "<table border=\"1\" class=\"dataframe\">\n",
              "  <thead>\n",
              "    <tr style=\"text-align: right;\">\n",
              "      <th></th>\n",
              "      <th>gender</th>\n",
              "      <th>race/ethnicity</th>\n",
              "      <th>parental level of education</th>\n",
              "      <th>lunch</th>\n",
              "      <th>test preparation course</th>\n",
              "      <th>math score</th>\n",
              "      <th>reading score</th>\n",
              "      <th>writing score</th>\n",
              "    </tr>\n",
              "  </thead>\n",
              "  <tbody>\n",
              "    <tr>\n",
              "      <th>995</th>\n",
              "      <td>female</td>\n",
              "      <td>group E</td>\n",
              "      <td>master's degree</td>\n",
              "      <td>standard</td>\n",
              "      <td>completed</td>\n",
              "      <td>88</td>\n",
              "      <td>99</td>\n",
              "      <td>95</td>\n",
              "    </tr>\n",
              "    <tr>\n",
              "      <th>996</th>\n",
              "      <td>male</td>\n",
              "      <td>group C</td>\n",
              "      <td>high school</td>\n",
              "      <td>free/reduced</td>\n",
              "      <td>none</td>\n",
              "      <td>62</td>\n",
              "      <td>55</td>\n",
              "      <td>55</td>\n",
              "    </tr>\n",
              "    <tr>\n",
              "      <th>997</th>\n",
              "      <td>female</td>\n",
              "      <td>group C</td>\n",
              "      <td>high school</td>\n",
              "      <td>free/reduced</td>\n",
              "      <td>completed</td>\n",
              "      <td>59</td>\n",
              "      <td>71</td>\n",
              "      <td>65</td>\n",
              "    </tr>\n",
              "    <tr>\n",
              "      <th>998</th>\n",
              "      <td>female</td>\n",
              "      <td>group D</td>\n",
              "      <td>some college</td>\n",
              "      <td>standard</td>\n",
              "      <td>completed</td>\n",
              "      <td>68</td>\n",
              "      <td>78</td>\n",
              "      <td>77</td>\n",
              "    </tr>\n",
              "    <tr>\n",
              "      <th>999</th>\n",
              "      <td>female</td>\n",
              "      <td>group D</td>\n",
              "      <td>some college</td>\n",
              "      <td>free/reduced</td>\n",
              "      <td>none</td>\n",
              "      <td>77</td>\n",
              "      <td>86</td>\n",
              "      <td>86</td>\n",
              "    </tr>\n",
              "  </tbody>\n",
              "</table>\n",
              "</div>\n",
              "      <button class=\"colab-df-convert\" onclick=\"convertToInteractive('df-c84c6ad0-b6f2-45d8-a9bf-afee2ceff4bf')\"\n",
              "              title=\"Convert this dataframe to an interactive table.\"\n",
              "              style=\"display:none;\">\n",
              "        \n",
              "  <svg xmlns=\"http://www.w3.org/2000/svg\" height=\"24px\"viewBox=\"0 0 24 24\"\n",
              "       width=\"24px\">\n",
              "    <path d=\"M0 0h24v24H0V0z\" fill=\"none\"/>\n",
              "    <path d=\"M18.56 5.44l.94 2.06.94-2.06 2.06-.94-2.06-.94-.94-2.06-.94 2.06-2.06.94zm-11 1L8.5 8.5l.94-2.06 2.06-.94-2.06-.94L8.5 2.5l-.94 2.06-2.06.94zm10 10l.94 2.06.94-2.06 2.06-.94-2.06-.94-.94-2.06-.94 2.06-2.06.94z\"/><path d=\"M17.41 7.96l-1.37-1.37c-.4-.4-.92-.59-1.43-.59-.52 0-1.04.2-1.43.59L10.3 9.45l-7.72 7.72c-.78.78-.78 2.05 0 2.83L4 21.41c.39.39.9.59 1.41.59.51 0 1.02-.2 1.41-.59l7.78-7.78 2.81-2.81c.8-.78.8-2.07 0-2.86zM5.41 20L4 18.59l7.72-7.72 1.47 1.35L5.41 20z\"/>\n",
              "  </svg>\n",
              "      </button>\n",
              "      \n",
              "  <style>\n",
              "    .colab-df-container {\n",
              "      display:flex;\n",
              "      flex-wrap:wrap;\n",
              "      gap: 12px;\n",
              "    }\n",
              "\n",
              "    .colab-df-convert {\n",
              "      background-color: #E8F0FE;\n",
              "      border: none;\n",
              "      border-radius: 50%;\n",
              "      cursor: pointer;\n",
              "      display: none;\n",
              "      fill: #1967D2;\n",
              "      height: 32px;\n",
              "      padding: 0 0 0 0;\n",
              "      width: 32px;\n",
              "    }\n",
              "\n",
              "    .colab-df-convert:hover {\n",
              "      background-color: #E2EBFA;\n",
              "      box-shadow: 0px 1px 2px rgba(60, 64, 67, 0.3), 0px 1px 3px 1px rgba(60, 64, 67, 0.15);\n",
              "      fill: #174EA6;\n",
              "    }\n",
              "\n",
              "    [theme=dark] .colab-df-convert {\n",
              "      background-color: #3B4455;\n",
              "      fill: #D2E3FC;\n",
              "    }\n",
              "\n",
              "    [theme=dark] .colab-df-convert:hover {\n",
              "      background-color: #434B5C;\n",
              "      box-shadow: 0px 1px 3px 1px rgba(0, 0, 0, 0.15);\n",
              "      filter: drop-shadow(0px 1px 2px rgba(0, 0, 0, 0.3));\n",
              "      fill: #FFFFFF;\n",
              "    }\n",
              "  </style>\n",
              "\n",
              "      <script>\n",
              "        const buttonEl =\n",
              "          document.querySelector('#df-c84c6ad0-b6f2-45d8-a9bf-afee2ceff4bf button.colab-df-convert');\n",
              "        buttonEl.style.display =\n",
              "          google.colab.kernel.accessAllowed ? 'block' : 'none';\n",
              "\n",
              "        async function convertToInteractive(key) {\n",
              "          const element = document.querySelector('#df-c84c6ad0-b6f2-45d8-a9bf-afee2ceff4bf');\n",
              "          const dataTable =\n",
              "            await google.colab.kernel.invokeFunction('convertToInteractive',\n",
              "                                                     [key], {});\n",
              "          if (!dataTable) return;\n",
              "\n",
              "          const docLinkHtml = 'Like what you see? Visit the ' +\n",
              "            '<a target=\"_blank\" href=https://colab.research.google.com/notebooks/data_table.ipynb>data table notebook</a>'\n",
              "            + ' to learn more about interactive tables.';\n",
              "          element.innerHTML = '';\n",
              "          dataTable['output_type'] = 'display_data';\n",
              "          await google.colab.output.renderOutput(dataTable, element);\n",
              "          const docLink = document.createElement('div');\n",
              "          docLink.innerHTML = docLinkHtml;\n",
              "          element.appendChild(docLink);\n",
              "        }\n",
              "      </script>\n",
              "    </div>\n",
              "  </div>\n",
              "  "
            ],
            "text/plain": [
              "     gender race/ethnicity  ... reading score writing score\n",
              "995  female        group E  ...            99            95\n",
              "996    male        group C  ...            55            55\n",
              "997  female        group C  ...            71            65\n",
              "998  female        group D  ...            78            77\n",
              "999  female        group D  ...            86            86\n",
              "\n",
              "[5 rows x 8 columns]"
            ]
          },
          "metadata": {},
          "execution_count": 8
        }
      ]
    },
    {
      "cell_type": "code",
      "source": [
        "df_exams.shape"
      ],
      "metadata": {
        "colab": {
          "base_uri": "https://localhost:8080/"
        },
        "id": "0gQ7axQAqLu7",
        "outputId": "c43a3405-c4fc-4d8d-a435-1bfa11218bf1"
      },
      "execution_count": null,
      "outputs": [
        {
          "output_type": "execute_result",
          "data": {
            "text/plain": [
              "(1000, 8)"
            ]
          },
          "metadata": {},
          "execution_count": 9
        }
      ]
    },
    {
      "cell_type": "code",
      "source": [
        "pd.set_option('display.max_rows', 1000)"
      ],
      "metadata": {
        "id": "OXPdmG5sqPFE"
      },
      "execution_count": null,
      "outputs": []
    },
    {
      "cell_type": "code",
      "source": [
        "df_exams"
      ],
      "metadata": {
        "id": "FFmvXFl-qaLb"
      },
      "execution_count": null,
      "outputs": []
    },
    {
      "cell_type": "code",
      "source": [
        "df_exams.index"
      ],
      "metadata": {
        "colab": {
          "base_uri": "https://localhost:8080/"
        },
        "id": "PQiEvd1xqhkt",
        "outputId": "ed9fbe03-2c39-4a51-e634-176f17310fce"
      },
      "execution_count": null,
      "outputs": [
        {
          "output_type": "execute_result",
          "data": {
            "text/plain": [
              "RangeIndex(start=0, stop=1000, step=1)"
            ]
          },
          "metadata": {},
          "execution_count": 12
        }
      ]
    },
    {
      "cell_type": "code",
      "source": [
        "df_exams.columns"
      ],
      "metadata": {
        "colab": {
          "base_uri": "https://localhost:8080/"
        },
        "id": "pt2norvtqtNY",
        "outputId": "caab6957-ae84-48ce-d48f-3874361ee14e"
      },
      "execution_count": null,
      "outputs": [
        {
          "output_type": "execute_result",
          "data": {
            "text/plain": [
              "Index(['gender', 'race/ethnicity', 'parental level of education', 'lunch',\n",
              "       'test preparation course', 'math score', 'reading score',\n",
              "       'writing score'],\n",
              "      dtype='object')"
            ]
          },
          "metadata": {},
          "execution_count": 13
        }
      ]
    },
    {
      "cell_type": "code",
      "source": [
        "df_exams.dtypes"
      ],
      "metadata": {
        "colab": {
          "base_uri": "https://localhost:8080/"
        },
        "id": "RxrUBysNqwK7",
        "outputId": "f88da700-c77b-4aa1-e79c-f4f08f418796"
      },
      "execution_count": null,
      "outputs": [
        {
          "output_type": "execute_result",
          "data": {
            "text/plain": [
              "gender                         object\n",
              "race/ethnicity                 object\n",
              "parental level of education    object\n",
              "lunch                          object\n",
              "test preparation course        object\n",
              "math score                      int64\n",
              "reading score                   int64\n",
              "writing score                   int64\n",
              "dtype: object"
            ]
          },
          "metadata": {},
          "execution_count": 14
        }
      ]
    },
    {
      "cell_type": "code",
      "source": [
        "df_exams.info()"
      ],
      "metadata": {
        "colab": {
          "base_uri": "https://localhost:8080/"
        },
        "id": "l-a5Hrlxq1O9",
        "outputId": "d2251abe-a25f-4c46-f6f3-7eeb1093a6b1"
      },
      "execution_count": null,
      "outputs": [
        {
          "output_type": "stream",
          "name": "stdout",
          "text": [
            "<class 'pandas.core.frame.DataFrame'>\n",
            "RangeIndex: 1000 entries, 0 to 999\n",
            "Data columns (total 8 columns):\n",
            " #   Column                       Non-Null Count  Dtype \n",
            "---  ------                       --------------  ----- \n",
            " 0   gender                       1000 non-null   object\n",
            " 1   race/ethnicity               1000 non-null   object\n",
            " 2   parental level of education  1000 non-null   object\n",
            " 3   lunch                        1000 non-null   object\n",
            " 4   test preparation course      1000 non-null   object\n",
            " 5   math score                   1000 non-null   int64 \n",
            " 6   reading score                1000 non-null   int64 \n",
            " 7   writing score                1000 non-null   int64 \n",
            "dtypes: int64(3), object(5)\n",
            "memory usage: 62.6+ KB\n"
          ]
        }
      ]
    },
    {
      "cell_type": "code",
      "source": [
        "df_exams.describe()"
      ],
      "metadata": {
        "colab": {
          "base_uri": "https://localhost:8080/",
          "height": 280
        },
        "id": "BqZfp-WQq5vN",
        "outputId": "01c30e31-4697-4ff3-93b5-5df4ea3952a3"
      },
      "execution_count": null,
      "outputs": [
        {
          "output_type": "execute_result",
          "data": {
            "text/html": [
              "\n",
              "  <div id=\"df-42a00cca-c7f3-40bd-9da1-369285d3a636\">\n",
              "    <div class=\"colab-df-container\">\n",
              "      <div>\n",
              "<style scoped>\n",
              "    .dataframe tbody tr th:only-of-type {\n",
              "        vertical-align: middle;\n",
              "    }\n",
              "\n",
              "    .dataframe tbody tr th {\n",
              "        vertical-align: top;\n",
              "    }\n",
              "\n",
              "    .dataframe thead th {\n",
              "        text-align: right;\n",
              "    }\n",
              "</style>\n",
              "<table border=\"1\" class=\"dataframe\">\n",
              "  <thead>\n",
              "    <tr style=\"text-align: right;\">\n",
              "      <th></th>\n",
              "      <th>math score</th>\n",
              "      <th>reading score</th>\n",
              "      <th>writing score</th>\n",
              "    </tr>\n",
              "  </thead>\n",
              "  <tbody>\n",
              "    <tr>\n",
              "      <th>count</th>\n",
              "      <td>1000.00000</td>\n",
              "      <td>1000.000000</td>\n",
              "      <td>1000.000000</td>\n",
              "    </tr>\n",
              "    <tr>\n",
              "      <th>mean</th>\n",
              "      <td>66.08900</td>\n",
              "      <td>69.169000</td>\n",
              "      <td>68.054000</td>\n",
              "    </tr>\n",
              "    <tr>\n",
              "      <th>std</th>\n",
              "      <td>15.16308</td>\n",
              "      <td>14.600192</td>\n",
              "      <td>15.195657</td>\n",
              "    </tr>\n",
              "    <tr>\n",
              "      <th>min</th>\n",
              "      <td>0.00000</td>\n",
              "      <td>17.000000</td>\n",
              "      <td>10.000000</td>\n",
              "    </tr>\n",
              "    <tr>\n",
              "      <th>25%</th>\n",
              "      <td>57.00000</td>\n",
              "      <td>59.000000</td>\n",
              "      <td>57.750000</td>\n",
              "    </tr>\n",
              "    <tr>\n",
              "      <th>50%</th>\n",
              "      <td>66.00000</td>\n",
              "      <td>70.000000</td>\n",
              "      <td>69.000000</td>\n",
              "    </tr>\n",
              "    <tr>\n",
              "      <th>75%</th>\n",
              "      <td>77.00000</td>\n",
              "      <td>79.000000</td>\n",
              "      <td>79.000000</td>\n",
              "    </tr>\n",
              "    <tr>\n",
              "      <th>max</th>\n",
              "      <td>100.00000</td>\n",
              "      <td>100.000000</td>\n",
              "      <td>100.000000</td>\n",
              "    </tr>\n",
              "  </tbody>\n",
              "</table>\n",
              "</div>\n",
              "      <button class=\"colab-df-convert\" onclick=\"convertToInteractive('df-42a00cca-c7f3-40bd-9da1-369285d3a636')\"\n",
              "              title=\"Convert this dataframe to an interactive table.\"\n",
              "              style=\"display:none;\">\n",
              "        \n",
              "  <svg xmlns=\"http://www.w3.org/2000/svg\" height=\"24px\"viewBox=\"0 0 24 24\"\n",
              "       width=\"24px\">\n",
              "    <path d=\"M0 0h24v24H0V0z\" fill=\"none\"/>\n",
              "    <path d=\"M18.56 5.44l.94 2.06.94-2.06 2.06-.94-2.06-.94-.94-2.06-.94 2.06-2.06.94zm-11 1L8.5 8.5l.94-2.06 2.06-.94-2.06-.94L8.5 2.5l-.94 2.06-2.06.94zm10 10l.94 2.06.94-2.06 2.06-.94-2.06-.94-.94-2.06-.94 2.06-2.06.94z\"/><path d=\"M17.41 7.96l-1.37-1.37c-.4-.4-.92-.59-1.43-.59-.52 0-1.04.2-1.43.59L10.3 9.45l-7.72 7.72c-.78.78-.78 2.05 0 2.83L4 21.41c.39.39.9.59 1.41.59.51 0 1.02-.2 1.41-.59l7.78-7.78 2.81-2.81c.8-.78.8-2.07 0-2.86zM5.41 20L4 18.59l7.72-7.72 1.47 1.35L5.41 20z\"/>\n",
              "  </svg>\n",
              "      </button>\n",
              "      \n",
              "  <style>\n",
              "    .colab-df-container {\n",
              "      display:flex;\n",
              "      flex-wrap:wrap;\n",
              "      gap: 12px;\n",
              "    }\n",
              "\n",
              "    .colab-df-convert {\n",
              "      background-color: #E8F0FE;\n",
              "      border: none;\n",
              "      border-radius: 50%;\n",
              "      cursor: pointer;\n",
              "      display: none;\n",
              "      fill: #1967D2;\n",
              "      height: 32px;\n",
              "      padding: 0 0 0 0;\n",
              "      width: 32px;\n",
              "    }\n",
              "\n",
              "    .colab-df-convert:hover {\n",
              "      background-color: #E2EBFA;\n",
              "      box-shadow: 0px 1px 2px rgba(60, 64, 67, 0.3), 0px 1px 3px 1px rgba(60, 64, 67, 0.15);\n",
              "      fill: #174EA6;\n",
              "    }\n",
              "\n",
              "    [theme=dark] .colab-df-convert {\n",
              "      background-color: #3B4455;\n",
              "      fill: #D2E3FC;\n",
              "    }\n",
              "\n",
              "    [theme=dark] .colab-df-convert:hover {\n",
              "      background-color: #434B5C;\n",
              "      box-shadow: 0px 1px 3px 1px rgba(0, 0, 0, 0.15);\n",
              "      filter: drop-shadow(0px 1px 2px rgba(0, 0, 0, 0.3));\n",
              "      fill: #FFFFFF;\n",
              "    }\n",
              "  </style>\n",
              "\n",
              "      <script>\n",
              "        const buttonEl =\n",
              "          document.querySelector('#df-42a00cca-c7f3-40bd-9da1-369285d3a636 button.colab-df-convert');\n",
              "        buttonEl.style.display =\n",
              "          google.colab.kernel.accessAllowed ? 'block' : 'none';\n",
              "\n",
              "        async function convertToInteractive(key) {\n",
              "          const element = document.querySelector('#df-42a00cca-c7f3-40bd-9da1-369285d3a636');\n",
              "          const dataTable =\n",
              "            await google.colab.kernel.invokeFunction('convertToInteractive',\n",
              "                                                     [key], {});\n",
              "          if (!dataTable) return;\n",
              "\n",
              "          const docLinkHtml = 'Like what you see? Visit the ' +\n",
              "            '<a target=\"_blank\" href=https://colab.research.google.com/notebooks/data_table.ipynb>data table notebook</a>'\n",
              "            + ' to learn more about interactive tables.';\n",
              "          element.innerHTML = '';\n",
              "          dataTable['output_type'] = 'display_data';\n",
              "          await google.colab.output.renderOutput(dataTable, element);\n",
              "          const docLink = document.createElement('div');\n",
              "          docLink.innerHTML = docLinkHtml;\n",
              "          element.appendChild(docLink);\n",
              "        }\n",
              "      </script>\n",
              "    </div>\n",
              "  </div>\n",
              "  "
            ],
            "text/plain": [
              "       math score  reading score  writing score\n",
              "count  1000.00000    1000.000000    1000.000000\n",
              "mean     66.08900      69.169000      68.054000\n",
              "std      15.16308      14.600192      15.195657\n",
              "min       0.00000      17.000000      10.000000\n",
              "25%      57.00000      59.000000      57.750000\n",
              "50%      66.00000      70.000000      69.000000\n",
              "75%      77.00000      79.000000      79.000000\n",
              "max     100.00000     100.000000     100.000000"
            ]
          },
          "metadata": {},
          "execution_count": 16
        }
      ]
    },
    {
      "cell_type": "code",
      "source": [
        "len(df_exams)"
      ],
      "metadata": {
        "colab": {
          "base_uri": "https://localhost:8080/"
        },
        "id": "yh-zrPHnq9xg",
        "outputId": "238dec1f-823a-4968-8f31-0ebc70117193"
      },
      "execution_count": null,
      "outputs": [
        {
          "output_type": "execute_result",
          "data": {
            "text/plain": [
              "1000"
            ]
          },
          "metadata": {},
          "execution_count": 17
        }
      ]
    },
    {
      "cell_type": "code",
      "source": [
        "max(df_exams.index)"
      ],
      "metadata": {
        "colab": {
          "base_uri": "https://localhost:8080/"
        },
        "id": "fb9p7QvlrPA3",
        "outputId": "70c14539-c17e-4b47-a612-aad2e9c9d699"
      },
      "execution_count": null,
      "outputs": [
        {
          "output_type": "execute_result",
          "data": {
            "text/plain": [
              "999"
            ]
          },
          "metadata": {},
          "execution_count": 18
        }
      ]
    },
    {
      "cell_type": "code",
      "source": [
        "min(df_exams.index)"
      ],
      "metadata": {
        "colab": {
          "base_uri": "https://localhost:8080/"
        },
        "id": "5ZyTdeYurU-7",
        "outputId": "5275e5c7-be82-4282-c4f7-a87c65eb1408"
      },
      "execution_count": null,
      "outputs": [
        {
          "output_type": "execute_result",
          "data": {
            "text/plain": [
              "0"
            ]
          },
          "metadata": {},
          "execution_count": 19
        }
      ]
    },
    {
      "cell_type": "code",
      "source": [
        "type(df_exams)"
      ],
      "metadata": {
        "colab": {
          "base_uri": "https://localhost:8080/"
        },
        "id": "2pUC_BWNrYCl",
        "outputId": "29f93094-667b-47c0-d329-092b13a716d1"
      },
      "execution_count": null,
      "outputs": [
        {
          "output_type": "execute_result",
          "data": {
            "text/plain": [
              "pandas.core.frame.DataFrame"
            ]
          },
          "metadata": {},
          "execution_count": 20
        }
      ]
    },
    {
      "cell_type": "code",
      "source": [
        "round(df_exams, 2)"
      ],
      "metadata": {
        "id": "A67lBn9Era2Z"
      },
      "execution_count": null,
      "outputs": []
    },
    {
      "cell_type": "markdown",
      "source": [
        "### Create values to Dataframe"
      ],
      "metadata": {
        "id": "mNWFhDKxtuzP"
      }
    },
    {
      "cell_type": "code",
      "source": [
        "df_exams['gender']"
      ],
      "metadata": {
        "id": "b8lXO7AGriPz"
      },
      "execution_count": null,
      "outputs": []
    },
    {
      "cell_type": "markdown",
      "source": [
        "#### Values 0 to 1000"
      ],
      "metadata": {
        "id": "W5z9pK-nt8TR"
      }
    },
    {
      "cell_type": "code",
      "source": [
        "language_score = np.arange(0, 1000)"
      ],
      "metadata": {
        "id": "VJdLlUZ2rsZy"
      },
      "execution_count": null,
      "outputs": []
    },
    {
      "cell_type": "code",
      "source": [
        "df_exams['language score'] = language_score"
      ],
      "metadata": {
        "id": "EwqRSgDbse1Q"
      },
      "execution_count": null,
      "outputs": []
    },
    {
      "cell_type": "code",
      "source": [
        "df_exams.head()"
      ],
      "metadata": {
        "colab": {
          "base_uri": "https://localhost:8080/",
          "height": 206
        },
        "id": "ycGqjkKCsxN7",
        "outputId": "bbb735c3-9178-4c25-edc5-1f1bbcb972f9"
      },
      "execution_count": null,
      "outputs": [
        {
          "output_type": "execute_result",
          "data": {
            "text/html": [
              "\n",
              "  <div id=\"df-d287715c-86a8-4a90-ba7a-98361ed95dba\">\n",
              "    <div class=\"colab-df-container\">\n",
              "      <div>\n",
              "<style scoped>\n",
              "    .dataframe tbody tr th:only-of-type {\n",
              "        vertical-align: middle;\n",
              "    }\n",
              "\n",
              "    .dataframe tbody tr th {\n",
              "        vertical-align: top;\n",
              "    }\n",
              "\n",
              "    .dataframe thead th {\n",
              "        text-align: right;\n",
              "    }\n",
              "</style>\n",
              "<table border=\"1\" class=\"dataframe\">\n",
              "  <thead>\n",
              "    <tr style=\"text-align: right;\">\n",
              "      <th></th>\n",
              "      <th>gender</th>\n",
              "      <th>race/ethnicity</th>\n",
              "      <th>parental level of education</th>\n",
              "      <th>lunch</th>\n",
              "      <th>test preparation course</th>\n",
              "      <th>math score</th>\n",
              "      <th>reading score</th>\n",
              "      <th>writing score</th>\n",
              "      <th>language score</th>\n",
              "    </tr>\n",
              "  </thead>\n",
              "  <tbody>\n",
              "    <tr>\n",
              "      <th>0</th>\n",
              "      <td>female</td>\n",
              "      <td>group B</td>\n",
              "      <td>bachelor's degree</td>\n",
              "      <td>standard</td>\n",
              "      <td>none</td>\n",
              "      <td>72</td>\n",
              "      <td>72</td>\n",
              "      <td>74</td>\n",
              "      <td>0</td>\n",
              "    </tr>\n",
              "    <tr>\n",
              "      <th>1</th>\n",
              "      <td>female</td>\n",
              "      <td>group C</td>\n",
              "      <td>some college</td>\n",
              "      <td>standard</td>\n",
              "      <td>completed</td>\n",
              "      <td>69</td>\n",
              "      <td>90</td>\n",
              "      <td>88</td>\n",
              "      <td>1</td>\n",
              "    </tr>\n",
              "    <tr>\n",
              "      <th>2</th>\n",
              "      <td>female</td>\n",
              "      <td>group B</td>\n",
              "      <td>master's degree</td>\n",
              "      <td>standard</td>\n",
              "      <td>none</td>\n",
              "      <td>90</td>\n",
              "      <td>95</td>\n",
              "      <td>93</td>\n",
              "      <td>2</td>\n",
              "    </tr>\n",
              "    <tr>\n",
              "      <th>3</th>\n",
              "      <td>male</td>\n",
              "      <td>group A</td>\n",
              "      <td>associate's degree</td>\n",
              "      <td>free/reduced</td>\n",
              "      <td>none</td>\n",
              "      <td>47</td>\n",
              "      <td>57</td>\n",
              "      <td>44</td>\n",
              "      <td>3</td>\n",
              "    </tr>\n",
              "    <tr>\n",
              "      <th>4</th>\n",
              "      <td>male</td>\n",
              "      <td>group C</td>\n",
              "      <td>some college</td>\n",
              "      <td>standard</td>\n",
              "      <td>none</td>\n",
              "      <td>76</td>\n",
              "      <td>78</td>\n",
              "      <td>75</td>\n",
              "      <td>4</td>\n",
              "    </tr>\n",
              "  </tbody>\n",
              "</table>\n",
              "</div>\n",
              "      <button class=\"colab-df-convert\" onclick=\"convertToInteractive('df-d287715c-86a8-4a90-ba7a-98361ed95dba')\"\n",
              "              title=\"Convert this dataframe to an interactive table.\"\n",
              "              style=\"display:none;\">\n",
              "        \n",
              "  <svg xmlns=\"http://www.w3.org/2000/svg\" height=\"24px\"viewBox=\"0 0 24 24\"\n",
              "       width=\"24px\">\n",
              "    <path d=\"M0 0h24v24H0V0z\" fill=\"none\"/>\n",
              "    <path d=\"M18.56 5.44l.94 2.06.94-2.06 2.06-.94-2.06-.94-.94-2.06-.94 2.06-2.06.94zm-11 1L8.5 8.5l.94-2.06 2.06-.94-2.06-.94L8.5 2.5l-.94 2.06-2.06.94zm10 10l.94 2.06.94-2.06 2.06-.94-2.06-.94-.94-2.06-.94 2.06-2.06.94z\"/><path d=\"M17.41 7.96l-1.37-1.37c-.4-.4-.92-.59-1.43-.59-.52 0-1.04.2-1.43.59L10.3 9.45l-7.72 7.72c-.78.78-.78 2.05 0 2.83L4 21.41c.39.39.9.59 1.41.59.51 0 1.02-.2 1.41-.59l7.78-7.78 2.81-2.81c.8-.78.8-2.07 0-2.86zM5.41 20L4 18.59l7.72-7.72 1.47 1.35L5.41 20z\"/>\n",
              "  </svg>\n",
              "      </button>\n",
              "      \n",
              "  <style>\n",
              "    .colab-df-container {\n",
              "      display:flex;\n",
              "      flex-wrap:wrap;\n",
              "      gap: 12px;\n",
              "    }\n",
              "\n",
              "    .colab-df-convert {\n",
              "      background-color: #E8F0FE;\n",
              "      border: none;\n",
              "      border-radius: 50%;\n",
              "      cursor: pointer;\n",
              "      display: none;\n",
              "      fill: #1967D2;\n",
              "      height: 32px;\n",
              "      padding: 0 0 0 0;\n",
              "      width: 32px;\n",
              "    }\n",
              "\n",
              "    .colab-df-convert:hover {\n",
              "      background-color: #E2EBFA;\n",
              "      box-shadow: 0px 1px 2px rgba(60, 64, 67, 0.3), 0px 1px 3px 1px rgba(60, 64, 67, 0.15);\n",
              "      fill: #174EA6;\n",
              "    }\n",
              "\n",
              "    [theme=dark] .colab-df-convert {\n",
              "      background-color: #3B4455;\n",
              "      fill: #D2E3FC;\n",
              "    }\n",
              "\n",
              "    [theme=dark] .colab-df-convert:hover {\n",
              "      background-color: #434B5C;\n",
              "      box-shadow: 0px 1px 3px 1px rgba(0, 0, 0, 0.15);\n",
              "      filter: drop-shadow(0px 1px 2px rgba(0, 0, 0, 0.3));\n",
              "      fill: #FFFFFF;\n",
              "    }\n",
              "  </style>\n",
              "\n",
              "      <script>\n",
              "        const buttonEl =\n",
              "          document.querySelector('#df-d287715c-86a8-4a90-ba7a-98361ed95dba button.colab-df-convert');\n",
              "        buttonEl.style.display =\n",
              "          google.colab.kernel.accessAllowed ? 'block' : 'none';\n",
              "\n",
              "        async function convertToInteractive(key) {\n",
              "          const element = document.querySelector('#df-d287715c-86a8-4a90-ba7a-98361ed95dba');\n",
              "          const dataTable =\n",
              "            await google.colab.kernel.invokeFunction('convertToInteractive',\n",
              "                                                     [key], {});\n",
              "          if (!dataTable) return;\n",
              "\n",
              "          const docLinkHtml = 'Like what you see? Visit the ' +\n",
              "            '<a target=\"_blank\" href=https://colab.research.google.com/notebooks/data_table.ipynb>data table notebook</a>'\n",
              "            + ' to learn more about interactive tables.';\n",
              "          element.innerHTML = '';\n",
              "          dataTable['output_type'] = 'display_data';\n",
              "          await google.colab.output.renderOutput(dataTable, element);\n",
              "          const docLink = document.createElement('div');\n",
              "          docLink.innerHTML = docLinkHtml;\n",
              "          element.appendChild(docLink);\n",
              "        }\n",
              "      </script>\n",
              "    </div>\n",
              "  </div>\n",
              "  "
            ],
            "text/plain": [
              "   gender race/ethnicity  ... writing score language score\n",
              "0  female        group B  ...            74              0\n",
              "1  female        group C  ...            88              1\n",
              "2  female        group B  ...            93              2\n",
              "3    male        group A  ...            44              3\n",
              "4    male        group C  ...            75              4\n",
              "\n",
              "[5 rows x 9 columns]"
            ]
          },
          "metadata": {},
          "execution_count": 29
        }
      ]
    },
    {
      "cell_type": "markdown",
      "source": [
        "#### Integer random values between 1 to 100"
      ],
      "metadata": {
        "id": "XRoQIQGquBcj"
      }
    },
    {
      "cell_type": "code",
      "source": [
        "int_language_score = np.random.randint(1, 100, size=1000)"
      ],
      "metadata": {
        "id": "U27332U0syYO"
      },
      "execution_count": null,
      "outputs": []
    },
    {
      "cell_type": "code",
      "source": [
        "print(max(int_language_score))\n",
        "min(int_language_score)"
      ],
      "metadata": {
        "colab": {
          "base_uri": "https://localhost:8080/"
        },
        "id": "X8ib-JExtCzQ",
        "outputId": "1fd8547e-8470-44e6-d64f-e1b15f0be421"
      },
      "execution_count": null,
      "outputs": [
        {
          "output_type": "stream",
          "name": "stdout",
          "text": [
            "99\n"
          ]
        },
        {
          "output_type": "execute_result",
          "data": {
            "text/plain": [
              "1"
            ]
          },
          "metadata": {},
          "execution_count": 35
        }
      ]
    },
    {
      "cell_type": "code",
      "source": [
        "df_exams['language score'] = int_language_score\n",
        "df_exams.head()"
      ],
      "metadata": {
        "colab": {
          "base_uri": "https://localhost:8080/",
          "height": 206
        },
        "id": "owEoFePltQgV",
        "outputId": "42ed1ef5-4b50-4bae-ea2d-b7ca0199c9d3"
      },
      "execution_count": null,
      "outputs": [
        {
          "output_type": "execute_result",
          "data": {
            "text/html": [
              "\n",
              "  <div id=\"df-48402cc8-47f0-4809-afe3-9110481c737c\">\n",
              "    <div class=\"colab-df-container\">\n",
              "      <div>\n",
              "<style scoped>\n",
              "    .dataframe tbody tr th:only-of-type {\n",
              "        vertical-align: middle;\n",
              "    }\n",
              "\n",
              "    .dataframe tbody tr th {\n",
              "        vertical-align: top;\n",
              "    }\n",
              "\n",
              "    .dataframe thead th {\n",
              "        text-align: right;\n",
              "    }\n",
              "</style>\n",
              "<table border=\"1\" class=\"dataframe\">\n",
              "  <thead>\n",
              "    <tr style=\"text-align: right;\">\n",
              "      <th></th>\n",
              "      <th>gender</th>\n",
              "      <th>race/ethnicity</th>\n",
              "      <th>parental level of education</th>\n",
              "      <th>lunch</th>\n",
              "      <th>test preparation course</th>\n",
              "      <th>math score</th>\n",
              "      <th>reading score</th>\n",
              "      <th>writing score</th>\n",
              "      <th>language score</th>\n",
              "    </tr>\n",
              "  </thead>\n",
              "  <tbody>\n",
              "    <tr>\n",
              "      <th>0</th>\n",
              "      <td>female</td>\n",
              "      <td>group B</td>\n",
              "      <td>bachelor's degree</td>\n",
              "      <td>standard</td>\n",
              "      <td>none</td>\n",
              "      <td>72</td>\n",
              "      <td>72</td>\n",
              "      <td>74</td>\n",
              "      <td>59</td>\n",
              "    </tr>\n",
              "    <tr>\n",
              "      <th>1</th>\n",
              "      <td>female</td>\n",
              "      <td>group C</td>\n",
              "      <td>some college</td>\n",
              "      <td>standard</td>\n",
              "      <td>completed</td>\n",
              "      <td>69</td>\n",
              "      <td>90</td>\n",
              "      <td>88</td>\n",
              "      <td>20</td>\n",
              "    </tr>\n",
              "    <tr>\n",
              "      <th>2</th>\n",
              "      <td>female</td>\n",
              "      <td>group B</td>\n",
              "      <td>master's degree</td>\n",
              "      <td>standard</td>\n",
              "      <td>none</td>\n",
              "      <td>90</td>\n",
              "      <td>95</td>\n",
              "      <td>93</td>\n",
              "      <td>19</td>\n",
              "    </tr>\n",
              "    <tr>\n",
              "      <th>3</th>\n",
              "      <td>male</td>\n",
              "      <td>group A</td>\n",
              "      <td>associate's degree</td>\n",
              "      <td>free/reduced</td>\n",
              "      <td>none</td>\n",
              "      <td>47</td>\n",
              "      <td>57</td>\n",
              "      <td>44</td>\n",
              "      <td>86</td>\n",
              "    </tr>\n",
              "    <tr>\n",
              "      <th>4</th>\n",
              "      <td>male</td>\n",
              "      <td>group C</td>\n",
              "      <td>some college</td>\n",
              "      <td>standard</td>\n",
              "      <td>none</td>\n",
              "      <td>76</td>\n",
              "      <td>78</td>\n",
              "      <td>75</td>\n",
              "      <td>13</td>\n",
              "    </tr>\n",
              "  </tbody>\n",
              "</table>\n",
              "</div>\n",
              "      <button class=\"colab-df-convert\" onclick=\"convertToInteractive('df-48402cc8-47f0-4809-afe3-9110481c737c')\"\n",
              "              title=\"Convert this dataframe to an interactive table.\"\n",
              "              style=\"display:none;\">\n",
              "        \n",
              "  <svg xmlns=\"http://www.w3.org/2000/svg\" height=\"24px\"viewBox=\"0 0 24 24\"\n",
              "       width=\"24px\">\n",
              "    <path d=\"M0 0h24v24H0V0z\" fill=\"none\"/>\n",
              "    <path d=\"M18.56 5.44l.94 2.06.94-2.06 2.06-.94-2.06-.94-.94-2.06-.94 2.06-2.06.94zm-11 1L8.5 8.5l.94-2.06 2.06-.94-2.06-.94L8.5 2.5l-.94 2.06-2.06.94zm10 10l.94 2.06.94-2.06 2.06-.94-2.06-.94-.94-2.06-.94 2.06-2.06.94z\"/><path d=\"M17.41 7.96l-1.37-1.37c-.4-.4-.92-.59-1.43-.59-.52 0-1.04.2-1.43.59L10.3 9.45l-7.72 7.72c-.78.78-.78 2.05 0 2.83L4 21.41c.39.39.9.59 1.41.59.51 0 1.02-.2 1.41-.59l7.78-7.78 2.81-2.81c.8-.78.8-2.07 0-2.86zM5.41 20L4 18.59l7.72-7.72 1.47 1.35L5.41 20z\"/>\n",
              "  </svg>\n",
              "      </button>\n",
              "      \n",
              "  <style>\n",
              "    .colab-df-container {\n",
              "      display:flex;\n",
              "      flex-wrap:wrap;\n",
              "      gap: 12px;\n",
              "    }\n",
              "\n",
              "    .colab-df-convert {\n",
              "      background-color: #E8F0FE;\n",
              "      border: none;\n",
              "      border-radius: 50%;\n",
              "      cursor: pointer;\n",
              "      display: none;\n",
              "      fill: #1967D2;\n",
              "      height: 32px;\n",
              "      padding: 0 0 0 0;\n",
              "      width: 32px;\n",
              "    }\n",
              "\n",
              "    .colab-df-convert:hover {\n",
              "      background-color: #E2EBFA;\n",
              "      box-shadow: 0px 1px 2px rgba(60, 64, 67, 0.3), 0px 1px 3px 1px rgba(60, 64, 67, 0.15);\n",
              "      fill: #174EA6;\n",
              "    }\n",
              "\n",
              "    [theme=dark] .colab-df-convert {\n",
              "      background-color: #3B4455;\n",
              "      fill: #D2E3FC;\n",
              "    }\n",
              "\n",
              "    [theme=dark] .colab-df-convert:hover {\n",
              "      background-color: #434B5C;\n",
              "      box-shadow: 0px 1px 3px 1px rgba(0, 0, 0, 0.15);\n",
              "      filter: drop-shadow(0px 1px 2px rgba(0, 0, 0, 0.3));\n",
              "      fill: #FFFFFF;\n",
              "    }\n",
              "  </style>\n",
              "\n",
              "      <script>\n",
              "        const buttonEl =\n",
              "          document.querySelector('#df-48402cc8-47f0-4809-afe3-9110481c737c button.colab-df-convert');\n",
              "        buttonEl.style.display =\n",
              "          google.colab.kernel.accessAllowed ? 'block' : 'none';\n",
              "\n",
              "        async function convertToInteractive(key) {\n",
              "          const element = document.querySelector('#df-48402cc8-47f0-4809-afe3-9110481c737c');\n",
              "          const dataTable =\n",
              "            await google.colab.kernel.invokeFunction('convertToInteractive',\n",
              "                                                     [key], {});\n",
              "          if (!dataTable) return;\n",
              "\n",
              "          const docLinkHtml = 'Like what you see? Visit the ' +\n",
              "            '<a target=\"_blank\" href=https://colab.research.google.com/notebooks/data_table.ipynb>data table notebook</a>'\n",
              "            + ' to learn more about interactive tables.';\n",
              "          element.innerHTML = '';\n",
              "          dataTable['output_type'] = 'display_data';\n",
              "          await google.colab.output.renderOutput(dataTable, element);\n",
              "          const docLink = document.createElement('div');\n",
              "          docLink.innerHTML = docLinkHtml;\n",
              "          element.appendChild(docLink);\n",
              "        }\n",
              "      </script>\n",
              "    </div>\n",
              "  </div>\n",
              "  "
            ],
            "text/plain": [
              "   gender race/ethnicity  ... writing score language score\n",
              "0  female        group B  ...            74             59\n",
              "1  female        group C  ...            88             20\n",
              "2  female        group B  ...            93             19\n",
              "3    male        group A  ...            44             86\n",
              "4    male        group C  ...            75             13\n",
              "\n",
              "[5 rows x 9 columns]"
            ]
          },
          "metadata": {},
          "execution_count": 36
        }
      ]
    },
    {
      "cell_type": "markdown",
      "source": [
        "#### Float Random values between 1 to 100"
      ],
      "metadata": {
        "id": "Kye4vqY9uFp4"
      }
    },
    {
      "cell_type": "code",
      "source": [
        "float_language_score = np.random.uniform(1, 100, size=1000)"
      ],
      "metadata": {
        "id": "uGf7CaC_teNs"
      },
      "execution_count": null,
      "outputs": []
    },
    {
      "cell_type": "markdown",
      "source": [
        "## Math Operations"
      ],
      "metadata": {
        "id": "P8TFXqydvHCI"
      }
    },
    {
      "cell_type": "code",
      "source": [
        "import pandas as pd"
      ],
      "metadata": {
        "id": "MwjD8VY6uOdw"
      },
      "execution_count": null,
      "outputs": []
    },
    {
      "cell_type": "code",
      "source": [
        "df = pd.read_csv('StudentsPerformance.csv')\n",
        "df.head()"
      ],
      "metadata": {
        "colab": {
          "base_uri": "https://localhost:8080/",
          "height": 268
        },
        "id": "8y6Rd7-uulXQ",
        "outputId": "74c1d539-c108-442f-ad1c-ce6babfe3970"
      },
      "execution_count": null,
      "outputs": [
        {
          "output_type": "execute_result",
          "data": {
            "text/html": [
              "\n",
              "  <div id=\"df-d2e009e3-cb75-4c28-a0b9-0ab5c613705a\">\n",
              "    <div class=\"colab-df-container\">\n",
              "      <div>\n",
              "<style scoped>\n",
              "    .dataframe tbody tr th:only-of-type {\n",
              "        vertical-align: middle;\n",
              "    }\n",
              "\n",
              "    .dataframe tbody tr th {\n",
              "        vertical-align: top;\n",
              "    }\n",
              "\n",
              "    .dataframe thead th {\n",
              "        text-align: right;\n",
              "    }\n",
              "</style>\n",
              "<table border=\"1\" class=\"dataframe\">\n",
              "  <thead>\n",
              "    <tr style=\"text-align: right;\">\n",
              "      <th></th>\n",
              "      <th>gender</th>\n",
              "      <th>race/ethnicity</th>\n",
              "      <th>parental level of education</th>\n",
              "      <th>lunch</th>\n",
              "      <th>test preparation course</th>\n",
              "      <th>math score</th>\n",
              "      <th>reading score</th>\n",
              "      <th>writing score</th>\n",
              "    </tr>\n",
              "  </thead>\n",
              "  <tbody>\n",
              "    <tr>\n",
              "      <th>0</th>\n",
              "      <td>female</td>\n",
              "      <td>group B</td>\n",
              "      <td>bachelor's degree</td>\n",
              "      <td>standard</td>\n",
              "      <td>none</td>\n",
              "      <td>72</td>\n",
              "      <td>72</td>\n",
              "      <td>74</td>\n",
              "    </tr>\n",
              "    <tr>\n",
              "      <th>1</th>\n",
              "      <td>female</td>\n",
              "      <td>group C</td>\n",
              "      <td>some college</td>\n",
              "      <td>standard</td>\n",
              "      <td>completed</td>\n",
              "      <td>69</td>\n",
              "      <td>90</td>\n",
              "      <td>88</td>\n",
              "    </tr>\n",
              "    <tr>\n",
              "      <th>2</th>\n",
              "      <td>female</td>\n",
              "      <td>group B</td>\n",
              "      <td>master's degree</td>\n",
              "      <td>standard</td>\n",
              "      <td>none</td>\n",
              "      <td>90</td>\n",
              "      <td>95</td>\n",
              "      <td>93</td>\n",
              "    </tr>\n",
              "    <tr>\n",
              "      <th>3</th>\n",
              "      <td>male</td>\n",
              "      <td>group A</td>\n",
              "      <td>associate's degree</td>\n",
              "      <td>free/reduced</td>\n",
              "      <td>none</td>\n",
              "      <td>47</td>\n",
              "      <td>57</td>\n",
              "      <td>44</td>\n",
              "    </tr>\n",
              "    <tr>\n",
              "      <th>4</th>\n",
              "      <td>male</td>\n",
              "      <td>group C</td>\n",
              "      <td>some college</td>\n",
              "      <td>standard</td>\n",
              "      <td>none</td>\n",
              "      <td>76</td>\n",
              "      <td>78</td>\n",
              "      <td>75</td>\n",
              "    </tr>\n",
              "  </tbody>\n",
              "</table>\n",
              "</div>\n",
              "      <button class=\"colab-df-convert\" onclick=\"convertToInteractive('df-d2e009e3-cb75-4c28-a0b9-0ab5c613705a')\"\n",
              "              title=\"Convert this dataframe to an interactive table.\"\n",
              "              style=\"display:none;\">\n",
              "        \n",
              "  <svg xmlns=\"http://www.w3.org/2000/svg\" height=\"24px\"viewBox=\"0 0 24 24\"\n",
              "       width=\"24px\">\n",
              "    <path d=\"M0 0h24v24H0V0z\" fill=\"none\"/>\n",
              "    <path d=\"M18.56 5.44l.94 2.06.94-2.06 2.06-.94-2.06-.94-.94-2.06-.94 2.06-2.06.94zm-11 1L8.5 8.5l.94-2.06 2.06-.94-2.06-.94L8.5 2.5l-.94 2.06-2.06.94zm10 10l.94 2.06.94-2.06 2.06-.94-2.06-.94-.94-2.06-.94 2.06-2.06.94z\"/><path d=\"M17.41 7.96l-1.37-1.37c-.4-.4-.92-.59-1.43-.59-.52 0-1.04.2-1.43.59L10.3 9.45l-7.72 7.72c-.78.78-.78 2.05 0 2.83L4 21.41c.39.39.9.59 1.41.59.51 0 1.02-.2 1.41-.59l7.78-7.78 2.81-2.81c.8-.78.8-2.07 0-2.86zM5.41 20L4 18.59l7.72-7.72 1.47 1.35L5.41 20z\"/>\n",
              "  </svg>\n",
              "      </button>\n",
              "      \n",
              "  <style>\n",
              "    .colab-df-container {\n",
              "      display:flex;\n",
              "      flex-wrap:wrap;\n",
              "      gap: 12px;\n",
              "    }\n",
              "\n",
              "    .colab-df-convert {\n",
              "      background-color: #E8F0FE;\n",
              "      border: none;\n",
              "      border-radius: 50%;\n",
              "      cursor: pointer;\n",
              "      display: none;\n",
              "      fill: #1967D2;\n",
              "      height: 32px;\n",
              "      padding: 0 0 0 0;\n",
              "      width: 32px;\n",
              "    }\n",
              "\n",
              "    .colab-df-convert:hover {\n",
              "      background-color: #E2EBFA;\n",
              "      box-shadow: 0px 1px 2px rgba(60, 64, 67, 0.3), 0px 1px 3px 1px rgba(60, 64, 67, 0.15);\n",
              "      fill: #174EA6;\n",
              "    }\n",
              "\n",
              "    [theme=dark] .colab-df-convert {\n",
              "      background-color: #3B4455;\n",
              "      fill: #D2E3FC;\n",
              "    }\n",
              "\n",
              "    [theme=dark] .colab-df-convert:hover {\n",
              "      background-color: #434B5C;\n",
              "      box-shadow: 0px 1px 3px 1px rgba(0, 0, 0, 0.15);\n",
              "      filter: drop-shadow(0px 1px 2px rgba(0, 0, 0, 0.3));\n",
              "      fill: #FFFFFF;\n",
              "    }\n",
              "  </style>\n",
              "\n",
              "      <script>\n",
              "        const buttonEl =\n",
              "          document.querySelector('#df-d2e009e3-cb75-4c28-a0b9-0ab5c613705a button.colab-df-convert');\n",
              "        buttonEl.style.display =\n",
              "          google.colab.kernel.accessAllowed ? 'block' : 'none';\n",
              "\n",
              "        async function convertToInteractive(key) {\n",
              "          const element = document.querySelector('#df-d2e009e3-cb75-4c28-a0b9-0ab5c613705a');\n",
              "          const dataTable =\n",
              "            await google.colab.kernel.invokeFunction('convertToInteractive',\n",
              "                                                     [key], {});\n",
              "          if (!dataTable) return;\n",
              "\n",
              "          const docLinkHtml = 'Like what you see? Visit the ' +\n",
              "            '<a target=\"_blank\" href=https://colab.research.google.com/notebooks/data_table.ipynb>data table notebook</a>'\n",
              "            + ' to learn more about interactive tables.';\n",
              "          element.innerHTML = '';\n",
              "          dataTable['output_type'] = 'display_data';\n",
              "          await google.colab.output.renderOutput(dataTable, element);\n",
              "          const docLink = document.createElement('div');\n",
              "          docLink.innerHTML = docLinkHtml;\n",
              "          element.appendChild(docLink);\n",
              "        }\n",
              "      </script>\n",
              "    </div>\n",
              "  </div>\n",
              "  "
            ],
            "text/plain": [
              "   gender race/ethnicity  ... reading score writing score\n",
              "0  female        group B  ...            72            74\n",
              "1  female        group C  ...            90            88\n",
              "2  female        group B  ...            95            93\n",
              "3    male        group A  ...            57            44\n",
              "4    male        group C  ...            78            75\n",
              "\n",
              "[5 rows x 8 columns]"
            ]
          },
          "metadata": {},
          "execution_count": 3
        }
      ]
    },
    {
      "cell_type": "code",
      "source": [
        "df['math score'].sum()"
      ],
      "metadata": {
        "colab": {
          "base_uri": "https://localhost:8080/"
        },
        "id": "GClc8M1JvA-M",
        "outputId": "08a4b1e7-e0a6-4987-dd3a-aa4608c9bb5d"
      },
      "execution_count": null,
      "outputs": [
        {
          "output_type": "execute_result",
          "data": {
            "text/plain": [
              "66089"
            ]
          },
          "metadata": {},
          "execution_count": 4
        }
      ]
    },
    {
      "cell_type": "code",
      "source": [
        "df['math score'].count()\n",
        "print(df['math score'].mean())\n",
        "print(df['math score'].std())\n",
        "print(df['math score'].max())\n",
        "print(df['math score'].min())"
      ],
      "metadata": {
        "colab": {
          "base_uri": "https://localhost:8080/"
        },
        "id": "7fAIzU23vYRI",
        "outputId": "c6560c70-9b6a-4da9-92b7-dceff352cced"
      },
      "execution_count": null,
      "outputs": [
        {
          "output_type": "stream",
          "name": "stdout",
          "text": [
            "66.089\n",
            "15.163080096009468\n",
            "100\n",
            "0\n"
          ]
        }
      ]
    },
    {
      "cell_type": "code",
      "source": [
        "df.describe()"
      ],
      "metadata": {
        "colab": {
          "base_uri": "https://localhost:8080/",
          "height": 300
        },
        "id": "f0UBrmsvvlZs",
        "outputId": "5fc4ca29-5e34-419c-cd12-47f851306bab"
      },
      "execution_count": null,
      "outputs": [
        {
          "output_type": "execute_result",
          "data": {
            "text/html": [
              "\n",
              "  <div id=\"df-36f48844-6a77-499a-a04d-cc2d516a1a17\">\n",
              "    <div class=\"colab-df-container\">\n",
              "      <div>\n",
              "<style scoped>\n",
              "    .dataframe tbody tr th:only-of-type {\n",
              "        vertical-align: middle;\n",
              "    }\n",
              "\n",
              "    .dataframe tbody tr th {\n",
              "        vertical-align: top;\n",
              "    }\n",
              "\n",
              "    .dataframe thead th {\n",
              "        text-align: right;\n",
              "    }\n",
              "</style>\n",
              "<table border=\"1\" class=\"dataframe\">\n",
              "  <thead>\n",
              "    <tr style=\"text-align: right;\">\n",
              "      <th></th>\n",
              "      <th>math score</th>\n",
              "      <th>reading score</th>\n",
              "      <th>writing score</th>\n",
              "    </tr>\n",
              "  </thead>\n",
              "  <tbody>\n",
              "    <tr>\n",
              "      <th>count</th>\n",
              "      <td>1000.00000</td>\n",
              "      <td>1000.000000</td>\n",
              "      <td>1000.000000</td>\n",
              "    </tr>\n",
              "    <tr>\n",
              "      <th>mean</th>\n",
              "      <td>66.08900</td>\n",
              "      <td>69.169000</td>\n",
              "      <td>68.054000</td>\n",
              "    </tr>\n",
              "    <tr>\n",
              "      <th>std</th>\n",
              "      <td>15.16308</td>\n",
              "      <td>14.600192</td>\n",
              "      <td>15.195657</td>\n",
              "    </tr>\n",
              "    <tr>\n",
              "      <th>min</th>\n",
              "      <td>0.00000</td>\n",
              "      <td>17.000000</td>\n",
              "      <td>10.000000</td>\n",
              "    </tr>\n",
              "    <tr>\n",
              "      <th>25%</th>\n",
              "      <td>57.00000</td>\n",
              "      <td>59.000000</td>\n",
              "      <td>57.750000</td>\n",
              "    </tr>\n",
              "    <tr>\n",
              "      <th>50%</th>\n",
              "      <td>66.00000</td>\n",
              "      <td>70.000000</td>\n",
              "      <td>69.000000</td>\n",
              "    </tr>\n",
              "    <tr>\n",
              "      <th>75%</th>\n",
              "      <td>77.00000</td>\n",
              "      <td>79.000000</td>\n",
              "      <td>79.000000</td>\n",
              "    </tr>\n",
              "    <tr>\n",
              "      <th>max</th>\n",
              "      <td>100.00000</td>\n",
              "      <td>100.000000</td>\n",
              "      <td>100.000000</td>\n",
              "    </tr>\n",
              "  </tbody>\n",
              "</table>\n",
              "</div>\n",
              "      <button class=\"colab-df-convert\" onclick=\"convertToInteractive('df-36f48844-6a77-499a-a04d-cc2d516a1a17')\"\n",
              "              title=\"Convert this dataframe to an interactive table.\"\n",
              "              style=\"display:none;\">\n",
              "        \n",
              "  <svg xmlns=\"http://www.w3.org/2000/svg\" height=\"24px\"viewBox=\"0 0 24 24\"\n",
              "       width=\"24px\">\n",
              "    <path d=\"M0 0h24v24H0V0z\" fill=\"none\"/>\n",
              "    <path d=\"M18.56 5.44l.94 2.06.94-2.06 2.06-.94-2.06-.94-.94-2.06-.94 2.06-2.06.94zm-11 1L8.5 8.5l.94-2.06 2.06-.94-2.06-.94L8.5 2.5l-.94 2.06-2.06.94zm10 10l.94 2.06.94-2.06 2.06-.94-2.06-.94-.94-2.06-.94 2.06-2.06.94z\"/><path d=\"M17.41 7.96l-1.37-1.37c-.4-.4-.92-.59-1.43-.59-.52 0-1.04.2-1.43.59L10.3 9.45l-7.72 7.72c-.78.78-.78 2.05 0 2.83L4 21.41c.39.39.9.59 1.41.59.51 0 1.02-.2 1.41-.59l7.78-7.78 2.81-2.81c.8-.78.8-2.07 0-2.86zM5.41 20L4 18.59l7.72-7.72 1.47 1.35L5.41 20z\"/>\n",
              "  </svg>\n",
              "      </button>\n",
              "      \n",
              "  <style>\n",
              "    .colab-df-container {\n",
              "      display:flex;\n",
              "      flex-wrap:wrap;\n",
              "      gap: 12px;\n",
              "    }\n",
              "\n",
              "    .colab-df-convert {\n",
              "      background-color: #E8F0FE;\n",
              "      border: none;\n",
              "      border-radius: 50%;\n",
              "      cursor: pointer;\n",
              "      display: none;\n",
              "      fill: #1967D2;\n",
              "      height: 32px;\n",
              "      padding: 0 0 0 0;\n",
              "      width: 32px;\n",
              "    }\n",
              "\n",
              "    .colab-df-convert:hover {\n",
              "      background-color: #E2EBFA;\n",
              "      box-shadow: 0px 1px 2px rgba(60, 64, 67, 0.3), 0px 1px 3px 1px rgba(60, 64, 67, 0.15);\n",
              "      fill: #174EA6;\n",
              "    }\n",
              "\n",
              "    [theme=dark] .colab-df-convert {\n",
              "      background-color: #3B4455;\n",
              "      fill: #D2E3FC;\n",
              "    }\n",
              "\n",
              "    [theme=dark] .colab-df-convert:hover {\n",
              "      background-color: #434B5C;\n",
              "      box-shadow: 0px 1px 3px 1px rgba(0, 0, 0, 0.15);\n",
              "      filter: drop-shadow(0px 1px 2px rgba(0, 0, 0, 0.3));\n",
              "      fill: #FFFFFF;\n",
              "    }\n",
              "  </style>\n",
              "\n",
              "      <script>\n",
              "        const buttonEl =\n",
              "          document.querySelector('#df-36f48844-6a77-499a-a04d-cc2d516a1a17 button.colab-df-convert');\n",
              "        buttonEl.style.display =\n",
              "          google.colab.kernel.accessAllowed ? 'block' : 'none';\n",
              "\n",
              "        async function convertToInteractive(key) {\n",
              "          const element = document.querySelector('#df-36f48844-6a77-499a-a04d-cc2d516a1a17');\n",
              "          const dataTable =\n",
              "            await google.colab.kernel.invokeFunction('convertToInteractive',\n",
              "                                                     [key], {});\n",
              "          if (!dataTable) return;\n",
              "\n",
              "          const docLinkHtml = 'Like what you see? Visit the ' +\n",
              "            '<a target=\"_blank\" href=https://colab.research.google.com/notebooks/data_table.ipynb>data table notebook</a>'\n",
              "            + ' to learn more about interactive tables.';\n",
              "          element.innerHTML = '';\n",
              "          dataTable['output_type'] = 'display_data';\n",
              "          await google.colab.output.renderOutput(dataTable, element);\n",
              "          const docLink = document.createElement('div');\n",
              "          docLink.innerHTML = docLinkHtml;\n",
              "          element.appendChild(docLink);\n",
              "        }\n",
              "      </script>\n",
              "    </div>\n",
              "  </div>\n",
              "  "
            ],
            "text/plain": [
              "       math score  reading score  writing score\n",
              "count  1000.00000    1000.000000    1000.000000\n",
              "mean     66.08900      69.169000      68.054000\n",
              "std      15.16308      14.600192      15.195657\n",
              "min       0.00000      17.000000      10.000000\n",
              "25%      57.00000      59.000000      57.750000\n",
              "50%      66.00000      70.000000      69.000000\n",
              "75%      77.00000      79.000000      79.000000\n",
              "max     100.00000     100.000000     100.000000"
            ]
          },
          "metadata": {},
          "execution_count": 9
        }
      ]
    },
    {
      "cell_type": "code",
      "source": [
        "df['math score'] + df['reading score'] +\tdf['writing score']"
      ],
      "metadata": {
        "colab": {
          "base_uri": "https://localhost:8080/"
        },
        "id": "y7m_hgL0v1bF",
        "outputId": "377a4a09-c201-450c-ab55-4b2418758e8c"
      },
      "execution_count": null,
      "outputs": [
        {
          "output_type": "execute_result",
          "data": {
            "text/plain": [
              "0      218\n",
              "1      247\n",
              "2      278\n",
              "3      148\n",
              "4      229\n",
              "      ... \n",
              "995    282\n",
              "996    172\n",
              "997    195\n",
              "998    223\n",
              "999    249\n",
              "Length: 1000, dtype: int64"
            ]
          },
          "metadata": {},
          "execution_count": 10
        }
      ]
    },
    {
      "cell_type": "code",
      "source": [
        "df['average'] = (df['math score'] + df['reading score'] +\tdf['writing score']) / 3"
      ],
      "metadata": {
        "id": "RuvtxR0MwOL8"
      },
      "execution_count": null,
      "outputs": []
    },
    {
      "cell_type": "code",
      "source": [
        "df.head()"
      ],
      "metadata": {
        "colab": {
          "base_uri": "https://localhost:8080/",
          "height": 268
        },
        "id": "VnRQ88uDwoB6",
        "outputId": "55c69e23-c204-4ff8-e0f2-e72377e80f4a"
      },
      "execution_count": null,
      "outputs": [
        {
          "output_type": "execute_result",
          "data": {
            "text/html": [
              "\n",
              "  <div id=\"df-fd672986-d6a0-4e60-bf4a-5127d7a12ea0\">\n",
              "    <div class=\"colab-df-container\">\n",
              "      <div>\n",
              "<style scoped>\n",
              "    .dataframe tbody tr th:only-of-type {\n",
              "        vertical-align: middle;\n",
              "    }\n",
              "\n",
              "    .dataframe tbody tr th {\n",
              "        vertical-align: top;\n",
              "    }\n",
              "\n",
              "    .dataframe thead th {\n",
              "        text-align: right;\n",
              "    }\n",
              "</style>\n",
              "<table border=\"1\" class=\"dataframe\">\n",
              "  <thead>\n",
              "    <tr style=\"text-align: right;\">\n",
              "      <th></th>\n",
              "      <th>gender</th>\n",
              "      <th>race/ethnicity</th>\n",
              "      <th>parental level of education</th>\n",
              "      <th>lunch</th>\n",
              "      <th>test preparation course</th>\n",
              "      <th>math score</th>\n",
              "      <th>reading score</th>\n",
              "      <th>writing score</th>\n",
              "      <th>average</th>\n",
              "    </tr>\n",
              "  </thead>\n",
              "  <tbody>\n",
              "    <tr>\n",
              "      <th>0</th>\n",
              "      <td>female</td>\n",
              "      <td>group B</td>\n",
              "      <td>bachelor's degree</td>\n",
              "      <td>standard</td>\n",
              "      <td>none</td>\n",
              "      <td>72</td>\n",
              "      <td>72</td>\n",
              "      <td>74</td>\n",
              "      <td>72.666667</td>\n",
              "    </tr>\n",
              "    <tr>\n",
              "      <th>1</th>\n",
              "      <td>female</td>\n",
              "      <td>group C</td>\n",
              "      <td>some college</td>\n",
              "      <td>standard</td>\n",
              "      <td>completed</td>\n",
              "      <td>69</td>\n",
              "      <td>90</td>\n",
              "      <td>88</td>\n",
              "      <td>82.333333</td>\n",
              "    </tr>\n",
              "    <tr>\n",
              "      <th>2</th>\n",
              "      <td>female</td>\n",
              "      <td>group B</td>\n",
              "      <td>master's degree</td>\n",
              "      <td>standard</td>\n",
              "      <td>none</td>\n",
              "      <td>90</td>\n",
              "      <td>95</td>\n",
              "      <td>93</td>\n",
              "      <td>92.666667</td>\n",
              "    </tr>\n",
              "    <tr>\n",
              "      <th>3</th>\n",
              "      <td>male</td>\n",
              "      <td>group A</td>\n",
              "      <td>associate's degree</td>\n",
              "      <td>free/reduced</td>\n",
              "      <td>none</td>\n",
              "      <td>47</td>\n",
              "      <td>57</td>\n",
              "      <td>44</td>\n",
              "      <td>49.333333</td>\n",
              "    </tr>\n",
              "    <tr>\n",
              "      <th>4</th>\n",
              "      <td>male</td>\n",
              "      <td>group C</td>\n",
              "      <td>some college</td>\n",
              "      <td>standard</td>\n",
              "      <td>none</td>\n",
              "      <td>76</td>\n",
              "      <td>78</td>\n",
              "      <td>75</td>\n",
              "      <td>76.333333</td>\n",
              "    </tr>\n",
              "  </tbody>\n",
              "</table>\n",
              "</div>\n",
              "      <button class=\"colab-df-convert\" onclick=\"convertToInteractive('df-fd672986-d6a0-4e60-bf4a-5127d7a12ea0')\"\n",
              "              title=\"Convert this dataframe to an interactive table.\"\n",
              "              style=\"display:none;\">\n",
              "        \n",
              "  <svg xmlns=\"http://www.w3.org/2000/svg\" height=\"24px\"viewBox=\"0 0 24 24\"\n",
              "       width=\"24px\">\n",
              "    <path d=\"M0 0h24v24H0V0z\" fill=\"none\"/>\n",
              "    <path d=\"M18.56 5.44l.94 2.06.94-2.06 2.06-.94-2.06-.94-.94-2.06-.94 2.06-2.06.94zm-11 1L8.5 8.5l.94-2.06 2.06-.94-2.06-.94L8.5 2.5l-.94 2.06-2.06.94zm10 10l.94 2.06.94-2.06 2.06-.94-2.06-.94-.94-2.06-.94 2.06-2.06.94z\"/><path d=\"M17.41 7.96l-1.37-1.37c-.4-.4-.92-.59-1.43-.59-.52 0-1.04.2-1.43.59L10.3 9.45l-7.72 7.72c-.78.78-.78 2.05 0 2.83L4 21.41c.39.39.9.59 1.41.59.51 0 1.02-.2 1.41-.59l7.78-7.78 2.81-2.81c.8-.78.8-2.07 0-2.86zM5.41 20L4 18.59l7.72-7.72 1.47 1.35L5.41 20z\"/>\n",
              "  </svg>\n",
              "      </button>\n",
              "      \n",
              "  <style>\n",
              "    .colab-df-container {\n",
              "      display:flex;\n",
              "      flex-wrap:wrap;\n",
              "      gap: 12px;\n",
              "    }\n",
              "\n",
              "    .colab-df-convert {\n",
              "      background-color: #E8F0FE;\n",
              "      border: none;\n",
              "      border-radius: 50%;\n",
              "      cursor: pointer;\n",
              "      display: none;\n",
              "      fill: #1967D2;\n",
              "      height: 32px;\n",
              "      padding: 0 0 0 0;\n",
              "      width: 32px;\n",
              "    }\n",
              "\n",
              "    .colab-df-convert:hover {\n",
              "      background-color: #E2EBFA;\n",
              "      box-shadow: 0px 1px 2px rgba(60, 64, 67, 0.3), 0px 1px 3px 1px rgba(60, 64, 67, 0.15);\n",
              "      fill: #174EA6;\n",
              "    }\n",
              "\n",
              "    [theme=dark] .colab-df-convert {\n",
              "      background-color: #3B4455;\n",
              "      fill: #D2E3FC;\n",
              "    }\n",
              "\n",
              "    [theme=dark] .colab-df-convert:hover {\n",
              "      background-color: #434B5C;\n",
              "      box-shadow: 0px 1px 3px 1px rgba(0, 0, 0, 0.15);\n",
              "      filter: drop-shadow(0px 1px 2px rgba(0, 0, 0, 0.3));\n",
              "      fill: #FFFFFF;\n",
              "    }\n",
              "  </style>\n",
              "\n",
              "      <script>\n",
              "        const buttonEl =\n",
              "          document.querySelector('#df-fd672986-d6a0-4e60-bf4a-5127d7a12ea0 button.colab-df-convert');\n",
              "        buttonEl.style.display =\n",
              "          google.colab.kernel.accessAllowed ? 'block' : 'none';\n",
              "\n",
              "        async function convertToInteractive(key) {\n",
              "          const element = document.querySelector('#df-fd672986-d6a0-4e60-bf4a-5127d7a12ea0');\n",
              "          const dataTable =\n",
              "            await google.colab.kernel.invokeFunction('convertToInteractive',\n",
              "                                                     [key], {});\n",
              "          if (!dataTable) return;\n",
              "\n",
              "          const docLinkHtml = 'Like what you see? Visit the ' +\n",
              "            '<a target=\"_blank\" href=https://colab.research.google.com/notebooks/data_table.ipynb>data table notebook</a>'\n",
              "            + ' to learn more about interactive tables.';\n",
              "          element.innerHTML = '';\n",
              "          dataTable['output_type'] = 'display_data';\n",
              "          await google.colab.output.renderOutput(dataTable, element);\n",
              "          const docLink = document.createElement('div');\n",
              "          docLink.innerHTML = docLinkHtml;\n",
              "          element.appendChild(docLink);\n",
              "        }\n",
              "      </script>\n",
              "    </div>\n",
              "  </div>\n",
              "  "
            ],
            "text/plain": [
              "   gender race/ethnicity  ... writing score    average\n",
              "0  female        group B  ...            74  72.666667\n",
              "1  female        group C  ...            88  82.333333\n",
              "2  female        group B  ...            93  92.666667\n",
              "3    male        group A  ...            44  49.333333\n",
              "4    male        group C  ...            75  76.333333\n",
              "\n",
              "[5 rows x 9 columns]"
            ]
          },
          "metadata": {},
          "execution_count": 12
        }
      ]
    },
    {
      "cell_type": "code",
      "source": [
        "df.pop('average')"
      ],
      "metadata": {
        "colab": {
          "base_uri": "https://localhost:8080/"
        },
        "id": "YdPy5vqKwpIy",
        "outputId": "68ae053e-064d-47d1-c133-fb2798db31c2"
      },
      "execution_count": null,
      "outputs": [
        {
          "output_type": "execute_result",
          "data": {
            "text/plain": [
              "0      72.666667\n",
              "1      82.333333\n",
              "2      92.666667\n",
              "3      49.333333\n",
              "4      76.333333\n",
              "         ...    \n",
              "995    94.000000\n",
              "996    57.333333\n",
              "997    65.000000\n",
              "998    74.333333\n",
              "999    83.000000\n",
              "Name: average, Length: 1000, dtype: float64"
            ]
          },
          "metadata": {},
          "execution_count": 18
        }
      ]
    },
    {
      "cell_type": "code",
      "source": [
        "df.head()"
      ],
      "metadata": {
        "colab": {
          "base_uri": "https://localhost:8080/",
          "height": 268
        },
        "id": "OXzn57huxDkq",
        "outputId": "c98160c1-fb56-4005-a4ed-e4ec53e4e399"
      },
      "execution_count": null,
      "outputs": [
        {
          "output_type": "execute_result",
          "data": {
            "text/html": [
              "\n",
              "  <div id=\"df-44907225-391a-4e19-8371-7ce5bc9e0d2b\">\n",
              "    <div class=\"colab-df-container\">\n",
              "      <div>\n",
              "<style scoped>\n",
              "    .dataframe tbody tr th:only-of-type {\n",
              "        vertical-align: middle;\n",
              "    }\n",
              "\n",
              "    .dataframe tbody tr th {\n",
              "        vertical-align: top;\n",
              "    }\n",
              "\n",
              "    .dataframe thead th {\n",
              "        text-align: right;\n",
              "    }\n",
              "</style>\n",
              "<table border=\"1\" class=\"dataframe\">\n",
              "  <thead>\n",
              "    <tr style=\"text-align: right;\">\n",
              "      <th></th>\n",
              "      <th>gender</th>\n",
              "      <th>race/ethnicity</th>\n",
              "      <th>parental level of education</th>\n",
              "      <th>lunch</th>\n",
              "      <th>test preparation course</th>\n",
              "      <th>math score</th>\n",
              "      <th>reading score</th>\n",
              "      <th>writing score</th>\n",
              "    </tr>\n",
              "  </thead>\n",
              "  <tbody>\n",
              "    <tr>\n",
              "      <th>0</th>\n",
              "      <td>female</td>\n",
              "      <td>group B</td>\n",
              "      <td>bachelor's degree</td>\n",
              "      <td>standard</td>\n",
              "      <td>none</td>\n",
              "      <td>72</td>\n",
              "      <td>72</td>\n",
              "      <td>74</td>\n",
              "    </tr>\n",
              "    <tr>\n",
              "      <th>1</th>\n",
              "      <td>female</td>\n",
              "      <td>group C</td>\n",
              "      <td>some college</td>\n",
              "      <td>standard</td>\n",
              "      <td>completed</td>\n",
              "      <td>69</td>\n",
              "      <td>90</td>\n",
              "      <td>88</td>\n",
              "    </tr>\n",
              "    <tr>\n",
              "      <th>2</th>\n",
              "      <td>female</td>\n",
              "      <td>group B</td>\n",
              "      <td>master's degree</td>\n",
              "      <td>standard</td>\n",
              "      <td>none</td>\n",
              "      <td>90</td>\n",
              "      <td>95</td>\n",
              "      <td>93</td>\n",
              "    </tr>\n",
              "    <tr>\n",
              "      <th>3</th>\n",
              "      <td>male</td>\n",
              "      <td>group A</td>\n",
              "      <td>associate's degree</td>\n",
              "      <td>free/reduced</td>\n",
              "      <td>none</td>\n",
              "      <td>47</td>\n",
              "      <td>57</td>\n",
              "      <td>44</td>\n",
              "    </tr>\n",
              "    <tr>\n",
              "      <th>4</th>\n",
              "      <td>male</td>\n",
              "      <td>group C</td>\n",
              "      <td>some college</td>\n",
              "      <td>standard</td>\n",
              "      <td>none</td>\n",
              "      <td>76</td>\n",
              "      <td>78</td>\n",
              "      <td>75</td>\n",
              "    </tr>\n",
              "  </tbody>\n",
              "</table>\n",
              "</div>\n",
              "      <button class=\"colab-df-convert\" onclick=\"convertToInteractive('df-44907225-391a-4e19-8371-7ce5bc9e0d2b')\"\n",
              "              title=\"Convert this dataframe to an interactive table.\"\n",
              "              style=\"display:none;\">\n",
              "        \n",
              "  <svg xmlns=\"http://www.w3.org/2000/svg\" height=\"24px\"viewBox=\"0 0 24 24\"\n",
              "       width=\"24px\">\n",
              "    <path d=\"M0 0h24v24H0V0z\" fill=\"none\"/>\n",
              "    <path d=\"M18.56 5.44l.94 2.06.94-2.06 2.06-.94-2.06-.94-.94-2.06-.94 2.06-2.06.94zm-11 1L8.5 8.5l.94-2.06 2.06-.94-2.06-.94L8.5 2.5l-.94 2.06-2.06.94zm10 10l.94 2.06.94-2.06 2.06-.94-2.06-.94-.94-2.06-.94 2.06-2.06.94z\"/><path d=\"M17.41 7.96l-1.37-1.37c-.4-.4-.92-.59-1.43-.59-.52 0-1.04.2-1.43.59L10.3 9.45l-7.72 7.72c-.78.78-.78 2.05 0 2.83L4 21.41c.39.39.9.59 1.41.59.51 0 1.02-.2 1.41-.59l7.78-7.78 2.81-2.81c.8-.78.8-2.07 0-2.86zM5.41 20L4 18.59l7.72-7.72 1.47 1.35L5.41 20z\"/>\n",
              "  </svg>\n",
              "      </button>\n",
              "      \n",
              "  <style>\n",
              "    .colab-df-container {\n",
              "      display:flex;\n",
              "      flex-wrap:wrap;\n",
              "      gap: 12px;\n",
              "    }\n",
              "\n",
              "    .colab-df-convert {\n",
              "      background-color: #E8F0FE;\n",
              "      border: none;\n",
              "      border-radius: 50%;\n",
              "      cursor: pointer;\n",
              "      display: none;\n",
              "      fill: #1967D2;\n",
              "      height: 32px;\n",
              "      padding: 0 0 0 0;\n",
              "      width: 32px;\n",
              "    }\n",
              "\n",
              "    .colab-df-convert:hover {\n",
              "      background-color: #E2EBFA;\n",
              "      box-shadow: 0px 1px 2px rgba(60, 64, 67, 0.3), 0px 1px 3px 1px rgba(60, 64, 67, 0.15);\n",
              "      fill: #174EA6;\n",
              "    }\n",
              "\n",
              "    [theme=dark] .colab-df-convert {\n",
              "      background-color: #3B4455;\n",
              "      fill: #D2E3FC;\n",
              "    }\n",
              "\n",
              "    [theme=dark] .colab-df-convert:hover {\n",
              "      background-color: #434B5C;\n",
              "      box-shadow: 0px 1px 3px 1px rgba(0, 0, 0, 0.15);\n",
              "      filter: drop-shadow(0px 1px 2px rgba(0, 0, 0, 0.3));\n",
              "      fill: #FFFFFF;\n",
              "    }\n",
              "  </style>\n",
              "\n",
              "      <script>\n",
              "        const buttonEl =\n",
              "          document.querySelector('#df-44907225-391a-4e19-8371-7ce5bc9e0d2b button.colab-df-convert');\n",
              "        buttonEl.style.display =\n",
              "          google.colab.kernel.accessAllowed ? 'block' : 'none';\n",
              "\n",
              "        async function convertToInteractive(key) {\n",
              "          const element = document.querySelector('#df-44907225-391a-4e19-8371-7ce5bc9e0d2b');\n",
              "          const dataTable =\n",
              "            await google.colab.kernel.invokeFunction('convertToInteractive',\n",
              "                                                     [key], {});\n",
              "          if (!dataTable) return;\n",
              "\n",
              "          const docLinkHtml = 'Like what you see? Visit the ' +\n",
              "            '<a target=\"_blank\" href=https://colab.research.google.com/notebooks/data_table.ipynb>data table notebook</a>'\n",
              "            + ' to learn more about interactive tables.';\n",
              "          element.innerHTML = '';\n",
              "          dataTable['output_type'] = 'display_data';\n",
              "          await google.colab.output.renderOutput(dataTable, element);\n",
              "          const docLink = document.createElement('div');\n",
              "          docLink.innerHTML = docLinkHtml;\n",
              "          element.appendChild(docLink);\n",
              "        }\n",
              "      </script>\n",
              "    </div>\n",
              "  </div>\n",
              "  "
            ],
            "text/plain": [
              "   gender race/ethnicity  ... reading score writing score\n",
              "0  female        group B  ...            72            74\n",
              "1  female        group C  ...            90            88\n",
              "2  female        group B  ...            95            93\n",
              "3    male        group A  ...            57            44\n",
              "4    male        group C  ...            78            75\n",
              "\n",
              "[5 rows x 8 columns]"
            ]
          },
          "metadata": {},
          "execution_count": 19
        }
      ]
    },
    {
      "cell_type": "markdown",
      "source": [
        "## Value Counts"
      ],
      "metadata": {
        "id": "-SYozhR4x2Q3"
      }
    },
    {
      "cell_type": "code",
      "source": [
        "df['gender'].value_counts()"
      ],
      "metadata": {
        "colab": {
          "base_uri": "https://localhost:8080/"
        },
        "id": "hMR2r7YZxGSY",
        "outputId": "c841edd9-102b-42a3-bde0-462c3c143da9"
      },
      "execution_count": null,
      "outputs": [
        {
          "output_type": "execute_result",
          "data": {
            "text/plain": [
              "female    518\n",
              "male      482\n",
              "Name: gender, dtype: int64"
            ]
          },
          "metadata": {},
          "execution_count": 21
        }
      ]
    },
    {
      "cell_type": "code",
      "source": [
        "df['gender'].value_counts(normalize=True)"
      ],
      "metadata": {
        "colab": {
          "base_uri": "https://localhost:8080/"
        },
        "id": "rI2zcsFcyHeY",
        "outputId": "85944517-3820-4eef-ff56-cae1952fccb0"
      },
      "execution_count": null,
      "outputs": [
        {
          "output_type": "execute_result",
          "data": {
            "text/plain": [
              "female    0.518\n",
              "male      0.482\n",
              "Name: gender, dtype: float64"
            ]
          },
          "metadata": {},
          "execution_count": 22
        }
      ]
    },
    {
      "cell_type": "code",
      "source": [
        "df['parental level of education'].value_counts()"
      ],
      "metadata": {
        "colab": {
          "base_uri": "https://localhost:8080/"
        },
        "id": "EJWWwcQ0yU2B",
        "outputId": "a1f40849-a972-439c-d222-6d1abd65af18"
      },
      "execution_count": null,
      "outputs": [
        {
          "output_type": "execute_result",
          "data": {
            "text/plain": [
              "some college          226\n",
              "associate's degree    222\n",
              "high school           196\n",
              "some high school      179\n",
              "bachelor's degree     118\n",
              "master's degree        59\n",
              "Name: parental level of education, dtype: int64"
            ]
          },
          "metadata": {},
          "execution_count": 23
        }
      ]
    },
    {
      "cell_type": "code",
      "source": [
        "df['parental level of education'].value_counts(normalize=True).round(2)"
      ],
      "metadata": {
        "colab": {
          "base_uri": "https://localhost:8080/"
        },
        "id": "jgOWH4dbycaB",
        "outputId": "4bc59bf8-4161-49c8-ddf9-d5b371b6f7cc"
      },
      "execution_count": null,
      "outputs": [
        {
          "output_type": "execute_result",
          "data": {
            "text/plain": [
              "some college          0.23\n",
              "associate's degree    0.22\n",
              "high school           0.20\n",
              "some high school      0.18\n",
              "bachelor's degree     0.12\n",
              "master's degree       0.06\n",
              "Name: parental level of education, dtype: float64"
            ]
          },
          "metadata": {},
          "execution_count": 24
        }
      ]
    },
    {
      "cell_type": "markdown",
      "source": [
        "## Sort a dataframe"
      ],
      "metadata": {
        "id": "9Yd4EEioylai"
      }
    },
    {
      "cell_type": "code",
      "source": [
        "df.sort_values(by='math score')"
      ],
      "metadata": {
        "colab": {
          "base_uri": "https://localhost:8080/",
          "height": 485
        },
        "id": "B2hLFvpRykFX",
        "outputId": "7cce9702-e609-4c12-a710-ae76bea37228"
      },
      "execution_count": null,
      "outputs": [
        {
          "output_type": "execute_result",
          "data": {
            "text/html": [
              "\n",
              "  <div id=\"df-29cceb4d-c4a3-4108-bf92-e23a83234c38\">\n",
              "    <div class=\"colab-df-container\">\n",
              "      <div>\n",
              "<style scoped>\n",
              "    .dataframe tbody tr th:only-of-type {\n",
              "        vertical-align: middle;\n",
              "    }\n",
              "\n",
              "    .dataframe tbody tr th {\n",
              "        vertical-align: top;\n",
              "    }\n",
              "\n",
              "    .dataframe thead th {\n",
              "        text-align: right;\n",
              "    }\n",
              "</style>\n",
              "<table border=\"1\" class=\"dataframe\">\n",
              "  <thead>\n",
              "    <tr style=\"text-align: right;\">\n",
              "      <th></th>\n",
              "      <th>gender</th>\n",
              "      <th>race/ethnicity</th>\n",
              "      <th>parental level of education</th>\n",
              "      <th>lunch</th>\n",
              "      <th>test preparation course</th>\n",
              "      <th>math score</th>\n",
              "      <th>reading score</th>\n",
              "      <th>writing score</th>\n",
              "    </tr>\n",
              "  </thead>\n",
              "  <tbody>\n",
              "    <tr>\n",
              "      <th>59</th>\n",
              "      <td>female</td>\n",
              "      <td>group C</td>\n",
              "      <td>some high school</td>\n",
              "      <td>free/reduced</td>\n",
              "      <td>none</td>\n",
              "      <td>0</td>\n",
              "      <td>17</td>\n",
              "      <td>10</td>\n",
              "    </tr>\n",
              "    <tr>\n",
              "      <th>980</th>\n",
              "      <td>female</td>\n",
              "      <td>group B</td>\n",
              "      <td>high school</td>\n",
              "      <td>free/reduced</td>\n",
              "      <td>none</td>\n",
              "      <td>8</td>\n",
              "      <td>24</td>\n",
              "      <td>23</td>\n",
              "    </tr>\n",
              "    <tr>\n",
              "      <th>17</th>\n",
              "      <td>female</td>\n",
              "      <td>group B</td>\n",
              "      <td>some high school</td>\n",
              "      <td>free/reduced</td>\n",
              "      <td>none</td>\n",
              "      <td>18</td>\n",
              "      <td>32</td>\n",
              "      <td>28</td>\n",
              "    </tr>\n",
              "    <tr>\n",
              "      <th>787</th>\n",
              "      <td>female</td>\n",
              "      <td>group B</td>\n",
              "      <td>some college</td>\n",
              "      <td>standard</td>\n",
              "      <td>none</td>\n",
              "      <td>19</td>\n",
              "      <td>38</td>\n",
              "      <td>32</td>\n",
              "    </tr>\n",
              "    <tr>\n",
              "      <th>145</th>\n",
              "      <td>female</td>\n",
              "      <td>group C</td>\n",
              "      <td>some college</td>\n",
              "      <td>free/reduced</td>\n",
              "      <td>none</td>\n",
              "      <td>22</td>\n",
              "      <td>39</td>\n",
              "      <td>33</td>\n",
              "    </tr>\n",
              "    <tr>\n",
              "      <th>...</th>\n",
              "      <td>...</td>\n",
              "      <td>...</td>\n",
              "      <td>...</td>\n",
              "      <td>...</td>\n",
              "      <td>...</td>\n",
              "      <td>...</td>\n",
              "      <td>...</td>\n",
              "      <td>...</td>\n",
              "    </tr>\n",
              "    <tr>\n",
              "      <th>625</th>\n",
              "      <td>male</td>\n",
              "      <td>group D</td>\n",
              "      <td>some college</td>\n",
              "      <td>standard</td>\n",
              "      <td>completed</td>\n",
              "      <td>100</td>\n",
              "      <td>97</td>\n",
              "      <td>99</td>\n",
              "    </tr>\n",
              "    <tr>\n",
              "      <th>623</th>\n",
              "      <td>male</td>\n",
              "      <td>group A</td>\n",
              "      <td>some college</td>\n",
              "      <td>standard</td>\n",
              "      <td>completed</td>\n",
              "      <td>100</td>\n",
              "      <td>96</td>\n",
              "      <td>86</td>\n",
              "    </tr>\n",
              "    <tr>\n",
              "      <th>451</th>\n",
              "      <td>female</td>\n",
              "      <td>group E</td>\n",
              "      <td>some college</td>\n",
              "      <td>standard</td>\n",
              "      <td>none</td>\n",
              "      <td>100</td>\n",
              "      <td>92</td>\n",
              "      <td>97</td>\n",
              "    </tr>\n",
              "    <tr>\n",
              "      <th>962</th>\n",
              "      <td>female</td>\n",
              "      <td>group E</td>\n",
              "      <td>associate's degree</td>\n",
              "      <td>standard</td>\n",
              "      <td>none</td>\n",
              "      <td>100</td>\n",
              "      <td>100</td>\n",
              "      <td>100</td>\n",
              "    </tr>\n",
              "    <tr>\n",
              "      <th>149</th>\n",
              "      <td>male</td>\n",
              "      <td>group E</td>\n",
              "      <td>associate's degree</td>\n",
              "      <td>free/reduced</td>\n",
              "      <td>completed</td>\n",
              "      <td>100</td>\n",
              "      <td>100</td>\n",
              "      <td>93</td>\n",
              "    </tr>\n",
              "  </tbody>\n",
              "</table>\n",
              "<p>1000 rows × 8 columns</p>\n",
              "</div>\n",
              "      <button class=\"colab-df-convert\" onclick=\"convertToInteractive('df-29cceb4d-c4a3-4108-bf92-e23a83234c38')\"\n",
              "              title=\"Convert this dataframe to an interactive table.\"\n",
              "              style=\"display:none;\">\n",
              "        \n",
              "  <svg xmlns=\"http://www.w3.org/2000/svg\" height=\"24px\"viewBox=\"0 0 24 24\"\n",
              "       width=\"24px\">\n",
              "    <path d=\"M0 0h24v24H0V0z\" fill=\"none\"/>\n",
              "    <path d=\"M18.56 5.44l.94 2.06.94-2.06 2.06-.94-2.06-.94-.94-2.06-.94 2.06-2.06.94zm-11 1L8.5 8.5l.94-2.06 2.06-.94-2.06-.94L8.5 2.5l-.94 2.06-2.06.94zm10 10l.94 2.06.94-2.06 2.06-.94-2.06-.94-.94-2.06-.94 2.06-2.06.94z\"/><path d=\"M17.41 7.96l-1.37-1.37c-.4-.4-.92-.59-1.43-.59-.52 0-1.04.2-1.43.59L10.3 9.45l-7.72 7.72c-.78.78-.78 2.05 0 2.83L4 21.41c.39.39.9.59 1.41.59.51 0 1.02-.2 1.41-.59l7.78-7.78 2.81-2.81c.8-.78.8-2.07 0-2.86zM5.41 20L4 18.59l7.72-7.72 1.47 1.35L5.41 20z\"/>\n",
              "  </svg>\n",
              "      </button>\n",
              "      \n",
              "  <style>\n",
              "    .colab-df-container {\n",
              "      display:flex;\n",
              "      flex-wrap:wrap;\n",
              "      gap: 12px;\n",
              "    }\n",
              "\n",
              "    .colab-df-convert {\n",
              "      background-color: #E8F0FE;\n",
              "      border: none;\n",
              "      border-radius: 50%;\n",
              "      cursor: pointer;\n",
              "      display: none;\n",
              "      fill: #1967D2;\n",
              "      height: 32px;\n",
              "      padding: 0 0 0 0;\n",
              "      width: 32px;\n",
              "    }\n",
              "\n",
              "    .colab-df-convert:hover {\n",
              "      background-color: #E2EBFA;\n",
              "      box-shadow: 0px 1px 2px rgba(60, 64, 67, 0.3), 0px 1px 3px 1px rgba(60, 64, 67, 0.15);\n",
              "      fill: #174EA6;\n",
              "    }\n",
              "\n",
              "    [theme=dark] .colab-df-convert {\n",
              "      background-color: #3B4455;\n",
              "      fill: #D2E3FC;\n",
              "    }\n",
              "\n",
              "    [theme=dark] .colab-df-convert:hover {\n",
              "      background-color: #434B5C;\n",
              "      box-shadow: 0px 1px 3px 1px rgba(0, 0, 0, 0.15);\n",
              "      filter: drop-shadow(0px 1px 2px rgba(0, 0, 0, 0.3));\n",
              "      fill: #FFFFFF;\n",
              "    }\n",
              "  </style>\n",
              "\n",
              "      <script>\n",
              "        const buttonEl =\n",
              "          document.querySelector('#df-29cceb4d-c4a3-4108-bf92-e23a83234c38 button.colab-df-convert');\n",
              "        buttonEl.style.display =\n",
              "          google.colab.kernel.accessAllowed ? 'block' : 'none';\n",
              "\n",
              "        async function convertToInteractive(key) {\n",
              "          const element = document.querySelector('#df-29cceb4d-c4a3-4108-bf92-e23a83234c38');\n",
              "          const dataTable =\n",
              "            await google.colab.kernel.invokeFunction('convertToInteractive',\n",
              "                                                     [key], {});\n",
              "          if (!dataTable) return;\n",
              "\n",
              "          const docLinkHtml = 'Like what you see? Visit the ' +\n",
              "            '<a target=\"_blank\" href=https://colab.research.google.com/notebooks/data_table.ipynb>data table notebook</a>'\n",
              "            + ' to learn more about interactive tables.';\n",
              "          element.innerHTML = '';\n",
              "          dataTable['output_type'] = 'display_data';\n",
              "          await google.colab.output.renderOutput(dataTable, element);\n",
              "          const docLink = document.createElement('div');\n",
              "          docLink.innerHTML = docLinkHtml;\n",
              "          element.appendChild(docLink);\n",
              "        }\n",
              "      </script>\n",
              "    </div>\n",
              "  </div>\n",
              "  "
            ],
            "text/plain": [
              "     gender race/ethnicity  ... reading score writing score\n",
              "59   female        group C  ...            17            10\n",
              "980  female        group B  ...            24            23\n",
              "17   female        group B  ...            32            28\n",
              "787  female        group B  ...            38            32\n",
              "145  female        group C  ...            39            33\n",
              "..      ...            ...  ...           ...           ...\n",
              "625    male        group D  ...            97            99\n",
              "623    male        group A  ...            96            86\n",
              "451  female        group E  ...            92            97\n",
              "962  female        group E  ...           100           100\n",
              "149    male        group E  ...           100            93\n",
              "\n",
              "[1000 rows x 8 columns]"
            ]
          },
          "metadata": {},
          "execution_count": 26
        }
      ]
    },
    {
      "cell_type": "code",
      "source": [
        "df.sort_values('math score', ascending=False)"
      ],
      "metadata": {
        "colab": {
          "base_uri": "https://localhost:8080/",
          "height": 485
        },
        "id": "dY5SCVkeyuyK",
        "outputId": "3da58980-6fcb-4502-f7ea-d0493be7a33c"
      },
      "execution_count": null,
      "outputs": [
        {
          "output_type": "execute_result",
          "data": {
            "text/html": [
              "\n",
              "  <div id=\"df-cd30d235-c81a-45e9-9504-4d5464aa668e\">\n",
              "    <div class=\"colab-df-container\">\n",
              "      <div>\n",
              "<style scoped>\n",
              "    .dataframe tbody tr th:only-of-type {\n",
              "        vertical-align: middle;\n",
              "    }\n",
              "\n",
              "    .dataframe tbody tr th {\n",
              "        vertical-align: top;\n",
              "    }\n",
              "\n",
              "    .dataframe thead th {\n",
              "        text-align: right;\n",
              "    }\n",
              "</style>\n",
              "<table border=\"1\" class=\"dataframe\">\n",
              "  <thead>\n",
              "    <tr style=\"text-align: right;\">\n",
              "      <th></th>\n",
              "      <th>gender</th>\n",
              "      <th>race/ethnicity</th>\n",
              "      <th>parental level of education</th>\n",
              "      <th>lunch</th>\n",
              "      <th>test preparation course</th>\n",
              "      <th>math score</th>\n",
              "      <th>reading score</th>\n",
              "      <th>writing score</th>\n",
              "    </tr>\n",
              "  </thead>\n",
              "  <tbody>\n",
              "    <tr>\n",
              "      <th>962</th>\n",
              "      <td>female</td>\n",
              "      <td>group E</td>\n",
              "      <td>associate's degree</td>\n",
              "      <td>standard</td>\n",
              "      <td>none</td>\n",
              "      <td>100</td>\n",
              "      <td>100</td>\n",
              "      <td>100</td>\n",
              "    </tr>\n",
              "    <tr>\n",
              "      <th>625</th>\n",
              "      <td>male</td>\n",
              "      <td>group D</td>\n",
              "      <td>some college</td>\n",
              "      <td>standard</td>\n",
              "      <td>completed</td>\n",
              "      <td>100</td>\n",
              "      <td>97</td>\n",
              "      <td>99</td>\n",
              "    </tr>\n",
              "    <tr>\n",
              "      <th>458</th>\n",
              "      <td>female</td>\n",
              "      <td>group E</td>\n",
              "      <td>bachelor's degree</td>\n",
              "      <td>standard</td>\n",
              "      <td>none</td>\n",
              "      <td>100</td>\n",
              "      <td>100</td>\n",
              "      <td>100</td>\n",
              "    </tr>\n",
              "    <tr>\n",
              "      <th>623</th>\n",
              "      <td>male</td>\n",
              "      <td>group A</td>\n",
              "      <td>some college</td>\n",
              "      <td>standard</td>\n",
              "      <td>completed</td>\n",
              "      <td>100</td>\n",
              "      <td>96</td>\n",
              "      <td>86</td>\n",
              "    </tr>\n",
              "    <tr>\n",
              "      <th>451</th>\n",
              "      <td>female</td>\n",
              "      <td>group E</td>\n",
              "      <td>some college</td>\n",
              "      <td>standard</td>\n",
              "      <td>none</td>\n",
              "      <td>100</td>\n",
              "      <td>92</td>\n",
              "      <td>97</td>\n",
              "    </tr>\n",
              "    <tr>\n",
              "      <th>...</th>\n",
              "      <td>...</td>\n",
              "      <td>...</td>\n",
              "      <td>...</td>\n",
              "      <td>...</td>\n",
              "      <td>...</td>\n",
              "      <td>...</td>\n",
              "      <td>...</td>\n",
              "      <td>...</td>\n",
              "    </tr>\n",
              "    <tr>\n",
              "      <th>145</th>\n",
              "      <td>female</td>\n",
              "      <td>group C</td>\n",
              "      <td>some college</td>\n",
              "      <td>free/reduced</td>\n",
              "      <td>none</td>\n",
              "      <td>22</td>\n",
              "      <td>39</td>\n",
              "      <td>33</td>\n",
              "    </tr>\n",
              "    <tr>\n",
              "      <th>787</th>\n",
              "      <td>female</td>\n",
              "      <td>group B</td>\n",
              "      <td>some college</td>\n",
              "      <td>standard</td>\n",
              "      <td>none</td>\n",
              "      <td>19</td>\n",
              "      <td>38</td>\n",
              "      <td>32</td>\n",
              "    </tr>\n",
              "    <tr>\n",
              "      <th>17</th>\n",
              "      <td>female</td>\n",
              "      <td>group B</td>\n",
              "      <td>some high school</td>\n",
              "      <td>free/reduced</td>\n",
              "      <td>none</td>\n",
              "      <td>18</td>\n",
              "      <td>32</td>\n",
              "      <td>28</td>\n",
              "    </tr>\n",
              "    <tr>\n",
              "      <th>980</th>\n",
              "      <td>female</td>\n",
              "      <td>group B</td>\n",
              "      <td>high school</td>\n",
              "      <td>free/reduced</td>\n",
              "      <td>none</td>\n",
              "      <td>8</td>\n",
              "      <td>24</td>\n",
              "      <td>23</td>\n",
              "    </tr>\n",
              "    <tr>\n",
              "      <th>59</th>\n",
              "      <td>female</td>\n",
              "      <td>group C</td>\n",
              "      <td>some high school</td>\n",
              "      <td>free/reduced</td>\n",
              "      <td>none</td>\n",
              "      <td>0</td>\n",
              "      <td>17</td>\n",
              "      <td>10</td>\n",
              "    </tr>\n",
              "  </tbody>\n",
              "</table>\n",
              "<p>1000 rows × 8 columns</p>\n",
              "</div>\n",
              "      <button class=\"colab-df-convert\" onclick=\"convertToInteractive('df-cd30d235-c81a-45e9-9504-4d5464aa668e')\"\n",
              "              title=\"Convert this dataframe to an interactive table.\"\n",
              "              style=\"display:none;\">\n",
              "        \n",
              "  <svg xmlns=\"http://www.w3.org/2000/svg\" height=\"24px\"viewBox=\"0 0 24 24\"\n",
              "       width=\"24px\">\n",
              "    <path d=\"M0 0h24v24H0V0z\" fill=\"none\"/>\n",
              "    <path d=\"M18.56 5.44l.94 2.06.94-2.06 2.06-.94-2.06-.94-.94-2.06-.94 2.06-2.06.94zm-11 1L8.5 8.5l.94-2.06 2.06-.94-2.06-.94L8.5 2.5l-.94 2.06-2.06.94zm10 10l.94 2.06.94-2.06 2.06-.94-2.06-.94-.94-2.06-.94 2.06-2.06.94z\"/><path d=\"M17.41 7.96l-1.37-1.37c-.4-.4-.92-.59-1.43-.59-.52 0-1.04.2-1.43.59L10.3 9.45l-7.72 7.72c-.78.78-.78 2.05 0 2.83L4 21.41c.39.39.9.59 1.41.59.51 0 1.02-.2 1.41-.59l7.78-7.78 2.81-2.81c.8-.78.8-2.07 0-2.86zM5.41 20L4 18.59l7.72-7.72 1.47 1.35L5.41 20z\"/>\n",
              "  </svg>\n",
              "      </button>\n",
              "      \n",
              "  <style>\n",
              "    .colab-df-container {\n",
              "      display:flex;\n",
              "      flex-wrap:wrap;\n",
              "      gap: 12px;\n",
              "    }\n",
              "\n",
              "    .colab-df-convert {\n",
              "      background-color: #E8F0FE;\n",
              "      border: none;\n",
              "      border-radius: 50%;\n",
              "      cursor: pointer;\n",
              "      display: none;\n",
              "      fill: #1967D2;\n",
              "      height: 32px;\n",
              "      padding: 0 0 0 0;\n",
              "      width: 32px;\n",
              "    }\n",
              "\n",
              "    .colab-df-convert:hover {\n",
              "      background-color: #E2EBFA;\n",
              "      box-shadow: 0px 1px 2px rgba(60, 64, 67, 0.3), 0px 1px 3px 1px rgba(60, 64, 67, 0.15);\n",
              "      fill: #174EA6;\n",
              "    }\n",
              "\n",
              "    [theme=dark] .colab-df-convert {\n",
              "      background-color: #3B4455;\n",
              "      fill: #D2E3FC;\n",
              "    }\n",
              "\n",
              "    [theme=dark] .colab-df-convert:hover {\n",
              "      background-color: #434B5C;\n",
              "      box-shadow: 0px 1px 3px 1px rgba(0, 0, 0, 0.15);\n",
              "      filter: drop-shadow(0px 1px 2px rgba(0, 0, 0, 0.3));\n",
              "      fill: #FFFFFF;\n",
              "    }\n",
              "  </style>\n",
              "\n",
              "      <script>\n",
              "        const buttonEl =\n",
              "          document.querySelector('#df-cd30d235-c81a-45e9-9504-4d5464aa668e button.colab-df-convert');\n",
              "        buttonEl.style.display =\n",
              "          google.colab.kernel.accessAllowed ? 'block' : 'none';\n",
              "\n",
              "        async function convertToInteractive(key) {\n",
              "          const element = document.querySelector('#df-cd30d235-c81a-45e9-9504-4d5464aa668e');\n",
              "          const dataTable =\n",
              "            await google.colab.kernel.invokeFunction('convertToInteractive',\n",
              "                                                     [key], {});\n",
              "          if (!dataTable) return;\n",
              "\n",
              "          const docLinkHtml = 'Like what you see? Visit the ' +\n",
              "            '<a target=\"_blank\" href=https://colab.research.google.com/notebooks/data_table.ipynb>data table notebook</a>'\n",
              "            + ' to learn more about interactive tables.';\n",
              "          element.innerHTML = '';\n",
              "          dataTable['output_type'] = 'display_data';\n",
              "          await google.colab.output.renderOutput(dataTable, element);\n",
              "          const docLink = document.createElement('div');\n",
              "          docLink.innerHTML = docLinkHtml;\n",
              "          element.appendChild(docLink);\n",
              "        }\n",
              "      </script>\n",
              "    </div>\n",
              "  </div>\n",
              "  "
            ],
            "text/plain": [
              "     gender race/ethnicity  ... reading score writing score\n",
              "962  female        group E  ...           100           100\n",
              "625    male        group D  ...            97            99\n",
              "458  female        group E  ...           100           100\n",
              "623    male        group A  ...            96            86\n",
              "451  female        group E  ...            92            97\n",
              "..      ...            ...  ...           ...           ...\n",
              "145  female        group C  ...            39            33\n",
              "787  female        group B  ...            38            32\n",
              "17   female        group B  ...            32            28\n",
              "980  female        group B  ...            24            23\n",
              "59   female        group C  ...            17            10\n",
              "\n",
              "[1000 rows x 8 columns]"
            ]
          },
          "metadata": {},
          "execution_count": 27
        }
      ]
    },
    {
      "cell_type": "code",
      "source": [
        "df.sort_values(['math score', 'reading score'], ascending=False)"
      ],
      "metadata": {
        "colab": {
          "base_uri": "https://localhost:8080/",
          "height": 485
        },
        "id": "ossrqmLIy7K3",
        "outputId": "26e4bf5b-5f36-4726-9f85-8e72952e8207"
      },
      "execution_count": null,
      "outputs": [
        {
          "output_type": "execute_result",
          "data": {
            "text/html": [
              "\n",
              "  <div id=\"df-b5257202-0cdd-485e-b3d2-84d46f9cca29\">\n",
              "    <div class=\"colab-df-container\">\n",
              "      <div>\n",
              "<style scoped>\n",
              "    .dataframe tbody tr th:only-of-type {\n",
              "        vertical-align: middle;\n",
              "    }\n",
              "\n",
              "    .dataframe tbody tr th {\n",
              "        vertical-align: top;\n",
              "    }\n",
              "\n",
              "    .dataframe thead th {\n",
              "        text-align: right;\n",
              "    }\n",
              "</style>\n",
              "<table border=\"1\" class=\"dataframe\">\n",
              "  <thead>\n",
              "    <tr style=\"text-align: right;\">\n",
              "      <th></th>\n",
              "      <th>gender</th>\n",
              "      <th>race/ethnicity</th>\n",
              "      <th>parental level of education</th>\n",
              "      <th>lunch</th>\n",
              "      <th>test preparation course</th>\n",
              "      <th>math score</th>\n",
              "      <th>reading score</th>\n",
              "      <th>writing score</th>\n",
              "    </tr>\n",
              "  </thead>\n",
              "  <tbody>\n",
              "    <tr>\n",
              "      <th>149</th>\n",
              "      <td>male</td>\n",
              "      <td>group E</td>\n",
              "      <td>associate's degree</td>\n",
              "      <td>free/reduced</td>\n",
              "      <td>completed</td>\n",
              "      <td>100</td>\n",
              "      <td>100</td>\n",
              "      <td>93</td>\n",
              "    </tr>\n",
              "    <tr>\n",
              "      <th>458</th>\n",
              "      <td>female</td>\n",
              "      <td>group E</td>\n",
              "      <td>bachelor's degree</td>\n",
              "      <td>standard</td>\n",
              "      <td>none</td>\n",
              "      <td>100</td>\n",
              "      <td>100</td>\n",
              "      <td>100</td>\n",
              "    </tr>\n",
              "    <tr>\n",
              "      <th>916</th>\n",
              "      <td>male</td>\n",
              "      <td>group E</td>\n",
              "      <td>bachelor's degree</td>\n",
              "      <td>standard</td>\n",
              "      <td>completed</td>\n",
              "      <td>100</td>\n",
              "      <td>100</td>\n",
              "      <td>100</td>\n",
              "    </tr>\n",
              "    <tr>\n",
              "      <th>962</th>\n",
              "      <td>female</td>\n",
              "      <td>group E</td>\n",
              "      <td>associate's degree</td>\n",
              "      <td>standard</td>\n",
              "      <td>none</td>\n",
              "      <td>100</td>\n",
              "      <td>100</td>\n",
              "      <td>100</td>\n",
              "    </tr>\n",
              "    <tr>\n",
              "      <th>625</th>\n",
              "      <td>male</td>\n",
              "      <td>group D</td>\n",
              "      <td>some college</td>\n",
              "      <td>standard</td>\n",
              "      <td>completed</td>\n",
              "      <td>100</td>\n",
              "      <td>97</td>\n",
              "      <td>99</td>\n",
              "    </tr>\n",
              "    <tr>\n",
              "      <th>...</th>\n",
              "      <td>...</td>\n",
              "      <td>...</td>\n",
              "      <td>...</td>\n",
              "      <td>...</td>\n",
              "      <td>...</td>\n",
              "      <td>...</td>\n",
              "      <td>...</td>\n",
              "      <td>...</td>\n",
              "    </tr>\n",
              "    <tr>\n",
              "      <th>145</th>\n",
              "      <td>female</td>\n",
              "      <td>group C</td>\n",
              "      <td>some college</td>\n",
              "      <td>free/reduced</td>\n",
              "      <td>none</td>\n",
              "      <td>22</td>\n",
              "      <td>39</td>\n",
              "      <td>33</td>\n",
              "    </tr>\n",
              "    <tr>\n",
              "      <th>787</th>\n",
              "      <td>female</td>\n",
              "      <td>group B</td>\n",
              "      <td>some college</td>\n",
              "      <td>standard</td>\n",
              "      <td>none</td>\n",
              "      <td>19</td>\n",
              "      <td>38</td>\n",
              "      <td>32</td>\n",
              "    </tr>\n",
              "    <tr>\n",
              "      <th>17</th>\n",
              "      <td>female</td>\n",
              "      <td>group B</td>\n",
              "      <td>some high school</td>\n",
              "      <td>free/reduced</td>\n",
              "      <td>none</td>\n",
              "      <td>18</td>\n",
              "      <td>32</td>\n",
              "      <td>28</td>\n",
              "    </tr>\n",
              "    <tr>\n",
              "      <th>980</th>\n",
              "      <td>female</td>\n",
              "      <td>group B</td>\n",
              "      <td>high school</td>\n",
              "      <td>free/reduced</td>\n",
              "      <td>none</td>\n",
              "      <td>8</td>\n",
              "      <td>24</td>\n",
              "      <td>23</td>\n",
              "    </tr>\n",
              "    <tr>\n",
              "      <th>59</th>\n",
              "      <td>female</td>\n",
              "      <td>group C</td>\n",
              "      <td>some high school</td>\n",
              "      <td>free/reduced</td>\n",
              "      <td>none</td>\n",
              "      <td>0</td>\n",
              "      <td>17</td>\n",
              "      <td>10</td>\n",
              "    </tr>\n",
              "  </tbody>\n",
              "</table>\n",
              "<p>1000 rows × 8 columns</p>\n",
              "</div>\n",
              "      <button class=\"colab-df-convert\" onclick=\"convertToInteractive('df-b5257202-0cdd-485e-b3d2-84d46f9cca29')\"\n",
              "              title=\"Convert this dataframe to an interactive table.\"\n",
              "              style=\"display:none;\">\n",
              "        \n",
              "  <svg xmlns=\"http://www.w3.org/2000/svg\" height=\"24px\"viewBox=\"0 0 24 24\"\n",
              "       width=\"24px\">\n",
              "    <path d=\"M0 0h24v24H0V0z\" fill=\"none\"/>\n",
              "    <path d=\"M18.56 5.44l.94 2.06.94-2.06 2.06-.94-2.06-.94-.94-2.06-.94 2.06-2.06.94zm-11 1L8.5 8.5l.94-2.06 2.06-.94-2.06-.94L8.5 2.5l-.94 2.06-2.06.94zm10 10l.94 2.06.94-2.06 2.06-.94-2.06-.94-.94-2.06-.94 2.06-2.06.94z\"/><path d=\"M17.41 7.96l-1.37-1.37c-.4-.4-.92-.59-1.43-.59-.52 0-1.04.2-1.43.59L10.3 9.45l-7.72 7.72c-.78.78-.78 2.05 0 2.83L4 21.41c.39.39.9.59 1.41.59.51 0 1.02-.2 1.41-.59l7.78-7.78 2.81-2.81c.8-.78.8-2.07 0-2.86zM5.41 20L4 18.59l7.72-7.72 1.47 1.35L5.41 20z\"/>\n",
              "  </svg>\n",
              "      </button>\n",
              "      \n",
              "  <style>\n",
              "    .colab-df-container {\n",
              "      display:flex;\n",
              "      flex-wrap:wrap;\n",
              "      gap: 12px;\n",
              "    }\n",
              "\n",
              "    .colab-df-convert {\n",
              "      background-color: #E8F0FE;\n",
              "      border: none;\n",
              "      border-radius: 50%;\n",
              "      cursor: pointer;\n",
              "      display: none;\n",
              "      fill: #1967D2;\n",
              "      height: 32px;\n",
              "      padding: 0 0 0 0;\n",
              "      width: 32px;\n",
              "    }\n",
              "\n",
              "    .colab-df-convert:hover {\n",
              "      background-color: #E2EBFA;\n",
              "      box-shadow: 0px 1px 2px rgba(60, 64, 67, 0.3), 0px 1px 3px 1px rgba(60, 64, 67, 0.15);\n",
              "      fill: #174EA6;\n",
              "    }\n",
              "\n",
              "    [theme=dark] .colab-df-convert {\n",
              "      background-color: #3B4455;\n",
              "      fill: #D2E3FC;\n",
              "    }\n",
              "\n",
              "    [theme=dark] .colab-df-convert:hover {\n",
              "      background-color: #434B5C;\n",
              "      box-shadow: 0px 1px 3px 1px rgba(0, 0, 0, 0.15);\n",
              "      filter: drop-shadow(0px 1px 2px rgba(0, 0, 0, 0.3));\n",
              "      fill: #FFFFFF;\n",
              "    }\n",
              "  </style>\n",
              "\n",
              "      <script>\n",
              "        const buttonEl =\n",
              "          document.querySelector('#df-b5257202-0cdd-485e-b3d2-84d46f9cca29 button.colab-df-convert');\n",
              "        buttonEl.style.display =\n",
              "          google.colab.kernel.accessAllowed ? 'block' : 'none';\n",
              "\n",
              "        async function convertToInteractive(key) {\n",
              "          const element = document.querySelector('#df-b5257202-0cdd-485e-b3d2-84d46f9cca29');\n",
              "          const dataTable =\n",
              "            await google.colab.kernel.invokeFunction('convertToInteractive',\n",
              "                                                     [key], {});\n",
              "          if (!dataTable) return;\n",
              "\n",
              "          const docLinkHtml = 'Like what you see? Visit the ' +\n",
              "            '<a target=\"_blank\" href=https://colab.research.google.com/notebooks/data_table.ipynb>data table notebook</a>'\n",
              "            + ' to learn more about interactive tables.';\n",
              "          element.innerHTML = '';\n",
              "          dataTable['output_type'] = 'display_data';\n",
              "          await google.colab.output.renderOutput(dataTable, element);\n",
              "          const docLink = document.createElement('div');\n",
              "          docLink.innerHTML = docLinkHtml;\n",
              "          element.appendChild(docLink);\n",
              "        }\n",
              "      </script>\n",
              "    </div>\n",
              "  </div>\n",
              "  "
            ],
            "text/plain": [
              "     gender race/ethnicity  ... reading score writing score\n",
              "149    male        group E  ...           100            93\n",
              "458  female        group E  ...           100           100\n",
              "916    male        group E  ...           100           100\n",
              "962  female        group E  ...           100           100\n",
              "625    male        group D  ...            97            99\n",
              "..      ...            ...  ...           ...           ...\n",
              "145  female        group C  ...            39            33\n",
              "787  female        group B  ...            38            32\n",
              "17   female        group B  ...            32            28\n",
              "980  female        group B  ...            24            23\n",
              "59   female        group C  ...            17            10\n",
              "\n",
              "[1000 rows x 8 columns]"
            ]
          },
          "metadata": {},
          "execution_count": 28
        }
      ]
    },
    {
      "cell_type": "code",
      "source": [
        "df.sort_values(['math score', 'reading score'], ascending=False, inplace=True)"
      ],
      "metadata": {
        "id": "ZqIbcTFDzEue"
      },
      "execution_count": null,
      "outputs": []
    },
    {
      "cell_type": "code",
      "source": [
        "df.head()"
      ],
      "metadata": {
        "colab": {
          "base_uri": "https://localhost:8080/",
          "height": 268
        },
        "id": "wqgevMJ5zP5p",
        "outputId": "c4eb01bd-53a7-48ec-91c4-f2855c07c06b"
      },
      "execution_count": null,
      "outputs": [
        {
          "output_type": "execute_result",
          "data": {
            "text/html": [
              "\n",
              "  <div id=\"df-3822f9cd-b201-47fc-8123-12d93ca6f512\">\n",
              "    <div class=\"colab-df-container\">\n",
              "      <div>\n",
              "<style scoped>\n",
              "    .dataframe tbody tr th:only-of-type {\n",
              "        vertical-align: middle;\n",
              "    }\n",
              "\n",
              "    .dataframe tbody tr th {\n",
              "        vertical-align: top;\n",
              "    }\n",
              "\n",
              "    .dataframe thead th {\n",
              "        text-align: right;\n",
              "    }\n",
              "</style>\n",
              "<table border=\"1\" class=\"dataframe\">\n",
              "  <thead>\n",
              "    <tr style=\"text-align: right;\">\n",
              "      <th></th>\n",
              "      <th>gender</th>\n",
              "      <th>race/ethnicity</th>\n",
              "      <th>parental level of education</th>\n",
              "      <th>lunch</th>\n",
              "      <th>test preparation course</th>\n",
              "      <th>math score</th>\n",
              "      <th>reading score</th>\n",
              "      <th>writing score</th>\n",
              "    </tr>\n",
              "  </thead>\n",
              "  <tbody>\n",
              "    <tr>\n",
              "      <th>149</th>\n",
              "      <td>male</td>\n",
              "      <td>group E</td>\n",
              "      <td>associate's degree</td>\n",
              "      <td>free/reduced</td>\n",
              "      <td>completed</td>\n",
              "      <td>100</td>\n",
              "      <td>100</td>\n",
              "      <td>93</td>\n",
              "    </tr>\n",
              "    <tr>\n",
              "      <th>458</th>\n",
              "      <td>female</td>\n",
              "      <td>group E</td>\n",
              "      <td>bachelor's degree</td>\n",
              "      <td>standard</td>\n",
              "      <td>none</td>\n",
              "      <td>100</td>\n",
              "      <td>100</td>\n",
              "      <td>100</td>\n",
              "    </tr>\n",
              "    <tr>\n",
              "      <th>916</th>\n",
              "      <td>male</td>\n",
              "      <td>group E</td>\n",
              "      <td>bachelor's degree</td>\n",
              "      <td>standard</td>\n",
              "      <td>completed</td>\n",
              "      <td>100</td>\n",
              "      <td>100</td>\n",
              "      <td>100</td>\n",
              "    </tr>\n",
              "    <tr>\n",
              "      <th>962</th>\n",
              "      <td>female</td>\n",
              "      <td>group E</td>\n",
              "      <td>associate's degree</td>\n",
              "      <td>standard</td>\n",
              "      <td>none</td>\n",
              "      <td>100</td>\n",
              "      <td>100</td>\n",
              "      <td>100</td>\n",
              "    </tr>\n",
              "    <tr>\n",
              "      <th>625</th>\n",
              "      <td>male</td>\n",
              "      <td>group D</td>\n",
              "      <td>some college</td>\n",
              "      <td>standard</td>\n",
              "      <td>completed</td>\n",
              "      <td>100</td>\n",
              "      <td>97</td>\n",
              "      <td>99</td>\n",
              "    </tr>\n",
              "  </tbody>\n",
              "</table>\n",
              "</div>\n",
              "      <button class=\"colab-df-convert\" onclick=\"convertToInteractive('df-3822f9cd-b201-47fc-8123-12d93ca6f512')\"\n",
              "              title=\"Convert this dataframe to an interactive table.\"\n",
              "              style=\"display:none;\">\n",
              "        \n",
              "  <svg xmlns=\"http://www.w3.org/2000/svg\" height=\"24px\"viewBox=\"0 0 24 24\"\n",
              "       width=\"24px\">\n",
              "    <path d=\"M0 0h24v24H0V0z\" fill=\"none\"/>\n",
              "    <path d=\"M18.56 5.44l.94 2.06.94-2.06 2.06-.94-2.06-.94-.94-2.06-.94 2.06-2.06.94zm-11 1L8.5 8.5l.94-2.06 2.06-.94-2.06-.94L8.5 2.5l-.94 2.06-2.06.94zm10 10l.94 2.06.94-2.06 2.06-.94-2.06-.94-.94-2.06-.94 2.06-2.06.94z\"/><path d=\"M17.41 7.96l-1.37-1.37c-.4-.4-.92-.59-1.43-.59-.52 0-1.04.2-1.43.59L10.3 9.45l-7.72 7.72c-.78.78-.78 2.05 0 2.83L4 21.41c.39.39.9.59 1.41.59.51 0 1.02-.2 1.41-.59l7.78-7.78 2.81-2.81c.8-.78.8-2.07 0-2.86zM5.41 20L4 18.59l7.72-7.72 1.47 1.35L5.41 20z\"/>\n",
              "  </svg>\n",
              "      </button>\n",
              "      \n",
              "  <style>\n",
              "    .colab-df-container {\n",
              "      display:flex;\n",
              "      flex-wrap:wrap;\n",
              "      gap: 12px;\n",
              "    }\n",
              "\n",
              "    .colab-df-convert {\n",
              "      background-color: #E8F0FE;\n",
              "      border: none;\n",
              "      border-radius: 50%;\n",
              "      cursor: pointer;\n",
              "      display: none;\n",
              "      fill: #1967D2;\n",
              "      height: 32px;\n",
              "      padding: 0 0 0 0;\n",
              "      width: 32px;\n",
              "    }\n",
              "\n",
              "    .colab-df-convert:hover {\n",
              "      background-color: #E2EBFA;\n",
              "      box-shadow: 0px 1px 2px rgba(60, 64, 67, 0.3), 0px 1px 3px 1px rgba(60, 64, 67, 0.15);\n",
              "      fill: #174EA6;\n",
              "    }\n",
              "\n",
              "    [theme=dark] .colab-df-convert {\n",
              "      background-color: #3B4455;\n",
              "      fill: #D2E3FC;\n",
              "    }\n",
              "\n",
              "    [theme=dark] .colab-df-convert:hover {\n",
              "      background-color: #434B5C;\n",
              "      box-shadow: 0px 1px 3px 1px rgba(0, 0, 0, 0.15);\n",
              "      filter: drop-shadow(0px 1px 2px rgba(0, 0, 0, 0.3));\n",
              "      fill: #FFFFFF;\n",
              "    }\n",
              "  </style>\n",
              "\n",
              "      <script>\n",
              "        const buttonEl =\n",
              "          document.querySelector('#df-3822f9cd-b201-47fc-8123-12d93ca6f512 button.colab-df-convert');\n",
              "        buttonEl.style.display =\n",
              "          google.colab.kernel.accessAllowed ? 'block' : 'none';\n",
              "\n",
              "        async function convertToInteractive(key) {\n",
              "          const element = document.querySelector('#df-3822f9cd-b201-47fc-8123-12d93ca6f512');\n",
              "          const dataTable =\n",
              "            await google.colab.kernel.invokeFunction('convertToInteractive',\n",
              "                                                     [key], {});\n",
              "          if (!dataTable) return;\n",
              "\n",
              "          const docLinkHtml = 'Like what you see? Visit the ' +\n",
              "            '<a target=\"_blank\" href=https://colab.research.google.com/notebooks/data_table.ipynb>data table notebook</a>'\n",
              "            + ' to learn more about interactive tables.';\n",
              "          element.innerHTML = '';\n",
              "          dataTable['output_type'] = 'display_data';\n",
              "          await google.colab.output.renderOutput(dataTable, element);\n",
              "          const docLink = document.createElement('div');\n",
              "          docLink.innerHTML = docLinkHtml;\n",
              "          element.appendChild(docLink);\n",
              "        }\n",
              "      </script>\n",
              "    </div>\n",
              "  </div>\n",
              "  "
            ],
            "text/plain": [
              "     gender race/ethnicity  ... reading score writing score\n",
              "149    male        group E  ...           100            93\n",
              "458  female        group E  ...           100           100\n",
              "916    male        group E  ...           100           100\n",
              "962  female        group E  ...           100           100\n",
              "625    male        group D  ...            97            99\n",
              "\n",
              "[5 rows x 8 columns]"
            ]
          },
          "metadata": {},
          "execution_count": 30
        }
      ]
    },
    {
      "cell_type": "code",
      "source": [
        "df.sort_values('race/ethnicity', ascending=True, key=lambda col:col.str.lower(), inplace=True)"
      ],
      "metadata": {
        "id": "9S5ibZdCzSAy"
      },
      "execution_count": null,
      "outputs": []
    },
    {
      "cell_type": "code",
      "source": [
        "df.head()"
      ],
      "metadata": {
        "colab": {
          "base_uri": "https://localhost:8080/",
          "height": 268
        },
        "id": "DZrMlS4Ezncw",
        "outputId": "d10bbd68-ca83-4f6b-b3e6-c4ddea921d80"
      },
      "execution_count": null,
      "outputs": [
        {
          "output_type": "execute_result",
          "data": {
            "text/html": [
              "\n",
              "  <div id=\"df-3029d7d8-3e9e-470a-b70b-0f4f2a0cda92\">\n",
              "    <div class=\"colab-df-container\">\n",
              "      <div>\n",
              "<style scoped>\n",
              "    .dataframe tbody tr th:only-of-type {\n",
              "        vertical-align: middle;\n",
              "    }\n",
              "\n",
              "    .dataframe tbody tr th {\n",
              "        vertical-align: top;\n",
              "    }\n",
              "\n",
              "    .dataframe thead th {\n",
              "        text-align: right;\n",
              "    }\n",
              "</style>\n",
              "<table border=\"1\" class=\"dataframe\">\n",
              "  <thead>\n",
              "    <tr style=\"text-align: right;\">\n",
              "      <th></th>\n",
              "      <th>gender</th>\n",
              "      <th>race/ethnicity</th>\n",
              "      <th>parental level of education</th>\n",
              "      <th>lunch</th>\n",
              "      <th>test preparation course</th>\n",
              "      <th>math score</th>\n",
              "      <th>reading score</th>\n",
              "      <th>writing score</th>\n",
              "    </tr>\n",
              "  </thead>\n",
              "  <tbody>\n",
              "    <tr>\n",
              "      <th>741</th>\n",
              "      <td>female</td>\n",
              "      <td>group A</td>\n",
              "      <td>associate's degree</td>\n",
              "      <td>free/reduced</td>\n",
              "      <td>none</td>\n",
              "      <td>37</td>\n",
              "      <td>57</td>\n",
              "      <td>56</td>\n",
              "    </tr>\n",
              "    <tr>\n",
              "      <th>151</th>\n",
              "      <td>male</td>\n",
              "      <td>group A</td>\n",
              "      <td>bachelor's degree</td>\n",
              "      <td>standard</td>\n",
              "      <td>none</td>\n",
              "      <td>77</td>\n",
              "      <td>67</td>\n",
              "      <td>68</td>\n",
              "    </tr>\n",
              "    <tr>\n",
              "      <th>811</th>\n",
              "      <td>male</td>\n",
              "      <td>group A</td>\n",
              "      <td>high school</td>\n",
              "      <td>free/reduced</td>\n",
              "      <td>none</td>\n",
              "      <td>45</td>\n",
              "      <td>47</td>\n",
              "      <td>49</td>\n",
              "    </tr>\n",
              "    <tr>\n",
              "      <th>112</th>\n",
              "      <td>male</td>\n",
              "      <td>group A</td>\n",
              "      <td>associate's degree</td>\n",
              "      <td>standard</td>\n",
              "      <td>none</td>\n",
              "      <td>54</td>\n",
              "      <td>53</td>\n",
              "      <td>47</td>\n",
              "    </tr>\n",
              "    <tr>\n",
              "      <th>25</th>\n",
              "      <td>male</td>\n",
              "      <td>group A</td>\n",
              "      <td>master's degree</td>\n",
              "      <td>free/reduced</td>\n",
              "      <td>none</td>\n",
              "      <td>73</td>\n",
              "      <td>74</td>\n",
              "      <td>72</td>\n",
              "    </tr>\n",
              "  </tbody>\n",
              "</table>\n",
              "</div>\n",
              "      <button class=\"colab-df-convert\" onclick=\"convertToInteractive('df-3029d7d8-3e9e-470a-b70b-0f4f2a0cda92')\"\n",
              "              title=\"Convert this dataframe to an interactive table.\"\n",
              "              style=\"display:none;\">\n",
              "        \n",
              "  <svg xmlns=\"http://www.w3.org/2000/svg\" height=\"24px\"viewBox=\"0 0 24 24\"\n",
              "       width=\"24px\">\n",
              "    <path d=\"M0 0h24v24H0V0z\" fill=\"none\"/>\n",
              "    <path d=\"M18.56 5.44l.94 2.06.94-2.06 2.06-.94-2.06-.94-.94-2.06-.94 2.06-2.06.94zm-11 1L8.5 8.5l.94-2.06 2.06-.94-2.06-.94L8.5 2.5l-.94 2.06-2.06.94zm10 10l.94 2.06.94-2.06 2.06-.94-2.06-.94-.94-2.06-.94 2.06-2.06.94z\"/><path d=\"M17.41 7.96l-1.37-1.37c-.4-.4-.92-.59-1.43-.59-.52 0-1.04.2-1.43.59L10.3 9.45l-7.72 7.72c-.78.78-.78 2.05 0 2.83L4 21.41c.39.39.9.59 1.41.59.51 0 1.02-.2 1.41-.59l7.78-7.78 2.81-2.81c.8-.78.8-2.07 0-2.86zM5.41 20L4 18.59l7.72-7.72 1.47 1.35L5.41 20z\"/>\n",
              "  </svg>\n",
              "      </button>\n",
              "      \n",
              "  <style>\n",
              "    .colab-df-container {\n",
              "      display:flex;\n",
              "      flex-wrap:wrap;\n",
              "      gap: 12px;\n",
              "    }\n",
              "\n",
              "    .colab-df-convert {\n",
              "      background-color: #E8F0FE;\n",
              "      border: none;\n",
              "      border-radius: 50%;\n",
              "      cursor: pointer;\n",
              "      display: none;\n",
              "      fill: #1967D2;\n",
              "      height: 32px;\n",
              "      padding: 0 0 0 0;\n",
              "      width: 32px;\n",
              "    }\n",
              "\n",
              "    .colab-df-convert:hover {\n",
              "      background-color: #E2EBFA;\n",
              "      box-shadow: 0px 1px 2px rgba(60, 64, 67, 0.3), 0px 1px 3px 1px rgba(60, 64, 67, 0.15);\n",
              "      fill: #174EA6;\n",
              "    }\n",
              "\n",
              "    [theme=dark] .colab-df-convert {\n",
              "      background-color: #3B4455;\n",
              "      fill: #D2E3FC;\n",
              "    }\n",
              "\n",
              "    [theme=dark] .colab-df-convert:hover {\n",
              "      background-color: #434B5C;\n",
              "      box-shadow: 0px 1px 3px 1px rgba(0, 0, 0, 0.15);\n",
              "      filter: drop-shadow(0px 1px 2px rgba(0, 0, 0, 0.3));\n",
              "      fill: #FFFFFF;\n",
              "    }\n",
              "  </style>\n",
              "\n",
              "      <script>\n",
              "        const buttonEl =\n",
              "          document.querySelector('#df-3029d7d8-3e9e-470a-b70b-0f4f2a0cda92 button.colab-df-convert');\n",
              "        buttonEl.style.display =\n",
              "          google.colab.kernel.accessAllowed ? 'block' : 'none';\n",
              "\n",
              "        async function convertToInteractive(key) {\n",
              "          const element = document.querySelector('#df-3029d7d8-3e9e-470a-b70b-0f4f2a0cda92');\n",
              "          const dataTable =\n",
              "            await google.colab.kernel.invokeFunction('convertToInteractive',\n",
              "                                                     [key], {});\n",
              "          if (!dataTable) return;\n",
              "\n",
              "          const docLinkHtml = 'Like what you see? Visit the ' +\n",
              "            '<a target=\"_blank\" href=https://colab.research.google.com/notebooks/data_table.ipynb>data table notebook</a>'\n",
              "            + ' to learn more about interactive tables.';\n",
              "          element.innerHTML = '';\n",
              "          dataTable['output_type'] = 'display_data';\n",
              "          await google.colab.output.renderOutput(dataTable, element);\n",
              "          const docLink = document.createElement('div');\n",
              "          docLink.innerHTML = docLinkHtml;\n",
              "          element.appendChild(docLink);\n",
              "        }\n",
              "      </script>\n",
              "    </div>\n",
              "  </div>\n",
              "  "
            ],
            "text/plain": [
              "     gender race/ethnicity  ... reading score writing score\n",
              "741  female        group A  ...            57            56\n",
              "151    male        group A  ...            67            68\n",
              "811    male        group A  ...            47            49\n",
              "112    male        group A  ...            53            47\n",
              "25     male        group A  ...            74            72\n",
              "\n",
              "[5 rows x 8 columns]"
            ]
          },
          "metadata": {},
          "execution_count": 33
        }
      ]
    },
    {
      "cell_type": "markdown",
      "source": [
        "## Pivot table"
      ],
      "metadata": {
        "id": "VweWqffh2cMH"
      }
    },
    {
      "cell_type": "code",
      "source": [
        "import pandas as pd\n",
        "from google.colab import files"
      ],
      "metadata": {
        "id": "fIn3wD28z1XV"
      },
      "execution_count": null,
      "outputs": []
    },
    {
      "cell_type": "code",
      "source": [
        "files.upload()"
      ],
      "metadata": {
        "colab": {
          "resources": {
            "http://localhost:8080/nbextensions/google.colab/files.js": {
              "data": "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",
              "ok": true,
              "headers": [
                [
                  "content-type",
                  "application/javascript"
                ]
              ],
              "status": 200,
              "status_text": ""
            }
          },
          "base_uri": "https://localhost:8080/",
          "height": 111
        },
        "id": "Xf1ItrMS0juV",
        "outputId": "43cc82d6-2ff8-46c1-f18b-6f9fb3ffcfb3"
      },
      "execution_count": null,
      "outputs": [
        {
          "output_type": "display_data",
          "data": {
            "text/html": [
              "\n",
              "     <input type=\"file\" id=\"files-640bdec3-8526-44d5-8868-d1e7beba697d\" name=\"files[]\" multiple disabled\n",
              "        style=\"border:none\" />\n",
              "     <output id=\"result-640bdec3-8526-44d5-8868-d1e7beba697d\">\n",
              "      Upload widget is only available when the cell has been executed in the\n",
              "      current browser session. Please rerun this cell to enable.\n",
              "      </output>\n",
              "      <script src=\"/nbextensions/google.colab/files.js\"></script> "
            ],
            "text/plain": [
              "<IPython.core.display.HTML object>"
            ]
          },
          "metadata": {}
        },
        {
          "output_type": "stream",
          "name": "stdout",
          "text": [
            "Saving gdp.csv to gdp (1).csv\n"
          ]
        },
        {
          "output_type": "execute_result",
          "data": {
            "text/plain": [
              "{'gdp.csv': b'unid,wbid,country,year,SES,gdppc,yrseduc,popshare\\r\\n4,AFG,Afghanistan,1970,3.4742124,709,,.0030974303\\r\\n4,AFG,Afghanistan,1920,26.968016,731.75677,,.0032446014\\r\\n4,AFG,Afghanistan,1990,1.2695296,604,,.002346751\\r\\n4,AFG,Afghanistan,1960,15.763076,739,,.003039381\\r\\n4,AFG,Afghanistan,2000,2.0611143,565,,.0033088236\\r\\n4,AFG,Afghanistan,2010,5.6763997,1662.8035,,.0041496116\\r\\n4,AFG,Afghanistan,1880,37.957447,585.46509,,.0032711735\\r\\n4,AFG,Afghanistan,1940,14.320977,673.91895,,.0032264683\\r\\n4,AFG,Afghanistan,1890,29.591391,635.93024,,.0032554974\\r\\n4,AFG,Afghanistan,1980,3.4650476,690,,.0030573066\\r\\n4,AFG,Afghanistan,1930,15.306766,702.83783,,.0032587289\\r\\n4,AFG,Afghanistan,1950,23.424145,645,,.0033020985\\r\\n4,AFG,Afghanistan,1900,28.104797,686.39532,,.0032445015\\r\\n4,AFG,Afghanistan,1910,26.9876,736.86047,,.0031784344\\r\\n24,AGO,Angola,2010,21.247763,6492.1768,2.79,.0031490561\\r\\n24,AGO,Angola,1930,24.175644,747.81482,.079999998,.001587122\\r\\n24,AGO,Angola,1920,24.223469,682.62964,.079999998,.0015237019\\r\\n24,AGO,Angola,1970,30.052431,1768,.28999999,.0017549359\\r\\n24,AGO,Angola,1960,27.918711,1253,.11,.0017810419\\r\\n24,AGO,Angola,1950,28.05554,1052,.090000004,.001668241\\r\\n24,AGO,Angola,1880,11.459789,533.66669,.07,.0013897795\\r\\n24,AGO,Angola,2000,29.470123,3831,2.28,.0025290088\\r\\n24,AGO,Angola,1990,31.855452,4806.4302,1.84,.00216401\\r\\n24,AGO,Angola,1980,13.219266,961,.92000002,.0019003607\\r\\n24,AGO,Angola,1910,14.800509,628.69232,.07,.0014280818\\r\\n24,AGO,Angola,1890,23.73538,567.33331,.07,.0014170408\\r\\n24,AGO,Angola,1900,24.152035,601,.07,.0014377852\\r\\n24,AGO,Angola,1940,23.714304,813,.079999998,.0016068829\\r\\n8,ALB,Albania,1890,67.889656,598,,.00048083669\\r\\n8,ALB,Albania,1950,67.035362,1001,,.00049717881\\r\\n8,ALB,Albania,1900,68.291382,685,,.00049256528\\r\\n8,ALB,Albania,1990,72.882904,4557.4082,,.00063912588\\r\\n8,ALB,Albania,1980,69.502441,2347,,.00061833771\\r\\n8,ALB,Albania,1930,65.956871,929.57141,,.00046770583\\r\\n8,ALB,Albania,1910,67.64238,780,,.00049396837\\r\\n8,ALB,Albania,1880,41.783779,522,,.00047656349\\r\\n8,ALB,Albania,1940,66.797325,965.28571,,.00046828933\\r\\n8,ALB,Albania,2010,74.860367,9927.1758,,.00043229439\\r\\n8,ALB,Albania,1920,66.318832,861.3125,,.00048868998\\r\\n8,ALB,Albania,2000,72.464691,5470.0176,,.00051878369\\r\\n8,ALB,Albania,1970,68.380905,2004,,.00059477024\\r\\n8,ALB,Albania,1960,69.429123,1451,,.00054362073\\r\\n784,ARE,United Arab Emirates,1880,61.117687,811.76746,,.000026795275\\r\\n784,ARE,United Arab Emirates,1990,84.87999,114518.83,,.00035226985\\r\\n784,ARE,United Arab Emirates,1970,65.780487,24552,,.000065572705\\r\\n784,ARE,United Arab Emirates,1950,63.099766,15798,,.000028976126\\r\\n784,ARE,United Arab Emirates,1910,44.850441,1021.0698,,.000025497688\\r\\n784,ARE,United Arab Emirates,1920,58.040146,3833.6758,,.000026307067\\r\\n784,ARE,United Arab Emirates,1980,68.182907,27709,,.00023529927\\r\\n784,ARE,United Arab Emirates,2010,89.092285,57406.738,,.0012360967\\r\\n784,ARE,United Arab Emirates,1940,54.425358,11809.892,,.00002760084\\r\\n784,ARE,United Arab Emirates,2000,88.567055,107206.46,,.00051225087\\r\\n784,ARE,United Arab Emirates,1900,58.4879,951.30231,,.000026204483\\r\\n784,ARE,United Arab Emirates,1960,64.404724,22433,,.00003129401\\r\\n784,ARE,United Arab Emirates,1930,62.76598,7821.7837,,.000027037795\\r\\n784,ARE,United Arab Emirates,1890,59.648911,881.53491,,.000026478054\\r\\n32,ARG,Argentina,1900,75.783241,2756,1.8,.0028895109\\r\\n32,ARG,Argentina,1980,80.478775,8206,6.8464999,.006504098\\r\\n32,ARG,Argentina,1990,78.615967,10833.503,8.3396997,.0063648731\\r\\n32,ARG,Argentina,1910,78.436638,3822,2.26,.0038635789\\r\\n32,ARG,Argentina,2010,79.750809,18794.27,9.3458004,.0061175041\\r\\n32,ARG,Argentina,1960,83.116188,5559,5.6654,.0069672787\\r\\n32,ARG,Argentina,1890,76.156998,2152,1.48,.0022359567\\r\\n32,ARG,Argentina,1920,80.677177,3473,2.9200001,.0046462254\\r\\n32,ARG,Argentina,2000,80.109383,14924.374,8.7262001,.0062235785\\r\\n32,ARG,Argentina,1930,81.207291,4080,3.6800001,.0056658131\\r\\n32,ARG,Argentina,1970,79.346939,7302,6.2962999,.0066769393\\r\\n32,ARG,Argentina,1940,82.258247,4161,4.3800001,.0060985214\\r\\n32,ARG,Argentina,1880,77.89415,1731.5,1.42,.0018546173\\r\\n32,ARG,Argentina,1950,83.055931,4987,5.2199998,.0069484101\\r\\n51,ARM,Armenia,1920,71.793861,1432.9333,,.00049850607\\r\\n51,ARM,Armenia,1890,75.902946,1139,,.00050174631\\r\\n51,ARM,Armenia,1960,83.671188,3945,,.00063100149\\r\\n51,ARM,Armenia,1910,73.819855,1430.0769,,.00048316873\\r\\n51,ARM,Armenia,1950,78.37162,2841,,.0005490834\\r\\n51,ARM,Armenia,1980,83.337685,6116.5884,,.00071652693\\r\\n51,ARM,Armenia,1930,70.480736,1448,,.00051235303\\r\\n51,ARM,Armenia,1880,80.300674,1041,,.00050775742\\r\\n51,ARM,Armenia,1900,76.273468,1237,,.00049656222\\r\\n51,ARM,Armenia,1970,82.699272,5575,,.00070142298\\r\\n51,ARM,Armenia,1990,74.693283,3735.5432,,.00068932824\\r\\n51,ARM,Armenia,2000,59.665016,2918.5576,,.00051661237\\r\\n51,ARM,Armenia,2010,62.782436,6507.9146,,.0004397849\\r\\n51,ARM,Armenia,1940,68.425446,2144,,.00052302249\\r\\n36,AUS,Australia,1920,96.758545,4766,7.71,.0028094433\\r\\n36,AUS,Australia,1970,93.496696,12024,10.1561,.0034834298\\r\\n36,AUS,Australia,1980,93.042801,14412,10.857,.0033999356\\r\\n36,AUS,Australia,1990,90.754593,28572.076,11.6021,.0033186087\\r\\n36,AUS,Australia,1910,96.887123,5210,7.0599999,.0024726677\\r\\n36,AUS,Australia,1900,92.345314,4013,6.25,.0023033584\\r\\n36,AUS,Australia,1950,93.32811,7412,8.75,.0033494881\\r\\n36,AUS,Australia,1930,94.957916,4708,8.3900003,.0030810479\\r\\n36,AUS,Australia,2000,92.742691,35244.504,11.7711,.0032166324\\r\\n36,AUS,Australia,1940,92.879974,6166,8.5699997,.0030309681\\r\\n36,AUS,Australia,2010,94.268761,41363.215,12.1186,.0032695273\\r\\n36,AUS,Australia,1890,94.264038,4458,5.2800002,.0020577956\\r\\n36,AUS,Australia,1880,92.774429,4285,3.3499999,.0015756357\\r\\n36,AUS,Australia,1960,96.255478,8791,9.2958002,.0034724679\\r\\n40,AUT,Austria,1940,83.122299,3959,6.29,.0028859191\\r\\n40,AUT,Austria,1930,83.828415,3586,5.8499999,.0031834478\\r\\n40,AUT,Austria,1910,85.233444,3290,5.3600001,.0037381086\\r\\n40,AUT,Austria,1950,82.491768,3706,6.9400001,.0028097362\\r\\n40,AUT,Austria,2000,87.364433,38812.051,8.9473,.0013454949\\r\\n40,AUT,Austria,2010,87.227364,43174.977,9.5353003,.0012411351\\r\\n40,AUT,Austria,1900,86.015007,2882,4.73,.0036776154\\r\\n40,AUT,Austria,1970,81.531303,9747,6.0672002,.0020797208\\r\\n40,AUT,Austria,1980,84.317146,13759,6.6497998,.001747045\\r\\n40,AUT,Austria,1990,85.322021,31265.287,7.8994002,.0014930929\\r\\n40,AUT,Austria,1920,82.756104,2412,5.9299998,.0033846502\\r\\n40,AUT,Austria,1960,75.411163,6519,4.0531001,.0023813951\\r\\n40,AUT,Austria,1880,87.768036,2079,3.6300001,.0035435669\\r\\n40,AUT,Austria,1890,88.525131,2443,4.0999999,.0035724973\\r\\n108,BDI,Burundi,1950,2.4515922,360,,.0009571691\\r\\n108,BDI,Burundi,1880,15.573837,533.66669,,.00079739955\\r\\n108,BDI,Burundi,1890,28.255926,567.33331,,.00081304088\\r\\n108,BDI,Burundi,1910,27.064009,628.69232,,.0008193758\\r\\n108,BDI,Burundi,1940,25.942425,813,,.00092196453\\r\\n108,BDI,Burundi,1920,27.054239,682.62964,,.00087423855\\r\\n108,BDI,Burundi,2000,2.6087353,713.26978,,.0011364897\\r\\n108,BDI,Burundi,1960,2.1454961,444,,.00094165199\\r\\n108,BDI,Burundi,2010,1.9258878,707.7876,,.0014040364\\r\\n108,BDI,Burundi,1900,36.381325,601,,.00082494307\\r\\n108,BDI,Burundi,1980,3.2236793,603,,.00095494033\\r\\n108,BDI,Burundi,1930,26.277061,747.81482,,.00091062649\\r\\n108,BDI,Burundi,1990,2.8357027,1049.1814,,.001091574\\r\\n108,BDI,Burundi,1970,1.8585533,540,,.00096286961\\r\\n56,BEL,Belgium,1920,87.271965,3962,5.5599999,.0039598574\\r\\n56,BEL,Belgium,1890,92.597931,3428,5.1799998,.0040374384\\r\\n56,BEL,Belgium,1880,92.572395,3065,4.7800002,.0039738724\\r\\n56,BEL,Belgium,2010,89.668945,41086.551,10.5453,.0016169127\\r\\n56,BEL,Belgium,2000,90.130531,37253.473,10.1604,.0017216365\\r\\n56,BEL,Belgium,1940,84.391335,4562,6.0799999,.0035922267\\r\\n56,BEL,Belgium,1970,87.452148,10611,7.5176001,.0026892482\\r\\n56,BEL,Belgium,1980,90.524467,14467,8.0897999,.0022815673\\r\\n56,BEL,Belgium,1910,87.449379,4064,5.3299999,.0042377287\\r\\n56,BEL,Belgium,1900,88.48819,3731,5.1700001,.0041369325\\r\\n56,BEL,Belgium,1960,86.51387,6952,6.9477,.0030930052\\r\\n56,BEL,Belgium,1930,87.697014,4979,5.9000001,.0038464279\\r\\n56,BEL,Belgium,1990,89.041862,30701.26,9.6135998,.001938332\\r\\n56,BEL,Belgium,1950,84.957657,5462,6.2600002,.0035002159\\r\\n204,BEN,Benin,1970,25.500978,1027,.8441,.00080986723\\r\\n204,BEN,Benin,1950,29.504395,1084,.34,.0006776739\\r\\n204,BEN,Benin,1960,26.262554,978,.70569998,.00082165533\\r\\n204,BEN,Benin,1900,34.452255,601,.18000001,.00058405811\\r\\n204,BEN,Benin,1940,27.140636,813,.30000001,.00065274903\\r\\n204,BEN,Benin,2000,6.4292388,1646.4645,3.1113,.0011671047\\r\\n204,BEN,Benin,1910,16.328917,628.69232,.20999999,.00058011647\\r\\n204,BEN,Benin,1980,25.2798,1128,.94090003,.00086040306\\r\\n204,BEN,Benin,1930,25.32546,747.81482,.27000001,.00064472179\\r\\n204,BEN,Benin,1990,4.8991199,1456.0166,2.1308999,.00097258505\\r\\n204,BEN,Benin,1920,24.738932,682.62964,.23999999,.00061895925\\r\\n204,BEN,Benin,1880,13.364529,533.66669,.12,.00056455721\\r\\n204,BEN,Benin,2010,5.9544435,1759.387,4.2168002,.0014112607\\r\\n204,BEN,Benin,1890,26.614748,567.33331,.15000001,.00057563127\\r\\n854,BFA,Burkina Faso,1950,12.46583,474,,.0017729896\\r\\n854,BFA,Burkina Faso,1970,3.3194528,745,,.0015665538\\r\\n854,BFA,Burkina Faso,1960,2.2971661,609,,.0016318392\\r\\n854,BFA,Burkina Faso,1900,23.168137,601,,.0015280641\\r\\n854,BFA,Burkina Faso,1980,2.6319611,731,,.0015789012\\r\\n854,BFA,Burkina Faso,1880,1.3259195,533.66669,,.0014770441\\r\\n854,BFA,Burkina Faso,1930,22.74683,747.81482,,.0016867775\\r\\n854,BFA,Burkina Faso,1940,23.716272,813,,.0017077789\\r\\n854,BFA,Burkina Faso,1910,14.062026,628.69232,,.0015177515\\r\\n854,BFA,Burkina Faso,1920,22.395098,682.62964,,.0016193755\\r\\n854,BFA,Burkina Faso,2010,2.2252226,1420.9326,,.0023198097\\r\\n854,BFA,Burkina Faso,2000,1.7798048,1075.3955,,.0019494852\\r\\n854,BFA,Burkina Faso,1990,1.4692837,844.34253,,.0017134602\\r\\n854,BFA,Burkina Faso,1890,15.102069,567.33331,,.0015060169\\r\\n50,BGD,Bangladesh,1880,38.317455,566.66669,,.017960152\\r\\n50,BGD,Bangladesh,1930,15.40499,614.5946,,.018083904\\r\\n50,BGD,Bangladesh,1960,5.0509758,545,,.016287236\\r\\n50,BGD,Bangladesh,1900,36.213741,608,,.017714726\\r\\n50,BGD,Bangladesh,1990,8.6923437,1290.431,,.020610284\\r\\n50,BGD,Bangladesh,2000,19.570387,1645.7173,,.02204782\\r\\n50,BGD,Bangladesh,1950,16.307102,540,,.018493334\\r\\n50,BGD,Bangladesh,1920,23.990692,651.89191,,.017912185\\r\\n50,BGD,Bangladesh,1910,27.668882,661.84613,,.017645236\\r\\n50,BGD,Bangladesh,1980,4.0725865,549,,.018828815\\r\\n50,BGD,Bangladesh,1940,14.670443,577.2973,,.018148171\\r\\n50,BGD,Bangladesh,1890,37.165516,587.33331,,.017869771\\r\\n50,BGD,Bangladesh,1970,5.4226913,630,,.01811726\\r\\n50,BGD,Bangladesh,2010,21.599051,2451.3052,,.022500038\\r\\n100,BGR,Bulgaria,1940,70.964546,1548,4.8699999,.0028691329\\r\\n100,BGR,Bulgaria,1960,76.519859,2912,6.3548002,.0026584212\\r\\n100,BGR,Bulgaria,2000,74.960121,8958.0889,9.3761997,.0013721318\\r\\n100,BGR,Bulgaria,1900,72.801399,1223,2.72,.0024628262\\r\\n100,BGR,Bulgaria,1920,70.054733,1136.2727,3.5599999,.0026594803\\r\\n100,BGR,Bulgaria,1950,70.208076,1651,5.5700002,.0029375197\\r\\n100,BGR,Bulgaria,1970,79.976784,4773,7.4113002,.0023645028\\r\\n100,BGR,Bulgaria,1990,75.63517,9296.9297,8.7901001,.0016954246\\r\\n100,BGR,Bulgaria,1880,74.825218,985.5,1.92,.0021626444\\r\\n100,BGR,Bulgaria,1930,70.003212,1284,4.1599998,.0028705327\\r\\n100,BGR,Bulgaria,1980,81.519485,6044,7.8084002,.0020506838\\r\\n100,BGR,Bulgaria,1910,75.798248,1456,3.04,.0025546192\\r\\n100,BGR,Bulgaria,2010,78.304153,15283.246,9.8509998,.0010975121\\r\\n100,BGR,Bulgaria,1890,74.232773,1131,2.22,.0022816563\\r\\n48,BHR,Bahrain,1990,83.078407,35112.555,,.00009644503\\r\\n48,BHR,Bahrain,1920,44.749142,1242.9189,,.00004224138\\r\\n48,BHR,Bahrain,1930,39.829506,1529.9459,,.000043414719\\r\\n48,BHR,Bahrain,1940,35.592083,1816.973,,.0000443188\\r\\n48,BHR,Bahrain,1950,38.628914,2104,,.0000465271\\r\\n48,BHR,Bahrain,1880,60.58556,811.76746,,.000043025295\\r\\n48,BHR,Bahrain,2010,86.096413,39912.695,,.00018718063\\r\\n48,BHR,Bahrain,1910,44.397476,1021.0698,,.000040941755\\r\\n48,BHR,Bahrain,1960,47.034851,2843,,.000054909819\\r\\n48,BHR,Bahrain,1980,66.085365,4388,,.000083286388\\r\\n48,BHR,Bahrain,1970,52.497784,3788,,.000059352831\\r\\n48,BHR,Bahrain,2000,86.043159,44791.52,,.00011199433\\r\\n48,BHR,Bahrain,1900,45.584023,951.30231,,.000042076656\\r\\n48,BHR,Bahrain,1890,46.613892,881.53491,,.000042515934\\r\\n84,BLZ,Belize,2010,60.684231,7886.9976,,.000047727004\\r\\n84,BLZ,Belize,1940,78.243782,2165.7026,,.000022221409\\r\\n84,BLZ,Belize,1900,72.186157,845,,.00001556256\\r\\n84,BLZ,Belize,2000,72.661621,6964.0239,,.000041534578\\r\\n84,BLZ,Belize,1970,79.976784,4948,,.000034029101\\r\\n84,BLZ,Belize,1960,80.08123,3478,,.00003111019\\r\\n84,BLZ,Belize,1990,72.783783,5168.2886,,.000036472782\\r\\n84,BLZ,Belize,1920,73.800613,1431.1082,,.000018909157\\r\\n84,BLZ,Belize,1950,77.357277,2533,,.000026657468\\r\\n84,BLZ,Belize,1880,72.040855,647.66669,,.000013960632\\r\\n84,BLZ,Belize,1980,81.400345,5935,,.00003335857\\r\\n84,BLZ,Belize,1890,71.959023,746.33331,,.000014811581\\r\\n84,BLZ,Belize,1910,72.033806,1098.0769,,.000017180184\\r\\n84,BLZ,Belize,1930,76.809525,1798.4054,,.000020221083\\r\\n68,BOL,Bolivia,1950,63.459538,1919,,.0011206485\\r\\n68,BOL,Bolivia,1910,61.408249,978,,.0010382379\\r\\n68,BOL,Bolivia,2000,67.595413,4412.3276,,.0014005714\\r\\n68,BOL,Bolivia,1970,62.943172,2176,,.001254941\\r\\n68,BOL,Bolivia,1930,64.06427,1384.375,,.0011416404\\r\\n68,BOL,Bolivia,1880,60.835548,583.33331,,.001120229\\r\\n68,BOL,Bolivia,1900,61.715897,778,,.0010442383\\r\\n68,BOL,Bolivia,2010,60.437103,5407.6099,,.0014718745\\r\\n68,BOL,Bolivia,1940,63.779434,1588.125,,.0011578109\\r\\n68,BOL,Bolivia,1960,60.691296,1606,,.0012480337\\r\\n68,BOL,Bolivia,1890,61.554031,680.66669,,.0010789022\\r\\n68,BOL,Bolivia,1990,65.122795,3707.3044,,.0013333176\\r\\n68,BOL,Bolivia,1920,63.720306,1180.625,,.001120002\\r\\n68,BOL,Bolivia,1980,64.352669,2572,,.0012935055\\r\\n76,BRA,Brazil,1940,60.143169,1250,2.1300001,.017695999\\r\\n76,BRA,Brazil,1970,48.40609,3057,2.8109,.026732881\\r\\n76,BRA,Brazil,1920,61.274273,963,1.6900001,.014369165\\r\\n76,BRA,Brazil,1910,58.447365,769,1.5700001,.012556066\\r\\n76,BRA,Brazil,1900,59.124783,678,1.49,.011072867\\r\\n76,BRA,Brazil,2000,58.925381,11308.438,6.4106998,.029522289\\r\\n76,BRA,Brazil,1990,55.074524,10245.831,4.4628,.029246589\\r\\n76,BRA,Brazil,1890,64.05587,794,1.41,.0094041321\\r\\n76,BRA,Brazil,2010,61.067955,14405.931,7.5391002,.029474489\\r\\n76,BRA,Brazil,1980,50.918446,5195,2.5702,.028278735\\r\\n76,BRA,Brazil,1930,57.878284,1048,1.84,.015987728\\r\\n76,BRA,Brazil,1960,49.233013,2335,2.0534999,.024495909\\r\\n76,BRA,Brazil,1880,65.424774,752,1.33,.0084583741\\r\\n76,BRA,Brazil,1950,60.691559,1672,2.5599999,.021652311\\r\\n52,BRB,Barbados,1940,74.515846,2165.7026,,.000071147559\\r\\n52,BRB,Barbados,1960,75.988914,3478,,.000078033634\\r\\n52,BRB,Barbados,1880,69.049683,647.66669,,.000044698565\\r\\n52,BRB,Barbados,1900,69.094452,845,,.000049827551\\r\\n52,BRB,Barbados,1930,73.081017,1798.4054,,.000064742992\\r\\n52,BRB,Barbados,2000,79.315598,14440.409,,.000045317687\\r\\n52,BRB,Barbados,1920,69.746109,1431.1082,,.00006054253\\r\\n52,BRB,Barbados,1970,82.182518,4948,,.000066523287\\r\\n52,BRB,Barbados,1910,68.938179,1098.0769,,.000055006774\\r\\n52,BRB,Barbados,1890,69.65519,746.33331,,.000047423102\\r\\n52,BRB,Barbados,1980,81.414032,5935,,.000058361933\\r\\n52,BRB,Barbados,1950,74.623192,2533,,.000085350737\\r\\n52,BRB,Barbados,1990,81.8311,13298.485,,.000050634302\\r\\n52,BRB,Barbados,2010,77.688675,15345.843,,.00004148779\\r\\n96,BRN,Brunei Darussalam,1970,63.911316,2082,,.000036131914\\r\\n96,BRN,Brunei Darussalam,1980,67.161522,2522,,.000044676104\\r\\n96,BRN,Brunei Darussalam,1900,54.862995,686.39532,,.000013034838\\r\\n96,BRN,Brunei Darussalam,2000,87.375038,82716.547,,.000055514578\\r\\n96,BRN,Brunei Darussalam,1990,88.492226,85280.727,,.000049966304\\r\\n96,BRN,Brunei Darussalam,1930,55.443333,1042.8379,,.000015622867\\r\\n96,BRN,Brunei Darussalam,1910,53.504856,736.86047,,.000013688958\\r\\n96,BRN,Brunei Darussalam,2010,86.289162,79602.539,,.000058366295\\r\\n96,BRN,Brunei Darussalam,1960,58.884266,1632,,.000027649035\\r\\n96,BRN,Brunei Darussalam,1940,57.984791,1213.9189,,.000016698628\\r\\n96,BRN,Brunei Darussalam,1950,57.767147,1385,,.000018224735\\r\\n96,BRN,Brunei Darussalam,1920,56.295391,871.75677,,.000014652163\\r\\n96,BRN,Brunei Darussalam,1890,56.940899,635.93024,,.000012219997\\r\\n96,BRN,Brunei Darussalam,1880,56.662804,585.46509,,.000011784874\\r\\n72,BWA,Botswana,1940,39.811337,813,,.00016796686\\r\\n72,BWA,Botswana,1950,13.350575,349,,.00017438061\\r\\n72,BWA,Botswana,2000,74.709732,10361.311,,.00029164812\\r\\n72,BWA,Botswana,1920,37.990269,682.62964,,.00015927199\\r\\n72,BWA,Botswana,1990,70.081245,8099.2607,,.00026832908\\r\\n72,BWA,Botswana,1930,38.981152,747.81482,,.00016590126\\r\\n72,BWA,Botswana,1960,14.237597,403,,.00017707175\\r\\n72,BWA,Botswana,1970,16.855833,647,,.00019301911\\r\\n72,BWA,Botswana,1910,41.733078,628.69232,,.00014927688\\r\\n72,BWA,Botswana,1980,43.16061,1765,,.00023056501\\r\\n72,BWA,Botswana,1880,30.154564,533.66669,,.00014527315\\r\\n72,BWA,Botswana,1900,51.122261,601,,.00015029116\\r\\n72,BWA,Botswana,2010,75.72728,13119.551,,.00030389958\\r\\n72,BWA,Botswana,1890,41.688824,567.33331,,.00014812275\\r\\n140,CAF,Central African Republic,1920,27.295179,682.62964,,.00046618818\\r\\n140,CAF,Central African Republic,1930,26.406612,747.81482,,.00048559197\\r\\n140,CAF,Central African Republic,1940,24.981709,813,,.00049163797\\r\\n140,CAF,Central African Republic,1880,14.847019,533.66669,,.00042521354\\r\\n140,CAF,Central African Republic,1970,24.309439,891,,.00050932943\\r\\n140,CAF,Central African Republic,2000,3.6291809,825.73743,,.00062576757\\r\\n140,CAF,Central African Republic,1980,4.1531682,737,,.00052625756\\r\\n140,CAF,Central African Republic,2010,2.9197621,888.71686,,.00065963715\\r\\n140,CAF,Central African Republic,1960,25.879782,925,,.00050803972\\r\\n140,CAF,Central African Republic,1990,4.4650741,932.87671,,.00057131308\\r\\n140,CAF,Central African Republic,1890,27.738585,567.33331,,.00043355438\\r\\n140,CAF,Central African Republic,1950,25.55043,772,,.00051041087\\r\\n140,CAF,Central African Republic,1900,36.088554,601,,.00043990125\\r\\n140,CAF,Central African Republic,1910,24.50584,628.69232,,.00043693249\\r\\n124,CAN,Canada,1960,92.658073,8753,8.3617001,.0060515343\\r\\n124,CAN,Canada,1970,93.296211,12050,8.8831997,.0059391265\\r\\n124,CAN,Canada,1890,93.995995,2378,6.6900001,.0032572381\\r\\n124,CAN,Canada,1910,95.647369,4066,7.6199999,.0040625227\\r\\n124,CAN,Canada,2000,92.350113,37431.918,11.0296,.0051675881\\r\\n124,CAN,Canada,1990,93.862198,31299.654,10.3999,.0054044486\\r\\n124,CAN,Canada,2010,93.772118,40699.355,12.0827,.0050464063\\r\\n124,CAN,Canada,1980,93.829315,16176,9.3121996,.005691166\\r\\n124,CAN,Canada,1940,90.973991,5368,8.21,.0050306669\\r\\n124,CAN,Canada,1930,92.012886,4811,8.1599998,.0049952124\\r\\n124,CAN,Canada,1920,94.99939,3861,8.04,.0046131918\\r\\n124,CAN,Canada,1880,92.656921,1816,6.21,.0031440998\\r\\n124,CAN,Canada,1950,92.876808,7291,8.2700005,.0056766882\\r\\n124,CAN,Canada,1900,93.751785,2911,7.0999999,.0033599108\\r\\n756,CHE,Switzerland,1980,96.900505,18779,9.4755001,.0014624\\r\\n756,CHE,Switzerland,1960,94.323448,12457,7.5700002,.0018002967\\r\\n756,CHE,Switzerland,2000,91.345139,50314.074,9.5485001,.001206552\\r\\n756,CHE,Switzerland,2010,91.012245,55541.672,9.8762999,.001161222\\r\\n756,CHE,Switzerland,1900,96.139709,3833,7.3000002,.0020318318\\r\\n756,CHE,Switzerland,1920,95.288918,4314,7.71,.0020328874\\r\\n756,CHE,Switzerland,1950,93.730804,9064,8.96,.0019017608\\r\\n756,CHE,Switzerland,1990,93.816856,47768.352,9.6448002,.0013059507\\r\\n756,CHE,Switzerland,1880,96.406197,2450,6.5900002,.0020360628\\r\\n756,CHE,Switzerland,1930,96.51458,6246,7.8400002,.0019294056\\r\\n756,CHE,Switzerland,1970,96.291206,16904,8.7002001,.0017214881\\r\\n756,CHE,Switzerland,1910,95.647369,4331,7.54,.0021109518\\r\\n756,CHE,Switzerland,1940,93.157677,6397,8.6000004,.0018189253\\r\\n756,CHE,Switzerland,1890,96.0877,3182,6.9099998,.0019544752\\r\\n152,CHL,Chile,2000,81.399338,14887.898,9.0693998,.0025477763\\r\\n152,CHL,Chile,1910,75.466141,3000,1.79,.0018748\\r\\n152,CHL,Chile,1920,75.340797,2768,2.6400001,.0019519276\\r\\n152,CHL,Chile,1990,74.840828,9244.1592,8.3975,.0025555377\\r\\n152,CHL,Chile,1930,77.902245,2859,3.6300001,.0020316893\\r\\n152,CHL,Chile,1880,75.339874,1740,1.08,.0016237167\\r\\n152,CHL,Chile,2010,82.043282,19357.473,10.1834,.0025250451\\r\\n152,CHL,Chile,1890,74.702782,1966,1.24,.0017271502\\r\\n152,CHL,Chile,1960,81.290314,4270,5.2227001,.0026004089\\r\\n152,CHL,Chile,1970,74.797554,5231,6.0808001,.0026631563\\r\\n152,CHL,Chile,1900,74.286224,2194,1.49,.0018218672\\r\\n152,CHL,Chile,1940,80.065254,3236,4.4699998,.0021763418\\r\\n152,CHL,Chile,1950,80.209404,3670,4.9200001,.0024676837\\r\\n152,CHL,Chile,1980,75.590805,5680,6.5630999,.0025997844\\r\\n156,CHN,China,1900,27.227442,545,,.24628264\\r\\n156,CHN,China,1930,28.381134,568,,.23290035\\r\\n156,CHN,China,1920,27.318319,556.375,,.24749108\\r\\n156,CHN,China,2010,58.952156,9525.8193,,.19851637\\r\\n156,CHN,China,2000,53.152489,3700.7439,,.21205372\\r\\n156,CHN,China,1960,32.467205,662,,.22540596\\r\\n156,CHN,China,1990,38.591496,1526.4088,,.22075668\\r\\n156,CHN,China,1940,28.819357,543,,.22328533\\r\\n156,CHN,China,1890,27.489487,540,,.2516776\\r\\n156,CHN,China,1980,44.880737,1061,,.22707158\\r\\n156,CHN,China,1950,29.243874,448,,.22154054\\r\\n156,CHN,China,1970,33.993305,778,,.22791579\\r\\n156,CHN,China,1910,26.726719,550.38464,,.23907165\\r\\n156,CHN,China,1880,30.605957,535,,.26392078\\r\\n384,CIV,C\\xf4te d\\'Ivoire,1920,25.034893,682.62964,.13,.0010584341\\r\\n384,CIV,C\\xf4te d\\'Ivoire,1900,23.896578,601,.13,.00099875254\\r\\n384,CIV,C\\xf4te d\\'Ivoire,1940,23.963064,813,.18000001,.0011162155\\r\\n384,CIV,C\\xf4te d\\'Ivoire,1950,28.476187,1041,.20999999,.0011588376\\r\\n384,CIV,C\\xf4te d\\'Ivoire,1930,23.95949,747.81482,.15000001,.0011024886\\r\\n384,CIV,C\\xf4te d\\'Ivoire,1960,31.213163,1256,.92119998,.0011741249\\r\\n384,CIV,C\\xf4te d\\'Ivoire,1910,16.067568,628.69232,.13,.00099201209\\r\\n384,CIV,C\\xf4te d\\'Ivoire,2000,20.771715,2977.6953,3.8622999,.0027740912\\r\\n384,CIV,C\\xf4te d\\'Ivoire,1890,24.726908,567.33331,.13,.00098434254\\r\\n384,CIV,C\\xf4te d\\'Ivoire,1880,15.333624,533.66669,.13,.00096540578\\r\\n384,CIV,C\\xf4te d\\'Ivoire,1980,32.958385,2041,1.6719,.0019127643\\r\\n384,CIV,C\\xf4te d\\'Ivoire,2010,9.9097223,2726.2886,4.5012002,.0029875597\\r\\n384,CIV,C\\xf4te d\\'Ivoire,1970,31.693548,1808,1.2596,.0014599696\\r\\n384,CIV,C\\xf4te d\\'Ivoire,1990,30.177212,3220.4946,2.6889999,.0023658748\\r\\n120,CMR,Cameroon,1880,30.418339,533.66669,.60000002,.0016496615\\r\\n120,CMR,Cameroon,1960,29.751005,832,1.084,.00181163\\r\\n120,CMR,Cameroon,1920,36.713715,682.62964,.60000002,.0018086263\\r\\n120,CMR,Cameroon,1930,36.544502,747.81482,.64999998,.0018839055\\r\\n120,CMR,Cameroon,2000,25.072468,2403.8638,5.4271002,.0026749647\\r\\n120,CMR,Cameroon,1990,42.993015,2768.3225,4.3365002,.0023472935\\r\\n120,CMR,Cameroon,1900,50.034058,601,.60000002,.0017066438\\r\\n120,CMR,Cameroon,1980,40.27961,1192,2.4099,.0020670185\\r\\n120,CMR,Cameroon,1940,38.852566,813,.85000002,.0019073618\\r\\n120,CMR,Cameroon,1970,38.383266,982,1.8119,.001885839\\r\\n120,CMR,Cameroon,1910,28.586201,628.69232,.60000002,.0016951259\\r\\n120,CMR,Cameroon,1890,43.192234,567.33331,.60000002,.0016820204\\r\\n120,CMR,Cameroon,1950,36.851097,671,1.16,.0019801937\\r\\n120,CMR,Cameroon,2010,23.714863,2574.97,6.0678,.0030556694\\r\\n180,COD,\"Congo, Dem Rep\",1900,36.454021,601,,.0047379271\\r\\n180,COD,\"Congo, Dem Rep\",1940,27.634527,813,,.0052951528\\r\\n180,COD,\"Congo, Dem Rep\",1910,27.617571,628.69232,,.004705952\\r\\n180,COD,\"Congo, Dem Rep\",1960,16.997971,748,,.0051524509\\r\\n180,COD,\"Congo, Dem Rep\",1980,4.1519494,598,,.0060994751\\r\\n180,COD,\"Congo, Dem Rep\",1950,16.35652,570,,.0054973457\\r\\n180,COD,\"Congo, Dem Rep\",2000,2.533988,518.49756,,.0080694873\\r\\n180,COD,\"Congo, Dem Rep\",1930,28.867607,747.81482,,.0052300347\\r\\n180,COD,\"Congo, Dem Rep\",1970,5.4162812,768,,.005573126\\r\\n180,COD,\"Congo, Dem Rep\",1990,7.1989713,1267.7064,,.006799107\\r\\n180,COD,\"Congo, Dem Rep\",1920,35.319668,682.62964,,.0050210482\\r\\n180,COD,\"Congo, Dem Rep\",1890,28.873093,567.33331,,.0046695676\\r\\n180,COD,\"Congo, Dem Rep\",1880,30.251099,533.66669,,.0045797341\\r\\n180,COD,\"Congo, Dem Rep\",2010,2.1644931,596.32288,,.0097853513\\r\\n178,COG,Congo,1890,42.81974,567.33331,,.00028436654\\r\\n178,COG,Congo,1880,30.06912,533.66669,,.00027889581\\r\\n178,COG,Congo,2010,37.508343,5595.2964,,.00060340884\\r\\n178,COG,Congo,1970,43.443241,1696,,.00037184716\\r\\n178,COG,Congo,1900,49.392765,601,,.00028852944\\r\\n178,COG,Congo,1910,41.817299,628.69232,,.00028658222\\r\\n178,COG,Congo,1990,53.585503,5256.7109,,.00046409047\\r\\n178,COG,Congo,1940,37.390408,813,,.00032246322\\r\\n178,COG,Congo,1920,38.725872,682.62964,,.00030577087\\r\\n178,COG,Congo,1960,42.748672,1416,,.00034249359\\r\\n178,COG,Congo,1930,36.545498,747.81482,,.00031849777\\r\\n178,COG,Congo,1950,41.734589,1198,,.00033477636\\r\\n178,COG,Congo,1980,49.349678,2324,,.00041693595\\r\\n178,COG,Congo,2000,49.379879,4647.9531,,.00052218325\\r\\n170,COL,Colombia,1930,67.440979,1474,,.0037692708\\r\\n170,COL,Colombia,1970,65.329811,3094,,.0061444542\\r\\n170,COL,Colombia,1900,63.108658,973,,.002461595\\r\\n170,COL,Colombia,1890,63.957508,896,,.0022313206\\r\\n170,COL,Colombia,1940,65.142769,1895,,.0039486089\\r\\n170,COL,Colombia,2000,57.801353,8308.2227,,.0067856046\\r\\n170,COL,Colombia,1910,62.411053,1162,,.0027637361\\r\\n170,COL,Colombia,1950,65.747131,2153,,.0046963277\\r\\n170,COL,Colombia,1990,67.829681,7533.519,,.0066647078\\r\\n170,COL,Colombia,1880,64.933403,819,,.0020658257\\r\\n170,COL,Colombia,1960,63.727448,2497,,.0055687958\\r\\n170,COL,Colombia,1980,66.831337,4257,,.0064189411\\r\\n170,COL,Colombia,1920,64.164398,1255,,.0032577587\\r\\n170,COL,Colombia,2010,59.636009,10900.504,,.0068142787\\r\\n188,CRI,Costa Rica,1930,68.820168,1626,2.3800001,.00023813942\\r\\n188,CRI,Costa Rica,1940,65.163666,1763,2.8099999,.00026685605\\r\\n188,CRI,Costa Rica,1950,65.960442,1963,3,.00035125532\\r\\n188,CRI,Costa Rica,1990,70.576118,7787.1641,7.2375002,.00060207047\\r\\n188,CRI,Costa Rica,1910,63.108833,978,2.01,.00020516079\\r\\n188,CRI,Costa Rica,1970,65.900597,3754,3.9381001,.00051494519\\r\\n188,CRI,Costa Rica,2010,72.739906,13000.013,8.6791,.00067452173\\r\\n188,CRI,Costa Rica,1960,65.444313,2715,3.9331999,.00045044089\\r\\n188,CRI,Costa Rica,1980,69.447281,4911,5.1542001,.00055291969\\r\\n188,CRI,Costa Rica,1890,63.370941,680.66669,1.52,.00016138275\\r\\n188,CRI,Costa Rica,1900,63.197289,778,1.6900001,.00018286485\\r\\n188,CRI,Costa Rica,2000,72.372566,9878.2715,8.0806999,.00065925595\\r\\n188,CRI,Costa Rica,1920,69.53904,1624,2.1300001,.00022022511\\r\\n188,CRI,Costa Rica,1880,61.149078,583.33331,1.21,.00013650251\\r\\n192,CUB,Cuba,1990,82.723061,13694.412,9.2746,.0020578718\\r\\n192,CUB,Cuba,1910,60.515575,978,1.3099999,.0012541371\\r\\n192,CUB,Cuba,1970,67.662643,1917,5.6360998,.0024273223\\r\\n192,CUB,Cuba,1950,66.626732,2046,3.3399999,.0023436942\\r\\n192,CUB,Cuba,1960,64.049675,2052,4.2070999,.0024130195\\r\\n192,CUB,Cuba,1900,60.691757,778,1.03,.0010208415\\r\\n192,CUB,Cuba,2000,77.721405,11289.782,9.7551003,.0018669983\\r\\n192,CUB,Cuba,1890,61.203678,680.66669,.83999997,.0010259174\\r\\n192,CUB,Cuba,1940,61.803669,1208,2.99,.0019652657\\r\\n192,CUB,Cuba,1880,57.635746,583.33331,.64999998,.0010327335\\r\\n192,CUB,Cuba,1920,63.473866,1300.9375,1.65,.0015714634\\r\\n192,CUB,Cuba,1980,70.279907,2644,6.6381001,.0022759982\\r\\n192,CUB,Cuba,2010,83.01342,18433.902,10.5936,.0016781349\\r\\n192,CUB,Cuba,1930,68.114922,1505,2.45,.0018274819\\r\\n196,CYP,Cyprus,1940,72.37307,3824,,.0001906434\\r\\n196,CYP,Cyprus,1950,74.231407,3846,,.00020014271\\r\\n196,CYP,Cyprus,1920,73.520882,2536,,.00018170707\\r\\n196,CYP,Cyprus,2010,84.794022,33941.285,,.00016378764\\r\\n196,CYP,Cyprus,1980,81.114189,10436,,.00015861259\\r\\n196,CYP,Cyprus,1890,76.349915,2028,,.00018288814\\r\\n196,CYP,Cyprus,1900,75.390305,2361,,.00018099851\\r\\n196,CYP,Cyprus,1990,84.506111,23300.775,,.00014908098\\r\\n196,CYP,Cyprus,1960,80.265091,4988,,.00019359529\\r\\n196,CYP,Cyprus,1880,80.687813,1815,,.00018507923\\r\\n196,CYP,Cyprus,1930,73.765816,3291,,.00018675432\\r\\n196,CYP,Cyprus,1910,74.082458,2721.7693,,.00017611656\\r\\n196,CYP,Cyprus,1970,78.974907,7399,,.0001709042\\r\\n196,CYP,Cyprus,2000,85.589767,30085.904,,.00015841944\\r\\n203,CZE,Czech Republic,1880,84.156052,1689.3025,,.0038800999\\r\\n203,CZE,Czech Republic,1950,77.641365,2629.231,,.003615988\\r\\n203,CZE,Czech Republic,1940,79.255653,2596.0459,,.0039194459\\r\\n203,CZE,Czech Republic,1960,87.115768,4102.689,,.0032445609\\r\\n203,CZE,Czech Republic,2000,89.89666,21137.182,,.0017222768\\r\\n203,CZE,Czech Republic,1890,83.664848,1910.428,,.0039475174\\r\\n203,CZE,Czech Republic,2010,89.972534,28289.889,,.0015544099\\r\\n203,CZE,Czech Republic,1970,87.112076,6449.6768,,.0027456542\\r\\n203,CZE,Czech Republic,1900,82.808083,2174.532,,.0040163607\\r\\n203,CZE,Czech Republic,1980,87.890167,8468.6406,,.0023845353\\r\\n203,CZE,Czech Republic,1990,87.786209,19965.246,,.0020095026\\r\\n203,CZE,Czech Republic,1920,81.365776,2391.1492,,.0038066809\\r\\n203,CZE,Czech Republic,1930,79.818504,2435.1345,,.0039727977\\r\\n203,CZE,Czech Republic,1910,82.111137,2527.9956,,.0040155379\\r\\n276,DEU,Germany,1980,81.458237,14114,5.2463999,.018117078\\r\\n276,DEU,Germany,1950,87.322128,3881,8.1700001,.027701763\\r\\n276,DEU,Germany,1970,80.832748,10839,5.0158,.021771586\\r\\n276,DEU,Germany,1910,88.96817,3348,6.6199999,.035540856\\r\\n276,DEU,Germany,2010,92.546394,40428.723,11.8231,.012135754\\r\\n276,DEU,Germany,1880,90.709053,1991,5.3499999,.031197159\\r\\n276,DEU,Germany,1960,83.915833,7705,5.1195002,.024604481\\r\\n276,DEU,Germany,1920,87.662849,2796,7.0900002,.031929497\\r\\n276,DEU,Germany,1900,90.010223,2985,6.1100001,.033487048\\r\\n276,DEU,Germany,1890,91.899727,2428,5.7399998,.031530567\\r\\n276,DEU,Germany,1940,90.056442,5403,7.9000001,.03005789\\r\\n276,DEU,Germany,2000,89.279602,36764.563,9.9525003,.013806934\\r\\n276,DEU,Germany,1990,86.268677,31287.07,8.0419998,.015447149\\r\\n276,DEU,Germany,1930,87.47525,3973,7.3800001,.030998133\\r\\n208,DNK,Denmark,2010,88.418976,43757.738,10.0566,.00082328008\\r\\n208,DNK,Denmark,1950,87.338036,6943,7.4299998,.0017303836\\r\\n208,DNK,Denmark,1960,91.18531,8812,7.8231001,.0015474685\\r\\n208,DNK,Denmark,1990,90.434631,33843.961,9.4167004,.00099974591\\r\\n208,DNK,Denmark,1900,89.625748,3017,5.6100001,.0015768246\\r\\n208,DNK,Denmark,1890,90.275772,2523,5.25,.001519338\\r\\n208,DNK,Denmark,1970,93.168953,12686,8.5983,.0013727496\\r\\n208,DNK,Denmark,1920,88.090202,3992,6.3299999,.0016999281\\r\\n208,DNK,Denmark,2000,89.487686,42430,9.7124004,.00089675677\\r\\n208,DNK,Denmark,1930,88.300941,5341,6.6300001,.0016869797\\r\\n208,DNK,Denmark,1980,93.321754,15227,8.9038,.0011855405\\r\\n208,DNK,Denmark,1940,86.81665,5116,7.0300002,.0016493425\\r\\n208,DNK,Denmark,1880,92.325607,2181,4.9400001,.0014924434\\r\\n208,DNK,Denmark,1910,87.285194,3705,5.96,.0016288523\\r\\n214,DOM,Dominican Republic,1930,56.152901,1032.9459,1.33,.00059820624\\r\\n214,DOM,Dominican Republic,1890,58.851234,680.66669,.70999998,.00028081922\\r\\n214,DOM,Dominican Republic,1990,65.471779,5267.103,5.9580998,.0013969862\\r\\n214,DOM,Dominican Republic,1880,57.008709,583.33331,.55000001,.00023881963\\r\\n214,DOM,Dominican Republic,1970,61.082565,1561,4.0506001,.0012542001\\r\\n214,DOM,Dominican Republic,1920,60.113762,1035.9189,1.17,.0004608997\\r\\n214,DOM,Dominican Republic,1950,55.47086,1027,1.9,.00095329835\\r\\n214,DOM,Dominican Republic,2010,57.486111,11123.533,7.4029999,.0014688676\\r\\n214,DOM,Dominican Republic,1980,63.061699,2372,4.5035,.001344347\\r\\n214,DOM,Dominican Republic,1940,55.531719,1029.973,1.51,.00072051131\\r\\n214,DOM,Dominican Republic,1960,57.550873,1302,2.7593999,.0011130706\\r\\n214,DOM,Dominican Republic,1900,60.33075,778,.86000001,.00031708888\\r\\n214,DOM,Dominican Republic,1910,59.709282,978,1.02,.00038884467\\r\\n214,DOM,Dominican Republic,2000,57.282784,7963.7046,6.6536999,.0014380416\\r\\n12,DZA,Algeria,1930,44.977055,1255.8108,.76999998,.0033611928\\r\\n12,DZA,Algeria,2010,71.197067,12898.296,8.2961998,.0053477916\\r\\n12,DZA,Algeria,1940,44.779755,1310.4054,.83999997,.0034325246\\r\\n12,DZA,Algeria,1970,35.971504,2249,1.5513999,.0040524523\\r\\n12,DZA,Algeria,1900,45.885971,1027.5581,.47999999,.0030641856\\r\\n12,DZA,Algeria,1980,45.94397,3152,2.2242999,.0044750213\\r\\n12,DZA,Algeria,1920,45.097252,1201.2162,.69,.003219184\\r\\n12,DZA,Algeria,1880,46.195377,819.18604,.25,.0029950941\\r\\n12,DZA,Algeria,1910,45.204975,1131.7441,.58999997,.0030389398\\r\\n12,DZA,Algeria,1990,56.705368,10238.884,5.2625999,.0050391145\\r\\n12,DZA,Algeria,2000,59.64027,10211.104,7.0328999,.00523711\\r\\n12,DZA,Algeria,1890,46.579079,923.37207,.37,.0030310366\\r\\n12,DZA,Algeria,1950,42.300919,1365,1.02,.0036028596\\r\\n12,DZA,Algeria,1960,32.900574,2088,.87050003,.0037591511\\r\\n218,ECU,Ecuador,1960,62.790382,2289,,.0015359612\\r\\n218,ECU,Ecuador,1910,62.181351,978,,.00091389805\\r\\n218,ECU,Ecuador,1920,63.499893,1108.8077,,.00093857845\\r\\n218,ECU,Ecuador,2000,68.662956,7387.6157,,.0021208976\\r\\n218,ECU,Ecuador,2010,48.91156,9352.3428,,.0022163189\\r\\n218,ECU,Ecuador,1970,64.249855,2845,,.0016913087\\r\\n218,ECU,Ecuador,1950,64.035385,1863,,.0013653277\\r\\n218,ECU,Ecuador,1880,60.800522,583.33331,,.00081901508\\r\\n218,ECU,Ecuador,1890,62.133507,680.66669,,.00084179535\\r\\n218,ECU,Ecuador,1940,63.280563,1356,,.0010613984\\r\\n218,ECU,Ecuador,1980,68.148262,4129,,.0018458625\\r\\n218,ECU,Ecuador,1990,69.84967,7472.0293,,.0019870861\\r\\n218,ECU,Ecuador,1930,62.288494,1209.9615,,.0009258861\\r\\n218,ECU,Ecuador,1900,61.664852,778,,.00086198922\\r\\n818,EGY,Egypt,1980,33.597908,2069,1.6839,.010036324\\r\\n818,EGY,Egypt,1880,42.241821,707.83722,.11,.0059051444\\r\\n818,EGY,Egypt,1960,27.120373,991,.80830002,.0091478843\\r\\n818,EGY,Egypt,1930,39.770252,905.67566,.69,.0077651571\\r\\n818,EGY,Egypt,1950,38.951237,910,.87,.0085881846\\r\\n818,EGY,Egypt,1910,31.336254,884.34882,.19,.0066626584\\r\\n818,EGY,Egypt,1920,31.163433,903.51349,.37,.0072657824\\r\\n818,EGY,Egypt,2010,55.775925,10102.101,7.0770998,.012174942\\r\\n818,EGY,Egypt,1990,50.199753,6014.3013,4.3778,.010967441\\r\\n818,EGY,Egypt,1940,39.530235,907.83783,.77999997,.0080705648\\r\\n818,EGY,Egypt,2000,53.263618,7556.71,5.9098001,.01147644\\r\\n818,EGY,Egypt,1900,32.409687,825.51166,.17,.0065287375\\r\\n818,EGY,Egypt,1970,30.459087,1254,1.3053,.0096948361\\r\\n818,EGY,Egypt,1890,41.723969,766.67444,.14,.0062381392\\r\\n724,ESP,Spain,2000,83.710327,29967.166,9.3395996,.0067619677\\r\\n724,ESP,Spain,1890,82.744347,1624,3.6800001,.01176063\\r\\n724,ESP,Spain,1950,73.769653,2189,5.0799999,.01136963\\r\\n724,ESP,Spain,1990,78.431808,23758.762,6.6388998,.00755515\\r\\n724,ESP,Spain,1910,80.875023,1895,4.6300001,.011223368\\r\\n724,ESP,Spain,1970,74.334602,6319,4.7424998,.0094179697\\r\\n724,ESP,Spain,1940,73.821037,2080,5.0300002,.011086147\\r\\n724,ESP,Spain,1960,66.172241,3072,3.2966001,.010290882\\r\\n724,ESP,Spain,1900,82.941383,1786,4.21,.011431208\\r\\n724,ESP,Spain,1880,84.486488,1646,3.05,.012090871\\r\\n724,ESP,Spain,1930,79.818512,2620,4.9899998,.011166357\\r\\n724,ESP,Spain,1980,76.824883,9203,5.1815,.0086639198\\r\\n724,ESP,Spain,1920,81.495422,2177,4.8800001,.011132903\\r\\n724,ESP,Spain,2010,85.359718,32506.434,10.3821,.0069120442\\r\\n233,EST,Estonia,1900,80.134163,1237,,.00045490375\\r\\n233,EST,Estonia,1950,83.709061,2841,,.0004438833\\r\\n233,EST,Estonia,1980,86.040237,9547.6475,,.00034184926\\r\\n233,EST,Estonia,1920,78.759369,1432.9333,,.00047067547\\r\\n233,EST,Estonia,2000,88.902672,15703.029,,.00023461532\\r\\n233,EST,Estonia,1880,78.668221,1041,,.00042906374\\r\\n233,EST,Estonia,1910,80.728287,1430.0769,,.0004715074\\r\\n233,EST,Estonia,1890,81.093933,1139,,.00044023123\\r\\n233,EST,Estonia,1960,79.887543,3945,,.00040938379\\r\\n233,EST,Estonia,1970,81.479393,5575,,.0003788062\\r\\n233,EST,Estonia,1940,79.266342,2144,,.00043296584\\r\\n233,EST,Estonia,1990,79.698456,10820,,.00030515346\\r\\n233,EST,Estonia,1930,78.809135,1448,,.00045265854\\r\\n233,EST,Estonia,2010,87.317307,22740.965,,.00019759183\\r\\n231,ETH,Ethiopia,1990,1.2060363,652.35223,1.21,.0093455473\\r\\n231,ETH,Ethiopia,1950,1.1588339,390,.13,.0081736669\\r\\n231,ETH,Ethiopia,2000,1.7180899,619.11432,1.84,.011158808\\r\\n231,ETH,Ethiopia,2010,2.212363,1075.5537,2.48,.012994235\\r\\n231,ETH,Ethiopia,1930,23.898621,747.81482,.12,.0077762189\\r\\n231,ETH,Ethiopia,1900,24.121456,601,.1,.0070445333\\r\\n231,ETH,Ethiopia,1940,24.763592,813,.12,.0078730388\\r\\n231,ETH,Ethiopia,1890,25.534616,567.33331,.1,.0069428948\\r\\n231,ETH,Ethiopia,1880,12.423359,533.66669,.090000004,.0068093254\\r\\n231,ETH,Ethiopia,1980,2.3888447,648,.50999999,.0081550265\\r\\n231,ETH,Ethiopia,1960,.70217055,440,.13,.0074849962\\r\\n231,ETH,Ethiopia,1910,15.66812,628.69232,.11,.0069969911\\r\\n231,ETH,Ethiopia,1970,.94433385,595,.23,.0079141008\\r\\n231,ETH,Ethiopia,1920,23.71903,682.62964,.11,.0074654887\\r\\n246,FIN,Finland,1950,79.161316,4253,4.3699999,.0016241946\\r\\n246,FIN,Finland,2000,82.268417,34887.18,8.1934004,.00086931349\\r\\n246,FIN,Finland,1970,83.364708,9577,6.8674998,.0012829413\\r\\n246,FIN,Finland,1900,69.515244,1668,.76999998,.0016291596\\r\\n246,FIN,Finland,1910,69.62458,1906,1.0700001,.0016554157\\r\\n246,FIN,Finland,1930,71.3992,2666,1.87,.0016426857\\r\\n246,FIN,Finland,2010,87.093582,39848.133,9.9742002,.00079592521\\r\\n246,FIN,Finland,1960,84.38752,6230,5.6683002,.0014967932\\r\\n246,FIN,Finland,1890,68.563393,1381,.63,.0015656996\\r\\n246,FIN,Finland,1990,83.746834,28905.57,8.1945,.00096969918\\r\\n246,FIN,Finland,1920,69.303398,1846,1.36,.0016427744\\r\\n246,FIN,Finland,1940,74.001205,3220,3.1199999,.0015916672\\r\\n246,FIN,Finland,1980,86.928513,12949,7.6487002,.0011060516\\r\\n246,FIN,Finland,1880,69.219086,1155,.56,.0014680594\\r\\n242,FJI,Fiji,1960,64.801086,1632,,.00013292588\\r\\n242,FJI,Fiji,2000,74.643196,6673.8472,,.00013624008\\r\\n242,FJI,Fiji,1980,69.159454,2522,,.00014700717\\r\\n242,FJI,Fiji,1880,58.044296,585.46509,,.000075280885\\r\\n242,FJI,Fiji,1920,58.195183,871.75677,,.000093596893\\r\\n242,FJI,Fiji,1940,61.61232,1213.9189,,.00010666956\\r\\n242,FJI,Fiji,2010,61.816265,7352.0713,,.00012761749\\r\\n242,FJI,Fiji,1970,67.141808,2082,,.0001449769\\r\\n242,FJI,Fiji,1950,62.168522,1385,,.00011641823\\r\\n242,FJI,Fiji,1890,60.202358,635.93024,,.000078060417\\r\\n242,FJI,Fiji,1930,58.39579,1042.8379,,.000099797668\\r\\n242,FJI,Fiji,1990,73.743813,5891.3062,,.00014169414\\r\\n242,FJI,Fiji,1910,56.709484,736.86047,,.000087444008\\r\\n242,FJI,Fiji,1900,58.111477,686.39532,,.00008326555\\r\\n250,FRA,France,1990,81.94088,29527.975,7.4745998,.011378844\\r\\n250,FRA,France,1930,90.486153,4532,7.73,.019817963\\r\\n250,FRA,France,1910,88.656975,2965,6.9899998,.023299031\\r\\n250,FRA,France,1970,80.834366,11410,4.7557001,.014492732\\r\\n250,FRA,France,1900,89.798355,2876,6.3099999,.024996456\\r\\n250,FRA,France,1950,90.041595,5186,8.2200003,.017226048\\r\\n250,FRA,France,1890,88.460648,2376,5.4299998,.026501652\\r\\n250,FRA,France,1960,77.004723,7398,4.1964002,.015818741\\r\\n250,FRA,France,2000,86.760818,34896.387,9.5549002,.010229891\\r\\n250,FRA,France,1940,88.828598,4042,8,.017646933\\r\\n250,FRA,France,2010,88.194969,36872.227,10.5329,.0096501289\\r\\n250,FRA,France,1980,83.847992,14766,5.7613001,.012806636\\r\\n250,FRA,France,1880,90.652191,2120,4.6300001,.028002139\\r\\n250,FRA,France,1920,90.435852,3227,7.54,.020449474\\r\\n266,GAB,Gabon,2000,66.055122,17776.357,,.00020683116\\r\\n266,GAB,Gabon,1950,45.118568,3108,,.00016844683\\r\\n266,GAB,Gabon,1890,42.399185,567.33331,,.00014308248\\r\\n266,GAB,Gabon,1980,55.036613,6777,,.00016873903\\r\\n266,GAB,Gabon,1920,36.242943,682.62964,,.00015385232\\r\\n266,GAB,Gabon,1930,37.582039,747.81482,,.00016025602\\r\\n266,GAB,Gabon,1940,37.429638,813,,.00016225134\\r\\n266,GAB,Gabon,1880,30.043226,533.66669,,.00014032985\\r\\n266,GAB,Gabon,1910,27.473902,628.69232,,.00014419731\\r\\n266,GAB,Gabon,1960,44.387249,4184,,.00016867821\\r\\n266,GAB,Gabon,1990,62.215469,19499.553,,.00018518545\\r\\n266,GAB,Gabon,1970,53.789257,5869,,.00016435901\\r\\n266,GAB,Gabon,2010,74.466629,16334.479,,.00022882438\\r\\n266,GAB,Gabon,1900,38.309849,601,,.00014517709\\r\\n826,GBR,United Kingdom,2010,85.16819,36195.867,9.7544003,.0093145724\\r\\n826,GBR,United Kingdom,1960,88.624603,8645,6.2990999,.017706195\\r\\n826,GBR,United Kingdom,1980,85.964256,12931,7.5991998,.013031902\\r\\n826,GBR,United Kingdom,1910,89.751732,4611,6.04,.02538568\\r\\n826,GBR,United Kingdom,1900,92.561478,4492,5.5,.025339404\\r\\n826,GBR,United Kingdom,1940,90.169868,6856,7.1900001,.020757096\\r\\n826,GBR,United Kingdom,1880,92.981644,3477,4.5500002,.024830787\\r\\n826,GBR,United Kingdom,2000,83.181999,32961.527,8.9301004,.0098906467\\r\\n826,GBR,United Kingdom,1930,89.483643,5441,6.8699999,.021845005\\r\\n826,GBR,United Kingdom,1890,92.597946,4009,5.0100002,.02482667\\r\\n826,GBR,United Kingdom,1950,89.183769,6939,7.6199999,.020308813\\r\\n826,GBR,United Kingdom,1920,89.690254,4548,6.4899998,.02455038\\r\\n826,GBR,United Kingdom,1970,87.493591,10767,7.2967,.01550324\\r\\n826,GBR,United Kingdom,1990,83.522957,26769.357,8.2138004,.011132799\\r\\n288,GHA,Ghana,1930,54.814796,937.67566,1.0599999,.0016852126\\r\\n288,GHA,Ghana,2010,28.21961,3083.8674,7.1378002,.0036087688\\r\\n288,GHA,Ghana,1920,55.719124,845.51349,.94,.0013940813\\r\\n288,GHA,Ghana,1880,32.22633,518.53491,.81,.0012098093\\r\\n288,GHA,Ghana,1940,43.649723,1029.8379,1.1900001,.0019015095\\r\\n288,GHA,Ghana,1960,33.599968,1378,1.0761,.0022478371\\r\\n288,GHA,Ghana,1990,58.991314,1919.5967,5.9324002,.0028447222\\r\\n288,GHA,Ghana,1890,57.97049,598.06976,.82999998,.0011887223\\r\\n288,GHA,Ghana,1970,58.791405,1424,3.5785999,.0023944164\\r\\n288,GHA,Ghana,1980,57.306694,1157,4.3460002,.0024997406\\r\\n288,GHA,Ghana,1900,56.799576,677.60468,.83999997,.0011715179\\r\\n288,GHA,Ghana,1950,44.215172,1122,1.3099999,.0021462485\\r\\n288,GHA,Ghana,1910,55.950211,757.13953,.88,.0011363691\\r\\n288,GHA,Ghana,2000,28.84598,2272.71,6.5693002,.0031615458\\r\\n270,GMB,Gambia,1940,26.262411,813,,.00010590062\\r\\n270,GMB,Gambia,1920,26.560299,682.62964,,.00010041862\\r\\n270,GMB,Gambia,1990,5.5630264,1516.9594,,.00017829001\\r\\n270,GMB,Gambia,1890,28.561117,567.33331,,.000093389186\\r\\n270,GMB,Gambia,1880,15.369724,533.66669,,.000091592541\\r\\n270,GMB,Gambia,1930,25.515852,747.81482,,.00010459829\\r\\n270,GMB,Gambia,1910,14.635372,628.69232,,.00009411684\\r\\n270,GMB,Gambia,1960,15.683496,722,,.00012432487\\r\\n270,GMB,Gambia,1900,33.983418,601,,.000094756339\\r\\n270,GMB,Gambia,2010,4.722445,1654.9081,,.00025124269\\r\\n270,GMB,Gambia,1950,15.504705,607,,.00010994438\\r\\n270,GMB,Gambia,1970,23.83787,879,,.00012457655\\r\\n270,GMB,Gambia,1980,13.252146,1039,,.00013985996\\r\\n270,GMB,Gambia,2000,4.6234922,1564.2334,,.00020638024\\r\\n300,GRC,Greece,1900,73.851517,1351,2.3699999,.003055136\\r\\n300,GRC,Greece,1920,72.291748,1433,3.0599999,.0029887694\\r\\n300,GRC,Greece,1980,80.66655,8971,6.8024998,.0022314114\\r\\n300,GRC,Greece,1990,83.929703,20686.137,8.5805998,.0019829455\\r\\n300,GRC,Greece,1970,81.681213,6211,6.5165,.0024489583\\r\\n300,GRC,Greece,1960,78.588821,3146,7.4190998,.0028153274\\r\\n300,GRC,Greece,1930,77.065453,2258,3.8900001,.003024847\\r\\n300,GRC,Greece,1950,69.585037,1915,4.5999999,.0030653549\\r\\n300,GRC,Greece,2000,82.079109,24839.076,8.8888998,.0018147712\\r\\n300,GRC,Greece,1880,74.106285,1029,1.75,.0029038459\\r\\n300,GRC,Greece,1890,76.90815,1178,2.0699999,.002968471\\r\\n300,GRC,Greece,1940,75.630318,2223,4.25,.0031334064\\r\\n300,GRC,Greece,2010,85.653824,28726.08,10.6767,.0016504149\\r\\n300,GRC,Greece,1910,73.12838,1536.3846,2.7,.003006764\\r\\n320,GTM,Guatemala,1960,44.905407,2193,1.4538,.0013947194\\r\\n320,GTM,Guatemala,1950,50.276123,2085,1.52,.0012028723\\r\\n320,GTM,Guatemala,1890,58.481236,680.66669,.67000002,.00081243296\\r\\n320,GTM,Guatemala,1880,56.680325,583.33331,.50999999,.00082714309\\r\\n320,GTM,Guatemala,1930,64.629356,1776,1.03,.00084348983\\r\\n320,GTM,Guatemala,2010,25.479139,6667.6348,4.8032999,.0021862779\\r\\n320,GTM,Guatemala,1920,61.201767,1272,.97000003,.00083737978\\r\\n320,GTM,Guatemala,1910,59.639885,978,.92000002,.00081442617\\r\\n320,GTM,Guatemala,1940,56.415558,2742,1.25,.00094690855\\r\\n320,GTM,Guatemala,2000,37.95076,6051.0205,4.1293001,.001963041\\r\\n320,GTM,Guatemala,1990,45.886974,5159.4004,3.5660999,.0017810405\\r\\n320,GTM,Guatemala,1980,46.549034,4005,2.0558,.0016473506\\r\\n320,GTM,Guatemala,1970,45.347363,2919,1.762,.0015105123\\r\\n320,GTM,Guatemala,1900,59.884918,778,.81,.00080041855\\r\\n328,GUY,Guyana,1980,74.769173,5935,6.0376,.00018203355\\r\\n328,GUY,Guyana,1910,69.818855,1098.0769,3.1199999,.00011686244\\r\\n328,GUY,Guyana,2010,57.296577,5783.0884,8.9625998,.00011179945\\r\\n328,GUY,Guyana,1990,62.081642,2928.071,7.0693002,.0001400715\\r\\n328,GUY,Guyana,2000,67.140648,4580.0933,8.0942001,.00012465109\\r\\n328,GUY,Guyana,1920,71.354019,1431.1082,3.4300001,.00012894445\\r\\n328,GUY,Guyana,1890,71.133743,746.33331,2.4300001,.000098531709\\r\\n328,GUY,Guyana,1880,69.761818,647.66669,1.88,.000091117479\\r\\n328,GUY,Guyana,1970,74.191521,4948,5.6508999,.00019372655\\r\\n328,GUY,Guyana,1960,71.467819,3478,4.8301001,.00019065315\\r\\n328,GUY,Guyana,1940,74.504784,2165.7026,4.0599999,.00015010482\\r\\n328,GUY,Guyana,1950,72.744034,2533,4.4400001,.00017339124\\r\\n328,GUY,Guyana,1900,70.035751,845,2.75,.00010692437\\r\\n328,GUY,Guyana,1930,74.137543,1798.4054,3.6900001,.00013991004\\r\\n344,HKG,Hong Kong,1980,81.889038,10503,,.0011716726\\r\\n344,HKG,Hong Kong,1970,78.479698,5695,,.0011026544\\r\\n344,HKG,Hong Kong,1900,63.224159,1098.814,,.00018840621\\r\\n344,HKG,Hong Kong,1960,71.163612,3134,,.0010392608\\r\\n344,HKG,Hong Kong,2000,85.260384,34016.789,,.0011193471\\r\\n344,HKG,Hong Kong,1990,86.347893,26974.373,,.0011093403\\r\\n344,HKG,Hong Kong,1880,62.960052,821.60468,,.00012084417\\r\\n344,HKG,Hong Kong,1930,68.781563,1710.4324,,.00039102492\\r\\n344,HKG,Hong Kong,1950,68.506134,2218,,.00090631424\\r\\n344,HKG,Hong Kong,1890,63.81638,960.20929,,.00014173423\\r\\n344,HKG,Hong Kong,1940,66.171806,1964.2162,,.00076871755\\r\\n344,HKG,Hong Kong,2010,89.249359,48107.727,,.0010423963\\r\\n344,HKG,Hong Kong,1920,68.200905,1456.6487,,.0003397759\\r\\n344,HKG,Hong Kong,1910,62.533257,1237.4186,,.00025163608\\r\\n340,HND,Honduras,2010,31.078709,4336.8213,7.4878998,.0011135803\\r\\n340,HND,Honduras,1990,48.884209,3205.2842,5.0100002,.0009535451\\r\\n340,HND,Honduras,1890,62.035713,680.66669,1.27,.00030996083\\r\\n340,HND,Honduras,1960,45.361172,1398,1.9595,.00067659735\\r\\n340,HND,Honduras,1930,65.580399,1563,1.8,.00045246491\\r\\n340,HND,Honduras,1950,45.912506,1313,1.7,.00057994673\\r\\n340,HND,Honduras,2000,38.218887,3478.4346,6.1954999,.0010484882\\r\\n340,HND,Honduras,1910,62.050964,978,1.6799999,.00034984716\\r\\n340,HND,Honduras,1970,43.146896,1556,2.369,.00074957911\\r\\n340,HND,Honduras,1900,61.977058,778,1.47,.00030785328\\r\\n340,HND,Honduras,1880,60.491505,583.33331,1.0700001,.00031268876\\r\\n340,HND,Honduras,1920,64.321587,1274,1.73,.00037752878\\r\\n340,HND,Honduras,1980,45.850662,2062,2.6819,.00084138958\\r\\n340,HND,Honduras,1940,56.911499,1160,1.79,.0004949749\\r\\n191,HRV,Croatia,2000,79.917542,15745.278,,.00074332039\\r\\n191,HRV,Croatia,1990,72.084877,7351,,.00092955504\\r\\n191,HRV,Croatia,1950,73.538246,2111,,.00155467\\r\\n191,HRV,Croatia,1930,77.626984,1944.4546,,.0015148408\\r\\n191,HRV,Croatia,1900,79.369652,1438,,.001570473\\r\\n191,HRV,Croatia,2010,78.641861,20118.156,,.00065560185\\r\\n191,HRV,Croatia,1910,76.503494,1636,,.0015595097\\r\\n191,HRV,Croatia,1960,74.575401,3070,,.0013989246\\r\\n191,HRV,Croatia,1890,80.199135,1254,,.0015670761\\r\\n191,HRV,Croatia,1880,80.487228,1095.5,,.0015665687\\r\\n191,HRV,Croatia,1920,77.674721,1803.0625,,.0015199442\\r\\n191,HRV,Croatia,1980,76.334885,5786,,.0010617278\\r\\n191,HRV,Croatia,1970,73.15229,4315,,.0012285447\\r\\n191,HRV,Croatia,1940,72.867569,1969,,.001524969\\r\\n332,HTI,Haiti,1890,43.900043,680.66669,,.00094268721\\r\\n332,HTI,Haiti,1880,42.137203,583.33331,,.00092276651\\r\\n332,HTI,Haiti,1960,29.25354,1062,,.0013063928\\r\\n332,HTI,Haiti,1970,25.413349,919,,.0013114427\\r\\n332,HTI,Haiti,2000,19.628742,1739.3921,,.0014357876\\r\\n332,HTI,Haiti,2010,16.868803,1502.0327,,.0014839502\\r\\n332,HTI,Haiti,1950,31.917686,1051,,.0012548299\\r\\n332,HTI,Haiti,1990,16.740393,1005,,.0013806679\\r\\n332,HTI,Haiti,1930,39.518162,1041.7188,,.0011535473\\r\\n332,HTI,Haiti,1900,43.988758,778,,.00096050225\\r\\n332,HTI,Haiti,1980,28.608925,1268,,.0013164758\\r\\n332,HTI,Haiti,1910,43.866268,978,,.0010224128\\r\\n332,HTI,Haiti,1920,43.046593,1039.5313,,.0011137099\\r\\n332,HTI,Haiti,1940,31.089138,1043.9063,,.0011840661\\r\\n348,HUN,Hungary,1990,74.066658,6459,8.7621002,.0020174044\\r\\n348,HUN,Hungary,2010,87.218033,22277.373,11.6508,.0014840105\\r\\n348,HUN,Hungary,1930,78.432671,2404,4.0599999,.0041193357\\r\\n348,HUN,Hungary,1920,77.33577,1709,4.1799998,.0041685468\\r\\n348,HUN,Hungary,2000,89.092445,17855.043,11.2006,.0017148718\\r\\n348,HUN,Hungary,1890,81.331894,1473,2.7,.0043858136\\r\\n348,HUN,Hungary,1960,80.085732,3649,7.4394999,.0033736273\\r\\n348,HUN,Hungary,1880,81.720963,1282.5,2.1400001,.0044963355\\r\\n348,HUN,Hungary,1910,80.551804,2000,3.8199999,.0043202452\\r\\n348,HUN,Hungary,1900,80.686424,1682,3.3099999,.004388141\\r\\n348,HUN,Hungary,1950,76.508614,2480,5.52,.0037832644\\r\\n348,HUN,Hungary,1970,80.547836,5028,8.1021004,.0028792983\\r\\n348,HUN,Hungary,1940,78.369514,2626,4.79,.0039972453\\r\\n348,HUN,Hungary,1980,81.91716,6306,8.5869999,.0024787043\\r\\n360,IDN,Indonesia,1890,57.823353,612,.74000001,.026844637\\r\\n360,IDN,Indonesia,2010,41.214973,8465.2959,6.2420001,.035855558\\r\\n360,IDN,Indonesia,1880,60.306423,601,.74000001,.025963889\\r\\n360,IDN,Indonesia,1930,44.362366,1141,.89999998,.029436182\\r\\n360,IDN,Indonesia,1950,39.863281,803,1.21,.033469822\\r\\n360,IDN,Indonesia,1940,43.741428,1165,1.05,.032012336\\r\\n360,IDN,Indonesia,1990,46.568325,4477.3101,4.2484002,.035283577\\r\\n360,IDN,Indonesia,1960,41.076496,1012,1.5678,.029665485\\r\\n360,IDN,Indonesia,1980,46.566666,1870,3.2056999,.034131344\\r\\n360,IDN,Indonesia,1970,43.915085,1181,2.8483,.031983603\\r\\n360,IDN,Indonesia,2000,49.605408,5805.8086,5.2322001,.035526957\\r\\n360,IDN,Indonesia,1920,56.275658,923,.81,.028835196\\r\\n360,IDN,Indonesia,1910,55.981045,803,.76999998,.028278308\\r\\n360,IDN,Indonesia,1900,57.884731,704,.75,.027768096\\r\\n356,IND,India,1920,24.397694,635,.38,.16023998\\r\\n356,IND,India,1910,27.853504,697,.28,.17074125\\r\\n356,IND,India,2010,22.542639,4404.5376,5.1297002,.18267897\\r\\n356,IND,India,1940,27.014452,686,.69,.16648374\\r\\n356,IND,India,1960,28.403925,753,1.1106,.15194277\\r\\n356,IND,India,1890,25.428883,584,.07,.18519895\\r\\n356,IND,India,1930,27.047102,726,.52999997,.16022021\\r\\n356,IND,India,1990,30.652,1773.123,3.4442,.16930382\\r\\n356,IND,India,1950,25.925478,619,.86000001,.14544784\\r\\n356,IND,India,1970,29.206398,868,1.5735,.15428339\\r\\n356,IND,India,1980,18.609552,938,1.9724,.16134878\\r\\n356,IND,India,2000,20.436621,2521.3435,4.2013998,.17692588\\r\\n356,IND,India,1880,25.881859,545.85712,.039999999,.18445767\\r\\n356,IND,India,1900,23.176788,599,.17,.17516851\\r\\n372,IRL,Ireland,2000,91.306999,40815.02,10.8732,.00063905632\\r\\n372,IRL,Ireland,1960,85.691414,4282,7.9958,.00095579668\\r\\n372,IRL,Ireland,1940,81.705017,3052,6.27,.0012731616\\r\\n372,IRL,Ireland,1950,80.945671,3453,6.4000001,.0012004584\\r\\n372,IRL,Ireland,1910,83.16053,2668.9534,5.0700002,.0024783197\\r\\n372,IRL,Ireland,1980,87.714561,8541,9.3474998,.00078976993\\r\\n372,IRL,Ireland,1920,82.780785,2558.375,5.8800001,.0022866707\\r\\n372,IRL,Ireland,1880,86.633049,1998.4884,2.6199999,.0037314671\\r\\n372,IRL,Ireland,1930,82.949165,2897,6.1399999,.0013940681\\r\\n372,IRL,Ireland,1970,85.916916,6199,8.7572002,.00082364859\\r\\n372,IRL,Ireland,1990,89.359589,22116.979,10.5817,.00068335404\\r\\n372,IRL,Ireland,1900,84.221321,2445.4651,4.2199998,.0027515928\\r\\n372,IRL,Ireland,1890,84.447563,2221.9768,3.3299999,.0031247761\\r\\n372,IRL,Ireland,2010,93.44828,45661.469,11.64,.00067673024\\r\\n364,IRN,Iran,1980,48.840298,3974,2.6551001,.0089483708\\r\\n364,IRN,Iran,1960,33.529964,2156,.9199,.0074024415\\r\\n364,IRN,Iran,1930,33.108948,1330.8108,.31,.0064097992\\r\\n364,IRN,Iran,1900,44.31723,915.04651,.28999999,.0062890137\\r\\n364,IRN,Iran,1990,55.010235,10173.677,4.8483,.010923088\\r\\n364,IRN,Iran,1970,48.906567,4189,2.0402999,.0079416772\\r\\n364,IRN,Iran,2000,73.065193,11904.672,7.1438999,.011059127\\r\\n364,IRN,Iran,1910,41.893963,980.39532,.30000001,.0061119087\\r\\n364,IRN,Iran,1920,33.261494,1136.2162,.31,.0062966668\\r\\n364,IRN,Iran,1880,45.950386,784.34882,.25999999,.0064651757\\r\\n364,IRN,Iran,2010,76.485092,17517.434,8.5859003,.011019253\\r\\n364,IRN,Iran,1950,33.288944,1720,.44999999,.0066269925\\r\\n364,IRN,Iran,1940,32.905762,1525.4054,.33000001,.006416399\\r\\n364,IRN,Iran,1890,45.569065,849.69769,.27000001,.0063677975\\r\\n368,IRQ,Iraq,2010,52.967228,12674.15,5.8463998,.0045808563\\r\\n368,IRQ,Iraq,1980,43.408077,6377,1.8637,.0031595791\\r\\n368,IRQ,Iraq,2000,55.246822,12171.991,5.1841002,.0039592395\\r\\n368,IRQ,Iraq,1890,31.785259,849.69769,.039999999,.0013646656\\r\\n368,IRQ,Iraq,1970,37.083767,3473,1.3776,.0027623407\\r\\n368,IRQ,Iraq,1960,34.32486,2735,.5244,.0024632423\\r\\n368,IRQ,Iraq,1950,29.449913,1364,.090000004,.0020919545\\r\\n368,IRQ,Iraq,1900,31.266684,915.04651,.039999999,.0014165547\\r\\n368,IRQ,Iraq,1930,29.916414,1167.2433,.039999999,.0018026322\\r\\n368,IRQ,Iraq,1910,30.550797,980.39532,.039999999,.001436086\\r\\n368,IRQ,Iraq,1920,30.355991,1068.8649,.039999999,.0016231199\\r\\n368,IRQ,Iraq,1940,30.333963,1265.6216,.039999999,.0019257254\\r\\n368,IRQ,Iraq,1880,32.4618,784.34882,.039999999,.0013054272\\r\\n368,IRQ,Iraq,1990,56.600487,11515.501,4.3684001,.0033989931\\r\\n352,ISL,Iceland,1990,85.262047,28627.467,,.000049555394\\r\\n352,ISL,Iceland,1920,82.641762,2536,,.000061406347\\r\\n352,ISL,Iceland,1950,82.504082,3846,,.000057910926\\r\\n352,ISL,Iceland,1970,83.200569,7399,,.000056939749\\r\\n352,ISL,Iceland,1940,83.110268,3824,,.000056486584\\r\\n352,ISL,Iceland,1880,85.807762,1815,,.000055977504\\r\\n352,ISL,Iceland,2010,88.94268,38790.309,,.000047197511\\r\\n352,ISL,Iceland,1900,84.392685,2361,,.000059348706\\r\\n352,ISL,Iceland,1960,83.685593,4988,,.000059327245\\r\\n352,ISL,Iceland,1980,84.737366,10436,,.000052794341\\r\\n352,ISL,Iceland,1890,85.071861,2028,,.000057434463\\r\\n352,ISL,Iceland,1910,83.499405,2721.7693,,.000061514889\\r\\n352,ISL,Iceland,2000,85.59626,33575,,.000047226706\\r\\n352,ISL,Iceland,1930,83.935997,3291,,.000059055787\\r\\n376,ISR,Israel,1890,72.637901,881.53491,,.0004761501\\r\\n376,ISR,Israel,1920,68.191414,1377.8108,,.00047307517\\r\\n376,ISR,Israel,1940,71.861687,2337.2703,,.00049634092\\r\\n376,ISR,Israel,1970,86.961533,8101,,.00082831376\\r\\n376,ISR,Israel,1990,87.620995,19760.158,,.00090621889\\r\\n376,ISR,Israel,1960,85.499138,4663,,.00071433687\\r\\n376,ISR,Israel,1950,75.120659,2817,,.00052107236\\r\\n376,ISR,Israel,1930,71.17733,1857.5405,,.00048621575\\r\\n376,ISR,Israel,2000,89.825806,26090.172,,.0010562001\\r\\n376,ISR,Israel,1900,69.728386,951.30231,,.00047123048\\r\\n376,ISR,Israel,2010,86.517677,29599.793,,.0011313476\\r\\n376,ISR,Israel,1880,73.873543,811.76746,,.0004818546\\r\\n376,ISR,Israel,1910,66.845604,1021.0698,,.00045852023\\r\\n376,ISR,Israel,1980,88.694336,10984,,.00089742377\\r\\n380,ITA,Italy,1880,75.903419,1581,1.33,.021181077\\r\\n380,ITA,Italy,1990,84.649384,31141.902,7.7178001,.011030053\\r\\n380,ITA,Italy,1900,77.271034,1785,2.3800001,.020732071\\r\\n380,ITA,Italy,1970,80.331573,9719,5.6360002,.014990375\\r\\n380,ITA,Italy,1980,81.554047,13149,6.1258001,.013059595\\r\\n380,ITA,Italy,1910,78.044998,2332,2.8399999,.020669807\\r\\n380,ITA,Italy,1930,79.51049,2918,3.9400001,.01942789\\r\\n380,ITA,Italy,1960,78.223289,5916,4.8604002,.016962705\\r\\n380,ITA,Italy,1940,78.931496,3505,4.2399998,.019084942\\r\\n380,ITA,Italy,2000,84.989059,36535.82,8.7863998,.0095630884\\r\\n380,ITA,Italy,1950,78.272423,3502,4.5500002,.019084457\\r\\n380,ITA,Italy,1920,78.919037,2587,3.3599999,.019609474\\r\\n380,ITA,Italy,2010,85.016357,36201.16,9.5095997,.0087968102\\r\\n380,ITA,Italy,1890,78.109215,1667,1.87,.020996535\\r\\n388,JAM,Jamaica,1890,53.223537,568.95349,1.89,.00042807267\\r\\n388,JAM,Jamaica,1990,69.727081,7403.5703,7.1114001,.00046477752\\r\\n388,JAM,Jamaica,1950,66.778885,1327,4.6199999,.00056094653\\r\\n388,JAM,Jamaica,2000,73.885284,8104.915,9.0706997,.00043487249\\r\\n388,JAM,Jamaica,1940,65.220001,971,4.3099999,.00052166055\\r\\n388,JAM,Jamaica,1900,50.751251,585.93024,2.55,.00044330873\\r\\n388,JAM,Jamaica,1880,58.544159,551.97675,1.1900001,.00041070284\\r\\n388,JAM,Jamaica,1980,67.633354,3121,5.3648,.0004936062\\r\\n388,JAM,Jamaica,1970,69.013641,3849,4.8415999,.00052055094\\r\\n388,JAM,Jamaica,1960,65.394264,2654,3.8573,.00055044744\\r\\n388,JAM,Jamaica,1930,63.437763,855.52002,3.8199999,.00048056536\\r\\n388,JAM,Jamaica,1910,51.296616,602.90698,3.3699999,.00045666643\\r\\n388,JAM,Jamaica,1920,64.261276,709.91998,3.75,.0004483154\\r\\n388,JAM,Jamaica,2010,62.101143,8218.0869,9.8734999,.00039932018\\r\\n400,JOR,Jordan,1880,63.389385,783.58142,,.0002044452\\r\\n400,JOR,Jordan,1980,66.43499,4480,,.00052777911\\r\\n400,JOR,Jordan,1940,45.524578,1483.8108,,.00021676364\\r\\n400,JOR,Jordan,1890,62.530052,849.16278,,.00020143449\\r\\n400,JOR,Jordan,1960,60.584812,2330,,.00030027275\\r\\n400,JOR,Jordan,1930,47.466618,1304.6216,,.00021241159\\r\\n400,JOR,Jordan,1990,68.565567,6661.4453,,.00065311021\\r\\n400,JOR,Jordan,1910,59.729488,980.32556,,.00019344971\\r\\n400,JOR,Jordan,2000,70.805168,7742.4902,,.00080066925\\r\\n400,JOR,Jordan,1970,61.17915,2395,,.00046088363\\r\\n400,JOR,Jordan,1950,46.734097,1663,,.00022739047\\r\\n400,JOR,Jordan,1920,59.776245,1125.4324,,.00020362715\\r\\n400,JOR,Jordan,1900,60.958813,914.7442,,.00019900208\\r\\n400,JOR,Jordan,2010,73.416588,10441.127,,.00096726272\\r\\n392,JPN,Japan,1930,78.442566,1850,5.6999998,.030578531\\r\\n392,JPN,Japan,1880,74.150124,863,1.9400001,.0263971\\r\\n392,JPN,Japan,2000,88.742493,33871.844,10.9229,.021302527\\r\\n392,JPN,Japan,2010,89.416603,35749.77,11.582,.019005679\\r\\n392,JPN,Japan,1980,89.554482,13428,8.7428999,.027024997\\r\\n392,JPN,Japan,1900,72.757439,1180,2.98,.027154507\\r\\n392,JPN,Japan,1940,81.765846,2874,6.5799999,.031405944\\r\\n392,JPN,Japan,1970,87.0299,9714,8.1988001,.029062005\\r\\n392,JPN,Japan,1950,74.8433,1921,7.5100002,.033953357\\r\\n392,JPN,Japan,1990,90.549065,30447.258,9.9645996,.024023941\\r\\n392,JPN,Japan,1910,72.508224,1304,3.6600001,.027986644\\r\\n392,JPN,Japan,1920,77.401802,1696,4.6300001,.029267916\\r\\n392,JPN,Japan,1960,85.390717,3986,8.0071001,.031256359\\r\\n392,JPN,Japan,1890,73.919548,1012,2.3499999,.026543377\\r\\n398,KAZ,Kazakhstan,1920,65.403687,1432.9333,,.0024619589\\r\\n398,KAZ,Kazakhstan,1990,78.612732,13050.486,,.003179156\\r\\n398,KAZ,Kazakhstan,1880,71.794357,1041,,.002507647\\r\\n398,KAZ,Kazakhstan,2010,82.860207,20096.918,,.0024221342\\r\\n398,KAZ,Kazakhstan,1960,70.921112,3945,,.003282492\\r\\n398,KAZ,Kazakhstan,1900,67.54187,1237,,.0024523586\\r\\n398,KAZ,Kazakhstan,2000,77.422447,9951.5635,,.0024996165\\r\\n398,KAZ,Kazakhstan,1930,64.62011,1448,,.0025303443\\r\\n398,KAZ,Kazakhstan,1890,69.567787,1139,,.0024779607\\r\\n398,KAZ,Kazakhstan,1980,77.071678,7556.2354,,.0033598833\\r\\n398,KAZ,Kazakhstan,1970,73.278625,5575,,.0035531276\\r\\n398,KAZ,Kazakhstan,1950,66.666718,2841,,.0027117433\\r\\n398,KAZ,Kazakhstan,1940,64.245094,2144,,.0025830367\\r\\n398,KAZ,Kazakhstan,1910,64.237663,1430.0769,,.0023862126\\r\\n404,KEN,Kenya,1900,54.52721,601,1.0599999,.0021373895\\r\\n404,KEN,Kenya,1970,37.97963,915,2.174,.003134019\\r\\n404,KEN,Kenya,2010,27.877026,2538.5764,7.3045001,.0059847501\\r\\n404,KEN,Kenya,1930,51.529934,747.81482,1.29,.0023593907\\r\\n404,KEN,Kenya,2000,28.615171,2158.4851,6.6237998,.0052173198\\r\\n404,KEN,Kenya,1950,38.699512,651,1.5,.0024799805\\r\\n404,KEN,Kenya,1990,47.735081,2375.9709,5.5959001,.0045595313\\r\\n404,KEN,Kenya,1980,30.026346,1051,2.8697,.0037646224\\r\\n404,KEN,Kenya,1940,53.506969,813,1.38,.002388767\\r\\n404,KEN,Kenya,1920,52.895061,682.62964,1.22,.0022651115\\r\\n404,KEN,Kenya,1880,34.465416,533.66669,.89999998,.0020660246\\r\\n404,KEN,Kenya,1890,46.741409,567.33331,.98000002,.0021065511\\r\\n404,KEN,Kenya,1910,45.147606,628.69232,1.14,.0021229647\\r\\n404,KEN,Kenya,1960,29.16741,726,1.5231,.0027388646\\r\\n417,KGZ,Kyrgyzstan,2000,44.21014,2074.5054,,.00082265714\\r\\n417,KGZ,Kyrgyzstan,1910,68.97377,1430.0769,,.00061995909\\r\\n417,KGZ,Kyrgyzstan,1880,70.797394,1041,,.00065150886\\r\\n417,KGZ,Kyrgyzstan,1930,65.164543,1448,,.00065740582\\r\\n417,KGZ,Kyrgyzstan,1890,71.491905,1139,,.00064379605\\r\\n417,KGZ,Kyrgyzstan,1970,73.179985,5575,,.00082438666\\r\\n417,KGZ,Kyrgyzstan,2010,42.923637,2790.1707,,.00080847222\\r\\n417,KGZ,Kyrgyzstan,1980,70.459251,3675.5293,,.00083711726\\r\\n417,KGZ,Kyrgyzstan,1900,68.698143,1237,,.00063714432\\r\\n417,KGZ,Kyrgyzstan,1950,68.54705,2841,,.00070453517\\r\\n417,KGZ,Kyrgyzstan,1990,67.86908,3474.668,,.00085394603\\r\\n417,KGZ,Kyrgyzstan,1960,74.601845,3945,,.00073402992\\r\\n417,KGZ,Kyrgyzstan,1920,67.158241,1432.9333,,.00063963857\\r\\n417,KGZ,Kyrgyzstan,1940,64.900391,2144,,.00067109597\\r\\n116,KHM,Cambodia,2010,23.123371,2513.2932,,.0021315664\\r\\n116,KHM,Cambodia,1950,45.784534,482,,.0018114819\\r\\n116,KHM,Cambodia,1920,57.342243,700.91895,,.0017487375\\r\\n116,KHM,Cambodia,1930,45.156769,627.94592,,.0017687952\\r\\n116,KHM,Cambodia,1970,38.661583,647,,.0019558079\\r\\n116,KHM,Cambodia,1910,56.709484,736.86047,,.0017063215\\r\\n116,KHM,Cambodia,1900,58.657242,686.39532,,.0017543341\\r\\n116,KHM,Cambodia,1890,60.750587,635.93024,,.0017746814\\r\\n116,KHM,Cambodia,2000,22.14768,1370.8307,,.0020485655\\r\\n116,KHM,Cambodia,1990,24.331602,881,,.0017519305\\r\\n116,KHM,Cambodia,1940,44.293648,554.97296,,.0017614545\\r\\n116,KHM,Cambodia,1960,51.002106,671,,.0019336146\\r\\n116,KHM,Cambodia,1980,38.654476,828,,.0015546954\\r\\n116,KHM,Cambodia,1880,58.744461,585.46509,,.001799945\\r\\n410,KOR,South Korea,1980,75.343002,4114,,.0088223778\\r\\n410,KOR,South Korea,1920,61.197586,1092,,.0061893743\\r\\n410,KOR,South Korea,1930,59.221313,1049,,.0066202758\\r\\n410,KOR,South Korea,1990,81.768784,12086.763,,.0083366856\\r\\n410,KOR,South Korea,1950,59.028255,854,,.0084456056\\r\\n410,KOR,South Korea,1890,60.981689,706.92682,,.0065224236\\r\\n410,KOR,South Korea,2010,89.76059,30440.404,,.0073325336\\r\\n410,KOR,South Korea,1970,71.271965,2167,,.0089796642\\r\\n410,KOR,South Korea,1940,64.183022,1600,,.0067260638\\r\\n410,KOR,South Korea,2000,87.744766,20756.775,,.007894733\\r\\n410,KOR,South Korea,1880,59.885777,655.46344,,.007028684\\r\\n410,KOR,South Korea,1960,62.361668,1226,,.0084517933\\r\\n410,KOR,South Korea,1910,59.01786,809.85364,,.0057060695\\r\\n410,KOR,South Korea,1900,60.123947,758.39026,,.0060930322\\r\\n414,KWT,Kuwait,1880,63.986546,811.76746,,.000054240176\\r\\n414,KWT,Kuwait,1910,60.23605,1021.0698,,.000051613544\\r\\n414,KWT,Kuwait,2010,70.248283,73695.133,,.00045402796\\r\\n414,KWT,Kuwait,1940,65.010139,21354.756,,.000055870856\\r\\n414,KWT,Kuwait,1890,63.140198,881.53491,,.000053598051\\r\\n414,KWT,Kuwait,1960,79.448685,28813,,.000088518136\\r\\n414,KWT,Kuwait,1950,66.509514,28878,,.000058654776\\r\\n414,KWT,Kuwait,1930,66.54258,13831.514,,.00005473111\\r\\n414,KWT,Kuwait,1920,79.007294,6308.2705,,.00005325193\\r\\n414,KWT,Kuwait,1900,61.534664,951.30231,,.000053044281\\r\\n414,KWT,Kuwait,1980,63.4631,13271,,.00032035622\\r\\n414,KWT,Kuwait,1990,66.201614,6121,,.00040037607\\r\\n414,KWT,Kuwait,1970,69.035759,30695,,.00020894005\\r\\n414,KWT,Kuwait,2000,70.523888,74314.797,,.00032404301\\r\\n418,LAO,Lao,2000,20.388075,2340.4744,,.00089730474\\r\\n418,LAO,Lao,1980,18.818363,876,,.00075272075\\r\\n418,LAO,Lao,1940,27.341557,650.56757,,.0007537062\\r\\n418,LAO,Lao,1910,39.416599,736.86047,,.00075898581\\r\\n418,LAO,Lao,1950,27.67952,613,,.0007641011\\r\\n418,LAO,Lao,1990,30.745367,1616.8148,,.00082606694\\r\\n418,LAO,Lao,1880,41.930027,585.46509,,.00064687611\\r\\n418,LAO,Lao,1920,38.877628,725.7027,,.00077676668\\r\\n418,LAO,Lao,1960,28.847044,679,,.00071633863\\r\\n418,LAO,Lao,1930,26.874613,688.13513,,.00076979189\\r\\n418,LAO,Lao,1970,17.585402,748,,.00074810744\\r\\n418,LAO,Lao,2010,12.002253,3974.4224,,.00092906918\\r\\n418,LAO,Lao,1900,41.072998,686.39532,,.00073634204\\r\\n418,LAO,Lao,1890,43.144188,635.93024,,.00069473183\\r\\n430,LBR,Liberia,1940,26.46986,813,,.00032151773\\r\\n430,LBR,Liberia,1930,28.064388,747.81482,,.00031756377\\r\\n430,LBR,Liberia,1920,37.75098,682.62964,,.00030487424\\r\\n430,LBR,Liberia,2000,4.0882277,836.53955,,.00048568883\\r\\n430,LBR,Liberia,1900,35.842098,601,,.00028768333\\r\\n430,LBR,Liberia,1980,29.643316,1162,,.00043795785\\r\\n430,LBR,Liberia,1950,29.933554,1055,,.00033379468\\r\\n430,LBR,Liberia,1990,4.938458,872.84021,,.00040894139\\r\\n430,LBR,Liberia,1960,29.427355,1230,,.00037855914\\r\\n430,LBR,Liberia,1890,28.877777,567.33331,,.00028353263\\r\\n430,LBR,Liberia,1910,25.924965,628.69232,,.00028574181\\r\\n430,LBR,Liberia,1970,29.458847,1492,,.00039542039\\r\\n430,LBR,Liberia,2010,15.658074,697.90991,,.0005873685\\r\\n430,LBR,Liberia,1880,15.43682,533.66669,,.00027807799\\r\\n434,LBY,Libya,1950,30.286108,857,,.00038947002\\r\\n434,LBY,Libya,1900,41.782303,849.12415,,.00049163884\\r\\n434,LBY,Libya,1970,45.999619,9115,,.00058886147\\r\\n434,LBY,Libya,2010,68.144432,29173.607,,.00092983386\\r\\n434,LBY,Libya,1920,29.40703,852.27448,,.00045283485\\r\\n434,LBY,Libya,1930,29.267548,853.84967,,.00042683212\\r\\n434,LBY,Libya,1980,54.728085,7272,,.00073851261\\r\\n434,LBY,Libya,1990,48.884209,3087,,.00085534988\\r\\n434,LBY,Libya,1910,31.442085,850.69934,,.00046969799\\r\\n434,LBY,Libya,1940,29.149357,855.4248,,.00039974306\\r\\n434,LBY,Libya,1960,31.177015,1830,,.00048474967\\r\\n434,LBY,Libya,2000,65.725922,21997.482,,.00089636171\\r\\n434,LBY,Libya,1890,44.44677,847.54901,,.000507285\\r\\n434,LBY,Libya,1880,46.357334,845.97382,,.00052595651\\r\\n144,LKA,Sri Lanka,1910,62.722607,1208,,.002638266\\r\\n144,LKA,Sri Lanka,1890,65.140366,1045,,.0022141007\\r\\n144,LKA,Sri Lanka,1970,70.80056,1499,,.0034853795\\r\\n144,LKA,Sri Lanka,1940,61.32378,1251,,.0026401533\\r\\n144,LKA,Sri Lanka,2000,73.995384,5579.6191,,.0031329964\\r\\n144,LKA,Sri Lanka,1880,61.776817,831,,.0021665888\\r\\n144,LKA,Sri Lanka,1930,62.33873,1265,,.0027181234\\r\\n144,LKA,Sri Lanka,1920,61.482246,1092,,.002752814\\r\\n144,LKA,Sri Lanka,1900,68.460442,1290,,.0024086442\\r\\n144,LKA,Sri Lanka,1980,69.516617,1830,,.0034126632\\r\\n144,LKA,Sri Lanka,1960,63.510372,1295,,.003343903\\r\\n144,LKA,Sri Lanka,2010,66.254997,8563.2129,,.0029855254\\r\\n144,LKA,Sri Lanka,1950,60.948261,1253,,.003052013\\r\\n144,LKA,Sri Lanka,1990,69.919861,3665.5803,,.0033211173\\r\\n426,LSO,Lesotho,1990,23.964197,1365.1836,,.00031066858\\r\\n426,LSO,Lesotho,1920,53.708263,682.62964,,.00026871974\\r\\n426,LSO,Lesotho,1960,30.879837,458,,.00028769593\\r\\n426,LSO,Lesotho,1940,53.29213,813,,.00028338947\\r\\n426,LSO,Lesotho,1950,29.294296,355,,.00029421059\\r\\n426,LSO,Lesotho,1970,31.261213,604,,.00028749785\\r\\n426,LSO,Lesotho,1880,35.128857,533.66669,,.00024510123\\r\\n426,LSO,Lesotho,2010,24.644567,2405.3123,,.00029837238\\r\\n426,LSO,Lesotho,1930,55.520641,747.81482,,.00027990446\\r\\n426,LSO,Lesotho,2000,24.084356,1780.4967,,.00031174195\\r\\n426,LSO,Lesotho,1900,54.620346,601,,.00025356753\\r\\n426,LSO,Lesotho,1890,46.384056,567.33331,,.00024990903\\r\\n426,LSO,Lesotho,1910,44.539188,628.69232,,.00025185623\\r\\n426,LSO,Lesotho,1980,32.63002,1005,,.00030255143\\r\\n440,LTU,Lithuania,1920,76.046738,1432.9333,,.0010968404\\r\\n440,LTU,Lithuania,1940,75.652771,2144,,.0010089638\\r\\n440,LTU,Lithuania,1890,79.116043,1139,,.0010258945\\r\\n440,LTU,Lithuania,1980,79.889511,8033.5884,,.00078986294\\r\\n440,LTU,Lithuania,2010,83.806778,21061.986,,.00045963883\\r\\n440,LTU,Lithuania,1960,77.034325,3945,,.00093888456\\r\\n440,LTU,Lithuania,1880,78.281006,1041,,.00099987013\\r\\n440,LTU,Lithuania,1970,77.943741,5575,,.0008744612\\r\\n440,LTU,Lithuania,2000,79.273827,12184.959,,.00058772624\\r\\n440,LTU,Lithuania,1930,75.370178,1448,,.0010548547\\r\\n440,LTU,Lithuania,1910,74.579956,1430.0769,,.0010987794\\r\\n440,LTU,Lithuania,1990,75.507393,8663,,.00071910961\\r\\n440,LTU,Lithuania,1950,79.755989,2841,,.0010344052\\r\\n440,LTU,Lithuania,1900,78.58567,1237,,.0010600868\\r\\n442,LUX,Luxembourg,1960,84.939491,4988,,.00010609187\\r\\n442,LUX,Luxembourg,1950,84.835541,3846,,.00011975624\\r\\n442,LUX,Luxembourg,2000,92.010735,78687.578,,.000073273986\\r\\n442,LUX,Luxembourg,2010,91.404564,89727.039,,.000075232187\\r\\n442,LUX,Luxembourg,1880,85.801399,1815,,.00011575803\\r\\n442,LUX,Luxembourg,1930,84.335304,3291,,.00012212373\\r\\n442,LUX,Luxembourg,1920,83.268372,2536,,.00012698455\\r\\n442,LUX,Luxembourg,1940,86.070808,3824,,.00011681081\\r\\n442,LUX,Luxembourg,1990,92.251328,54263.676,,.000074257441\\r\\n442,LUX,Luxembourg,1980,86.221436,10436,,.000084269435\\r\\n442,LUX,Luxembourg,1910,83.704552,2721.7693,,.00012720902\\r\\n442,LUX,Luxembourg,1970,84.859268,7399,,.000094465366\\r\\n442,LUX,Luxembourg,1890,85.089821,2028,,.00011877093\\r\\n442,LUX,Luxembourg,1900,84.608635,2361,,.00012272949\\r\\n428,LVA,Latvia,1910,77.567406,1430.0769,,.00083339249\\r\\n428,LVA,Latvia,1970,76.58284,5575,,.0006570706\\r\\n428,LVA,Latvia,1980,78.647781,8698.3525,,.00058124296\\r\\n428,LVA,Latvia,1880,77.588547,1041,,.000758373\\r\\n428,LVA,Latvia,1950,79.304138,2841,,.00078456668\\r\\n428,LVA,Latvia,2000,76.176186,11158.106,,.00039761595\\r\\n428,LVA,Latvia,1890,79.025841,1139,,.00077811157\\r\\n428,LVA,Latvia,1960,73.693092,3945,,.00071668834\\r\\n428,LVA,Latvia,2010,83.01342,18251.008,,.00031127865\\r\\n428,LVA,Latvia,1900,77.583427,1237,,.00080404535\\r\\n428,LVA,Latvia,1920,72.049347,1432.9333,,.00083192193\\r\\n428,LVA,Latvia,1930,74.41597,1448,,.00080007699\\r\\n428,LVA,Latvia,1940,74.857185,2144,,.00076527015\\r\\n428,LVA,Latvia,1990,73.511864,9916,,.00051789655\\r\\n446,MAC,Macao,1960,61.845402,1632,,.000057935755\\r\\n446,MAC,Macao,2000,70.789772,37281.211,,.000072536212\\r\\n446,MAC,Macao,1890,57.839043,635.93024,,.000055809975\\r\\n446,MAC,Macao,1970,63.141708,2082,,.000069907284\\r\\n446,MAC,Macao,1950,59.662361,1385,,.000083234248\\r\\n446,MAC,Macao,1920,57.404205,871.75677,,.000066917928\\r\\n446,MAC,Macao,1910,55.883751,736.86047,,.000062518862\\r\\n446,MAC,Macao,1940,59.175114,1213.9189,,.000076264354\\r\\n446,MAC,Macao,1930,56.756821,1042.8379,,.000071351235\\r\\n446,MAC,Macao,2010,75.859711,98614.688,,.000079338875\\r\\n446,MAC,Macao,1880,57.307457,585.46509,,.000053822718\\r\\n446,MAC,Macao,1990,81.320267,34392.27,,.000069956797\\r\\n446,MAC,Macao,1980,63.699654,2522,,.000056982473\\r\\n446,MAC,Macao,1900,57.524883,686.39532,,.000059531427\\r\\n504,MAR,Morocco,1940,32.10508,1253.6487,.36000001,.0035291696\\r\\n504,MAR,Morocco,1950,31.398455,1455,.47,.0037854456\\r\\n504,MAR,Morocco,1910,27.853506,699.7442,.27000001,.0028360004\\r\\n504,MAR,Morocco,1920,28.467686,850.94592,.27000001,.0030997843\\r\\n504,MAR,Morocco,1880,42.397625,597.18604,.25999999,.0029307147\\r\\n504,MAR,Morocco,2010,25.457148,6496.6069,5.0036001,.0047648111\\r\\n504,MAR,Morocco,1960,29.472855,1329,.4718,.0041658669\\r\\n504,MAR,Morocco,1980,30.894665,2272,1.3667001,.0046449206\\r\\n504,MAR,Morocco,1890,42.597816,631.37207,.25999999,.0029121283\\r\\n504,MAR,Morocco,1970,29.556179,1616,.98449999,.0044673239\\r\\n504,MAR,Morocco,1990,31.556787,3901.0374,2.9078,.0048519908\\r\\n504,MAR,Morocco,1900,38.543686,665.55817,.25999999,.0028983743\\r\\n504,MAR,Morocco,2000,35.175404,4469.6426,3.8945,.0048620729\\r\\n504,MAR,Morocco,1930,29.839254,1052.2972,.30000001,.0033604372\\r\\n498,MDA,Moldova,1980,75.480705,5696.4707,,.00078588218\\r\\n498,MDA,Moldova,1880,71.066948,1041,,.0010157385\\r\\n498,MDA,Moldova,1930,67.773552,1448,,.0010400048\\r\\n498,MDA,Moldova,1940,68.08139,2144,,.0010260384\\r\\n498,MDA,Moldova,2000,46.03653,2321.0278,,.00061124784\\r\\n498,MDA,Moldova,1990,73.321159,6170,,.00071875216\\r\\n498,MDA,Moldova,2010,46.91198,3910.8606,,.00052861002\\r\\n498,MDA,Moldova,1960,72.914101,3945,,.00085962907\\r\\n498,MDA,Moldova,1970,75.363998,5575,,.00084781006\\r\\n498,MDA,Moldova,1910,69.857613,1430.0769,,.0010511936\\r\\n498,MDA,Moldova,1920,65.951393,1432.9333,,.00099651865\\r\\n498,MDA,Moldova,1900,69.722794,1237,,.0010514088\\r\\n498,MDA,Moldova,1950,70.269547,2841,,.00094659883\\r\\n498,MDA,Moldova,1890,72.140068,1139,,.001033387\\r\\n450,MDG,Madagascar,1990,20.469095,1660.7263,2.9400001,.0022452802\\r\\n450,MDG,Madagascar,1960,41.47332,1125,1.4400001,.0017231004\\r\\n450,MDG,Madagascar,2010,4.6135592,1390.4252,3.96,.0031282175\\r\\n450,MDG,Madagascar,1910,39.425404,628.69232,.67000002,.0021005583\\r\\n450,MDG,Madagascar,1950,43.187759,951,1.27,.001871957\\r\\n450,MDG,Madagascar,1890,42.326797,567.33331,.56,.0021622395\\r\\n450,MDG,Madagascar,1930,38.623524,747.81482,.87,.0019853795\\r\\n450,MDG,Madagascar,2000,5.8275695,1446.0468,3.6099999,.0026442474\\r\\n450,MDG,Madagascar,1880,31.680576,533.66669,.50999999,.0021793118\\r\\n450,MDG,Madagascar,1970,31.990545,1226,1.55,.0018316209\\r\\n450,MDG,Madagascar,1920,37.719307,682.62964,.73000002,.0020672672\\r\\n450,MDG,Madagascar,1900,51.0779,601,.61000001,.0021492182\\r\\n450,MDG,Madagascar,1980,27.243162,1054,2.0699999,.0020240669\\r\\n450,MDG,Madagascar,1940,39.243233,813,1.0599999,.0018914414\\r\\n462,MDV,Maldives,1920,57.562954,871.75677,,.0000311158\\r\\n462,MDV,Maldives,1910,56.155651,736.86047,,.000030652071\\r\\n462,MDV,Maldives,1930,56.756824,1042.8379,,.000031414103\\r\\n462,MDV,Maldives,1960,61.86095,1632,,.000030369167\\r\\n462,MDV,Maldives,1880,57.188412,585.46509,,.00003119911\\r\\n462,MDV,Maldives,1940,58.610374,1213.9189,,.000031525738\\r\\n462,MDV,Maldives,2010,52.376785,10514.397,,.00005446306\\r\\n462,MDV,Maldives,1980,63.156853,2522,,.00003662868\\r\\n462,MDV,Maldives,1950,58.397877,1385,,.000032125336\\r\\n462,MDV,Maldives,1890,57.422237,635.93024,,.000031042116\\r\\n462,MDV,Maldives,2000,31.34409,3050,,.000048031998\\r\\n462,MDV,Maldives,1970,62.485764,2082,,.000032225416\\r\\n462,MDV,Maldives,1990,43.830925,2543,,.000042393931\\r\\n462,MDV,Maldives,1900,57.662125,686.39532,,.000030772782\\r\\n484,MEX,Mexico,1970,65.942719,4320,3.5555999,.014491274\\r\\n484,MEX,Mexico,2000,77.220291,14856.116,7.6166,.017266091\\r\\n484,MEX,Mexico,2010,76.681602,15364.872,9.1129999,.017602928\\r\\n484,MEX,Mexico,1920,71.374695,1823,1.85,.0078127477\\r\\n484,MEX,Mexico,1890,66.305962,1011,1.47,.0077682277\\r\\n484,MEX,Mexico,1910,71.210342,1694,1.76,.0084777186\\r\\n484,MEX,Mexico,1960,64.825409,3155,2.767,.012899204\\r\\n484,MEX,Mexico,1940,64.341286,1852,2.3299999,.0087774117\\r\\n484,MEX,Mexico,1990,74.848511,12547.493,6.401,.016648253\\r\\n484,MEX,Mexico,1930,67.819267,1618,1.99,.0081800893\\r\\n484,MEX,Mexico,1950,67.521446,2365,2.95,.01154069\\r\\n484,MEX,Mexico,1900,70.637276,1366,1.62,.008377919\\r\\n484,MEX,Mexico,1980,70.326302,6320,4.1473999,.016044162\\r\\n484,MEX,Mexico,1880,66.418236,842.5,1.3200001,.0074579138\\r\\n466,MLI,Mali,1910,16.552782,628.69232,.16,.001278961\\r\\n466,MLI,Mali,2000,3.050725,1452.4268,1.207,.0018552655\\r\\n466,MLI,Mali,1940,26.717068,813,.19,.0014390916\\r\\n466,MLI,Mali,2010,3.3658812,1860.6051,2.033,.002250836\\r\\n466,MLI,Mali,1990,2.5673597,1269.2621,.90100002,.0016494886\\r\\n466,MLI,Mali,1930,25.332058,747.81482,.18000001,.0014213941\\r\\n466,MLI,Mali,1920,24.854473,682.62964,.17,.0013645963\\r\\n466,MLI,Mali,1960,1.5669448,534,.1909,.001778638\\r\\n466,MLI,Mali,1880,13.960822,533.66669,.12,.0012446584\\r\\n466,MLI,Mali,1980,2.7929437,733,.44679999,.0016407546\\r\\n466,MLI,Mali,1950,13.290527,457,.2,.0014940426\\r\\n466,MLI,Mali,1970,.94433385,586,.28929999,.001656918\\r\\n466,MLI,Mali,1900,24.181992,601,.14,.0012876512\\r\\n466,MLI,Mali,1890,25.663816,567.33331,.13,.001269073\\r\\n470,MLT,Malta,1940,78.125313,3824,,.00012398028\\r\\n470,MLT,Malta,1930,78.286858,3291,,.00012315683\\r\\n470,MLT,Malta,1920,77.805939,2536,,.00012357175\\r\\n470,MLT,Malta,1900,80.305618,2361,,.00012767974\\r\\n470,MLT,Malta,1960,74.110504,4988,,.00011034271\\r\\n470,MLT,Malta,1990,82.133095,16179.616,,.000068874579\\r\\n470,MLT,Malta,1950,77.345375,3846,,.00012639498\\r\\n470,MLT,Malta,2000,83.030815,24628.711,,.00006404765\\r\\n470,MLT,Malta,1970,78.814888,7399,,.000084293599\\r\\n470,MLT,Malta,2010,84.051285,28370.279,,.000061513281\\r\\n470,MLT,Malta,1890,81.01812,2028,,.00012740356\\r\\n470,MLT,Malta,1910,79.427765,2721.7693,,.00012678844\\r\\n470,MLT,Malta,1980,80.763268,10436,,.000073276104\\r\\n470,MLT,Malta,1880,80.709221,1815,,.00012736225\\r\\n104,MMR,Myanmar,2010,11.08836,3607.7678,4.6399002,.0076772156\\r\\n104,MMR,Myanmar,1880,38.322266,566.9032,.090000004,.0042076721\\r\\n104,MMR,Myanmar,1910,26.641962,598.79999,.58999997,.0067493943\\r\\n104,MMR,Myanmar,2000,5.1517019,1263.297,3.5258,.0080058584\\r\\n104,MMR,Myanmar,1900,41.588833,692.70966,.40000001,.0062641986\\r\\n104,MMR,Myanmar,1980,7.8865757,828,1.601,.0079770042\\r\\n104,MMR,Myanmar,1990,3.9816098,718.54449,2.7,.0081690596\\r\\n104,MMR,Myanmar,1960,7.1046076,564,1.0763,.0072603594\\r\\n104,MMR,Myanmar,1930,42.252831,884.40002,.91000003,.0069131874\\r\\n104,MMR,Myanmar,1970,6.7068658,642,1.3867,.0075662434\\r\\n104,MMR,Myanmar,1940,30.909657,682.66669,1.0700001,.0071422728\\r\\n104,MMR,Myanmar,1890,42.162369,629.80646,.22,.0049600359\\r\\n104,MMR,Myanmar,1950,14.790398,396,1.17,.0078953691\\r\\n104,MMR,Myanmar,1920,40.817253,733.40002,.75,.0068668285\\r\\n496,MNG,Mongolia,1890,56.719452,635.93024,,.00045998167\\r\\n496,MNG,Mongolia,2000,67.030083,4655.0186,,.00040263546\\r\\n496,MNG,Mongolia,1910,53.504158,736.86047,,.00040750881\\r\\n496,MNG,Mongolia,1900,54.718925,686.39532,,.00043577707\\r\\n496,MNG,Mongolia,1980,50.350071,1058,,.00039100231\\r\\n496,MNG,Mongolia,1880,56.672066,585.46509,,.00048858038\\r\\n496,MNG,Mongolia,1940,29.390989,520.67566,,.00032887026\\r\\n496,MNG,Mongolia,1930,40.511738,606.35138,,.00035702164\\r\\n496,MNG,Mongolia,1960,32.316357,586,,.00032287248\\r\\n496,MNG,Mongolia,1920,54.410995,692.02704,,.00038546315\\r\\n496,MNG,Mongolia,2010,56.645378,7708.5801,,.00040256022\\r\\n496,MNG,Mongolia,1990,69.347313,5122.5317,,.00042474538\\r\\n496,MNG,Mongolia,1950,29.638065,435,,.00031542935\\r\\n496,MNG,Mongolia,1970,46.802261,787,,.00035617632\\r\\n508,MOZ,Mozambique,2000,.65431964,555.55988,1.05,.0030674201\\r\\n508,MOZ,Mozambique,1970,30.440777,1743,1.0026,.0025796592\\r\\n508,MOZ,Mozambique,1910,15.062651,628.69232,.17,.0028101674\\r\\n508,MOZ,Mozambique,1950,29.629202,1133,.28,.0025323494\\r\\n508,MOZ,Mozambique,1890,25.470831,567.33331,.14,.0028697923\\r\\n508,MOZ,Mozambique,1880,12.27784,533.66669,.12,.0028783395\\r\\n508,MOZ,Mozambique,1990,.29816818,375.01495,.99839997,.0026004149\\r\\n508,MOZ,Mozambique,1930,25.03471,747.81482,.20999999,.0026725426\\r\\n508,MOZ,Mozambique,2010,1.0391634,913.9884,1.7548,.0036093213\\r\\n508,MOZ,Mozambique,1920,26.362593,682.62964,.19,.0027746921\\r\\n508,MOZ,Mozambique,1900,23.653973,601,.15000001,.0028646241\\r\\n508,MOZ,Mozambique,1980,26.781342,1220,.94660002,.0027622459\\r\\n508,MOZ,Mozambique,1960,30.806622,1327,.83539999,.0025320123\\r\\n508,MOZ,Mozambique,1940,26.13727,813,.23,.0025527235\\r\\n478,MRT,Mauritania,1900,51.512806,601,,.00035113265\\r\\n478,MRT,Mauritania,1910,41.849907,628.69232,,.00034876296\\r\\n478,MRT,Mauritania,1950,28.207268,464,,.00040741399\\r\\n478,MRT,Mauritania,2010,10.677853,3333.7314,,.00053296628\\r\\n478,MRT,Mauritania,1890,43.340424,567.33331,,.00034606655\\r\\n478,MRT,Mauritania,1930,40.993774,747.81482,,.0003876033\\r\\n478,MRT,Mauritania,1980,17.501354,1009,,.00035500884\\r\\n478,MRT,Mauritania,2000,17.988264,2749.0632,,.00045536703\\r\\n478,MRT,Mauritania,1960,16.808649,625,,.00028997951\\r\\n478,MRT,Mauritania,1990,28.47188,2815.7144,,.00039353722\\r\\n478,MRT,Mauritania,1940,41.577305,813,,.00039242927\\r\\n478,MRT,Mauritania,1880,30.785049,533.66669,,.0003394089\\r\\n478,MRT,Mauritania,1920,53.958168,682.62964,,.00037211503\\r\\n478,MRT,Mauritania,1970,38.276836,1059,,.00031999205\\r\\n480,MUS,Mauritius,1990,68.611855,7386.8242,,.00020589741\\r\\n480,MUS,Mauritius,1880,39.511532,533.66669,,.00016243842\\r\\n480,MUS,Mauritius,2000,59.405224,11077.147,,.00019932826\\r\\n480,MUS,Mauritius,1910,48.03886,628.69232,,.00016691526\\r\\n480,MUS,Mauritius,1970,66.597855,2945,,.0002300562\\r\\n480,MUS,Mauritius,2010,64.014664,15938.419,,.00018556025\\r\\n480,MUS,Mauritius,1890,47.982773,567.33331,,.00016562473\\r\\n480,MUS,Mauritius,1960,65.346497,2777,,.00022279767\\r\\n480,MUS,Mauritius,1940,54.968075,813,,.00018781361\\r\\n480,MUS,Mauritius,1930,55.400249,747.81482,,.00018550396\\r\\n480,MUS,Mauritius,1920,58.035686,682.62964,,.00017809142\\r\\n480,MUS,Mauritius,1900,56.914345,601,,.00016804937\\r\\n480,MUS,Mauritius,1950,67.958206,2490,,.00019498519\\r\\n480,MUS,Mauritius,1980,69.05883,4367,,.00022355502\\r\\n454,MWI,Malawi,1900,50.665016,601,.69,.00098349806\\r\\n454,MWI,Malawi,1980,7.0620642,630,1.8638999,.001426257\\r\\n454,MWI,Malawi,1990,4.5012269,746.45563,2.8922,.001829745\\r\\n454,MWI,Malawi,2010,5.9646006,1060.7469,4.7003002,.0021918523\\r\\n454,MWI,Malawi,1910,44.452332,628.69232,.82999998,.00097686052\\r\\n454,MWI,Malawi,1970,5.5256557,447,1.5658,.0012822261\\r\\n454,MWI,Malawi,1880,29.430761,533.66669,.40000001,.00095066044\\r\\n454,MWI,Malawi,2000,4.2516313,880.11072,3.4774001,.0018798364\\r\\n454,MWI,Malawi,1890,42.972599,567.33331,.54000002,.00096930814\\r\\n454,MWI,Malawi,1950,28.340715,324,1.9400001,.0011411376\\r\\n454,MWI,Malawi,1960,5.6771145,394,1.085,.0012227426\\r\\n454,MWI,Malawi,1920,53.666866,682.62964,1.14,.0010422681\\r\\n454,MWI,Malawi,1930,52.786339,747.81482,1.49,.0010856495\\r\\n454,MWI,Malawi,1940,53.44162,813,1.74,.0010991665\\r\\n458,MYS,Malaysia,1920,59.891216,1110,.97000003,.0018588048\\r\\n458,MYS,Malaysia,1900,59.962711,763.97559,.85000002,.001374257\\r\\n458,MYS,Malaysia,1890,61.373051,730.31708,.80000001,.0010497605\\r\\n458,MYS,Malaysia,2000,82.150459,16146.235,9.0857,.0039333762\\r\\n458,MYS,Malaysia,1990,73.549644,10451.483,6.9657998,.0035414677\\r\\n458,MYS,Malaysia,1930,64.708115,1636,1.1,.0021018186\\r\\n458,MYS,Malaysia,1880,62.93391,696.65851,.79000002,.00085523247\\r\\n458,MYS,Malaysia,1960,59.483677,1530,2.8382001,.0027576301\\r\\n458,MYS,Malaysia,1950,57.93792,1559,1.98,.0026066354\\r\\n458,MYS,Malaysia,1940,59.086258,1278,1.4,.0023388641\\r\\n458,MYS,Malaysia,2010,82.217072,21101.879,10.1431,.0041729538\\r\\n458,MYS,Malaysia,1970,63.142258,2079,4.1665001,.0030382555\\r\\n458,MYS,Malaysia,1910,56.741287,797.63416,.88,.0016350693\\r\\n458,MYS,Malaysia,1980,66.044327,3657,4.7842999,.0032013217\\r\\n516,NAM,Namibia,1970,65.83503,3321,,.00021735187\\r\\n516,NAM,Namibia,1960,63.727451,2616,,.00020360267\\r\\n516,NAM,Namibia,1980,65.002754,3767,,.00023436714\\r\\n516,NAM,Namibia,1940,55.631557,813,,.00018096829\\r\\n516,NAM,Namibia,1920,55.758751,682.62964,,.00017160043\\r\\n516,NAM,Namibia,1880,36.268269,533.66669,,.00015651801\\r\\n516,NAM,Namibia,1930,55.616512,747.81482,,.0001787428\\r\\n516,NAM,Namibia,1900,55.168682,601,,.00016192443\\r\\n516,NAM,Namibia,1890,47.946552,567.33331,,.00015958819\\r\\n516,NAM,Namibia,1950,63.840969,2160,,.0001878785\\r\\n516,NAM,Namibia,2000,51.740856,6110.3032,,.00031874992\\r\\n516,NAM,Namibia,2010,39.113663,8381.8838,,.00032553816\\r\\n516,NAM,Namibia,1990,66.368187,5716.2314,,.00027525856\\r\\n516,NAM,Namibia,1910,46.457916,628.69232,,.00016083164\\r\\n562,NER,Niger,1930,25.140738,747.81482,.07,.0012608245\\r\\n562,NER,Niger,1950,14.209821,617,.079999998,.001325266\\r\\n562,NER,Niger,2000,1.7749145,761.80487,1.3704,.0018850919\\r\\n562,NER,Niger,1920,22.782206,682.62964,.07,.0012104431\\r\\n562,NER,Niger,1940,23.142803,813,.079999998,.0012765226\\r\\n562,NER,Niger,1880,12.121067,533.66669,.07,.001104054\\r\\n562,NER,Niger,1900,24.029507,601,.07,.00114219\\r\\n562,NER,Niger,2010,1.0061815,820.65167,1.837,.0024177427\\r\\n562,NER,Niger,1960,23.827171,761,.3793,.0011472574\\r\\n562,NER,Niger,1970,15.756369,839,.44510001,.0012525962\\r\\n562,NER,Niger,1890,23.640368,567.33331,.07,.0011257106\\r\\n562,NER,Niger,1910,13.02265,628.69232,.07,.0011344817\\r\\n562,NER,Niger,1980,3.9993901,810,.52029997,.0013799588\\r\\n562,NER,Niger,1990,2.023015,905.66425,1.0283,.001538605\\r\\n566,NGA,Nigeria,1920,38.267231,682.62964,.70999998,.011766287\\r\\n566,NGA,Nigeria,1910,40.284172,628.69232,.69999999,.011027895\\r\\n566,NGA,Nigeria,1970,27.381153,1094,1.29,.015633753\\r\\n566,NGA,Nigeria,1950,36.24139,753,.88999999,.01288244\\r\\n566,NGA,Nigeria,1880,30.540241,533.66669,.69999999,.010732119\\r\\n566,NGA,Nigeria,2010,22.300016,5122.8135,4.25,.023658743\\r\\n566,NGA,Nigeria,1890,42.370258,567.33331,.69999999,.010942636\\r\\n566,NGA,Nigeria,1940,39.048943,813,.81,.012408623\\r\\n566,NGA,Nigeria,1990,27.963875,3030.4602,2.6300001,.018594474\\r\\n566,NGA,Nigeria,1930,39.03904,747.81482,.74000001,.012256026\\r\\n566,NGA,Nigeria,2000,19.575359,2835.9883,3.8399999,.020636415\\r\\n566,NGA,Nigeria,1900,50.042942,601,.69999999,.011102827\\r\\n566,NGA,Nigeria,1960,28.421152,820,1.0599999,.015277209\\r\\n566,NGA,Nigeria,1980,28.38829,1305,1.4400001,.017054776\\r\\n558,NIC,Nicaragua,1980,49.024178,2154,3.3164001,.00075207488\\r\\n558,NIC,Nicaragua,1950,57.784904,1616,1.86,.00044481756\\r\\n558,NIC,Nicaragua,1890,61.27182,680.66669,.94999999,.00028545537\\r\\n558,NIC,Nicaragua,1930,61.390194,1415,1.37,.00032386961\\r\\n558,NIC,Nicaragua,1880,59.996109,583.33331,.77999997,.00027539561\\r\\n558,NIC,Nicaragua,1920,62.036995,1264,1.17,.00033558114\\r\\n558,NIC,Nicaragua,1900,60.945793,778,1.04,.00029430774\\r\\n558,NIC,Nicaragua,1910,60.138298,978,1.13,.00031254522\\r\\n558,NIC,Nicaragua,1960,47.899395,1983,2.2089,.00059967773\\r\\n558,NIC,Nicaragua,1970,49.616165,2812,3.0362,.00066791364\\r\\n558,NIC,Nicaragua,2010,27.610533,4024.2273,6.7423,.00085148198\\r\\n558,NIC,Nicaragua,1990,43.177357,3019.9026,4.3618002,.00080598332\\r\\n558,NIC,Nicaragua,1940,59.516857,1372,1.52,.00035724277\\r\\n558,NIC,Nicaragua,2000,35.897133,3474.9358,5.4190998,.00084421982\\r\\n528,NLD,Netherlands,1910,87.601357,3789,6.0100002,.0033470031\\r\\n528,NLD,Netherlands,1900,89.931541,3424,5.8099999,.0031659631\\r\\n528,NLD,Netherlands,1970,90.860733,11967,8.1949997,.0036314696\\r\\n528,NLD,Netherlands,1940,86.543106,4831,6.9699998,.0038216368\\r\\n528,NLD,Netherlands,2010,90.62513,45524.664,11.0226,.0024657361\\r\\n528,NLD,Netherlands,1880,94.370811,3046,5.4499998,.0028995427\\r\\n528,NLD,Netherlands,1980,92.537994,14705,8.9338999,.0032744627\\r\\n528,NLD,Netherlands,1890,92.185913,3323,5.6199999,.0030035735\\r\\n528,NLD,Netherlands,2000,91.306999,41721.695,10.7285,.0026745952\\r\\n528,NLD,Netherlands,1990,93.744499,32090.211,10.1312,.002907584\\r\\n528,NLD,Netherlands,1950,85.822968,5996,7.3000002,.0040974668\\r\\n528,NLD,Netherlands,1960,87.544189,8287,6.2507,.0038813844\\r\\n528,NLD,Netherlands,1930,89.393188,5603,6.5799999,.0037549825\\r\\n528,NLD,Netherlands,1920,88.090202,4220,6.29,.0035907179\\r\\n578,NOR,Norway,1890,87.935425,1709,5.71,.0013226321\\r\\n578,NOR,Norway,1950,85.647957,5430,7.3400002,.0013228565\\r\\n578,NOR,Norway,2010,97.551964,62268.012,12.2965,.00072556845\\r\\n578,NOR,Norway,1990,97.044762,42829.637,10.5724,.00082482898\\r\\n578,NOR,Norway,2000,97.231903,58066.586,11.2905,.00075423118\\r\\n578,NOR,Norway,1940,85.177246,4038,7.0599999,.0012796178\\r\\n578,NOR,Norway,1910,82.415939,2186,5.98,.001347392\\r\\n578,NOR,Norway,1960,87.312691,7204,7.5914001,.0012101168\\r\\n578,NOR,Norway,1930,84.31942,3627,6.4699998,.0013369147\\r\\n578,NOR,Norway,1980,91.731972,15076,8.7340002,.00094546995\\r\\n578,NOR,Norway,1920,84.149849,2739,6.2600002,.0013816505\\r\\n578,NOR,Norway,1880,88.401871,1517,5.6599998,.0013762609\\r\\n578,NOR,Norway,1900,85.487564,1877,5.77,.0013730257\\r\\n578,NOR,Norway,1970,89.470291,10027,8.4961996,.0010794713\\r\\n524,NPL,Nepal,1990,3.6589625,1198.4412,,.0036446506\\r\\n524,NPL,Nepal,1980,3.0378828,652,,.0034457739\\r\\n524,NPL,Nepal,1900,.33600873,496.06976,,.0032527777\\r\\n524,NPL,Nepal,1950,12.893429,496,,.0036422387\\r\\n524,NPL,Nepal,1940,.44977546,507.62161,,.0034795713\\r\\n524,NPL,Nepal,1890,.27282223,463.04651,,.0034387109\\r\\n524,NPL,Nepal,1920,.4200879,530.86487,,.0032891969\\r\\n524,NPL,Nepal,1910,.39665052,529.09302,,.0031406251\\r\\n524,NPL,Nepal,1930,.43996316,519.24323,,.0034190197\\r\\n524,NPL,Nepal,1880,.28286341,430.02325,,.0035464356\\r\\n524,NPL,Nepal,1960,2.760468,607,,.0033982869\\r\\n524,NPL,Nepal,2000,5.0247245,1539.7683,,.0039870162\\r\\n524,NPL,Nepal,2010,5.8086958,1996.8596,,.0039884038\\r\\n524,NPL,Nepal,1970,3.1461825,653,,.0033385931\\r\\n554,NZL,New Zealand,1950,90.899353,8456,8.1099997,.0007731464\\r\\n554,NZL,New Zealand,2000,90.309837,28281.965,12.1641,.00064787775\\r\\n554,NZL,New Zealand,1980,91.824341,12347,11.9239,.00072036887\\r\\n554,NZL,New Zealand,1930,92.012886,4960,7.9899998,.00071108434\\r\\n554,NZL,New Zealand,1910,97.040291,5316,7.1700001,.00059061439\\r\\n554,NZL,New Zealand,1990,90.142487,24288.688,11.7566,.00064753817\\r\\n554,NZL,New Zealand,1960,96.672997,9465,10.0201,.0008014419\\r\\n554,NZL,New Zealand,1940,92.628433,6300,8.0500002,.00070415565\\r\\n554,NZL,New Zealand,1920,99.733688,5641,7.8600001,.00065071275\\r\\n554,NZL,New Zealand,2010,90.69915,32188.207,12.6896,.00064564694\\r\\n554,NZL,New Zealand,1880,92.951599,3747,3.8599999,.00037293154\\r\\n554,NZL,New Zealand,1900,94.837051,4298,6.2600002,.0004968752\\r\\n554,NZL,New Zealand,1970,95.446022,11189,11.2098,.00078283169\\r\\n554,NZL,New Zealand,1890,92.821831,3755,5.23,.0004404358\\r\\n586,PAK,Pakistan,1920,34.079308,671.37836,,.015480099\\r\\n586,PAK,Pakistan,1910,29.390772,661.84613,,.015249393\\r\\n586,PAK,Pakistan,1970,29.602867,952,,.016180316\\r\\n586,PAK,Pakistan,2000,22.168375,3501.8079,,.023218345\\r\\n586,PAK,Pakistan,2010,23.425098,4296.6128,,.025234638\\r\\n586,PAK,Pakistan,1930,17.21627,661.91895,,.015628502\\r\\n586,PAK,Pakistan,1950,25.780741,643,,.015982339\\r\\n586,PAK,Pakistan,1940,16.485617,652.45947,,.015684042\\r\\n586,PAK,Pakistan,1890,38.831173,587.33331,,.015443442\\r\\n586,PAK,Pakistan,1960,16.257427,647,,.015175902\\r\\n586,PAK,Pakistan,1990,30.869429,3056.9683,,.020926196\\r\\n586,PAK,Pakistan,1880,40.087769,566.66669,,.015521551\\r\\n586,PAK,Pakistan,1980,30.556503,1161,,.018066956\\r\\n586,PAK,Pakistan,1900,38.052326,608,,.015309449\\r\\n591,PAN,Panama,1900,63.449326,778,2.03,.00016193083\\r\\n591,PAN,Panama,1920,65.468948,1273.1563,2.55,.00025535625\\r\\n591,PAN,Panama,1910,63.374043,978,2.29,.00018424907\\r\\n591,PAN,Panama,1930,68.80426,1609.0938,2.8699999,.00024528359\\r\\n591,PAN,Panama,2010,78.675011,15516.087,9.5803003,.00053728564\\r\\n591,PAN,Panama,1890,63.468357,680.66669,1.78,.00015498041\\r\\n591,PAN,Panama,2000,74.420036,10577.141,8.7356005,.00050866074\\r\\n591,PAN,Panama,1950,65.349823,1916,3.9200001,.00036159466\\r\\n591,PAN,Panama,1940,66.725136,1945.0313,3.4100001,.00029999783\\r\\n591,PAN,Panama,1980,71.970253,5082,5.8839002,.00045787008\\r\\n591,PAN,Panama,1880,65.460068,583.33331,1.54,.00014702108\\r\\n591,PAN,Panama,1990,71.900932,7815.6792,7.6500001,.00048053134\\r\\n591,PAN,Panama,1970,70.240402,3814,5.1996999,.00042315107\\r\\n591,PAN,Panama,1960,67.87394,2391,4.5922999,.00038282012\\r\\n604,PER,Peru,1950,66.453972,2308,2.78,.0030922857\\r\\n604,PER,Peru,1920,62.684971,1226,1.67,.0024591803\\r\\n604,PER,Peru,1930,67.426491,1663,1.87,.002610008\\r\\n604,PER,Peru,1910,61.560486,981,1.4299999,.0023381547\\r\\n604,PER,Peru,1880,63.505951,670.84613,1.15,.0021343159\\r\\n604,PER,Peru,1970,67.331062,3854,4.5977998,.003715734\\r\\n604,PER,Peru,1940,64.482895,1911,2.21,.0027718595\\r\\n604,PER,Peru,1890,58.800797,599.69232,1.21,.0022160874\\r\\n604,PER,Peru,2000,70.804848,6563.269,8.3247995,.0043522492\\r\\n604,PER,Peru,1980,70.527946,4263,5.4886999,.004017144\\r\\n604,PER,Peru,1990,68.206429,5312.6846,7.2221999,.0042445771\\r\\n604,PER,Peru,2010,71.429535,9956.5576,9.0219002,.0043590697\\r\\n604,PER,Peru,1960,65.628914,2969,3.4874001,.0033998326\\r\\n604,PER,Peru,1900,58.67783,686,1.29,.0022460977\\r\\n608,PHL,Philippines,1940,60.861221,1507,2.02,.0071383994\\r\\n608,PHL,Philippines,1980,67.865219,2376,6.0448999,.010968325\\r\\n608,PHL,Philippines,1950,58.593208,1070,2.72,.0085612722\\r\\n608,PHL,Philippines,1990,66.068863,4010.2034,7.4657998,.012046749\\r\\n608,PHL,Philippines,1900,37.632751,669.9375,.23,.004509435\\r\\n608,PHL,Philippines,1970,65.986443,1764,5.4056001,.0099722771\\r\\n608,PHL,Philippines,2000,66.870972,4227.3286,8.2744999,.013088257\\r\\n608,PHL,Philippines,1910,40.468163,874,.28999999,.0050080707\\r\\n608,PHL,Philippines,2010,57.296577,5638.2075,8.9715004,.013807039\\r\\n608,PHL,Philippines,1930,61.00272,1382,1.36,.0062840232\\r\\n608,PHL,Philippines,1880,43.423317,639.3125,.17,.0041377475\\r\\n608,PHL,Philippines,1920,61.131523,1289,.85000002,.0056236056\\r\\n608,PHL,Philippines,1890,42.595551,654.625,.2,.0042891162\\r\\n608,PHL,Philippines,1960,63.358635,1476,4.223,.0088777728\\r\\n598,PNG,Papua New Guinea,1990,20.767748,1606.7197,,.00080857734\\r\\n598,PNG,Papua New Guinea,1960,31.190346,1632,,.00066464359\\r\\n598,PNG,Papua New Guinea,1910,28.014009,736.86047,,.00042983299\\r\\n598,PNG,Papua New Guinea,1920,28.885424,871.75677,,.0004600776\\r\\n598,PNG,Papua New Guinea,2010,6.4538951,2166.5334,,.0010161763\\r\\n598,PNG,Papua New Guinea,1970,33.48196,2082,,.00067812408\\r\\n598,PNG,Papua New Guinea,1980,35.242714,2522,,.00074410799\\r\\n598,PNG,Papua New Guinea,1930,29.05209,1042.8379,,.00049055764\\r\\n598,PNG,Papua New Guinea,1880,39.424263,585.46509,,.00037004476\\r\\n598,PNG,Papua New Guinea,1950,31.606888,1385,,.00057225663\\r\\n598,PNG,Papua New Guinea,1890,39.670101,635.93024,,.00038370764\\r\\n598,PNG,Papua New Guinea,1940,31.112858,1213.9189,,.00052433665\\r\\n598,PNG,Papua New Guinea,1900,29.290113,686.39532,,.00040929369\\r\\n598,PNG,Papua New Guinea,2000,7.1465058,1857.3308,,.00090253988\\r\\n616,POL,Poland,1930,75.58905,1994,,.013432968\\r\\n616,POL,Poland,1920,77.8638,1904.375,,.012567513\\r\\n616,POL,Poland,1950,74.451263,2447,,.010057374\\r\\n616,POL,Poland,1960,77.683823,3215,,.010014628\\r\\n616,POL,Poland,1970,78.423653,4428,,.0090976087\\r\\n616,POL,Poland,1940,76.433067,2226.1667,,.012921428\\r\\n616,POL,Poland,1900,77.850357,1536,,.015238738\\r\\n616,POL,Poland,1980,79.859619,5740,,.0082323588\\r\\n616,POL,Poland,1910,76.67305,1690,,.015058689\\r\\n616,POL,Poland,1990,78.082787,10276.569,,.0074113118\\r\\n616,POL,Poland,2000,81.271584,14732.476,,.006425309\\r\\n616,POL,Poland,1890,78.526596,1284,,.015136421\\r\\n616,POL,Poland,1880,79.048515,1115,,.014242758\\r\\n616,POL,Poland,2010,81.966171,21770.619,,.0056455773\\r\\n620,PRT,Portugal,1930,68.127808,1571,2.22,.0032310756\\r\\n620,PRT,Portugal,1980,74.710739,8044,4.6978998,.0022600619\\r\\n620,PRT,Portugal,1950,64.468925,2086,2.6600001,.0034205564\\r\\n620,PRT,Portugal,1890,67.206047,1128,1.3099999,.0033300922\\r\\n620,PRT,Portugal,2000,78.692711,25999.49,7.3435001,.0017281271\\r\\n620,PRT,Portugal,1910,64.613922,1228,1.88,.0033255264\\r\\n620,PRT,Portugal,1940,63.918301,1615,2.4000001,.0033034196\\r\\n620,PRT,Portugal,1920,64.720306,1229,2.0799999,.003161279\\r\\n620,PRT,Portugal,1990,76.849144,20166.928,6.7788,.0019414122\\r\\n620,PRT,Portugal,1960,64.685776,2956,3.1956999,.0029930621\\r\\n620,PRT,Portugal,2010,68.019989,27238.461,7.9928999,.0015690555\\r\\n620,PRT,Portugal,1900,70.484512,1302,1.67,.0033272784\\r\\n620,PRT,Portugal,1880,67.354889,947,1.01,.0033061816\\r\\n620,PRT,Portugal,1970,68.372307,5473,3.7681999,.0024176599\\r\\n600,PRY,Paraguay,1940,65.519325,1752,3.1500001,.00047818883\\r\\n600,PRY,Paraguay,1950,62.599354,1584,3.45,.00059786311\\r\\n600,PRY,Paraguay,2010,56.796692,7289.5137,8.5281,.00092155015\\r\\n600,PRY,Paraguay,1930,68.49028,1597.6923,2.5599999,.0004191254\\r\\n600,PRY,Paraguay,1970,62.79858,1872,4.1430998,.00068908295\\r\\n600,PRY,Paraguay,2000,53.944008,6084.7876,6.2480998,.00089055742\\r\\n600,PRY,Paraguay,1910,60.847668,978,1.37,.00031311039\\r\\n600,PRY,Paraguay,1890,61.090637,680.66669,.93000001,.00027905306\\r\\n600,PRY,Paraguay,1990,66.923637,6036.4756,6.1273999,.00081943581\\r\\n600,PRY,Paraguay,1900,61.193451,778,1.1,.00027091088\\r\\n600,PRY,Paraguay,1920,64.494408,1268.4615,1.8099999,.00036651752\\r\\n600,PRY,Paraguay,1960,61.569931,1555,3.4267001,.00064298866\\r\\n600,PRY,Paraguay,1880,60.024319,583.33331,.77999997,.00028878287\\r\\n600,PRY,Paraguay,1980,65.511581,3301,4.6838002,.00073604204\\r\\n634,QAT,Qatar,1980,83.057472,28771,,.000051770799\\r\\n634,QAT,Qatar,1950,67.058029,30387,,.0000101696\\r\\n634,QAT,Qatar,2010,73.092361,126144.72,,.00026200336\\r\\n634,QAT,Qatar,1910,60.57233,1021.0698,,8.9487867e-06\\r\\n634,QAT,Qatar,1890,63.451778,881.53491,,9.2928613e-06\\r\\n634,QAT,Qatar,1900,61.74218,951.30231,,9.1968468e-06\\r\\n634,QAT,Qatar,1920,79.386879,6593.7568,,9.2328510e-06\\r\\n634,QAT,Qatar,1940,67.085342,22455.918,,9.6869217e-06\\r\\n634,QAT,Qatar,2000,73.548271,108107.42,,.000099666904\\r\\n634,QAT,Qatar,1960,79.517311,32810,,.000015985925\\r\\n634,QAT,Qatar,1970,81.977577,32573,,.000030450139\\r\\n634,QAT,Qatar,1990,55.769592,7343,,.000092659524\\r\\n634,QAT,Qatar,1880,64.377052,811.76746,,9.4041934e-06\\r\\n634,QAT,Qatar,1930,78.252357,14524.838,,9.4893121e-06\\r\\n642,ROU,Romania,1930,65.569008,1219,,.006735059\\r\\n642,ROU,Romania,1950,64.181549,1182,,.0066083558\\r\\n642,ROU,Romania,1910,73.517532,1660,,.0067064404\\r\\n642,ROU,Romania,1960,70.153137,1844,,.0062197759\\r\\n642,ROU,Romania,1940,62.887482,1156.8,,.0068465793\\r\\n642,ROU,Romania,1880,76.763245,1088.5,,.0070111132\\r\\n642,ROU,Romania,2000,77.672943,10523.418,,.0037691637\\r\\n642,ROU,Romania,1990,80.802002,11479.688,,.004512005\\r\\n642,ROU,Romania,1920,72.318977,1480.9231,,.0064704237\\r\\n642,ROU,Romania,1970,73.292427,2853,,.0056401086\\r\\n642,ROU,Romania,2010,81.71167,17818.018,,.0030046501\\r\\n642,ROU,Romania,1890,76.213371,1246,,.0068701361\\r\\n642,ROU,Romania,1900,74.426277,1415,,.0067727724\\r\\n642,ROU,Romania,1980,77.416664,4135,,.0051472625\\r\\n643,RUS,Russia,1960,74.961693,3945,,.040513735\\r\\n643,RUS,Russia,1880,73.188614,1041,,.044315919\\r\\n643,RUS,Russia,1920,68.321388,1432.9333,,.043477386\\r\\n643,RUS,Russia,1990,85.957115,20639,,.028837986\\r\\n643,RUS,Russia,1950,73.013039,2841,,.041299414\\r\\n643,RUS,Russia,2010,86.174202,23107.785,,.02119896\\r\\n643,RUS,Russia,2000,85.590744,14050.852,,.024620021\\r\\n643,RUS,Russia,1910,69.163795,1430.0769,,.045862809\\r\\n643,RUS,Russia,1970,78.184807,5575,,.036319915\\r\\n643,RUS,Russia,1890,71.115875,1139,,.045085914\\r\\n643,RUS,Russia,1980,80.165802,7074.8823,,.032168869\\r\\n643,RUS,Russia,1930,67.883446,1448,,.045374651\\r\\n643,RUS,Russia,1900,69.576408,1237,,.0458722\\r\\n643,RUS,Russia,1940,71.058754,2144,,.044765308\\r\\n646,RWA,Rwanda,1940,27.82514,813,,.00095197937\\r\\n646,RWA,Rwanda,1980,14.062108,952,,.0011896502\\r\\n646,RWA,Rwanda,1930,29.769745,747.81482,,.00094027229\\r\\n646,RWA,Rwanda,1920,37.417538,682.62964,,.00090269989\\r\\n646,RWA,Rwanda,1890,28.87925,567.33331,,.00083950971\\r\\n646,RWA,Rwanda,1900,34.815395,601,,.00085179956\\r\\n646,RWA,Rwanda,1950,16.032234,547,,.00098833023\\r\\n646,RWA,Rwanda,1960,4.8514709,656,,.00099121721\\r\\n646,RWA,Rwanda,2000,3.5305314,799.55585,,.0013472262\\r\\n646,RWA,Rwanda,1970,4.3745661,717,,.0010457102\\r\\n646,RWA,Rwanda,1910,27.617571,628.69232,,.00084605097\\r\\n646,RWA,Rwanda,1990,3.0307648,850.36633,,.0014117841\\r\\n646,RWA,Rwanda,1880,29.259918,533.66669,,.00082335901\\r\\n646,RWA,Rwanda,2010,4.2342248,1328.5721,,.0015275878\\r\\n682,SAU,Saudi Arabia,1980,63.538692,13217,,.0022939884\\r\\n682,SAU,Saudi Arabia,2010,83.356682,44246.82,,.004168672\\r\\n682,SAU,Saudi Arabia,1990,81.618034,35342.617,,.0031817721\\r\\n682,SAU,Saudi Arabia,1930,64.254768,1588.2972,,.0015335744\\r\\n682,SAU,Saudi Arabia,1950,63.395023,2231,,.0015637875\\r\\n682,SAU,Saudi Arabia,1920,61.984882,1266.9459,,.0015205822\\r\\n682,SAU,Saudi Arabia,1940,50.42931,1909.6487,,.0015235994\\r\\n682,SAU,Saudi Arabia,1880,64.450661,811.76746,,.001733131\\r\\n682,SAU,Saudi Arabia,1900,62.181732,951.30231,,.0015847142\\r\\n682,SAU,Saudi Arabia,1890,63.678474,881.53491,,.0016526007\\r\\n682,SAU,Saudi Arabia,1970,59.733692,7624,,.0016255432\\r\\n682,SAU,Saudi Arabia,2000,70.19603,35342.168,,.0035927049\\r\\n682,SAU,Saudi Arabia,1960,66.418999,3719,,.0013808599\\r\\n682,SAU,Saudi Arabia,1910,60.776192,1021.0698,,.0014990972\\r\\n736,SDN,Sudan,1990,17.272491,1753.2607,2.1456001,.0038910636\\r\\n736,SDN,Sudan,1970,24.141474,888,.72750002,.0028500115\\r\\n736,SDN,Sudan,1890,23.420481,567.33331,.1,.0044473601\\r\\n736,SDN,Sudan,1940,24.397045,813,.2,.0033694652\\r\\n736,SDN,Sudan,1920,25.869692,682.62964,.16,.0038712632\\r\\n736,SDN,Sudan,1900,22.563816,601,.12,.0042715454\\r\\n736,SDN,Sudan,1960,27.919773,1024,.48199999,.0025435593\\r\\n736,SDN,Sudan,1910,14.082608,628.69232,.14,.0040468872\\r\\n736,SDN,Sudan,2000,6.8019791,2232.6384,2.8213,.0047158124\\r\\n736,SDN,Sudan,1950,28.339149,821,.49000001,.0032619012\\r\\n736,SDN,Sudan,1930,23.828253,747.81482,.18000001,.0036224546\\r\\n736,SDN,Sudan,2010,7.4338622,3240.8315,3.2780001,.0053594741\\r\\n736,SDN,Sudan,1980,5.2882304,931,.94550002,.0033365425\\r\\n736,SDN,Sudan,1880,11.459789,533.66669,.079999998,.0046560671\\r\\n686,SEN,Senegal,1880,15.140603,533.66669,.19,.00089565682\\r\\n686,SEN,Senegal,1960,45.378296,1445,1.857,.0010737118\\r\\n686,SEN,Senegal,1970,42.667175,1435,2.267,.0011747221\\r\\n686,SEN,Senegal,1980,40.65937,1268,2.5280001,.0012886642\\r\\n686,SEN,Senegal,1910,14.821933,628.69232,.25,.00092034094\\r\\n686,SEN,Senegal,1990,39.190258,1852.1453,3.4665,.0014612685\\r\\n686,SEN,Senegal,2010,18.333456,2173.7646,5.1985002,.0019227969\\r\\n686,SEN,Senegal,1890,27.94813,567.33331,.20999999,.00091322541\\r\\n686,SEN,Senegal,1920,24.548672,682.62964,.27000001,.00098196417\\r\\n686,SEN,Senegal,1930,26.25025,747.81482,.28999999,.0010228358\\r\\n686,SEN,Senegal,1940,24.471357,813,.31,.0010355709\\r\\n686,SEN,Senegal,1950,30.309334,1259,.33000001,.0010751135\\r\\n686,SEN,Senegal,1900,32.516846,601,.23,.00092659431\\r\\n686,SEN,Senegal,2000,19.442692,1912.0985,4.2165999,.0016560254\\r\\n702,SGP,Singapore,1900,62.258606,1098.5116,,.00013237691\\r\\n702,SGP,Singapore,1970,72.518654,4439,,.00057778647\\r\\n702,SGP,Singapore,1910,61.7808,1237.3489,,.00016846749\\r\\n702,SGP,Singapore,1930,66.416458,1710.8918,,.0002838622\\r\\n702,SGP,Singapore,1920,66.327576,1456.8379,,.0002050191\\r\\n702,SGP,Singapore,1890,60.900547,959.67444,,.00010398259\\r\\n702,SGP,Singapore,2000,87.357483,51636.219,,.00067645969\\r\\n702,SGP,Singapore,1960,63.627239,2310,,.00055632595\\r\\n702,SGP,Singapore,1880,61.572777,820.83722,,.000086419714\\r\\n702,SGP,Singapore,1950,66.170738,2219,,.00041410094\\r\\n702,SGP,Singapore,2010,89.22805,72017.906,,.0007533906\\r\\n702,SGP,Singapore,1980,76.225204,9058,,.00055862084\\r\\n702,SGP,Singapore,1940,64.527283,1964.9459,,.00032324015\\r\\n702,SGP,Singapore,1990,83.107567,34298.031,,.00059256837\\r\\n694,SLE,Sierra Leone,2010,4.2342248,1361.1169,3.7095001,.00085714791\\r\\n694,SLE,Sierra Leone,1940,24.390963,813,.31999999,.00081446447\\r\\n694,SLE,Sierra Leone,1970,26.491377,1129,.88,.00070023735\\r\\n694,SLE,Sierra Leone,1960,25.87978,856,.53930002,.0007372066\\r\\n694,SLE,Sierra Leone,1950,23.969788,656,.34,.00084556441\\r\\n694,SLE,Sierra Leone,1890,26.958395,567.33331,.30000001,.00071824109\\r\\n694,SLE,Sierra Leone,1990,5.1642618,1371.7889,2.2183001,.00076449249\\r\\n694,SLE,Sierra Leone,1980,25.611048,1116,1.1529,.00071423774\\r\\n694,SLE,Sierra Leone,1910,26.287458,628.69232,.33000001,.00072383747\\r\\n694,SLE,Sierra Leone,1880,17.171186,533.66669,.30000001,.00070442347\\r\\n694,SLE,Sierra Leone,1930,24.561583,747.81482,.31999999,.0008044485\\r\\n694,SLE,Sierra Leone,2000,3.6217406,1025.9362,2.9768,.0006819719\\r\\n694,SLE,Sierra Leone,1900,35.740032,601,.33000001,.00072875567\\r\\n694,SLE,Sierra Leone,1920,26.037119,682.62964,.31999999,.00077230344\\r\\n222,SLV,El Salvador,1970,46.305691,2187,2.7983999,.0010217704\\r\\n222,SLV,El Salvador,2000,55.574203,6424.8872,6.5655999,.00097606331\\r\\n222,SLV,El Salvador,1980,49.380596,2354,3.2286999,.0010593402\\r\\n222,SLV,El Salvador,1930,56.827343,1045,1.53,.00068584154\\r\\n222,SLV,El Salvador,1910,61.096493,978,1.4400001,.00053466141\\r\\n222,SLV,El Salvador,1940,55.728138,1111,1.51,.00070157315\\r\\n222,SLV,El Salvador,1900,61.733288,778,1.34,.00047163124\\r\\n222,SLV,El Salvador,1890,61.519138,680.66669,1.16,.00044683815\\r\\n222,SLV,El Salvador,2010,46.173714,7452.5615,7.9668999,.0008960889\\r\\n222,SLV,El Salvador,1880,60.223309,583.33331,.97000003,.00041835269\\r\\n222,SLV,El Salvador,1960,46.262714,1764,1.969,.00093359535\\r\\n222,SLV,El Salvador,1920,59.695171,932,1.4400001,.00061348424\\r\\n222,SLV,El Salvador,1990,50.924362,4532.2866,4.6759,.0010213597\\r\\n222,SLV,El Salvador,1950,46.456604,1489,1.6900001,.00078590447\\r\\n688,SRB,Serbia,1880,80.487228,1095.5,,.0029009478\\r\\n688,SRB,Serbia,1900,79.369652,1438,,.0029081786\\r\\n688,SRB,Serbia,1910,76.503494,1636,,.0028878767\\r\\n688,SRB,Serbia,1930,77.410988,1944.4546,,.0028051587\\r\\n688,SRB,Serbia,2010,74.43924,12688.078,,.0010820542\\r\\n688,SRB,Serbia,1940,72.667709,1969,,.0028239146\\r\\n688,SRB,Serbia,1960,70.579124,3070,,.0026804013\\r\\n688,SRB,Serbia,1890,79.950607,1254,,.0029018885\\r\\n688,SRB,Serbia,2000,72.966644,7984.8071,,.0012623256\\r\\n688,SRB,Serbia,1970,72.906609,4315,,.0024178736\\r\\n688,SRB,Serbia,1980,76.041718,5786,,.0022019048\\r\\n688,SRB,Serbia,1950,72.584442,2111,,.0028789144\\r\\n688,SRB,Serbia,1920,77.457993,1803.0625,,.0028146098\\r\\n688,SRB,Serbia,1990,70.178902,5011,,.001475231\\r\\n703,SVK,Slovakia,2000,85.628975,15605.196,,.00090500346\\r\\n703,SVK,Slovakia,1920,83.07856,2745.042,,.0014772047\\r\\n703,SVK,Slovakia,2010,86.117645,25159.078,,.00080009172\\r\\n703,SVK,Slovakia,1930,80.78743,2795.5381,,.0015416674\\r\\n703,SVK,Slovakia,1900,83.525742,2496.365,,.0015585721\\r\\n703,SVK,Slovakia,1950,81.119377,3018.3616,,.0014032053\\r\\n703,SVK,Slovakia,1880,84.780663,1939.3218,,.0015056951\\r\\n703,SVK,Slovakia,1910,82.69371,2902.1416,,.001558253\\r\\n703,SVK,Slovakia,1940,81.355431,2980.2649,,.0015209641\\r\\n703,SVK,Slovakia,1970,86.440704,6221.2666,,.0012639787\\r\\n703,SVK,Slovakia,1980,87.235619,7816.4419,,.0011523992\\r\\n703,SVK,Slovakia,1890,84.184021,2193.1736,,.0015318566\\r\\n703,SVK,Slovakia,1990,80.416817,7763.0591,,.0010305201\\r\\n703,SVK,Slovakia,1960,87.835548,4420.1499,,.0013746276\\r\\n705,SVN,Slovenia,1940,79.057587,2270.4009,,.00058329786\\r\\n705,SVN,Slovenia,1900,80.949318,1667.7644,,.00060070294\\r\\n705,SVN,Slovenia,1920,80.86705,1872.5027,,.00058137579\\r\\n705,SVN,Slovenia,1950,75.576897,2262.3066,,.00059465843\\r\\n705,SVN,Slovenia,1970,84.531601,6567.3008,,.0004804139\\r\\n705,SVN,Slovenia,2000,89.768906,22723.326,,.00033402813\\r\\n705,SVN,Slovenia,2010,88.576523,28678.373,,.00030401116\\r\\n705,SVN,Slovenia,1880,82.334976,1364.9938,,.00059920934\\r\\n705,SVN,Slovenia,1960,79.442619,3626.9761,,.000535484\\r\\n705,SVN,Slovenia,1890,81.879158,1490.6072,,.00059940357\\r\\n705,SVN,Slovenia,1980,85.845055,9160.1709,,.00043999104\\r\\n705,SVN,Slovenia,1910,80.284035,1848.3484,,.00059650949\\r\\n705,SVN,Slovenia,1930,79.743378,2298.4031,,.00057942374\\r\\n705,SVN,Slovenia,1990,84.969086,10859.729,,.00038857752\\r\\n752,SWE,Sweden,1960,90.452682,8792,7.2701998,.0025290989\\r\\n752,SWE,Sweden,1990,92.075768,30933.633,10.1979,.0016644159\\r\\n752,SWE,Sweden,1950,88.020256,6769,7.5300002,.0028417022\\r\\n752,SWE,Sweden,1880,86.697037,1520,5.0500002,.003278929\\r\\n752,SWE,Sweden,2010,91.959633,42942.563,11.5672,.0013917205\\r\\n752,SWE,Sweden,1900,86.163948,2209,5.9200001,.0031505704\\r\\n752,SWE,Sweden,1940,88.143578,5180,7.2800002,.0027357049\\r\\n752,SWE,Sweden,1910,85.481667,2776,6.3299999,.0031079315\\r\\n752,SWE,Sweden,2000,92.655121,36854.867,11.0671,.001490018\\r\\n752,SWE,Sweden,1930,87.799339,4306,6.98,.0029200655\\r\\n752,SWE,Sweden,1890,87.785248,1769,5.46,.0031658392\\r\\n752,SWE,Sweden,1970,91.256538,13011,8.0792999,.0022400683\\r\\n752,SWE,Sweden,1980,93.119057,15016,8.8273001,.0019231738\\r\\n752,SWE,Sweden,1920,87.662849,3111,6.6799998,.0030810542\\r\\n748,SWZ,Swaziland,1990,65.362663,5518.5972,,.00016777262\\r\\n748,SWZ,Swaziland,1960,40.375813,935,,.0001180074\\r\\n748,SWZ,Swaziland,1900,52.60059,601,,.000096856638\\r\\n748,SWZ,Swaziland,1910,42.049572,628.69232,,.000096202981\\r\\n748,SWZ,Swaziland,1940,40.387016,813,,.00010824794\\r\\n748,SWZ,Swaziland,1920,54.386593,682.62964,,.00010264444\\r\\n748,SWZ,Swaziland,2010,45.673538,7594.3135,,.00017706401\\r\\n748,SWZ,Swaziland,1880,33.432697,533.66669,,.000093622715\\r\\n748,SWZ,Swaziland,2000,55.925014,5988.4844,,.00017864461\\r\\n748,SWZ,Swaziland,1980,50.283592,2397,,.000139629\\r\\n748,SWZ,Swaziland,1930,53.043217,747.81482,,.00010691673\\r\\n748,SWZ,Swaziland,1950,39.414921,721,,.00011238134\\r\\n748,SWZ,Swaziland,1970,48.528633,2036,,.00012417577\\r\\n748,SWZ,Swaziland,1890,46.42276,567.33331,,.000095459181\\r\\n760,SYR,Syria,1940,62.716183,2122.7837,1.35,.0013296852\\r\\n760,SYR,Syria,1930,65.190086,1836.5676,1.27,.0012781651\\r\\n760,SYR,Syria,1990,51.643349,5701,4.6633,.0024214205\\r\\n760,SYR,Syria,2010,37.778469,9227.2402,5.2782001,.0030749519\\r\\n760,SYR,Syria,1950,52.534683,2409,1.55,.0014159894\\r\\n760,SYR,Syria,1970,48.522247,3540,2.2098999,.0017766138\\r\\n760,SYR,Syria,1900,64.662407,1197.0233,1.11,.0011510276\\r\\n760,SYR,Syria,1980,55.720093,6508,2.8155,.0020725804\\r\\n760,SYR,Syria,1880,67.354881,961.67444,1,.001203288\\r\\n760,SYR,Syria,1890,66.364594,1079.3489,1.05,.0011746906\\r\\n760,SYR,Syria,1910,63.842899,1314.6976,1.16,.0011107257\\r\\n760,SYR,Syria,2000,48.872055,7368,4.6349001,.0027465655\\r\\n760,SYR,Syria,1920,66.548042,1550.3513,1.22,.001194445\\r\\n760,SYR,Syria,1960,47.576614,3023,1.3748,.00155192\\r\\n768,TGO,Togo,2000,19.170643,1302.0422,,.00081868278\\r\\n768,TGO,Togo,1940,27.559254,813,,.00045732805\\r\\n768,TGO,Togo,1920,26.91186,682.62964,,.00043365435\\r\\n768,TGO,Togo,1900,35.61293,601,,.00040920201\\r\\n768,TGO,Togo,1980,29.17091,1097,,.00062964018\\r\\n768,TGO,Togo,1930,24.759129,747.81482,,.00045170399\\r\\n768,TGO,Togo,1890,28.287954,567.33331,,.00040329801\\r\\n768,TGO,Togo,1950,15.504704,574,,.00047479075\\r\\n768,TGO,Togo,1910,14.88827,628.69232,,.00040644035\\r\\n768,TGO,Togo,1880,14.358927,533.66669,,.00039553927\\r\\n768,TGO,Togo,2010,19.853193,1229.4755,,.00094840681\\r\\n768,TGO,Togo,1990,18.666359,1350.1326,,.00073643745\\r\\n768,TGO,Togo,1970,25.645218,1075,,.00058921153\\r\\n768,TGO,Togo,1960,15.904281,698,,.00053406245\\r\\n764,THA,Thailand,2000,55.596031,9228.21,6.1125002,.010528971\\r\\n764,THA,Thailand,2010,59.099377,13584.209,7.4956999,.0098971436\\r\\n764,THA,Thailand,1970,60.001114,1694,3.6252,.010273127\\r\\n764,THA,Thailand,1940,40.521542,824.5,.87,.0066769966\\r\\n764,THA,Thailand,1930,27.938816,796.66669,.36000001,.0059020473\\r\\n764,THA,Thailand,1880,41.66217,696,.1,.0044626282\\r\\n764,THA,Thailand,1890,41.580479,784,.14,.0044176043\\r\\n764,THA,Thailand,1900,41.119064,808.78259,.19,.0045069722\\r\\n764,THA,Thailand,1960,59.991581,1078,4.1904998,.0092576295\\r\\n764,THA,Thailand,1920,28.525955,820,.28,.0051396345\\r\\n764,THA,Thailand,1910,31.112865,833.56525,.23,.0046938299\\r\\n764,THA,Thailand,1980,51.021225,2554,3.9267001,.01096563\\r\\n764,THA,Thailand,1990,54.843346,6650.6929,5.4123001,.011003525\\r\\n764,THA,Thailand,1950,42.599644,817,1.6900001,.0081198094\\r\\n762,TJK,Tajikistan,2010,42.957558,2122.9895,,.0011251291\\r\\n762,TJK,Tajikistan,1920,65.445793,1432.9333,,.00056279433\\r\\n762,TJK,Tajikistan,1900,69.601067,1237,,.00056059979\\r\\n762,TJK,Tajikistan,1990,70.313812,3635.3386,,.0010301503\\r\\n762,TJK,Tajikistan,1940,65.389671,2144,,.00059047237\\r\\n762,TJK,Tajikistan,1950,69.855171,2841,,.00061989424\\r\\n762,TJK,Tajikistan,2000,43.449223,1185.6007,,.0010389275\\r\\n762,TJK,Tajikistan,1960,77.116142,3945,,.0006974467\\r\\n762,TJK,Tajikistan,1970,80.711823,5575,,.00081315846\\r\\n762,TJK,Tajikistan,1890,71.326813,1139,,.00056645233\\r\\n762,TJK,Tajikistan,1880,73.554642,1041,,.00057323865\\r\\n762,TJK,Tajikistan,1910,68.548393,1430.0769,,.00054547907\\r\\n762,TJK,Tajikistan,1980,74.091553,3649.4707,,.00090659747\\r\\n762,TJK,Tajikistan,1930,66.579384,1448,,.00057842705\\r\\n776,TON,Tonga,1990,69.475471,3574.2332,,.000018503979\\r\\n776,TON,Tonga,1920,60.372192,871.75677,,.000014900036\\r\\n776,TON,Tonga,1910,58.237049,736.86047,,.000013920537\\r\\n776,TON,Tonga,1970,72.450127,2082,,.000023498598\\r\\n776,TON,Tonga,1950,67.10685,1385,,.000018533052\\r\\n776,TON,Tonga,2010,57.704826,4993,,.000015425809\\r\\n776,TON,Tonga,1960,72.002197,1632,,.000020814918\\r\\n776,TON,Tonga,2000,70.179092,4610.3877,,.000016441387\\r\\n776,TON,Tonga,1880,60.528053,585.46509,,.000011984243\\r\\n776,TON,Tonga,1980,73.129333,2522,,.000021523128\\r\\n776,TON,Tonga,1930,59.701328,1042.8379,,.000015887161\\r\\n776,TON,Tonga,1890,61.029194,635.93024,,.000012426728\\r\\n776,TON,Tonga,1940,64.618019,1213.9189,,.000016981125\\r\\n776,TON,Tonga,1900,59.177177,686.39532,,.000013255352\\r\\n780,TTO,Trinidad & Tobago,1960,84.476707,6251,,.00028670556\\r\\n780,TTO,Trinidad & Tobago,1950,80.941536,3674,,.00025605303\\r\\n780,TTO,Trinidad & Tobago,1970,82.197762,8244,,.0002634773\\r\\n780,TTO,Trinidad & Tobago,1980,82.041069,12380,,.00025115555\\r\\n780,TTO,Trinidad & Tobago,1920,75.210899,1536.7028,,.0002039704\\r\\n780,TTO,Trinidad & Tobago,1940,79.845963,2961.5676,,.00020487657\\r\\n780,TTO,Trinidad & Tobago,1900,69.26825,778,,.00016500936\\r\\n780,TTO,Trinidad & Tobago,1890,70.666901,680.66669,,.00014570808\\r\\n780,TTO,Trinidad & Tobago,1910,69.066727,978,,.00018707498\\r\\n780,TTO,Trinidad & Tobago,1880,69.040588,583.33331,,.00012335429\\r\\n780,TTO,Trinidad & Tobago,1930,78.036842,2249.1353,,.00019289293\\r\\n780,TTO,Trinidad & Tobago,2000,82.028069,18324.016,,.0002129497\\r\\n780,TTO,Trinidad & Tobago,2010,83.329819,31261.025,,.00019709024\\r\\n780,TTO,Trinidad & Tobago,1990,79.324966,12255.374,,.00023762071\\r\\n788,TUN,Tunisia,1940,31.087755,1052.2972,.58999997,.0013222364\\r\\n788,TUN,Tunisia,1880,43.108311,691.13953,.13,.00095914793\\r\\n788,TUN,Tunisia,1920,31.009487,926.89191,.28,.0011439301\\r\\n788,TUN,Tunisia,1970,43.619061,1827,1.761,.001427964\\r\\n788,TUN,Tunisia,2000,53.031937,7573.9331,5.8228998,.0016042856\\r\\n788,TUN,Tunisia,1990,49.430176,5614.9385,4.3758998,.0015857664\\r\\n788,TUN,Tunisia,2010,56.942608,10437.089,7.3225999,.0015651971\\r\\n788,TUN,Tunisia,1910,31.107346,865.55817,.2,.0010295236\\r\\n788,TUN,Tunisia,1890,40.866203,749.27905,.13,.0009926632\\r\\n788,TUN,Tunisia,1960,31.400784,1343,.90829998,.0014261939\\r\\n788,TUN,Tunisia,1980,46.06028,2944,2.451,.0014773475\\r\\n788,TUN,Tunisia,1950,32.613724,1115,.75999999,.0014249877\\r\\n788,TUN,Tunisia,1900,31.708073,807.41858,.16,.0010221874\\r\\n788,TUN,Tunisia,1930,29.323481,989.5946,.41,.0012511017\\r\\n792,TUR,Turkey,1930,43.246616,1249,.62,.0071098907\\r\\n792,TUR,Turkey,1890,60.002327,1005.4651,.44,.008798535\\r\\n792,TUR,Turkey,2010,60.248875,17076.605,7.0156999,.010730917\\r\\n792,TUR,Turkey,1910,45.341885,1185.9302,.54000002,.0083512627\\r\\n792,TUR,Turkey,1990,59.279999,10953.985,5.0046,.0105002\\r\\n792,TUR,Turkey,1900,46.471115,1095.6976,.49000001,.0086386343\\r\\n792,TUR,Turkey,1980,50.21204,4022,2.9249001,.010160418\\r\\n792,TUR,Turkey,1920,40.332447,862.29999,.57999998,.0074529946\\r\\n792,TUR,Turkey,1950,43.37072,1623,1.09,.0085573718\\r\\n792,TUR,Turkey,1940,45.102272,1675,.70999998,.0076703895\\r\\n792,TUR,Turkey,1880,62.703617,915.23254,.38999999,.0089925369\\r\\n792,TUR,Turkey,1960,47.288876,2247,1.7682,.0093103768\\r\\n792,TUR,Turkey,2000,59.021282,13357.624,6.0802002,.010620808\\r\\n792,TUR,Turkey,1970,48.351723,3078,2.4324999,.0096846512\\r\\n834,TZA,Tanzania,2000,19.498047,1489.6544,,.0057086856\\r\\n834,TZA,Tanzania,1910,43.465477,628.69232,,.0027520095\\r\\n834,TZA,Tanzania,1950,17.246298,424,,.0032148121\\r\\n834,TZA,Tanzania,2010,18.655478,2111.1951,,.0067742732\\r\\n834,TZA,Tanzania,1980,18.287727,601,,.0043239468\\r\\n834,TZA,Tanzania,1970,15.382998,568,,.0037893835\\r\\n834,TZA,Tanzania,1930,52.245773,747.81482,,.0030584899\\r\\n834,TZA,Tanzania,1920,53.129742,682.62964,,.0029362757\\r\\n834,TZA,Tanzania,1990,19.053106,1472.6644,,.0049507963\\r\\n834,TZA,Tanzania,1890,46.200844,567.33331,,.0027307328\\r\\n834,TZA,Tanzania,1960,16.763865,459,,.0034042154\\r\\n834,TZA,Tanzania,1940,41.678272,813,,.003096571\\r\\n834,TZA,Tanzania,1900,54.311001,601,,.0027707089\\r\\n834,TZA,Tanzania,1880,33.612457,533.66669,,.0026781985\\r\\n800,UGA,Uganda,1920,53.676987,682.62964,.81999999,.0020432968\\r\\n800,UGA,Uganda,1930,39.095867,747.81482,.82999998,.0021283436\\r\\n800,UGA,Uganda,1950,36.177971,687,.91000003,.0022371246\\r\\n800,UGA,Uganda,1980,7.3964944,572,1.9627,.0029037269\\r\\n800,UGA,Uganda,1940,38.004986,813,.83999997,.0021548427\\r\\n800,UGA,Uganda,1880,34.726719,533.66669,.75999999,.0018637066\\r\\n800,UGA,Uganda,2000,16.881027,1077.6956,4.3231001,.0039899535\\r\\n800,UGA,Uganda,1910,43.271271,628.69232,.80000001,.0019150698\\r\\n800,UGA,Uganda,2010,17.438858,1573.4714,5.3695002,.0049193967\\r\\n800,UGA,Uganda,1970,20.163912,867,1.5005,.0026308915\\r\\n800,UGA,Uganda,1960,28.60997,713,1.161,.0022937669\\r\\n800,UGA,Uganda,1890,44.565464,567.33331,.77999997,.0019002639\\r\\n800,UGA,Uganda,1990,16.132523,783.10931,3.4976001,.0033806958\\r\\n800,UGA,Uganda,1900,52.693138,601,.79000002,.0019280821\\r\\n804,UKR,Ukraine,1910,72.850609,1430.0769,,.016545527\\r\\n804,UKR,Ukraine,1950,76.434639,2841,,.014899229\\r\\n804,UKR,Ukraine,1980,78.039742,5378.1763,,.011563486\\r\\n804,UKR,Ukraine,2000,73.399857,4797.3804,,.0082587907\\r\\n804,UKR,Ukraine,1890,75.862602,1139,,.016265254\\r\\n804,UKR,Ukraine,2010,64.423592,7824.4985,,.0068072444\\r\\n804,UKR,Ukraine,1960,79.89669,3945,,.014415734\\r\\n804,UKR,Ukraine,1990,80.600754,10463.96,,.010091311\\r\\n804,UKR,Ukraine,1880,76.664879,1041,,.015987473\\r\\n804,UKR,Ukraine,1970,78.626289,5575,,.01311453\\r\\n804,UKR,Ukraine,1900,74.551659,1237,,.016548915\\r\\n804,UKR,Ukraine,1930,68.286606,1448,,.016369419\\r\\n804,UKR,Ukraine,1940,71.070374,2144,,.016149592\\r\\n804,UKR,Ukraine,1920,72.234833,1432.9333,,.01568496\\r\\n858,URY,Uruguay,1980,77.384293,6555,6.1592999,.00067475135\\r\\n858,URY,Uruguay,1960,76.960426,4960,4.8399,.00085782161\\r\\n858,URY,Uruguay,1930,79.606186,4301,3.27,.00081586564\\r\\n858,URY,Uruguay,2010,75.532364,17082.41,8.5529003,.0005007654\\r\\n858,URY,Uruguay,2000,75.428337,12874.776,8.0916996,.00055778283\\r\\n858,URY,Uruguay,1910,78.526253,3136,2.5899999,.00061096088\\r\\n858,URY,Uruguay,1990,71.591408,9840.7266,7.4745002,.00060479162\\r\\n858,URY,Uruguay,1970,74.391846,5184,5.6789999,.00078258076\\r\\n858,URY,Uruguay,1940,78.112961,3661,3.8299999,.0008457615\\r\\n858,URY,Uruguay,1880,86.436966,2082,2.1400001,.00033276968\\r\\n858,URY,Uruguay,1920,75.197861,2674,2.8199999,.00071887771\\r\\n858,URY,Uruguay,1900,79.425461,2219,2.4400001,.00056337152\\r\\n858,URY,Uruguay,1950,79.286964,4659,4.4200001,.00088900432\\r\\n858,URY,Uruguay,1890,81.920486,2147,2.29,.00045434429\\r\\n840,USA,United States,1970,97.003998,15030,10.7894,.057110757\\r\\n840,USA,United States,2010,97.464378,49372.832,13.0971,.045907293\\r\\n840,USA,United States,1890,96.07502,3392,6.5100002,.041925516\\r\\n840,USA,United States,1940,97.140915,7010,8.6899996,.057088688\\r\\n840,USA,United States,1910,96.916656,4964,7.3200002,.052430168\\r\\n840,USA,United States,1960,96.637016,11328,9.1787996,.061049547\\r\\n840,USA,United States,1930,96.799896,6213,8.3100004,.058900453\\r\\n840,USA,United States,1880,96.592659,3184,5.9200001,.036187269\\r\\n840,USA,United States,1950,96.9105,9561,9.3500004,.061692171\\r\\n840,USA,United States,1920,96.656906,5552,7.6900001,.056042571\\r\\n840,USA,United States,1990,97.442451,37062.129,12.2308,.04854358\\r\\n840,USA,United States,2000,97.445534,45986.051,12.7056,.047387496\\r\\n840,USA,United States,1980,97.247353,18577,11.4767,.052583061\\r\\n840,USA,United States,1900,96.086876,4091,7,.047034442\\r\\n862,VEN,Venezuela,1910,60.956131,886,1.51,.0015853334\\r\\n862,VEN,Venezuela,1940,73.040573,4045,1.8200001,.0016286827\\r\\n862,VEN,Venezuela,1970,75.894341,10672,3.9526,.0032274041\\r\\n862,VEN,Venezuela,1960,78.246284,9646,3.1210999,.0027528557\\r\\n862,VEN,Venezuela,2000,59.662266,14417.104,5.8927999,.0041115182\\r\\n862,VEN,Venezuela,1880,63.307262,653,1.25,.0013999277\\r\\n862,VEN,Venezuela,1950,75.322289,7462,2.24,.0020293847\\r\\n862,VEN,Venezuela,1930,71.774643,3444,1.6799999,.0015717202\\r\\n862,VEN,Venezuela,1920,62.188042,1173,1.59,.0015688417\\r\\n862,VEN,Venezuela,2010,60.248875,16563.396,7.02,.0043029888\\r\\n862,VEN,Venezuela,1890,62.909058,737,1.33,.0014729763\\r\\n862,VEN,Venezuela,1980,76.126053,10139,4.7326002,.0035507982\\r\\n862,VEN,Venezuela,1990,62.00964,14450.682,5.1062002,.0038625072\\r\\n862,VEN,Venezuela,1900,62.267067,821,1.42,.0015651261\\r\\n704,VNM,Vietnam,1920,55.224224,713.94592,,.010736428\\r\\n704,VNM,Vietnam,1940,43.115906,676.64862,,.010211139\\r\\n704,VNM,Vietnam,1950,51.587772,658,,.010269729\\r\\n704,VNM,Vietnam,1910,54.951263,711.51166,,.010582611\\r\\n704,VNM,Vietnam,1900,53.606903,659.88373,,.010267036\\r\\n704,VNM,Vietnam,1970,35.704052,735,,.011900813\\r\\n704,VNM,Vietnam,2000,32.007206,2649.7195,,.013037647\\r\\n704,VNM,Vietnam,1960,53.82872,799,,.011739816\\r\\n704,VNM,Vietnam,1880,54.290897,556.62793,,.0090199728\\r\\n704,VNM,Vietnam,1980,36.920864,757,,.012426935\\r\\n704,VNM,Vietnam,1990,19.942553,1501.1389,,.012838108\\r\\n704,VNM,Vietnam,2010,38.222027,4486.2612,,.012900844\\r\\n704,VNM,Vietnam,1930,43.050301,695.2973,,.010525743\\r\\n704,VNM,Vietnam,1890,55.032078,608.2558,,.0096870316\\r\\n887,YEM,Yemen,1970,26.908934,1230,,.0017146246\\r\\n887,YEM,Yemen,2010,19.492294,4481.5547,,.0035010653\\r\\n887,YEM,Yemen,1910,31.001638,1021.0698,,.0018385476\\r\\n887,YEM,Yemen,2000,29.746004,3911.2197,,.0029886013\\r\\n887,YEM,Yemen,1940,26.419325,946.4054,,.0018824333\\r\\n887,YEM,Yemen,1960,24.495979,964,,.0017457197\\r\\n887,YEM,Yemen,1900,31.342093,951.30231,,.0019393323\\r\\n887,YEM,Yemen,1950,27.146933,911,,.0019354242\\r\\n887,YEM,Yemen,1890,31.880222,881.53491,,.0020177336\\r\\n887,YEM,Yemen,1920,30.021635,1017.2162,,.0018700658\\r\\n887,YEM,Yemen,1990,27.928385,3353.7893,,.0023260459\\r\\n887,YEM,Yemen,1930,26.656506,981.81079,,.0018908337\\r\\n887,YEM,Yemen,1980,29.372036,2290,,.0018650541\\r\\n887,YEM,Yemen,1880,32.210625,811.76746,,.0021108326\\r\\n710,ZAF,South Africa,1970,67.824432,4045,4.6445999,.0061516361\\r\\n710,ZAF,South Africa,2010,71.227959,12028.934,8.5578003,.0075345747\\r\\n710,ZAF,South Africa,1920,71.420845,1778.5135,2.25,.0039646314\\r\\n710,ZAF,South Africa,1910,70.204155,1550.093,1.92,.0033353709\\r\\n710,ZAF,South Africa,1880,68.69281,1031.0233,1.3099999,.0024280746\\r\\n710,ZAF,South Africa,1980,68.942764,4390,4.8799,.0063814744\\r\\n710,ZAF,South Africa,1930,72.052711,2030.6757,2.73,.0045592668\\r\\n710,ZAF,South Africa,1990,70.359993,9903.8574,6.7964001,.0068452586\\r\\n710,ZAF,South Africa,1900,71.387535,1377.0698,1.6900001,.0031172079\\r\\n710,ZAF,South Africa,1950,70.062691,2535,3.71,.0055083162\\r\\n710,ZAF,South Africa,1890,72.312614,1204.0465,1.48,.002797734\\r\\n710,ZAF,South Africa,1940,71.861687,2282.8379,3.22,.0049860165\\r\\n710,ZAF,South Africa,1960,68.836472,3041,4.3899999,.0058781868\\r\\n710,ZAF,South Africa,2000,71.87336,9717.6484,7.6806002,.0073895385\\r\\n894,ZMB,Zambia,1880,31.151592,533.66669,.62,.00086168962\\r\\n894,ZMB,Zambia,2010,27.12714,3263.3948,6.9531999,.0020653578\\r\\n894,ZMB,Zambia,1970,43.075134,1073,2.9747,.0011657048\\r\\n894,ZMB,Zambia,1990,45.697155,2308.6038,4.8924999,.0015835771\\r\\n894,ZMB,Zambia,1890,41.415115,567.33331,.62,.00087859202\\r\\n894,ZMB,Zambia,1980,24.035835,911,3.6115999,.001372169\\r\\n894,ZMB,Zambia,1910,39.168552,628.69232,.62,.00088543765\\r\\n894,ZMB,Zambia,1950,52.154583,661,2.3599999,.0010343407\\r\\n894,ZMB,Zambia,2000,26.488094,2092.2551,6.2041001,.0017777247\\r\\n894,ZMB,Zambia,1940,52.42276,813,1.66,.00099629757\\r\\n894,ZMB,Zambia,1930,36.726391,747.81482,.67000002,.00098404544\\r\\n894,ZMB,Zambia,1920,38.329681,682.62964,.63,.0009447239\\r\\n894,ZMB,Zambia,1900,51.368465,601,.62,.00089145399\\r\\n894,ZMB,Zambia,1960,42.521339,960,2.2564001,.0010304688\\r\\n716,ZWE,Zimbabwe,1890,44.882828,567.33331,,.00098188641\\r\\n716,ZWE,Zimbabwe,1880,35.731262,533.66669,,.00096299686\\r\\n716,ZWE,Zimbabwe,1970,46.349682,1282,,.0014500535\\r\\n716,ZWE,Zimbabwe,1950,51.732208,701,,.0011559461\\r\\n716,ZWE,Zimbabwe,1930,54.047283,747.81482,,.0010997378\\r\\n716,ZWE,Zimbabwe,1910,45.28347,628.69232,,.00098953675\\r\\n716,ZWE,Zimbabwe,1980,45.643185,1295,,.0016867963\\r\\n716,ZWE,Zimbabwe,2000,38.874393,2521.3474,,.0020992975\\r\\n716,ZWE,Zimbabwe,1920,53.963631,682.62964,,.0010557933\\r\\n716,ZWE,Zimbabwe,1940,52.746567,813,,.0011134304\\r\\n716,ZWE,Zimbabwe,2010,27.091389,1388.973,,.0020737362\\r\\n716,ZWE,Zimbabwe,1990,59.11097,2526.0723,,.002038948\\r\\n716,ZWE,Zimbabwe,1900,54.722645,601,,.00099626044\\r\\n716,ZWE,Zimbabwe,1960,53.811077,938,,.0012679495\\r\\n'}"
            ]
          },
          "metadata": {},
          "execution_count": 8
        }
      ]
    },
    {
      "cell_type": "code",
      "source": [
        "df = pd.read_csv('gdp.csv', sep='|', encoding='latin-1')\n",
        "df.head()"
      ],
      "metadata": {
        "colab": {
          "base_uri": "https://localhost:8080/",
          "height": 206
        },
        "id": "XqA6Qi-Mz8_B",
        "outputId": "d0639f13-29d7-4f22-973c-34fdf93d0a4f"
      },
      "execution_count": null,
      "outputs": [
        {
          "output_type": "execute_result",
          "data": {
            "text/html": [
              "\n",
              "  <div id=\"df-e7df17d6-af48-47cd-81a1-3bd4b22da0a0\">\n",
              "    <div class=\"colab-df-container\">\n",
              "      <div>\n",
              "<style scoped>\n",
              "    .dataframe tbody tr th:only-of-type {\n",
              "        vertical-align: middle;\n",
              "    }\n",
              "\n",
              "    .dataframe tbody tr th {\n",
              "        vertical-align: top;\n",
              "    }\n",
              "\n",
              "    .dataframe thead th {\n",
              "        text-align: right;\n",
              "    }\n",
              "</style>\n",
              "<table border=\"1\" class=\"dataframe\">\n",
              "  <thead>\n",
              "    <tr style=\"text-align: right;\">\n",
              "      <th></th>\n",
              "      <th>unid,wbid,country,year,SES,gdppc,yrseduc,popshare</th>\n",
              "    </tr>\n",
              "  </thead>\n",
              "  <tbody>\n",
              "    <tr>\n",
              "      <th>0</th>\n",
              "      <td>4,AFG,Afghanistan,1970,3.4742124,709,,.0030974303</td>\n",
              "    </tr>\n",
              "    <tr>\n",
              "      <th>1</th>\n",
              "      <td>4,AFG,Afghanistan,1920,26.968016,731.75677,,.0...</td>\n",
              "    </tr>\n",
              "    <tr>\n",
              "      <th>2</th>\n",
              "      <td>4,AFG,Afghanistan,1990,1.2695296,604,,.002346751</td>\n",
              "    </tr>\n",
              "    <tr>\n",
              "      <th>3</th>\n",
              "      <td>4,AFG,Afghanistan,1960,15.763076,739,,.003039381</td>\n",
              "    </tr>\n",
              "    <tr>\n",
              "      <th>4</th>\n",
              "      <td>4,AFG,Afghanistan,2000,2.0611143,565,,.0033088236</td>\n",
              "    </tr>\n",
              "  </tbody>\n",
              "</table>\n",
              "</div>\n",
              "      <button class=\"colab-df-convert\" onclick=\"convertToInteractive('df-e7df17d6-af48-47cd-81a1-3bd4b22da0a0')\"\n",
              "              title=\"Convert this dataframe to an interactive table.\"\n",
              "              style=\"display:none;\">\n",
              "        \n",
              "  <svg xmlns=\"http://www.w3.org/2000/svg\" height=\"24px\"viewBox=\"0 0 24 24\"\n",
              "       width=\"24px\">\n",
              "    <path d=\"M0 0h24v24H0V0z\" fill=\"none\"/>\n",
              "    <path d=\"M18.56 5.44l.94 2.06.94-2.06 2.06-.94-2.06-.94-.94-2.06-.94 2.06-2.06.94zm-11 1L8.5 8.5l.94-2.06 2.06-.94-2.06-.94L8.5 2.5l-.94 2.06-2.06.94zm10 10l.94 2.06.94-2.06 2.06-.94-2.06-.94-.94-2.06-.94 2.06-2.06.94z\"/><path d=\"M17.41 7.96l-1.37-1.37c-.4-.4-.92-.59-1.43-.59-.52 0-1.04.2-1.43.59L10.3 9.45l-7.72 7.72c-.78.78-.78 2.05 0 2.83L4 21.41c.39.39.9.59 1.41.59.51 0 1.02-.2 1.41-.59l7.78-7.78 2.81-2.81c.8-.78.8-2.07 0-2.86zM5.41 20L4 18.59l7.72-7.72 1.47 1.35L5.41 20z\"/>\n",
              "  </svg>\n",
              "      </button>\n",
              "      \n",
              "  <style>\n",
              "    .colab-df-container {\n",
              "      display:flex;\n",
              "      flex-wrap:wrap;\n",
              "      gap: 12px;\n",
              "    }\n",
              "\n",
              "    .colab-df-convert {\n",
              "      background-color: #E8F0FE;\n",
              "      border: none;\n",
              "      border-radius: 50%;\n",
              "      cursor: pointer;\n",
              "      display: none;\n",
              "      fill: #1967D2;\n",
              "      height: 32px;\n",
              "      padding: 0 0 0 0;\n",
              "      width: 32px;\n",
              "    }\n",
              "\n",
              "    .colab-df-convert:hover {\n",
              "      background-color: #E2EBFA;\n",
              "      box-shadow: 0px 1px 2px rgba(60, 64, 67, 0.3), 0px 1px 3px 1px rgba(60, 64, 67, 0.15);\n",
              "      fill: #174EA6;\n",
              "    }\n",
              "\n",
              "    [theme=dark] .colab-df-convert {\n",
              "      background-color: #3B4455;\n",
              "      fill: #D2E3FC;\n",
              "    }\n",
              "\n",
              "    [theme=dark] .colab-df-convert:hover {\n",
              "      background-color: #434B5C;\n",
              "      box-shadow: 0px 1px 3px 1px rgba(0, 0, 0, 0.15);\n",
              "      filter: drop-shadow(0px 1px 2px rgba(0, 0, 0, 0.3));\n",
              "      fill: #FFFFFF;\n",
              "    }\n",
              "  </style>\n",
              "\n",
              "      <script>\n",
              "        const buttonEl =\n",
              "          document.querySelector('#df-e7df17d6-af48-47cd-81a1-3bd4b22da0a0 button.colab-df-convert');\n",
              "        buttonEl.style.display =\n",
              "          google.colab.kernel.accessAllowed ? 'block' : 'none';\n",
              "\n",
              "        async function convertToInteractive(key) {\n",
              "          const element = document.querySelector('#df-e7df17d6-af48-47cd-81a1-3bd4b22da0a0');\n",
              "          const dataTable =\n",
              "            await google.colab.kernel.invokeFunction('convertToInteractive',\n",
              "                                                     [key], {});\n",
              "          if (!dataTable) return;\n",
              "\n",
              "          const docLinkHtml = 'Like what you see? Visit the ' +\n",
              "            '<a target=\"_blank\" href=https://colab.research.google.com/notebooks/data_table.ipynb>data table notebook</a>'\n",
              "            + ' to learn more about interactive tables.';\n",
              "          element.innerHTML = '';\n",
              "          dataTable['output_type'] = 'display_data';\n",
              "          await google.colab.output.renderOutput(dataTable, element);\n",
              "          const docLink = document.createElement('div');\n",
              "          docLink.innerHTML = docLinkHtml;\n",
              "          element.appendChild(docLink);\n",
              "        }\n",
              "      </script>\n",
              "    </div>\n",
              "  </div>\n",
              "  "
            ],
            "text/plain": [
              "   unid,wbid,country,year,SES,gdppc,yrseduc,popshare\n",
              "0  4,AFG,Afghanistan,1970,3.4742124,709,,.0030974303\n",
              "1  4,AFG,Afghanistan,1920,26.968016,731.75677,,.0...\n",
              "2   4,AFG,Afghanistan,1990,1.2695296,604,,.002346751\n",
              "3   4,AFG,Afghanistan,1960,15.763076,739,,.003039381\n",
              "4  4,AFG,Afghanistan,2000,2.0611143,565,,.0033088236"
            ]
          },
          "metadata": {},
          "execution_count": 15
        }
      ]
    },
    {
      "cell_type": "markdown",
      "source": [
        "## Data Visualization"
      ],
      "metadata": {
        "id": "ErmoZPEG2MbC"
      }
    },
    {
      "cell_type": "code",
      "source": [
        "import pandas as pd\n",
        "import matplotlib.pyplot as plt\n",
        "from google.colab import files"
      ],
      "metadata": {
        "id": "YAejxKMC2Jjp"
      },
      "execution_count": 49,
      "outputs": []
    },
    {
      "cell_type": "code",
      "source": [
        "files.upload()"
      ],
      "metadata": {
        "colab": {
          "resources": {
            "http://localhost:8080/nbextensions/google.colab/files.js": {
              "data": "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",
              "ok": true,
              "headers": [
                [
                  "content-type",
                  "application/javascript"
                ]
              ],
              "status": 200,
              "status_text": ""
            }
          },
          "base_uri": "https://localhost:8080/",
          "height": 113
        },
        "id": "fZ3Hy4Qt2aoj",
        "outputId": "6ada8e4b-617f-41cb-c9ac-d96680cb9db2"
      },
      "execution_count": 2,
      "outputs": [
        {
          "output_type": "display_data",
          "data": {
            "text/html": [
              "\n",
              "     <input type=\"file\" id=\"files-0ec5815c-bda5-4e7e-8c53-be5f7b0459ee\" name=\"files[]\" multiple disabled\n",
              "        style=\"border:none\" />\n",
              "     <output id=\"result-0ec5815c-bda5-4e7e-8c53-be5f7b0459ee\">\n",
              "      Upload widget is only available when the cell has been executed in the\n",
              "      current browser session. Please rerun this cell to enable.\n",
              "      </output>\n",
              "      <script src=\"/nbextensions/google.colab/files.js\"></script> "
            ],
            "text/plain": [
              "<IPython.core.display.HTML object>"
            ]
          },
          "metadata": {}
        },
        {
          "output_type": "stream",
          "name": "stdout",
          "text": [
            "Saving population_total.csv to population_total.csv\n"
          ]
        },
        {
          "output_type": "execute_result",
          "data": {
            "text/plain": [
              "{'population_total.csv': b\"country,year,population\\r\\nChina,2020,1439323776\\r\\nChina,2019,1433783686\\r\\nChina,2018,1427647786\\r\\nChina,2017,1421021791\\r\\nChina,2016,1414049351\\r\\nChina,2015,1406847870\\r\\nChina,2010,1368810615\\r\\nChina,2005,1330776380\\r\\nChina,2000,1290550765\\r\\nChina,1995,1240920535\\r\\nChina,1990,1176883674\\r\\nChina,1985,1075589361\\r\\nChina,1980,1000089235\\r\\nChina,1975,926240885\\r\\nChina,1970,827601394\\r\\nChina,1965,724218968\\r\\nChina,1960,660408056\\r\\nChina,1955,612241554\\r\\nFrance,2020,65273511\\r\\nFrance,2019,65129728\\r\\nFrance,2018,64990511\\r\\nMyanmar,2020,54409800\\r\\nMyanmar,2019,54045420\\r\\nSouth Africa,2020,59308690\\r\\nTanzania,2020,59734218\\r\\nItaly,2020,60461826\\r\\nFrance,2017,64842509\\r\\nFrance,2016,64667596\\r\\nFrance,2015,64453200\\r\\nMyanmar,2018,53708320\\r\\nMyanmar,2017,53382523\\r\\nMyanmar,2016,53045201\\r\\nSouth Korea,2020,51269185\\r\\nSouth Africa,2019,58558270\\r\\nSouth Africa,2018,57792518\\r\\nSouth Africa,2017,57009756\\r\\nTanzania,2019,58005463\\r\\nTanzania,2018,56313438\\r\\nTanzania,2017,54660339\\r\\nItaly,2019,60550075\\r\\nItaly,2018,60627291\\r\\nItaly,2017,60673701\\r\\nFrance,2010,62879530\\r\\nFrance,2005,61120127\\r\\nFrance,2000,59015096\\r\\nFrance,1995,57801892\\r\\nKenya,2020,53771296\\r\\nKenya,2019,52573973\\r\\nMyanmar,2015,52680726\\r\\nMyanmar,2010,50600818\\r\\nMyanmar,2005,48949924\\r\\nSouth Korea,2019,51225308\\r\\nSouth Africa,2016,56207646\\r\\nSouth Africa,2015,55386367\\r\\nTanzania,2016,53049230\\r\\nTanzania,2015,51482633\\r\\nItaly,2016,60663060\\r\\nItaly,2015,60578494\\r\\nItaly,2010,59325229\\r\\nFrance,1990,56666849\\r\\nFrance,1985,55254848\\r\\nKenya,2018,51392565\\r\\nKenya,2017,50221142\\r\\nKenya,2016,49051534\\r\\nUnited Kingdom,2020,67886011\\r\\nMyanmar,2000,46719701\\r\\nMyanmar,1995,43901598\\r\\nMyanmar,1990,41335199\\r\\nSouth Korea,2018,51171706\\r\\nSouth Korea,2017,51096415\\r\\nSouth Africa,2010,51216964\\r\\nSouth Africa,2005,47880601\\r\\nSouth Africa,2000,44967708\\r\\nTanzania,2010,44346525\\r\\nTanzania,2005,38450320\\r\\nItaly,2005,58281212\\r\\nItaly,2000,56692178\\r\\nItaly,1995,57174408\\r\\nFrance,1980,53868009\\r\\nFrance,1975,52688576\\r\\nEgypt,2020,102334404\\r\\nGermany,2020,83783942\\r\\nKenya,2015,47878336\\r\\nKenya,2010,42030676\\r\\nVietnam,2020,97338579\\r\\nUnited Kingdom,2019,67530172\\r\\nUnited Kingdom,2018,67141684\\r\\nUnited Kingdom,2017,66727461\\r\\nMyanmar,1985,37977086\\r\\nMyanmar,1980,34224313\\r\\nSouth Korea,2016,50983457\\r\\nSouth Korea,2015,50823093\\r\\nSouth Korea,2010,49545636\\r\\nSouth Africa,1995,41435758\\r\\nSouth Africa,1990,36800509\\r\\nSouth Africa,1985,32678874\\r\\nTanzania,2000,33499180\\r\\nTanzania,1995,29649135\\r\\nTanzania,1990,25203845\\r\\nItaly,1990,57048236\\r\\nItaly,1985,56936774\\r\\nItaly,1980,56349349\\r\\nFrance,1970,50763920\\r\\nFrance,1965,48746652\\r\\nFrance,1960,45673146\\r\\nEgypt,2019,100388073\\r\\nEgypt,2018,98423598\\r\\nEgypt,2017,96442591\\r\\nGermany,2019,83517045\\r\\nGermany,2018,83124418\\r\\nGermany,2017,82658409\\r\\nGermany,2016,82193768\\r\\nDR Congo,2020,89561403\\r\\nDR Congo,2019,86790567\\r\\nKenya,2005,36624895\\r\\nKenya,2000,31964557\\r\\nKenya,1995,27768296\\r\\nThailand,2020,69799978\\r\\nVietnam,2019,96462106\\r\\nVietnam,2018,95545962\\r\\nUnited Kingdom,2016,66297944\\r\\nUnited Kingdom,2015,65860146\\r\\nUnited Kingdom,2010,63459808\\r\\nMyanmar,1975,30611095\\r\\nMyanmar,1970,27269069\\r\\nSouth Korea,2005,48701073\\r\\nSouth Korea,2000,47379241\\r\\nSouth Korea,1995,45292522\\r\\nSouth Africa,1980,28556769\\r\\nSouth Africa,1975,25195187\\r\\nTanzania,1985,21633796\\r\\nTanzania,1980,18538259\\r\\nItaly,1975,55265284\\r\\nItaly,1970,53518969\\r\\nFrance,1955,43411367\\r\\nHoly See,2019,799\\r\\nHoly See,2018,801\\r\\nEgypt,2016,94447073\\r\\nEgypt,2015,92442547\\r\\nIran,2020,83992949\\r\\nTurkey,2020,84339067\\r\\nGermany,2015,81787411\\r\\nGermany,2010,80827002\\r\\nGermany,2005,81602741\\r\\nDR Congo,2018,84068091\\r\\nDR Congo,2017,81398764\\r\\nDR Congo,2016,78789127\\r\\nKenya,1990,23724579\\r\\nKenya,1985,19877083\\r\\nKenya,1980,16417197\\r\\nThailand,2019,69625582\\r\\nThailand,2018,69428453\\r\\nVietnam,2017,94600648\\r\\nVietnam,2016,93640422\\r\\nUnited Kingdom,2005,60287954\\r\\nUnited Kingdom,2000,58923309\\r\\nUnited Kingdom,1995,57932453\\r\\nUnited Kingdom,1990,57134391\\r\\nMyanmar,1965,24259359\\r\\nSouth Korea,1990,42918419\\r\\nSouth Korea,1985,40804402\\r\\nSouth Korea,1980,38045607\\r\\nSouth Africa,1970,22069776\\r\\nSouth Africa,1965,19384841\\r\\nSouth Africa,1960,17099840\\r\\nTanzania,1975,15885229\\r\\nTanzania,1970,13535481\\r\\nTanzania,1965,11634832\\r\\nItaly,1965,51677257\\r\\nItaly,1960,49699951\\r\\nHoly See,2017,793\\r\\nHoly See,2016,801\\r\\nHoly See,2015,803\\r\\nEgypt,2010,82761235\\r\\nEgypt,2005,75523569\\r\\nEgypt,2000,68831561\\r\\nIran,2019,82913906\\r\\nTokelau,2019,1340\\r\\nNiue,2019,1615\\r\\nNiue,2018,1620\\r\\nSaint Pierre & Miquelon,2019,5822\\r\\nSaint Pierre & Miquelon,2018,5849\\r\\nTurkey,2019,83429615\\r\\nTurkey,2018,82340088\\r\\nTurkey,2017,81116450\\r\\nGermany,2000,81400882\\r\\nGermany,1995,81138659\\r\\nGermany,1990,79053984\\r\\nDR Congo,2015,76244544\\r\\nDR Congo,2010,64563854\\r\\nDR Congo,2005,54785903\\r\\nKenya,1975,13575907\\r\\nKenya,1970,11301394\\r\\nKenya,1965,9530173\\r\\nThailand,2017,69209810\\r\\nThailand,2016,68971308\\r\\nThailand,2015,68714511\\r\\nVietnam,2015,92677076\\r\\nUnited Kingdom,1985,56413553\\r\\nUnited Kingdom,1980,56209171\\r\\nUnited Kingdom,1975,56152333\\r\\nUnited Kingdom,1970,55573453\\r\\nMyanmar,1960,21736942\\r\\nMyanmar,1955,19550071\\r\\nSouth Korea,1975,35378661\\r\\nSouth Korea,1970,32195681\\r\\nSouth Africa,1955,15206502\\r\\nTanzania,1960,10052152\\r\\nTanzania,1955,8729662\\r\\nItaly,1955,48335578\\r\\nHoly See,2010,794\\r\\nHoly See,2005,798\\r\\nHoly See,2000,785\\r\\nSaint Helena,2019,6059\\r\\nSaint Helena,2018,6035\\r\\nEgypt,1995,62334034\\r\\nEgypt,1990,56134475\\r\\nEgypt,1985,49258732\\r\\nEgypt,1980,43309063\\r\\nMontserrat,2019,4989\\r\\nMontserrat,2018,4993\\r\\nMontserrat,2017,4984\\r\\nFalkland Islands,2019,3377\\r\\nFalkland Islands,2018,3234\\r\\nIran,2018,81800188\\r\\nIran,2017,80673883\\r\\nIran,2016,79563989\\r\\nTokelau,2018,1319\\r\\nTokelau,2017,1300\\r\\nNiue,2017,1609\\r\\nNiue,2016,1614\\r\\nNiue,2015,1619\\r\\nSaint Pierre & Miquelon,2017,5887\\r\\nSaint Pierre & Miquelon,2016,5934\\r\\nTurkey,2016,79827871\\r\\nTurkey,2015,78529409\\r\\nTurkey,2010,72326988\\r\\nGermany,1985,77691595\\r\\nGermany,1980,78283100\\r\\nDR Congo,2000,47105826\\r\\nDR Congo,1995,41576234\\r\\nDR Congo,1990,34612023\\r\\nKenya,1960,8120080\\r\\nKenya,1955,6987658\\r\\nThailand,2010,67195028\\r\\nThailand,2005,65416189\\r\\nThailand,2000,62952642\\r\\nVietnam,2010,87967651\\r\\nVietnam,2005,83832661\\r\\nVietnam,2000,79910412\\r\\nVietnam,1995,74910461\\r\\nUnited Kingdom,1965,54240850\\r\\nUnited Kingdom,1960,52370602\\r\\nUnited Kingdom,1955,51063902\\r\\nSouth Korea,1965,28895558\\r\\nHoly See,1995,780\\r\\nWallis & Futuna,2019,11432\\r\\nWallis & Futuna,2018,11661\\r\\nWallis & Futuna,2017,11900\\r\\nSaint Helena,2017,6008\\r\\nSaint Helena,2016,5956\\r\\nSaint Helena,2015,5865\\r\\nSaint Barthelemy,2019,9847\\r\\nSaint Barthelemy,2018,9816\\r\\nEgypt,1975,38549142\\r\\nEgypt,1970,34513850\\r\\nNauru,2019,10756\\r\\nMontserrat,2016,4981\\r\\nMontserrat,2015,4967\\r\\nMontserrat,2010,4899\\r\\nFalkland Islands,2017,3068\\r\\nFalkland Islands,2016,2928\\r\\nFalkland Islands,2015,2834\\r\\nFalkland Islands,2010,2901\\r\\nIran,2015,78492215\\r\\nIran,2010,73762519\\r\\nIran,2005,69762347\\r\\nIran,2000,65623405\\r\\nTokelau,2016,1282\\r\\nTokelau,2015,1252\\r\\nTokelau,2010,1140\\r\\nNiue,2010,1618\\r\\nNiue,2005,1683\\r\\nNiue,2000,1899\\r\\nSaint Pierre & Miquelon,2015,5993\\r\\nSaint Pierre & Miquelon,2010,6353\\r\\nSaint Pierre & Miquelon,2005,6123\\r\\nTurkey,2005,67903469\\r\\nTurkey,2000,63240194\\r\\nTurkey,1995,58486456\\r\\nGermany,1975,78856039\\r\\nGermany,1970,78578385\\r\\nGermany,1965,76258032\\r\\nDR Congo,1985,29881229\\r\\nDR Congo,1980,26358908\\r\\nDR Congo,1975,22903581\\r\\nThailand,1995,59467274\\r\\nThailand,1990,56558186\\r\\nVietnam,1990,67988862\\r\\nVietnam,1985,60896721\\r\\nVietnam,1980,54281846\\r\\nSouth Korea,1960,25329515\\r\\nHoly See,1990,768\\r\\nHoly See,1985,746\\r\\nHoly See,1980,724\\r\\nWallis & Futuna,2016,12107\\r\\nWallis & Futuna,2015,12266\\r\\nWallis & Futuna,2010,12689\\r\\nSaint Helena,2010,5183\\r\\nSaint Helena,2005,5364\\r\\nSaint Helena,2000,6049\\r\\nCook Islands,2019,17548\\r\\nCook Islands,2018,17518\\r\\nSaint Barthelemy,2017,9784\\r\\nSaint Barthelemy,2016,9748\\r\\nSaint Barthelemy,2015,9693\\r\\nTuvalu,2019,11646\\r\\nTuvalu,2018,11508\\r\\nEgypt,1965,30433022\\r\\nEgypt,1960,26632894\\r\\nAnguilla,2019,14869\\r\\nNauru,2018,10670\\r\\nNauru,2017,10573\\r\\nNauru,2016,10475\\r\\nCaribbean Netherlands,2019,25979\\r\\nCaribbean Netherlands,2018,25711\\r\\nMontserrat,2005,4835\\r\\nMontserrat,2000,4929\\r\\nFalkland Islands,2005,2935\\r\\nFalkland Islands,2000,2892\\r\\nFalkland Islands,1995,2490\\r\\nIran,1995,61442664\\r\\nIran,1990,56366217\\r\\nIran,1985,47347186\\r\\nTokelau,2005,1208\\r\\nTokelau,2000,1554\\r\\nNiue,1995,2165\\r\\nNiue,1990,2329\\r\\nNiue,1985,2719\\r\\nNiue,1980,3404\\r\\nSaint Pierre & Miquelon,2000,6294\\r\\nSaint Pierre & Miquelon,1995,6392\\r\\nSaint Pierre & Miquelon,1990,6393\\r\\nTurkey,1990,53921760\\r\\nTurkey,1985,49133937\\r\\nTurkey,1980,43975971\\r\\nTurkey,1975,39277258\\r\\nGermany,1960,73414239\\r\\nGermany,1955,71537459\\r\\nDR Congo,1970,20011036\\r\\nDR Congo,1965,17369883\\r\\nDR Congo,1960,15248251\\r\\nDR Congo,1955,13517513\\r\\nThailand,1985,52026901\\r\\nThailand,1980,47374472\\r\\nVietnam,1975,48718189\\r\\nVietnam,1970,43404793\\r\\nVietnam,1965,37858951\\r\\nSouth Korea,1955,21514570\\r\\nHoly See,1975,728\\r\\nHoly See,1970,644\\r\\nWallis & Futuna,2005,14939\\r\\nWallis & Futuna,2000,14694\\r\\nWallis & Futuna,1995,14149\\r\\nSaint Helena,1995,6247\\r\\nSaint Helena,1990,6647\\r\\nSaint Helena,1985,6817\\r\\nBritish Virgin Islands,2019,30030\\r\\nBritish Virgin Islands,2018,29802\\r\\nCook Islands,2017,17507\\r\\nCook Islands,2016,17524\\r\\nCook Islands,2015,17586\\r\\nGibraltar,2019,33701\\r\\nSaint Barthelemy,2010,9234\\r\\nSaint Barthelemy,2005,8553\\r\\nSaint Barthelemy,2000,7427\\r\\nSan Marino,2019,33860\\r\\nTuvalu,2017,11370\\r\\nTuvalu,2016,11225\\r\\nTuvalu,2015,11099\\r\\nPalau,2019,18008\\r\\nEgypt,1955,23223124\\r\\nAnguilla,2018,14731\\r\\nAnguilla,2017,14584\\r\\nNauru,2015,10383\\r\\nNauru,2010,10005\\r\\nNauru,2005,9849\\r\\nCaribbean Netherlands,2017,25401\\r\\nCaribbean Netherlands,2016,25020\\r\\nCaribbean Netherlands,2015,24570\\r\\nMontserrat,1995,9848\\r\\nMontserrat,1990,10615\\r\\nMontserrat,1985,10792\\r\\nFalkland Islands,1990,1982\\r\\nFalkland Islands,1985,1850\\r\\nFalkland Islands,1980,1854\\r\\nIran,1980,38650246\\r\\nIran,1975,32729772\\r\\nTokelau,1995,1517\\r\\nTokelau,1990,1608\\r\\nTokelau,1985,1709\\r\\nNiue,1975,3976\\r\\nNiue,1970,5135\\r\\nNiue,1965,5098\\r\\nSaint Pierre & Miquelon,1985,6024\\r\\nSaint Pierre & Miquelon,1980,6131\\r\\nTurkey,1970,34876303\\r\\nTurkey,1965,30972994\\r\\nTurkey,1960,27472345\\r\\nThailand,1975,42326312\\r\\nThailand,1970,36884536\\r\\nThailand,1965,31822660\\r\\nVietnam,1960,32670039\\r\\nVietnam,1955,28147443\\r\\nHoly See,1965,854\\r\\nHoly See,1960,906\\r\\nHoly See,1955,908\\r\\nWallis & Futuna,1990,13800\\r\\nWallis & Futuna,1985,13622\\r\\nWallis & Futuna,1980,11231\\r\\nWallis & Futuna,1975,9320\\r\\nLiechtenstein,2019,38019\\r\\nLiechtenstein,2018,37910\\r\\nLiechtenstein,2017,37800\\r\\nSaint Martin,2019,38002\\r\\nSaint Martin,2018,37264\\r\\nTurks and Caicos,2019,38191\\r\\nTurks and Caicos,2018,37665\\r\\nTurks and Caicos,2017,37115\\r\\nSaint Helena,1980,6582\\r\\nSaint Helena,1975,6235\\r\\nSaint Helena,1970,5692\\r\\nMonaco,2019,38964\\r\\nMonaco,2018,38682\\r\\nBritish Virgin Islands,2017,29577\\r\\nBritish Virgin Islands,2016,29355\\r\\nBritish Virgin Islands,2015,29152\\r\\nCook Islands,2010,18391\\r\\nCook Islands,2005,19074\\r\\nCook Islands,2000,17930\\r\\nCook Islands,1995,19097\\r\\nGibraltar,2018,33718\\r\\nGibraltar,2017,33728\\r\\nGibraltar,2016,33737\\r\\nSaint Barthelemy,1995,6367\\r\\nSaint Barthelemy,1990,5339\\r\\nSaint Barthelemy,1985,3368\\r\\nSaint Barthelemy,1980,3082\\r\\nSan Marino,2018,33785\\r\\nSan Marino,2017,33671\\r\\nSan Marino,2016,33504\\r\\nSan Marino,2015,33272\\r\\nTuvalu,2010,10530\\r\\nTuvalu,2005,10000\\r\\nTuvalu,2000,9394\\r\\nTuvalu,1995,9298\\r\\nPalau,2018,17907\\r\\nPalau,2017,17808\\r\\nPalau,2016,17725\\r\\nAnguilla,2016,14429\\r\\nAnguilla,2015,14279\\r\\nAnguilla,2010,13438\\r\\nNauru,2000,10337\\r\\nNauru,1995,10628\\r\\nNauru,1990,9505\\r\\nNauru,1985,8501\\r\\nCaribbean Netherlands,2010,20940\\r\\nCaribbean Netherlands,2005,14403\\r\\nCaribbean Netherlands,2000,14393\\r\\nMontserrat,1980,11607\\r\\nMontserrat,1975,11580\\r\\nMontserrat,1970,11534\\r\\nMontserrat,1965,11726\\r\\nFalkland Islands,1975,1903\\r\\nFalkland Islands,1970,1992\\r\\nFalkland Islands,1965,2078\\r\\nFalkland Islands,1960,2150\\r\\nIran,1970,28513866\\r\\nIran,1965,24954873\\r\\nIran,1960,21906914\\r\\nIran,1955,19294127\\r\\nTokelau,1980,1553\\r\\nTokelau,1975,1572\\r\\nTokelau,1970,1621\\r\\nTokelau,1965,1922\\r\\nNiue,1960,4826\\r\\nNiue,1955,4694\\r\\nSaint Pierre & Miquelon,1975,6006\\r\\nSaint Pierre & Miquelon,1970,5552\\r\\nSaint Pierre & Miquelon,1965,5173\\r\\nSaint Pierre & Miquelon,1960,4971\\r\\nTurkey,1955,24270600\\r\\nThailand,1960,27397207\\r\\nThailand,1955,23711132\\r\\nWallis & Futuna,1970,8853\\r\\nWallis & Futuna,1965,8724\\r\\nWallis & Futuna,1960,8157\\r\\nLiechtenstein,2016,37658\\r\\nLiechtenstein,2015,37470\\r\\nLiechtenstein,2010,35994\\r\\nSaint Martin,2017,36560\\r\\nSaint Martin,2016,36065\\r\\nSaint Martin,2015,35858\\r\\nTurks and Caicos,2016,36559\\r\\nTurks and Caicos,2015,35981\\r\\nTurks and Caicos,2010,32660\\r\\nTurks and Caicos,2005,28180\\r\\nSaint Helena,1965,5328\\r\\nSaint Helena,1960,5364\\r\\nSaint Helena,1955,5345\\r\\nMonaco,2017,38392\\r\\nMonaco,2016,38070\\r\\nMonaco,2015,37718\\r\\nMonaco,2010,35612\\r\\nBritish Virgin Islands,2010,27794\\r\\nBritish Virgin Islands,2005,23107\\r\\nBritish Virgin Islands,2000,20311\\r\\nCook Islands,1990,18191\\r\\nCook Islands,1985,17603\\r\\nCook Islands,1980,17512\\r\\nCook Islands,1975,20234\\r\\nSint Maarten,2019,42388\\r\\nSint Maarten,2018,41940\\r\\nSint Maarten,2017,41444\\r\\nFaeroe Islands,2019,48678\\r\\nFaeroe Islands,2018,48497\\r\\nSaint Kitts & Nevis,2019,52823\\r\\nSaint Kitts & Nevis,2018,52441\\r\\nGibraltar,2015,33736\\r\\nGibraltar,2010,33585\\r\\nGibraltar,2005,33219\\r\\nGibraltar,2000,31077\\r\\nAmerican Samoa,2019,55312\\r\\nAmerican Samoa,2018,55465\\r\\nAmerican Samoa,2017,55620\\r\\nSaint Barthelemy,1975,2610\\r\\nSaint Barthelemy,1970,2343\\r\\nSaint Barthelemy,1965,2382\\r\\nSan Marino,2010,31229\\r\\nSan Marino,2005,29324\\r\\nSan Marino,2000,27462\\r\\nTuvalu,1990,8913\\r\\nTuvalu,1985,8219\\r\\nTuvalu,1980,7637\\r\\nTuvalu,1975,6060\\r\\nPalau,2015,17665\\r\\nPalau,2010,17955\\r\\nPalau,2005,19781\\r\\nPalau,2000,19105\\r\\nAnguilla,2005,12453\\r\\nAnguilla,2000,11252\\r\\nAnguilla,1995,9866\\r\\nNauru,1980,7741\\r\\nNauru,1975,7175\\r\\nNauru,1970,6552\\r\\nCaribbean Netherlands,1995,15107\\r\\nCaribbean Netherlands,1990,13019\\r\\nCaribbean Netherlands,1985,12025\\r\\nMontserrat,1960,11957\\r\\nMontserrat,1955,14233\\r\\nFalkland Islands,1955,2204\\r\\nTokelau,1960,1873\\r\\nTokelau,1955,1607\\r\\nSaint Pierre & Miquelon,1955,4755\\r\\nWallis & Futuna,1955,7669\\r\\nLiechtenstein,2005,34713\\r\\nLiechtenstein,2000,33184\\r\\nLiechtenstein,1995,30880\\r\\nSaint Martin,2010,37582\\r\\nSaint Martin,2005,34248\\r\\nSaint Martin,2000,28935\\r\\nSaint Martin,1995,27321\\r\\nTurks and Caicos,2000,20164\\r\\nTurks and Caicos,1995,16216\\r\\nTurks and Caicos,1990,12111\\r\\nTurks and Caicos,1985,9970\\r\\nMonaco,2005,33843\\r\\nMonaco,2000,32147\\r\\nMonaco,1995,30716\\r\\nMonaco,1990,29438\\r\\nBritish Virgin Islands,1995,19313\\r\\nBritish Virgin Islands,1990,17489\\r\\nBritish Virgin Islands,1985,13956\\r\\nGreenland,2019,56672\\r\\nGreenland,2018,56564\\r\\nNorthern Mariana Islands,2019,57216\\r\\nNorthern Mariana Islands,2018,56882\\r\\nNorthern Mariana Islands,2017,56562\\r\\nCook Islands,1970,21302\\r\\nCook Islands,1965,18894\\r\\nCook Islands,1960,18212\\r\\nMarshall Islands,2019,58791\\r\\nMarshall Islands,2018,58413\\r\\nMarshall Islands,2017,58058\\r\\nBermuda,2019,62506\\r\\nBermuda,2018,62756\\r\\nSint Maarten,2016,40808\\r\\nSint Maarten,2015,39968\\r\\nSint Maarten,2010,34168\\r\\nSint Maarten,2005,33434\\r\\nFaeroe Islands,2017,48331\\r\\nFaeroe Islands,2016,48173\\r\\nFaeroe Islands,2015,48051\\r\\nSaint Kitts & Nevis,2017,52045\\r\\nSaint Kitts & Nevis,2016,51625\\r\\nSaint Kitts & Nevis,2015,51203\\r\\nGibraltar,1995,28692\\r\\nGibraltar,1990,29147\\r\\nGibraltar,1985,29154\\r\\nAmerican Samoa,2016,55741\\r\\nAmerican Samoa,2015,55812\\r\\nAmerican Samoa,2010,56079\\r\\nSaint Barthelemy,1960,2304\\r\\nSaint Barthelemy,1955,2245\\r\\nSan Marino,1995,25928\\r\\nSan Marino,1990,24125\\r\\nSan Marino,1985,22798\\r\\nTuvalu,1970,5735\\r\\nTuvalu,1965,5386\\r\\nTuvalu,1960,5323\\r\\nPalau,1995,17164\\r\\nPalau,1990,15058\\r\\nPalau,1985,13528\\r\\nAnguilla,1990,8899\\r\\nAnguilla,1985,7293\\r\\nAnguilla,1980,7285\\r\\nNauru,1965,5856\\r\\nNauru,1960,4375\\r\\nNauru,1955,3819\\r\\nCaribbean Netherlands,1980,11210\\r\\nCaribbean Netherlands,1975,11027\\r\\nCaribbean Netherlands,1970,10359\\r\\nLiechtenstein,1990,28789\\r\\nLiechtenstein,1985,27288\\r\\nLiechtenstein,1980,25879\\r\\nLiechtenstein,1975,23438\\r\\nSaint Martin,1990,31520\\r\\nSaint Martin,1985,11061\\r\\nSaint Martin,1980,8771\\r\\nTurks and Caicos,1980,7888\\r\\nTurks and Caicos,1975,6827\\r\\nTurks and Caicos,1970,5841\\r\\nTurks and Caicos,1965,5823\\r\\nMonaco,1985,28832\\r\\nMonaco,1980,26745\\r\\nMonaco,1975,25198\\r\\nMonaco,1970,23484\\r\\nBritish Virgin Islands,1980,11478\\r\\nBritish Virgin Islands,1975,10699\\r\\nBritish Virgin Islands,1970,9827\\r\\nBritish Virgin Islands,1965,8830\\r\\nGreenland,2017,56481\\r\\nGreenland,2016,56412\\r\\nGreenland,2015,56377\\r\\nGreenland,2010,56638\\r\\nCayman Islands,2019,64948\\r\\nCayman Islands,2018,64174\\r\\nNorthern Mariana Islands,2016,56188\\r\\nNorthern Mariana Islands,2015,55780\\r\\nNorthern Mariana Islands,2010,53971\\r\\nCook Islands,1955,16347\\r\\nDominica,2019,71808\\r\\nDominica,2018,71625\\r\\nAndorra,2019,77142\\r\\nAndorra,2018,77006\\r\\nMarshall Islands,2016,57735\\r\\nMarshall Islands,2015,57439\\r\\nMarshall Islands,2010,56366\\r\\nBermuda,2017,63049\\r\\nBermuda,2016,63362\\r\\nBermuda,2015,63692\\r\\nIsle of Man,2019,84584\\r\\nIsle of Man,2018,84077\\r\\nIsle of Man,2017,83598\\r\\nSint Maarten,2000,32564\\r\\nSint Maarten,1995,31160\\r\\nSint Maarten,1990,28812\\r\\nFaeroe Islands,2010,47814\\r\\nFaeroe Islands,2005,47722\\r\\nFaeroe Islands,2000,46735\\r\\nSaint Kitts & Nevis,2010,49016\\r\\nSaint Kitts & Nevis,2005,46857\\r\\nSaint Kitts & Nevis,2000,44074\\r\\nGibraltar,1980,30065\\r\\nGibraltar,1975,30067\\r\\nGibraltar,1970,28606\\r\\nGibraltar,1965,26073\\r\\nAmerican Samoa,2005,59562\\r\\nAmerican Samoa,2000,57821\\r\\nAmerican Samoa,1995,53161\\r\\nAmerican Samoa,1990,47347\\r\\nSan Marino,1980,21459\\r\\nSan Marino,1975,19831\\r\\nSan Marino,1970,19221\\r\\nTuvalu,1955,5069\\r\\nPalau,1980,12179\\r\\nPalau,1975,12904\\r\\nPalau,1970,11811\\r\\nAnguilla,1975,7159\\r\\nAnguilla,1970,6771\\r\\nAnguilla,1965,6361\\r\\nCaribbean Netherlands,1965,9134\\r\\nCaribbean Netherlands,1960,8074\\r\\nCaribbean Netherlands,1955,7670\\r\\nLiechtenstein,1970,21266\\r\\nLiechtenstein,1965,18649\\r\\nLiechtenstein,1960,16493\\r\\nSaint Martin,1975,6881\\r\\nSaint Martin,1970,5712\\r\\nSaint Martin,1965,4468\\r\\nTurks and Caicos,1960,5824\\r\\nTurks and Caicos,1955,5238\\r\\nMonaco,1965,23282\\r\\nMonaco,1960,22452\\r\\nMonaco,1955,19655\\r\\nBritish Virgin Islands,1960,8048\\r\\nBritish Virgin Islands,1955,7679\\r\\nGreenland,2005,56951\\r\\nGreenland,2000,56175\\r\\nGreenland,1995,55811\\r\\nCayman Islands,2017,63382\\r\\nCayman Islands,2016,62569\\r\\nCayman Islands,2015,61724\\r\\nAntigua and Barbuda,2020,97929\\r\\nAntigua and Barbuda,2019,97118\\r\\nAntigua and Barbuda,2018,96286\\r\\nNorthern Mariana Islands,2005,56542\\r\\nNorthern Mariana Islands,2000,57453\\r\\nNorthern Mariana Islands,1995,45870\\r\\nSeychelles,2020,98347\\r\\nSeychelles,2019,97739\\r\\nSeychelles,2018,97096\\r\\nU.S. Virgin Islands,2020,104425\\r\\nU.S. Virgin Islands,2019,104578\\r\\nU.S. Virgin Islands,2018,104680\\r\\nTonga,2020,105695\\r\\nTonga,2019,104494\\r\\nDominica,2017,71458\\r\\nDominica,2016,71307\\r\\nDominica,2015,71183\\r\\nAndorra,2017,77001\\r\\nAndorra,2016,77297\\r\\nAndorra,2015,78011\\r\\nMarshall Islands,2005,55258\\r\\nMarshall Islands,2000,50753\\r\\nMarshall Islands,1995,50457\\r\\nBermuda,2010,65389\\r\\nBermuda,2005,66257\\r\\nBermuda,2000,65012\\r\\nBermuda,1995,63442\\r\\nIsle of Man,2016,83287\\r\\nIsle of Man,2015,83234\\r\\nIsle of Man,2010,84857\\r\\nSint Maarten,1985,19123\\r\\nSint Maarten,1980,13100\\r\\nSint Maarten,1975,9557\\r\\nFaeroe Islands,1995,45625\\r\\nFaeroe Islands,1990,47274\\r\\nFaeroe Islands,1985,45330\\r\\nSaint Kitts & Nevis,1995,42074\\r\\nSaint Kitts & Nevis,1990,40259\\r\\nSaint Kitts & Nevis,1985,41866\\r\\nGibraltar,1960,23420\\r\\nGibraltar,1955,22788\\r\\nAmerican Samoa,1985,39519\\r\\nAmerican Samoa,1980,32646\\r\\nAmerican Samoa,1975,30052\\r\\nSan Marino,1965,17513\\r\\nSan Marino,1960,15432\\r\\nSan Marino,1955,13789\\r\\nPalau,1965,11003\\r\\nPalau,1960,9771\\r\\nPalau,1955,8322\\r\\nAnguilla,1960,6032\\r\\nAnguilla,1955,5783\\r\\nLiechtenstein,1955,14830\\r\\nSaint Martin,1960,3893\\r\\nSaint Martin,1955,3408\\r\\nGreenland,1990,55604\\r\\nGreenland,1985,53190\\r\\nGreenland,1980,50179\\r\\nGreenland,1975,49586\\r\\nCayman Islands,2010,56672\\r\\nCayman Islands,2005,49261\\r\\nCayman Islands,2000,42303\\r\\nSt. Vincent & Grenadines,2020,110940\\r\\nSt. Vincent & Grenadines,2019,110589\\r\\nAntigua and Barbuda,2017,95426\\r\\nAntigua and Barbuda,2016,94527\\r\\nAntigua and Barbuda,2015,93566\\r\\nAntigua and Barbuda,2010,88028\\r\\nGrenada,2020,112523\\r\\nGrenada,2019,112003\\r\\nGrenada,2018,111454\\r\\nNorthern Mariana Islands,1990,45752\\r\\nNorthern Mariana Islands,1985,28720\\r\\nNorthern Mariana Islands,1980,16633\\r\\nNorthern Mariana Islands,1975,14924\\r\\nKiribati,2020,119449\\r\\nKiribati,2019,117606\\r\\nSeychelles,2017,96418\\r\\nSeychelles,2016,95710\\r\\nSeychelles,2015,94978\\r\\nSeychelles,2010,91264\\r\\nU.S. Virgin Islands,2017,104751\\r\\nU.S. Virgin Islands,2016,104835\\r\\nU.S. Virgin Islands,2015,104958\\r\\nTonga,2018,103197\\r\\nTonga,2017,101998\\r\\nTonga,2016,101133\\r\\nTonga,2015,100781\\r\\nDominica,2010,70878\\r\\nDominica,2005,70589\\r\\nDominica,2000,69650\\r\\nAndorra,2010,84449\\r\\nAndorra,2005,78867\\r\\nAndorra,2000,65390\\r\\nMarshall Islands,1990,47271\\r\\nMarshall Islands,1985,38333\\r\\nMarshall Islands,1980,30576\\r\\nBermuda,1990,61634\\r\\nBermuda,1985,59602\\r\\nBermuda,1980,57573\\r\\nBermuda,1975,55400\\r\\nIsle of Man,2005,80305\\r\\nIsle of Man,2000,76941\\r\\nIsle of Man,1995,72131\\r\\nSint Maarten,1970,6864\\r\\nSint Maarten,1965,4459\\r\\nSint Maarten,1960,2833\\r\\nSint Maarten,1955,2108\\r\\nFaeroe Islands,1980,43337\\r\\nFaeroe Islands,1975,41299\\r\\nFaeroe Islands,1970,39009\\r\\nSaint Kitts & Nevis,1980,43205\\r\\nSaint Kitts & Nevis,1975,44272\\r\\nSaint Kitts & Nevis,1970,44883\\r\\nAmerican Samoa,1970,27363\\r\\nAmerican Samoa,1965,23672\\r\\nAmerican Samoa,1960,20123\\r\\nGreenland,1970,46074\\r\\nGreenland,1965,37964\\r\\nGreenland,1960,31239\\r\\nCayman Islands,1995,32166\\r\\nCayman Islands,1990,25312\\r\\nCayman Islands,1985,19467\\r\\nCura\\xc3\\xa7ao,2020,164093\\r\\nCura\\xc3\\xa7ao,2019,163424\\r\\nSt. Vincent & Grenadines,2018,110211\\r\\nSt. Vincent & Grenadines,2017,109827\\r\\nSt. Vincent & Grenadines,2016,109459\\r\\nAruba,2020,106766\\r\\nGuam,2020,168775\\r\\nGuam,2019,167294\\r\\nAntigua and Barbuda,2005,81465\\r\\nAntigua and Barbuda,2000,76016\\r\\nAntigua and Barbuda,1995,68670\\r\\nChannel Islands,2020,173863\\r\\nChannel Islands,2019,172259\\r\\nChannel Islands,2018,170499\\r\\nGrenada,2017,110874\\r\\nGrenada,2016,110261\\r\\nGrenada,2015,109599\\r\\nSaint Lucia,2020,183627\\r\\nSaint Lucia,2019,182790\\r\\nNorthern Mariana Islands,1970,12994\\r\\nNorthern Mariana Islands,1965,11022\\r\\nNorthern Mariana Islands,1960,9979\\r\\nKiribati,2018,115847\\r\\nKiribati,2017,114158\\r\\nKiribati,2016,112524\\r\\nSeychelles,2005,88648\\r\\nSeychelles,2000,80996\\r\\nSeychelles,1995,76649\\r\\nSeychelles,1990,70570\\r\\nU.S. Virgin Islands,2010,106087\\r\\nU.S. Virgin Islands,2005,107794\\r\\nU.S. Virgin Islands,2000,108722\\r\\nU.S. Virgin Islands,1995,107392\\r\\nTonga,2010,103986\\r\\nTonga,2005,100905\\r\\nTonga,2000,97973\\r\\nDominica,1995,71098\\r\\nDominica,1990,70419\\r\\nDominica,1985,73201\\r\\nAndorra,1995,63850\\r\\nAndorra,1990,54509\\r\\nAndorra,1985,44600\\r\\nAndorra,1980,36067\\r\\nMarshall Islands,1975,25576\\r\\nMarshall Islands,1970,20395\\r\\nMarshall Islands,1965,17284\\r\\nBermuda,1970,52565\\r\\nBermuda,1965,49388\\r\\nBermuda,1960,44979\\r\\nIsle of Man,1990,70298\\r\\nIsle of Man,1985,64278\\r\\nIsle of Man,1980,63551\\r\\nFaeroe Islands,1965,36847\\r\\nFaeroe Islands,1960,34615\\r\\nFaeroe Islands,1955,32481\\r\\nSaint Kitts & Nevis,1965,49214\\r\\nSaint Kitts & Nevis,1960,51195\\r\\nSaint Kitts & Nevis,1955,48492\\r\\nAmerican Samoa,1955,19754\\r\\nGreenland,1955,25846\\r\\nCayman Islands,1980,16212\\r\\nCayman Islands,1975,12244\\r\\nCayman Islands,1970,9144\\r\\nCura\\xc3\\xa7ao,2018,162752\\r\\nCura\\xc3\\xa7ao,2017,161997\\r\\nCura\\xc3\\xa7ao,2016,161052\\r\\nSt. Vincent & Grenadines,2015,109148\\r\\nSt. Vincent & Grenadines,2010,108255\\r\\nSt. Vincent & Grenadines,2005,108614\\r\\nAruba,2019,106314\\r\\nAruba,2018,105845\\r\\nAruba,2017,105366\\r\\nGuam,2018,165768\\r\\nGuam,2017,164281\\r\\nGuam,2016,162951\\r\\nAntigua and Barbuda,1990,62528\\r\\nAntigua and Barbuda,1985,61786\\r\\nAntigua and Barbuda,1980,61865\\r\\nAntigua and Barbuda,1975,62675\\r\\nChannel Islands,2017,168665\\r\\nChannel Islands,2016,166923\\r\\nChannel Islands,2015,165385\\r\\nGrenada,2010,106233\\r\\nGrenada,2005,104661\\r\\nGrenada,2000,102833\\r\\nSaint Lucia,2018,181889\\r\\nSaint Lucia,2017,180954\\r\\nSaint Lucia,2016,180024\\r\\nSamoa,2020,198414\\r\\nSamoa,2019,197097\\r\\nSao Tome & Principe,2020,219159\\r\\nNorthern Mariana Islands,1955,7985\\r\\nMayotte,2020,272815\\r\\nMayotte,2019,266150\\r\\nKiribati,2015,110930\\r\\nKiribati,2010,102927\\r\\nKiribati,2005,92325\\r\\nSeychelles,1985,69775\\r\\nSeychelles,1980,66244\\r\\nSeychelles,1975,59585\\r\\nU.S. Virgin Islands,1990,103756\\r\\nU.S. Virgin Islands,1985,105280\\r\\nU.S. Virgin Islands,1980,99080\\r\\nTonga,1995,95976\\r\\nTonga,1990,95069\\r\\nTonga,1985,93896\\r\\nDominica,1980,75314\\r\\nDominica,1975,72094\\r\\nDominica,1970,71073\\r\\nAndorra,1975,30705\\r\\nAndorra,1970,24276\\r\\nAndorra,1965,18549\\r\\nMarshall Islands,1960,14662\\r\\nMarshall Islands,1955,13894\\r\\nBermuda,1955,40708\\r\\nIsle of Man,1975,59478\\r\\nIsle of Man,1970,55425\\r\\nIsle of Man,1965,50141\\r\\nCayman Islands,1965,8369\\r\\nCayman Islands,1960,7865\\r\\nCayman Islands,1955,6677\\r\\nCura\\xc3\\xa7ao,2015,159847\\r\\nCura\\xc3\\xa7ao,2010,149192\\r\\nCura\\xc3\\xa7ao,2005,130130\\r\\nSt. Vincent & Grenadines,2000,107784\\r\\nSt. Vincent & Grenadines,1995,108035\\r\\nSt. Vincent & Grenadines,1990,107484\\r\\nAruba,2016,104872\\r\\nAruba,2015,104341\\r\\nGuam,2015,161853\\r\\nGuam,2010,159444\\r\\nGuam,2005,158402\\r\\nGuam,2000,155329\\r\\nAntigua and Barbuda,1970,64177\\r\\nAntigua and Barbuda,1965,58698\\r\\nAntigua and Barbuda,1960,54131\\r\\nChannel Islands,2010,159734\\r\\nChannel Islands,2005,151678\\r\\nChannel Islands,2000,148443\\r\\nFrench Polynesia,2020,280908\\r\\nFrench Polynesia,2019,279287\\r\\nBarbados,2020,287375\\r\\nBarbados,2019,287025\\r\\nGrenada,1995,100288\\r\\nGrenada,1990,96331\\r\\nGrenada,1985,99946\\r\\nVanuatu,2020,307145\\r\\nVanuatu,2019,299882\\r\\nVanuatu,2018,292680\\r\\nVanuatu,2017,285510\\r\\nSaint Lucia,2015,179126\\r\\nSaint Lucia,2010,174085\\r\\nSaint Lucia,2005,163417\\r\\nSaint Lucia,2000,156729\\r\\nSamoa,2018,196129\\r\\nSamoa,2017,195352\\r\\nSamoa,2016,194535\\r\\nSao Tome & Principe,2019,215056\\r\\nSao Tome & Principe,2018,211028\\r\\nSao Tome & Principe,2017,207089\\r\\nSao Tome & Principe,2016,203227\\r\\nMayotte,2018,259531\\r\\nMayotte,2017,252957\\r\\nMayotte,2016,246450\\r\\nKiribati,2000,84396\\r\\nKiribati,1995,77723\\r\\nKiribati,1990,72400\\r\\nSeychelles,1970,52368\\r\\nSeychelles,1965,46782\\r\\nSeychelles,1960,41603\\r\\nU.S. Virgin Islands,1975,86470\\r\\nU.S. Virgin Islands,1970,64726\\r\\nU.S. Virgin Islands,1965,50233\\r\\nTonga,1980,92971\\r\\nTonga,1975,88318\\r\\nTonga,1970,84351\\r\\nDominica,1965,65038\\r\\nDominica,1960,60011\\r\\nDominica,1955,54560\\r\\nAndorra,1960,13411\\r\\nAndorra,1955,9232\\r\\nIsle of Man,1960,48442\\r\\nIsle of Man,1955,52408\\r\\nCura\\xc3\\xa7ao,2000,132140\\r\\nCura\\xc3\\xa7ao,1995,143882\\r\\nCura\\xc3\\xa7ao,1990,146670\\r\\nSt. Vincent & Grenadines,1985,104506\\r\\nSt. Vincent & Grenadines,1980,100566\\r\\nSt. Vincent & Grenadines,1975,95662\\r\\nAruba,2010,101669\\r\\nAruba,2005,100031\\r\\nAruba,2000,90853\\r\\nGuam,1995,145561\\r\\nGuam,1990,130482\\r\\nGuam,1985,116572\\r\\nGuam,1980,104133\\r\\nAntigua and Barbuda,1955,49648\\r\\nChannel Islands,1995,143484\\r\\nChannel Islands,1990,140671\\r\\nChannel Islands,1985,133808\\r\\nChannel Islands,1980,128212\\r\\nNew Caledonia,2020,285498\\r\\nNew Caledonia,2019,282750\\r\\nFrench Polynesia,2018,277679\\r\\nFrench Polynesia,2017,276102\\r\\nFrench Polynesia,2016,274575\\r\\nIceland,2020,341243\\r\\nIceland,2019,339031\\r\\nBarbados,2018,286641\\r\\nBarbados,2017,286232\\r\\nMartinique,2020,375265\\r\\nMartinique,2019,375554\\r\\nMartinique,2018,375673\\r\\nGrenada,1980,89032\\r\\nGrenada,1975,92494\\r\\nGrenada,1970,94475\\r\\nBahamas,2020,393244\\r\\nBahamas,2019,389482\\r\\nFrench Guiana,2020,298682\\r\\nFrench Guiana,2019,290832\\r\\nVanuatu,2016,278330\\r\\nVanuatu,2015,271130\\r\\nVanuatu,2010,236211\\r\\nSaint Lucia,1995,146870\\r\\nSaint Lucia,1990,138020\\r\\nSaint Lucia,1985,126244\\r\\nSamoa,2015,193513\\r\\nSamoa,2010,185949\\r\\nSamoa,2005,179727\\r\\nSao Tome & Principe,2015,199432\\r\\nSao Tome & Principe,2010,180371\\r\\nSao Tome & Principe,2005,157472\\r\\nSao Tome & Principe,2000,142262\\r\\nMayotte,2015,240020\\r\\nMayotte,2010,208718\\r\\nMayotte,2005,178098\\r\\nKiribati,1985,63986\\r\\nKiribati,1980,59301\\r\\nKiribati,1975,55114\\r\\nSeychelles,1955,38955\\r\\nU.S. Virgin Islands,1960,33135\\r\\nU.S. Virgin Islands,1955,29682\\r\\nTonga,1965,74345\\r\\nTonga,1960,61577\\r\\nTonga,1955,55322\\r\\nCura\\xc3\\xa7ao,1985,150377\\r\\nCura\\xc3\\xa7ao,1980,147996\\r\\nCura\\xc3\\xa7ao,1975,150258\\r\\nSt. Vincent & Grenadines,1970,90509\\r\\nSt. Vincent & Grenadines,1965,86011\\r\\nSt. Vincent & Grenadines,1960,80977\\r\\nAruba,1995,80324\\r\\nAruba,1990,62149\\r\\nAruba,1985,63026\\r\\nAruba,1980,60096\\r\\nGuam,1975,93352\\r\\nGuam,1970,83877\\r\\nGuam,1965,74830\\r\\nChannel Islands,1975,126415\\r\\nChannel Islands,1970,121197\\r\\nChannel Islands,1965,114995\\r\\nNew Caledonia,2018,279993\\r\\nNew Caledonia,2017,277150\\r\\nNew Caledonia,2016,274191\\r\\nNew Caledonia,2015,271065\\r\\nFrench Polynesia,2015,273124\\r\\nFrench Polynesia,2010,266455\\r\\nFrench Polynesia,2005,258780\\r\\nBelize,2020,397628\\r\\nBelize,2019,390353\\r\\nIceland,2018,336713\\r\\nIceland,2017,334393\\r\\nIceland,2016,332206\\r\\nIceland,2015,330243\\r\\nBrunei ,2020,437479\\r\\nBrunei ,2019,433285\\r\\nBarbados,2016,285796\\r\\nBarbados,2015,285324\\r\\nBarbados,2010,282131\\r\\nMartinique,2017,375948\\r\\nMartinique,2016,376791\\r\\nMartinique,2015,378478\\r\\nGrenada,1965,94636\\r\\nGrenada,1960,89932\\r\\nBahamas,2018,385637\\r\\nBahamas,2017,381755\\r\\nBahamas,2016,377930\\r\\nFrench Guiana,2018,282938\\r\\nFrench Guiana,2017,275191\\r\\nFrench Guiana,2016,267821\\r\\nVanuatu,2005,209282\\r\\nVanuatu,2000,184972\\r\\nVanuatu,1995,168158\\r\\nSaint Lucia,1980,117822\\r\\nSaint Lucia,1975,109627\\r\\nSaint Lucia,1970,104015\\r\\nSamoa,2000,174454\\r\\nSamoa,1995,170054\\r\\nSamoa,1990,162803\\r\\nSao Tome & Principe,1995,131678\\r\\nSao Tome & Principe,1990,119209\\r\\nSao Tome & Principe,1985,104924\\r\\nMayotte,2000,150331\\r\\nMayotte,1995,123181\\r\\nMayotte,1990,94784\\r\\nKiribati,1970,51151\\r\\nKiribati,1965,46429\\r\\nKiribati,1960,41202\\r\\nCura\\xc3\\xa7ao,1970,143634\\r\\nCura\\xc3\\xa7ao,1965,133878\\r\\nCura\\xc3\\xa7ao,1960,126941\\r\\nSt. Vincent & Grenadines,1955,73554\\r\\nAruba,1975,60657\\r\\nAruba,1970,59063\\r\\nAruba,1965,57360\\r\\nGuam,1960,66742\\r\\nGuam,1955,62641\\r\\nChannel Islands,1960,109420\\r\\nChannel Islands,1955,105609\\r\\nMalta,2020,441543\\r\\nMalta,2019,440372\\r\\nGuadeloupe,2020,400124\\r\\nGuadeloupe,2019,400056\\r\\nNew Caledonia,2010,253527\\r\\nNew Caledonia,2005,236442\\r\\nNew Caledonia,2000,217269\\r\\nMaldives,2020,540544\\r\\nMaldives,2019,530953\\r\\nMicronesia,,\\r\\nMicronesia,,\\r\\nFrench Polynesia,2000,240686\\r\\nFrench Polynesia,1995,218071\\r\\nFrench Polynesia,1990,199905\\r\\nCabo Verde,2020,555987\\r\\nCabo Verde,2019,549935\\r\\nBelize,2018,383071\\r\\nBelize,2017,375769\\r\\nBelize,2016,368400\\r\\nSuriname,2020,586632\\r\\nSuriname,2019,581372\\r\\nSuriname,2018,575990\\r\\nIceland,2010,320328\\r\\nIceland,2005,294979\\r\\nIceland,2000,280435\\r\\nBrunei ,2018,428963\\r\\nBrunei ,2017,424473\\r\\nBrunei ,2016,419800\\r\\nBarbados,2005,276323\\r\\nBarbados,2000,271515\\r\\nBarbados,1995,265955\\r\\nMartinique,2010,394663\\r\\nMartinique,2005,397190\\r\\nMartinique,2000,387004\\r\\nMartinique,1995,368732\\r\\nGrenada,1955,81103\\r\\nBahamas,2015,374206\\r\\nBahamas,2010,354942\\r\\nBahamas,2005,324859\\r\\nBahamas,2000,298051\\r\\nFrench Guiana,2015,260999\\r\\nFrench Guiana,2010,233002\\r\\nFrench Guiana,2005,202971\\r\\nFrench Guiana,2000,163165\\r\\nVanuatu,1990,146573\\r\\nVanuatu,1985,129984\\r\\nVanuatu,1980,115597\\r\\nVanuatu,1975,99859\\r\\nSaint Lucia,1965,96134\\r\\nSaint Lucia,1960,89697\\r\\nSaint Lucia,1955,86477\\r\\nSamoa,1985,159990\\r\\nSamoa,1980,155525\\r\\nSamoa,1975,151359\\r\\nSamoa,1970,143149\\r\\nSao Tome & Principe,1980,95794\\r\\nSao Tome & Principe,1975,83138\\r\\nSao Tome & Principe,1970,74564\\r\\nSao Tome & Principe,1965,64892\\r\\nMayotte,1985,72104\\r\\nMayotte,1980,55137\\r\\nMayotte,1975,45483\\r\\nKiribati,1955,36573\\r\\nCura\\xc3\\xa7ao,1955,116916\\r\\nAruba,1960,54211\\r\\nAruba,1955,43724\\r\\nMalta,2018,439248\\r\\nMalta,2017,437933\\r\\nMalta,2016,436097\\r\\nGuadeloupe,2018,399848\\r\\nGuadeloupe,2017,399672\\r\\nGuadeloupe,2016,399763\\r\\nNew Caledonia,1995,193293\\r\\nNew Caledonia,1990,170336\\r\\nNew Caledonia,1985,155982\\r\\nMaldives,2018,515696\\r\\nMaldives,2017,496402\\r\\nMaldives,2016,475512\\r\\nMicronesia,,\\r\\nMicronesia,,\\r\\nMicronesia,,\\r\\nWestern Sahara,2020,597339\\r\\nFrench Polynesia,1985,177027\\r\\nFrench Polynesia,1980,153301\\r\\nFrench Polynesia,1975,131233\\r\\nLuxembourg,2020,625978\\r\\nLuxembourg,2019,615729\\r\\nCabo Verde,2018,543767\\r\\nCabo Verde,2017,537498\\r\\nCabo Verde,2016,531146\\r\\nBelize,2015,360933\\r\\nBelize,2010,322464\\r\\nBelize,2005,283800\\r\\nSuriname,2017,570496\\r\\nSuriname,2016,564888\\r\\nSuriname,2015,559143\\r\\nIceland,1995,267629\\r\\nIceland,1990,255043\\r\\nIceland,1985,241582\\r\\nBrunei ,2015,414907\\r\\nBrunei ,2010,388646\\r\\nBarbados,1990,260936\\r\\nBarbados,1985,256263\\r\\nBarbados,1980,252394\\r\\nMartinique,1990,358449\\r\\nMartinique,1985,339876\\r\\nMartinique,1980,325454\\r\\nBahamas,1995,280184\\r\\nBahamas,1990,256223\\r\\nBahamas,1985,234578\\r\\nFrench Guiana,1995,137400\\r\\nFrench Guiana,1990,115784\\r\\nFrench Guiana,1985,86439\\r\\nVanuatu,1970,85377\\r\\nVanuatu,1965,74270\\r\\nVanuatu,1960,63689\\r\\nVanuatu,1955,54921\\r\\nSamoa,1965,127054\\r\\nSamoa,1960,108629\\r\\nSamoa,1955,94178\\r\\nSao Tome & Principe,1960,64302\\r\\nSao Tome & Principe,1955,58806\\r\\nMayotte,1970,36969\\r\\nMayotte,1965,30526\\r\\nMayotte,1960,24015\\r\\nMalta,2015,433559\\r\\nMalta,2010,414253\\r\\nMalta,2005,404653\\r\\nGuadeloupe,2015,400255\\r\\nGuadeloupe,2010,406071\\r\\nGuadeloupe,2005,402904\\r\\nNew Caledonia,1980,145144\\r\\nNew Caledonia,1975,130264\\r\\nNew Caledonia,1970,105324\\r\\nMontenegro,2020,628066\\r\\nMaldives,2015,454915\\r\\nMaldives,2010,365734\\r\\nMaldives,2005,319608\\r\\nMacao,2020,649335\\r\\nMacao,2019,640445\\r\\nBhutan,2020,771608\\r\\nBhutan,2019,763092\\r\\nBhutan,2018,754388\\r\\nComoros,2020,869601\\r\\nComoros,2019,850886\\r\\nMicronesia,,\\r\\nMicronesia,,\\r\\nWestern Sahara,2019,582463\\r\\nWestern Sahara,2018,567402\\r\\nWestern Sahara,2017,552615\\r\\nWestern Sahara,2016,538749\\r\\nFrench Polynesia,1970,110495\\r\\nFrench Polynesia,1965,93438\\r\\nFrench Polynesia,1960,78076\\r\\nLuxembourg,2018,604245\\r\\nLuxembourg,2017,591910\\r\\nLuxembourg,2016,579264\\r\\nLuxembourg,2015,566741\\r\\nCabo Verde,2015,524743\\r\\nCabo Verde,2010,492654\\r\\nCabo Verde,2005,463032\\r\\nBelize,2000,247315\\r\\nBelize,1995,206963\\r\\nBelize,1990,187552\\r\\nSuriname,2010,529131\\r\\nSuriname,2005,499464\\r\\nSuriname,2000,470949\\r\\nIceland,1980,228262\\r\\nIceland,1975,218070\\r\\nIceland,1970,204426\\r\\nIceland,1965,192313\\r\\nBrunei ,2005,365114\\r\\nBrunei ,2000,333165\\r\\nBrunei ,1995,297114\\r\\nBrunei ,1990,258721\\r\\nBarbados,1975,246154\\r\\nBarbados,1970,238896\\r\\nBarbados,1965,235413\\r\\nMartinique,1975,327838\\r\\nMartinique,1970,325011\\r\\nMartinique,1965,311127\\r\\nMartinique,1960,281622\\r\\nBahamas,1980,210591\\r\\nBahamas,1975,188896\\r\\nBahamas,1970,169377\\r\\nFrench Guiana,1980,66977\\r\\nFrench Guiana,1975,56223\\r\\nFrench Guiana,1970,47930\\r\\nMayotte,1955,18985\\r\\nMalta,2000,393645\\r\\nMalta,1995,376896\\r\\nMalta,1990,362015\\r\\nGuadeloupe,2000,422051\\r\\nGuadeloupe,1995,403738\\r\\nGuadeloupe,1990,389249\\r\\nNew Caledonia,1965,91200\\r\\nNew Caledonia,1960,78056\\r\\nNew Caledonia,1955,67748\\r\\nMontenegro,2019,627987\\r\\nMontenegro,2018,627809\\r\\nMontenegro,2017,627563\\r\\nMaldives,2000,279398\\r\\nMaldives,1995,254139\\r\\nMaldives,1990,223158\\r\\nMacao,2018,631636\\r\\nMacao,2017,622585\\r\\nMacao,2016,612836\\r\\nBhutan,2017,745563\\r\\nBhutan,2016,736708\\r\\nBhutan,2015,727876\\r\\nComoros,2018,832322\\r\\nComoros,2017,813892\\r\\nComoros,2016,795592\\r\\nR\\xc3\\xa9union,2020,895312\\r\\nR\\xc3\\xa9union,2019,888927\\r\\nSolomon Islands,2020,686884\\r\\nSolomon Islands,2019,669823\\r\\nGuyana,2020,786552\\r\\nWestern Sahara,2015,526216\\r\\nWestern Sahara,2010,480274\\r\\nWestern Sahara,2005,437515\\r\\nFiji,2020,896445\\r\\nFiji,2019,889953\\r\\nFrench Polynesia,1955,68854\\r\\nLuxembourg,2010,507889\\r\\nLuxembourg,2005,457842\\r\\nLuxembourg,2000,436103\\r\\nCabo Verde,2000,428188\\r\\nCabo Verde,1995,386284\\r\\nCabo Verde,1990,337950\\r\\nBelize,1985,164921\\r\\nBelize,1980,144155\\r\\nSuriname,1995,441851\\r\\nSuriname,1990,405168\\r\\nSuriname,1985,368638\\r\\nIceland,1960,175592\\r\\nIceland,1955,157642\\r\\nBrunei ,1985,224449\\r\\nBrunei ,1980,193879\\r\\nBrunei ,1975,161626\\r\\nBarbados,1960,230980\\r\\nBarbados,1955,227138\\r\\nMartinique,1955,245675\\r\\nBahamas,1965,140059\\r\\nBahamas,1960,109534\\r\\nBahamas,1955,88631\\r\\nFrench Guiana,1965,38892\\r\\nFrench Guiana,1960,32032\\r\\nFrench Guiana,1955,28490\\r\\nMalta,1985,346250\\r\\nMalta,1980,331497\\r\\nMalta,1975,322356\\r\\nGuadeloupe,1985,342730\\r\\nGuadeloupe,1980,336685\\r\\nGuadeloupe,1975,328493\\r\\nMontenegro,2016,627264\\r\\nMontenegro,2015,626956\\r\\nMontenegro,2010,624275\\r\\nMaldives,1985,189537\\r\\nMaldives,1980,158272\\r\\nMaldives,1975,136417\\r\\nMaldives,1970,115691\\r\\nMacao,2015,602085\\r\\nMacao,2010,538219\\r\\nMacao,2005,482858\\r\\nBhutan,2010,685503\\r\\nBhutan,2005,648739\\r\\nBhutan,2000,591021\\r\\nDjibouti,2020,988000\\r\\nDjibouti,2019,973560\\r\\nEswatini,2020,1160164\\r\\nEswatini,2019,1148130\\r\\nEswatini,2018,1136281\\r\\nCyprus,2020,1207359\\r\\nCyprus,2019,1198575\\r\\nComoros,2015,777424\\r\\nComoros,2010,689692\\r\\nMauritius,2020,1271768\\r\\nR\\xc3\\xa9union,2018,882526\\r\\nR\\xc3\\xa9union,2017,876134\\r\\nR\\xc3\\xa9union,2016,869743\\r\\nR\\xc3\\xa9union,2015,863363\\r\\nSolomon Islands,2018,652857\\r\\nSolomon Islands,2017,636039\\r\\nSolomon Islands,2016,619438\\r\\nGuyana,2019,782766\\r\\nGuyana,2018,779006\\r\\nGuyana,2017,775222\\r\\nWestern Sahara,2000,314118\\r\\nWestern Sahara,1995,255634\\r\\nWestern Sahara,1990,217258\\r\\nWestern Sahara,1985,182421\\r\\nFiji,2018,883483\\r\\nFiji,2017,877459\\r\\nFiji,2016,872399\\r\\nLuxembourg,1995,408149\\r\\nLuxembourg,1990,381791\\r\\nLuxembourg,1985,366884\\r\\nLuxembourg,1980,364038\\r\\nCabo Verde,1985,311678\\r\\nCabo Verde,1980,283847\\r\\nCabo Verde,1975,270247\\r\\nBelize,1975,133260\\r\\nBelize,1970,122182\\r\\nBelize,1965,106119\\r\\nBelize,1960,92064\\r\\nSuriname,1980,359519\\r\\nSuriname,1975,359226\\r\\nSuriname,1970,367931\\r\\nBrunei ,1970,129529\\r\\nBrunei ,1965,102386\\r\\nBrunei ,1960,81702\\r\\nMalta,1970,320545\\r\\nMalta,1965,322242\\r\\nMalta,1960,312973\\r\\nMalta,1955,313526\\r\\nGuadeloupe,1970,321883\\r\\nGuadeloupe,1965,300056\\r\\nGuadeloupe,1960,275161\\r\\nMontenegro,2005,616391\\r\\nMontenegro,2000,613559\\r\\nMontenegro,1995,620418\\r\\nMontenegro,1990,615002\\r\\nMaldives,1965,102718\\r\\nMaldives,1960,89863\\r\\nMaldives,1955,79703\\r\\nMacao,2000,427782\\r\\nMacao,1995,385513\\r\\nMacao,1990,343808\\r\\nTimor-Leste,2020,1318445\\r\\nTimor-Leste,2019,1293119\\r\\nBhutan,1995,534620\\r\\nBhutan,1990,530804\\r\\nBhutan,1985,464266\\r\\nBhutan,1980,406875\\r\\nDjibouti,2018,958923\\r\\nDjibouti,2017,944099\\r\\nDjibouti,2016,929112\\r\\nEstonia,2020,1326535\\r\\nEstonia,2019,1325648\\r\\nEswatini,2017,1124805\\r\\nEswatini,2016,1113997\\r\\nEswatini,2015,1104044\\r\\nEswatini,2010,1064837\\r\\nCyprus,2018,1189265\\r\\nCyprus,2017,1179678\\r\\nTrinidad and Tobago,2020,1399488\\r\\nTrinidad and Tobago,2019,1394973\\r\\nComoros,2005,611627\\r\\nComoros,2000,542357\\r\\nComoros,1995,475394\\r\\nComoros,1990,411594\\r\\nEquatorial Guinea,2020,1402985\\r\\nEquatorial Guinea,2019,1355986\\r\\nMauritius,2019,1269668\\r\\nMauritius,2018,1267185\\r\\nMauritius,2017,1264499\\r\\nR\\xc3\\xa9union,2010,830519\\r\\nR\\xc3\\xa9union,2005,791598\\r\\nR\\xc3\\xa9union,2000,736710\\r\\nSolomon Islands,2015,603118\\r\\nSolomon Islands,2010,527861\\r\\nSolomon Islands,2005,469918\\r\\nSolomon Islands,2000,412660\\r\\nGuyana,2016,771368\\r\\nGuyana,2015,767432\\r\\nGuyana,2010,749436\\r\\nWestern Sahara,1980,150877\\r\\nWestern Sahara,1975,74954\\r\\nWestern Sahara,1970,76874\\r\\nFiji,2015,868627\\r\\nFiji,2010,859818\\r\\nFiji,2005,821604\\r\\nFiji,2000,811006\\r\\nLuxembourg,1975,353983\\r\\nLuxembourg,1970,339668\\r\\nLuxembourg,1965,330161\\r\\nLuxembourg,1960,314588\\r\\nCabo Verde,1970,268627\\r\\nCabo Verde,1965,230418\\r\\nBelize,1955,79870\\r\\nSuriname,1965,328936\\r\\nSuriname,1960,287871\\r\\nSuriname,1955,249000\\r\\nBrunei ,1955,63356\\r\\nGuadeloupe,1955,236064\\r\\nMontenegro,1985,614016\\r\\nMontenegro,1980,580754\\r\\nMontenegro,1975,554262\\r\\nMacao,1985,283503\\r\\nMacao,1980,238071\\r\\nMacao,1975,241628\\r\\nMacao,1970,246194\\r\\nTimor-Leste,2018,1267974\\r\\nTimor-Leste,2017,1243258\\r\\nTimor-Leste,2016,1219288\\r\\nTimor-Leste,2015,1196302\\r\\nBhutan,1975,348396\\r\\nBhutan,1970,297316\\r\\nBhutan,1965,253994\\r\\nBahrain,2020,1701575\\r\\nBahrain,2019,1641172\\r\\nBahrain,2018,1569446\\r\\nDjibouti,2015,913993\\r\\nDjibouti,2010,840198\\r\\nDjibouti,2005,783254\\r\\nEstonia,2018,1322920\\r\\nEstonia,2017,1319390\\r\\nEstonia,2016,1316510\\r\\nEstonia,2015,1315325\\r\\nLatvia,2020,1886198\\r\\nLatvia,2019,1906743\\r\\nGuinea-Bissau,2020,1968001\\r\\nGuinea-Bissau,2019,1920922\\r\\nGuinea-Bissau,2018,1874303\\r\\nEswatini,2005,1030579\\r\\nEswatini,2000,1005435\\r\\nEswatini,1995,926841\\r\\nSlovenia,2020,2078938\\r\\nSlovenia,2019,2078654\\r\\nCyprus,2016,1170187\\r\\nCyprus,2015,1160985\\r\\nCyprus,2010,1112612\\r\\nCyprus,2005,1027662\\r\\nTrinidad and Tobago,2018,1389843\\r\\nTrinidad and Tobago,2017,1384059\\r\\nTrinidad and Tobago,2016,1377560\\r\\nComoros,1985,355337\\r\\nComoros,1980,307829\\r\\nComoros,1975,257290\\r\\nComoros,1970,230054\\r\\nEquatorial Guinea,2018,1308975\\r\\nEquatorial Guinea,2017,1262002\\r\\nEquatorial Guinea,2016,1215180\\r\\nMauritius,2016,1261865\\r\\nMauritius,2015,1259456\\r\\nMauritius,2010,1247955\\r\\nMauritius,2005,1222003\\r\\nR\\xc3\\xa9union,1995,673541\\r\\nR\\xc3\\xa9union,1990,610582\\r\\nR\\xc3\\xa9union,1985,558699\\r\\nSolomon Islands,1995,359281\\r\\nSolomon Islands,1990,311866\\r\\nSolomon Islands,1985,270788\\r\\nGuyana,2005,746163\\r\\nGuyana,2000,746715\\r\\nGuyana,1995,761291\\r\\nWestern Sahara,1965,50970\\r\\nWestern Sahara,1960,32761\\r\\nWestern Sahara,1955,21147\\r\\nFiji,1995,775425\\r\\nFiji,1990,728573\\r\\nFiji,1985,711775\\r\\nFiji,1980,635307\\r\\nLuxembourg,1955,305261\\r\\nCabo Verde,1960,201765\\r\\nCabo Verde,1955,197195\\r\\nMontenegro,1970,519696\\r\\nMontenegro,1965,533814\\r\\nMontenegro,1960,487413\\r\\nMacao,1965,203228\\r\\nMacao,1960,167791\\r\\nMacao,1955,189460\\r\\nTimor-Leste,2010,1093523\\r\\nTimor-Leste,2005,995135\\r\\nTimor-Leste,2000,884366\\r\\nBhutan,1960,223288\\r\\nBhutan,1955,197457\\r\\nBahrain,2017,1494076\\r\\nBahrain,2016,1425792\\r\\nBahrain,2015,1371851\\r\\nNorth Macedonia,2020,2083374\\r\\nNorth Macedonia,2019,2083459\\r\\nNorth Macedonia,2018,2082957\\r\\nDjibouti,2000,717584\\r\\nDjibouti,1995,630388\\r\\nDjibouti,1990,590398\\r\\nDjibouti,1985,425613\\r\\nGabon,2020,2225734\\r\\nGabon,2019,2172579\\r\\nBotswana,2020,2351627\\r\\nBotswana,2019,2303697\\r\\nEstonia,2010,1332101\\r\\nEstonia,2005,1355648\\r\\nEstonia,2000,1399112\\r\\nEstonia,1995,1433024\\r\\nLatvia,2018,1928459\\r\\nLatvia,2017,1951097\\r\\nLatvia,2016,1974266\\r\\nGuinea-Bissau,2017,1828145\\r\\nGuinea-Bissau,2016,1782438\\r\\nGuinea-Bissau,2015,1737202\\r\\nEswatini,1990,822420\\r\\nEswatini,1985,699080\\r\\nEswatini,1980,587858\\r\\nSlovenia,2018,2077837\\r\\nSlovenia,2017,2076394\\r\\nSlovenia,2016,2074210\\r\\nSlovenia,2015,2071199\\r\\nCyprus,2000,943290\\r\\nCyprus,1995,855383\\r\\nCyprus,1990,766615\\r\\nCyprus,1985,703685\\r\\nTrinidad and Tobago,2015,1370328\\r\\nTrinidad and Tobago,2010,1328147\\r\\nTrinidad and Tobago,2005,1296502\\r\\nTrinidad and Tobago,2000,1267153\\r\\nComoros,1965,207424\\r\\nComoros,1960,191121\\r\\nComoros,1955,175903\\r\\nEquatorial Guinea,2015,1168568\\r\\nEquatorial Guinea,2010,943639\\r\\nEquatorial Guinea,2005,749535\\r\\nMauritius,2000,1185145\\r\\nMauritius,1995,1128673\\r\\nMauritius,1990,1055868\\r\\nMauritius,1985,1015762\\r\\nR\\xc3\\xa9union,1980,509265\\r\\nR\\xc3\\xa9union,1975,484777\\r\\nR\\xc3\\xa9union,1970,462025\\r\\nSolomon Islands,1980,230546\\r\\nSolomon Islands,1975,193402\\r\\nSolomon Islands,1970,160250\\r\\nGuyana,1990,743309\\r\\nGuyana,1985,770435\\r\\nGuyana,1980,780153\\r\\nFiji,1975,576626\\r\\nFiji,1970,520562\\r\\nFiji,1965,463968\\r\\nMontenegro,1955,443795\\r\\nTimor-Leste,1995,844334\\r\\nTimor-Leste,1990,737814\\r\\nTimor-Leste,1985,657053\\r\\nBahrain,2010,1240860\\r\\nBahrain,2005,889164\\r\\nBahrain,2000,664611\\r\\nNorth Macedonia,2017,2081996\\r\\nNorth Macedonia,2016,2080743\\r\\nNorth Macedonia,2015,2079328\\r\\nDjibouti,1980,358960\\r\\nDjibouti,1975,224183\\r\\nDjibouti,1970,159659\\r\\nDjibouti,1965,114963\\r\\nGambia,2020,2416668\\r\\nGambia,2019,2347706\\r\\nGambia,2018,2280094\\r\\nGabon,2018,2119275\\r\\nGabon,2017,2064823\\r\\nGabon,2016,2007873\\r\\nBotswana,2018,2254068\\r\\nBotswana,2017,2205080\\r\\nBotswana,2016,2159927\\r\\nNamibia,2020,2540905\\r\\nLesotho,2020,2142249\\r\\nLesotho,2019,2125268\\r\\nLesotho,2018,2108328\\r\\nEstonia,1990,1565246\\r\\nEstonia,1985,1522400\\r\\nEstonia,1980,1474439\\r\\nLithuania,2020,2722289\\r\\nLithuania,2019,2759627\\r\\nLithuania,2018,2801264\\r\\nPuerto Rico,2020,2860853\\r\\nPuerto Rico,2019,2933408\\r\\nLatvia,2015,1997674\\r\\nLatvia,2010,2118861\\r\\nLatvia,2005,2251993\\r\\nLatvia,2000,2384164\\r\\nGuinea-Bissau,2010,1522599\\r\\nGuinea-Bissau,2005,1344930\\r\\nGuinea-Bissau,2000,1201301\\r\\nEswatini,1975,499763\\r\\nEswatini,1970,431253\\r\\nEswatini,1965,373919\\r\\nEswatini,1960,336583\\r\\nSlovenia,2010,2043337\\r\\nSlovenia,2005,1994976\\r\\nSlovenia,2000,1987717\\r\\nCyprus,1980,685405\\r\\nCyprus,1975,649751\\r\\nCyprus,1970,613618\\r\\nTrinidad and Tobago,1995,1254200\\r\\nTrinidad and Tobago,1990,1221116\\r\\nTrinidad and Tobago,1985,1170285\\r\\nEquatorial Guinea,2000,606181\\r\\nEquatorial Guinea,1995,496768\\r\\nEquatorial Guinea,1990,419188\\r\\nMauritius,1980,966031\\r\\nMauritius,1975,892211\\r\\nMauritius,1970,826441\\r\\nR\\xc3\\xa9union,1965,390775\\r\\nR\\xc3\\xa9union,1960,335693\\r\\nR\\xc3\\xa9union,1955,291658\\r\\nSolomon Islands,1965,136816\\r\\nSolomon Islands,1960,117849\\r\\nGuyana,1975,745841\\r\\nGuyana,1970,704934\\r\\nGuyana,1965,651868\\r\\nFiji,1960,393481\\r\\nFiji,1955,335098\\r\\nTimor-Leste,1980,599905\\r\\nTimor-Leste,1975,629227\\r\\nTimor-Leste,1970,571565\\r\\nBahrain,1995,563697\\r\\nBahrain,1990,495931\\r\\nBahrain,1985,419428\\r\\nNorth Macedonia,2010,2070741\\r\\nNorth Macedonia,2005,2060273\\r\\nNorth Macedonia,2000,2034819\\r\\nDjibouti,1960,83636\\r\\nDjibouti,1955,69589\\r\\nGambia,2017,2213889\\r\\nGambia,2016,2149136\\r\\nGambia,2015,2085860\\r\\nAlbania,2020,2877797\\r\\nAlbania,2019,2880917\\r\\nAlbania,2018,2882740\\r\\nGabon,2015,1947686\\r\\nGabon,2010,1624140\\r\\nGabon,2005,1390549\\r\\nQatar,2020,2881053\\r\\nQatar,2019,2832067\\r\\nQatar,2018,2781682\\r\\nJamaica,2020,2961167\\r\\nJamaica,2019,2948279\\r\\nBotswana,2015,2120716\\r\\nBotswana,2010,1987105\\r\\nBotswana,2005,1799078\\r\\nNamibia,2019,2494530\\r\\nNamibia,2018,2448301\\r\\nLesotho,2017,2091534\\r\\nLesotho,2016,2075030\\r\\nLesotho,2015,2059021\\r\\nEstonia,1975,1422043\\r\\nEstonia,1970,1360202\\r\\nEstonia,1965,1290396\\r\\nLithuania,2017,2845414\\r\\nLithuania,2016,2889557\\r\\nLithuania,2015,2931880\\r\\nPuerto Rico,2018,3039596\\r\\nPuerto Rico,2017,3163667\\r\\nPuerto Rico,2016,3283125\\r\\nLatvia,1995,2508480\\r\\nLatvia,1990,2664439\\r\\nLatvia,1985,2580758\\r\\nGuinea-Bissau,1995,1088854\\r\\nGuinea-Bissau,1990,975261\\r\\nGuinea-Bissau,1985,872163\\r\\nGuinea-Bissau,1980,781677\\r\\nEswatini,1955,303028\\r\\nSlovenia,1995,1991131\\r\\nSlovenia,1990,2006405\\r\\nSlovenia,1985,1945130\\r\\nSlovenia,1980,1835831\\r\\nCyprus,1965,580966\\r\\nCyprus,1960,572930\\r\\nCyprus,1955,529972\\r\\nTrinidad and Tobago,1980,1084744\\r\\nTrinidad and Tobago,1975,1010936\\r\\nTrinidad and Tobago,1970,945360\\r\\nTrinidad and Tobago,1965,911737\\r\\nEquatorial Guinea,1985,352118\\r\\nEquatorial Guinea,1980,249929\\r\\nEquatorial Guinea,1975,255800\\r\\nMauritius,1965,753285\\r\\nMauritius,1960,660023\\r\\nMauritius,1955,570648\\r\\nSolomon Islands,1955,102002\\r\\nGuyana,1960,571819\\r\\nGuyana,1955,482555\\r\\nTimor-Leste,1965,519686\\r\\nTimor-Leste,1960,474532\\r\\nTimor-Leste,1955,439223\\r\\nBahrain,1980,359888\\r\\nBahrain,1975,266543\\r\\nBahrain,1970,212605\\r\\nBahrain,1965,187431\\r\\nNorth Macedonia,1995,1983252\\r\\nNorth Macedonia,1990,1996228\\r\\nNorth Macedonia,1985,1981534\\r\\nGambia,2010,1793196\\r\\nGambia,2005,1543741\\r\\nGambia,2000,1317703\\r\\nArmenia,2020,2963243\\r\\nArmenia,2019,2957731\\r\\nAlbania,2017,2884169\\r\\nAlbania,2016,2886438\\r\\nAlbania,2015,2890513\\r\\nAlbania,2010,2948023\\r\\nMongolia,2020,3278290\\r\\nMongolia,2019,3225167\\r\\nBosnia and Herzegovina,2020,3280819\\r\\nBosnia and Herzegovina,2019,3301000\\r\\nBosnia and Herzegovina,2018,3323925\\r\\nGabon,2000,1228360\\r\\nGabon,1995,1084946\\r\\nGabon,1990,949488\\r\\nGabon,1985,827108\\r\\nQatar,2017,2724728\\r\\nQatar,2016,2654374\\r\\nQatar,2015,2565710\\r\\nUruguay,2020,3473730\\r\\nUruguay,2019,3461734\\r\\nJamaica,2018,2934847\\r\\nJamaica,2017,2920848\\r\\nJamaica,2016,2906236\\r\\nBotswana,2000,1643334\\r\\nBotswana,1995,1469174\\r\\nBotswana,1990,1286756\\r\\nBotswana,1985,1069582\\r\\nEritrea,2020,3546421\\r\\nEritrea,2019,3497117\\r\\nEritrea,2018,3452786\\r\\nNamibia,2017,2402633\\r\\nNamibia,2016,2358044\\r\\nNamibia,2015,2314904\\r\\nNamibia,2010,2118874\\r\\nLesotho,2010,1995581\\r\\nLesotho,2005,1996114\\r\\nLesotho,2000,2032804\\r\\nEstonia,1960,1216819\\r\\nEstonia,1955,1159231\\r\\nLithuania,2010,3123816\\r\\nLithuania,2005,3344268\\r\\nLithuania,2000,3501839\\r\\nLithuania,1995,3626612\\r\\nPuerto Rico,2015,3381518\\r\\nPuerto Rico,2010,3579841\\r\\nPuerto Rico,2005,3631889\\r\\nLatvia,1980,2521391\\r\\nLatvia,1975,2469444\\r\\nLatvia,1970,2378021\\r\\nGuinea-Bissau,1975,765989\\r\\nGuinea-Bissau,1970,704939\\r\\nGuinea-Bissau,1965,649790\\r\\nSlovenia,1975,1742623\\r\\nSlovenia,1970,1669581\\r\\nSlovenia,1965,1629433\\r\\nTrinidad and Tobago,1960,847979\\r\\nTrinidad and Tobago,1955,739709\\r\\nEquatorial Guinea,1970,303982\\r\\nEquatorial Guinea,1965,276300\\r\\nEquatorial Guinea,1960,255333\\r\\nBahrain,1960,162427\\r\\nBahrain,1955,133585\\r\\nNorth Macedonia,1980,1924197\\r\\nNorth Macedonia,1975,1803010\\r\\nNorth Macedonia,1970,1720800\\r\\nGambia,1995,1128575\\r\\nGambia,1990,955593\\r\\nGambia,1985,755787\\r\\nArmenia,2018,2951745\\r\\nArmenia,2017,2944791\\r\\nArmenia,2016,2936143\\r\\nAlbania,2005,3086810\\r\\nAlbania,2000,3129243\\r\\nAlbania,1995,3112936\\r\\nAlbania,1990,3286073\\r\\nMongolia,2018,3170216\\r\\nMongolia,2017,3113786\\r\\nMongolia,2016,3056364\\r\\nMongolia,2015,2998439\\r\\nBosnia and Herzegovina,2017,3351525\\r\\nBosnia and Herzegovina,2016,3386266\\r\\nBosnia and Herzegovina,2015,3429361\\r\\nBosnia and Herzegovina,2010,3705472\\r\\nGabon,1980,726328\\r\\nGabon,1975,647536\\r\\nGabon,1970,589314\\r\\nGeorgia,2020,3989167\\r\\nGeorgia,2019,3996765\\r\\nGeorgia,2018,4002942\\r\\nMoldova,2020,4033963\\r\\nMoldova,2019,4043263\\r\\nMoldova,2018,4051944\\r\\nCroatia,2020,4105267\\r\\nCroatia,2019,4130304\\r\\nQatar,2010,1856327\\r\\nQatar,2005,865416\\r\\nQatar,2000,592468\\r\\nUruguay,2018,3449285\\r\\nUruguay,2017,3436641\\r\\nUruguay,2016,3424129\\r\\nUruguay,2015,3412009\\r\\nJamaica,2015,2891021\\r\\nJamaica,2010,2810460\\r\\nJamaica,2005,2740003\\r\\nBotswana,1980,897868\\r\\nBotswana,1975,741355\\r\\nBotswana,1970,627715\\r\\nEritrea,2017,3412893\\r\\nEritrea,2016,3376557\\r\\nEritrea,2015,3342818\\r\\nEritrea,2010,3170435\\r\\nNamibia,2005,1938320\\r\\nNamibia,2000,1794571\\r\\nNamibia,1995,1627865\\r\\nLesotho,1995,1898598\\r\\nLesotho,1990,1703747\\r\\nLesotho,1985,1526131\\r\\nLithuania,1990,3696035\\r\\nLithuania,1985,3562397\\r\\nLithuania,1980,3430760\\r\\nPuerto Rico,2000,3668960\\r\\nPuerto Rico,1995,3567696\\r\\nPuerto Rico,1990,3403154\\r\\nPuerto Rico,1985,3263179\\r\\nLatvia,1965,2266943\\r\\nLatvia,1960,2129586\\r\\nLatvia,1955,2001574\\r\\nGuinea-Bissau,1960,616136\\r\\nGuinea-Bissau,1955,576136\\r\\nSlovenia,1960,1586637\\r\\nSlovenia,1955,1527205\\r\\nEquatorial Guinea,1955,239873\\r\\nNorth Macedonia,1965,1592433\\r\\nNorth Macedonia,1960,1488667\\r\\nNorth Macedonia,1955,1392449\\r\\nGambia,1980,637246\\r\\nGambia,1975,539979\\r\\nGambia,1970,464410\\r\\nArmenia,2015,2925553\\r\\nArmenia,2010,2877319\\r\\nArmenia,2005,2981269\\r\\nAlbania,1985,2969672\\r\\nAlbania,1980,2682690\\r\\nAlbania,1975,2411732\\r\\nKuwait,2020,4270571\\r\\nKuwait,2019,4207083\\r\\nMongolia,2010,2719896\\r\\nMongolia,2005,2526424\\r\\nMongolia,2000,2397418\\r\\nMongolia,1995,2298020\\r\\nPanama,2020,4314767\\r\\nPanama,2019,4246439\\r\\nMauritania,2020,4649658\\r\\nMauritania,2019,4525696\\r\\nBosnia and Herzegovina,2005,3765331\\r\\nBosnia and Herzegovina,2000,3751176\\r\\nBosnia and Herzegovina,1995,3829050\\r\\nNew Zealand,2020,4822233\\r\\nNew Zealand,2019,4783063\\r\\nCentral African Republic,2020,4829767\\r\\nGabon,1965,533361\\r\\nGabon,1960,500928\\r\\nGabon,1955,484313\\r\\nGeorgia,2017,4008716\\r\\nGeorgia,2016,4015450\\r\\nGeorgia,2015,4024183\\r\\nMoldova,2017,4059684\\r\\nMoldova,2016,4066009\\r\\nMoldova,2015,4070700\\r\\nCroatia,2018,4156405\\r\\nCroatia,2017,4182857\\r\\nCroatia,2016,4208602\\r\\nQatar,1995,513442\\r\\nQatar,1990,476278\\r\\nQatar,1985,370890\\r\\nUruguay,2010,3359275\\r\\nUruguay,2005,3321803\\r\\nUruguay,2000,3319736\\r\\nJamaica,2000,2654701\\r\\nJamaica,1995,2533711\\r\\nJamaica,1990,2419906\\r\\nBotswana,1965,559994\\r\\nBotswana,1960,502745\\r\\nBotswana,1955,463359\\r\\nEritrea,2005,2826659\\r\\nEritrea,2000,2292416\\r\\nEritrea,1995,2204222\\r\\nNamibia,1990,1432905\\r\\nNamibia,1985,1198148\\r\\nNamibia,1980,1057727\\r\\nLesotho,1980,1340255\\r\\nLesotho,1975,1160792\\r\\nLesotho,1970,1028926\\r\\nLesotho,1965,922306\\r\\nLithuania,1975,3298879\\r\\nLithuania,1970,3136586\\r\\nLithuania,1965,2966165\\r\\nPuerto Rico,1980,3090691\\r\\nPuerto Rico,1975,2844927\\r\\nPuerto Rico,1970,2631707\\r\\nPuerto Rico,1965,2507537\\r\\nGambia,1965,405259\\r\\nGambia,1960,365047\\r\\nGambia,1955,329661\\r\\nArmenia,2000,3069591\\r\\nArmenia,1995,3217348\\r\\nArmenia,1990,3538171\\r\\nAlbania,1970,2150707\\r\\nAlbania,1965,1896171\\r\\nAlbania,1960,1636090\\r\\nKuwait,2018,4137312\\r\\nKuwait,2017,4056099\\r\\nKuwait,2016,3956875\\r\\nMongolia,1990,2184145\\r\\nMongolia,1985,1921881\\r\\nMongolia,1980,1689622\\r\\nPanama,2018,4176869\\r\\nPanama,2017,4106769\\r\\nMauritania,2018,4403313\\r\\nMauritania,2017,4282570\\r\\nMauritania,2016,4163533\\r\\nMauritania,2015,4046301\\r\\nBosnia and Herzegovina,1990,4463423\\r\\nBosnia and Herzegovina,1985,4392131\\r\\nBosnia and Herzegovina,1980,4179855\\r\\nNew Zealand,2018,4743131\\r\\nNew Zealand,2017,4702034\\r\\nNew Zealand,2016,4659265\\r\\nNew Zealand,2015,4614532\\r\\nCentral African Republic,2019,4745185\\r\\nCentral African Republic,2018,4666368\\r\\nCentral African Republic,2017,4596023\\r\\nCentral African Republic,2016,4537686\\r\\nIreland,2020,4937786\\r\\nIreland,2019,4882495\\r\\nLiberia,2020,5057681\\r\\nLiberia,2019,4937374\\r\\nCosta Rica,2020,5094118\\r\\nCosta Rica,2019,5047561\\r\\nGeorgia,2010,4099099\\r\\nGeorgia,2005,4210168\\r\\nGeorgia,2000,4362187\\r\\nMoldova,2010,4086081\\r\\nMoldova,2005,4159293\\r\\nMoldova,2000,4202658\\r\\nCroatia,2015,4232874\\r\\nCroatia,2010,4328165\\r\\nCroatia,2005,4378058\\r\\nQatar,1980,223632\\r\\nQatar,1975,164320\\r\\nQatar,1970,109514\\r\\nUruguay,1995,3224281\\r\\nUruguay,1990,3109601\\r\\nUruguay,1985,3011519\\r\\nJamaica,1985,2335510\\r\\nJamaica,1980,2162846\\r\\nJamaica,1975,2028016\\r\\nEritrea,1990,2258653\\r\\nEritrea,1985,2003937\\r\\nEritrea,1980,1733416\\r\\nNamibia,1975,947921\\r\\nNamibia,1970,817469\\r\\nNamibia,1965,716584\\r\\nLesotho,1960,837270\\r\\nLesotho,1955,766763\\r\\nLithuania,1960,2769876\\r\\nLithuania,1955,2628751\\r\\nPuerto Rico,1960,2294982\\r\\nPuerto Rico,1955,2195516\\r\\nArmenia,1985,3335940\\r\\nArmenia,1980,3099754\\r\\nArmenia,1975,2832759\\r\\nAlbania,1955,1419994\\r\\nKuwait,2015,3835591\\r\\nKuwait,2010,2991884\\r\\nKuwait,2005,2270198\\r\\nMongolia,1975,1479651\\r\\nMongolia,1970,1278825\\r\\nMongolia,1965,1107124\\r\\nState of Palestine,2020,5101414\\r\\nState of Palestine,2019,4981420\\r\\nState of Palestine,2018,4862979\\r\\nOman,2020,5106626\\r\\nOman,2019,4974986\\r\\nPanama,2016,4037078\\r\\nPanama,2015,3968487\\r\\nPanama,2010,3642687\\r\\nNorway,2020,5421241\\r\\nNorway,2019,5378857\\r\\nSlovakia,2020,5459642\\r\\nSlovakia,2019,5457013\\r\\nMauritania,2010,3494195\\r\\nMauritania,2005,3024194\\r\\nMauritania,2000,2630219\\r\\nMauritania,1995,2313630\\r\\nCongo,2020,5518087\\r\\nCongo,2019,5380508\\r\\nBosnia and Herzegovina,1975,3985105\\r\\nBosnia and Herzegovina,1970,3760529\\r\\nBosnia and Herzegovina,1965,3535643\\r\\nBosnia and Herzegovina,1960,3225668\\r\\nNew Zealand,2010,4370062\\r\\nNew Zealand,2005,4135355\\r\\nNew Zealand,2000,3858999\\r\\nCentral African Republic,2015,4493170\\r\\nCentral African Republic,2010,4386768\\r\\nCentral African Republic,2005,4038382\\r\\nCentral African Republic,2000,3640427\\r\\nIreland,2018,4818690\\r\\nIreland,2017,4753279\\r\\nIreland,2016,4695779\\r\\nIreland,2015,4652425\\r\\nLiberia,2018,4818973\\r\\nLiberia,2017,4702226\\r\\nLiberia,2016,4586787\\r\\nLiberia,2015,4472230\\r\\nCosta Rica,2018,4999441\\r\\nCosta Rica,2017,4949954\\r\\nCosta Rica,2016,4899345\\r\\nGeorgia,1995,4976260\\r\\nGeorgia,1990,5410399\\r\\nGeorgia,1985,5211454\\r\\nMoldova,1995,4340597\\r\\nMoldova,1990,4365564\\r\\nMoldova,1985,4216249\\r\\nCroatia,2000,4428075\\r\\nCroatia,1995,4616766\\r\\nCroatia,1990,4776374\\r\\nQatar,1965,73633\\r\\nQatar,1960,47384\\r\\nQatar,1955,35866\\r\\nUruguay,1980,2915389\\r\\nUruguay,1975,2830176\\r\\nUruguay,1970,2809793\\r\\nJamaica,1970,1875642\\r\\nJamaica,1965,1756511\\r\\nJamaica,1960,1628520\\r\\nEritrea,1975,1505439\\r\\nEritrea,1970,1310945\\r\\nEritrea,1965,1148189\\r\\nEritrea,1960,1007590\\r\\nNamibia,1960,634142\\r\\nNamibia,1955,567847\\r\\nArmenia,1970,2525068\\r\\nArmenia,1965,2211319\\r\\nArmenia,1960,1874121\\r\\nArmenia,1955,1563507\\r\\nKuwait,2000,2045123\\r\\nKuwait,1995,1605901\\r\\nKuwait,1990,2095344\\r\\nKuwait,1985,1735274\\r\\nMongolia,1960,955505\\r\\nMongolia,1955,855103\\r\\nState of Palestine,2017,4747227\\r\\nState of Palestine,2016,4635654\\r\\nState of Palestine,2015,4529166\\r\\nState of Palestine,2010,4055631\\r\\nOman,2018,4829473\\r\\nOman,2017,4665928\\r\\nOman,2016,4479219\\r\\nOman,2015,4267348\\r\\nPanama,2005,3330217\\r\\nPanama,2000,3030328\\r\\nPanama,1995,2739668\\r\\nNorway,2018,5337962\\r\\nNorway,2017,5296326\\r\\nNorway,2016,5250949\\r\\nFinland,2020,5540720\\r\\nFinland,2019,5532156\\r\\nDenmark,2020,5792202\\r\\nDenmark,2019,5771876\\r\\nDenmark,2018,5752126\\r\\nSingapore,2020,5850342\\r\\nSingapore,2019,5804337\\r\\nSlovakia,2018,5453014\\r\\nSlovakia,2017,5447900\\r\\nSlovakia,2016,5442003\\r\\nMauritania,1990,2034346\\r\\nMauritania,1985,1780030\\r\\nMauritania,1980,1540640\\r\\nCongo,2018,5244359\\r\\nCongo,2017,5110695\\r\\nCongo,2016,4980996\\r\\nBosnia and Herzegovina,1955,2936309\\r\\nNew Zealand,1995,3674936\\r\\nNew Zealand,1990,3398172\\r\\nNew Zealand,1985,3268236\\r\\nNew Zealand,1980,3146619\\r\\nCentral African Republic,1995,3222656\\r\\nCentral African Republic,1990,2806734\\r\\nCentral African Republic,1985,2542169\\r\\nIreland,2010,4554321\\r\\nIreland,2005,4141223\\r\\nIreland,2000,3783103\\r\\nLiberia,2010,3891356\\r\\nLiberia,2005,3218116\\r\\nLiberia,2000,2848456\\r\\nLiberia,1995,2044661\\r\\nCosta Rica,2015,4847804\\r\\nCosta Rica,2010,4577378\\r\\nCosta Rica,2005,4285502\\r\\nGeorgia,1980,5017833\\r\\nGeorgia,1975,4873639\\r\\nGeorgia,1970,4713342\\r\\nMoldova,1980,4011076\\r\\nMoldova,1975,3840045\\r\\nMoldova,1970,3595555\\r\\nMoldova,1965,3336592\\r\\nCroatia,1985,4716117\\r\\nCroatia,1980,4598130\\r\\nCroatia,1975,4500867\\r\\nCroatia,1970,4423073\\r\\nUruguay,1965,2694536\\r\\nUruguay,1960,2538643\\r\\nUruguay,1955,2372559\\r\\nJamaica,1955,1540956\\r\\nEritrea,1955,899752\\r\\nKuwait,1980,1368677\\r\\nKuwait,1975,1021720\\r\\nKuwait,1970,744450\\r\\nKuwait,1965,472037\\r\\nState of Palestine,2005,3577961\\r\\nState of Palestine,2000,3224003\\r\\nState of Palestine,1995,2618668\\r\\nOman,2010,3041434\\r\\nOman,2005,2511251\\r\\nOman,2000,2267973\\r\\nOman,1995,2204277\\r\\nPanama,1990,2470947\\r\\nPanama,1985,2219201\\r\\nPanama,1980,1978487\\r\\nPanama,1975,1745138\\r\\nTurkmenistan,2020,6031200\\r\\nTurkmenistan,2019,5942089\\r\\nTurkmenistan,2018,5850901\\r\\nEl Salvador,2020,6486205\\r\\nEl Salvador,2019,6453553\\r\\nNorway,2015,5199836\\r\\nNorway,2010,4885878\\r\\nNorway,2005,4632364\\r\\nNorway,2000,4499367\\r\\nFinland,2018,5522576\\r\\nFinland,2017,5511371\\r\\nFinland,2016,5497713\\r\\nFinland,2015,5481122\\r\\nDenmark,2017,5732274\\r\\nDenmark,2016,5711349\\r\\nDenmark,2015,5688695\\r\\nSingapore,2018,5757499\\r\\nSingapore,2017,5708041\\r\\nSingapore,2016,5653634\\r\\nKyrgyzstan,2020,6524195\\r\\nKyrgyzstan,2019,6415850\\r\\nNicaragua,2020,6624554\\r\\nNicaragua,2019,6545502\\r\\nNicaragua,2018,6465501\\r\\nLebanon,2020,6825445\\r\\nLebanon,2019,6855713\\r\\nSlovakia,2015,5435611\\r\\nSlovakia,2010,5404294\\r\\nSlovakia,2005,5398963\\r\\nMauritania,1975,1330598\\r\\nMauritania,1970,1146780\\r\\nMauritania,1965,985910\\r\\nMauritania,1960,850384\\r\\nCongo,2015,4856095\\r\\nCongo,2010,4273731\\r\\nCongo,2005,3622775\\r\\nCongo,2000,3127411\\r\\nNew Zealand,1975,3082633\\r\\nNew Zealand,1970,2818387\\r\\nNew Zealand,1965,2626645\\r\\nNew Zealand,1960,2372594\\r\\nCentral African Republic,1980,2199356\\r\\nCentral African Republic,1975,1958367\\r\\nCentral African Republic,1970,1811144\\r\\nIreland,1995,3592186\\r\\nIreland,1990,3510885\\r\\nIreland,1985,3510979\\r\\nIreland,1980,3384756\\r\\nLiberia,1990,2075912\\r\\nLiberia,1985,2145754\\r\\nLiberia,1980,1853001\\r\\nCosta Rica,2000,3962372\\r\\nCosta Rica,1995,3545534\\r\\nCosta Rica,1990,3119433\\r\\nGeorgia,1965,4371527\\r\\nGeorgia,1960,4007723\\r\\nGeorgia,1955,3713133\\r\\nMoldova,1960,3004452\\r\\nMoldova,1955,2627012\\r\\nCroatia,1965,4328923\\r\\nCroatia,1960,4192635\\r\\nCroatia,1955,4030415\\r\\nKuwait,1960,269029\\r\\nKuwait,1955,181888\\r\\nState of Palestine,1990,2101446\\r\\nState of Palestine,1985,1759534\\r\\nState of Palestine,1980,1510713\\r\\nOman,1990,1812161\\r\\nOman,1985,1498418\\r\\nOman,1980,1154377\\r\\nOman,1975,882047\\r\\nPanama,1970,1519285\\r\\nPanama,1965,1314677\\r\\nPanama,1960,1132997\\r\\nPanama,1955,981080\\r\\nTurkmenistan,2017,5757667\\r\\nTurkmenistan,2016,5662368\\r\\nTurkmenistan,2015,5565287\\r\\nEl Salvador,2018,6420746\\r\\nEl Salvador,2017,6388126\\r\\nEl Salvador,2016,6356143\\r\\nEl Salvador,2015,6325124\\r\\nNorway,1995,4366995\\r\\nNorway,1990,4247285\\r\\nNorway,1985,4153105\\r\\nLibya,2020,6871292\\r\\nLibya,2019,6777452\\r\\nFinland,2010,5365782\\r\\nFinland,2005,5258927\\r\\nFinland,2000,5187954\\r\\nFinland,1995,5119005\\r\\nBulgaria,2020,6948445\\r\\nBulgaria,2019,7000119\\r\\nParaguay,2020,7132538\\r\\nParaguay,2019,7044636\\r\\nDenmark,2010,5554844\\r\\nDenmark,2005,5421702\\r\\nDenmark,2000,5341194\\r\\nDenmark,1995,5232704\\r\\nSingapore,2015,5592152\\r\\nSingapore,2010,5131172\\r\\nSingapore,2005,4265687\\r\\nSingapore,2000,4028871\\r\\nKyrgyzstan,2018,6304030\\r\\nKyrgyzstan,2017,6189733\\r\\nKyrgyzstan,2016,6074330\\r\\nKyrgyzstan,2015,5959121\\r\\nNicaragua,2017,6384846\\r\\nNicaragua,2016,6303974\\r\\nNicaragua,2015,6223240\\r\\nNicaragua,2010,5824065\\r\\nLebanon,2018,6859408\\r\\nLebanon,2017,6819373\\r\\nLebanon,2016,6714281\\r\\nLebanon,2015,6532678\\r\\nSlovakia,2000,5399211\\r\\nSlovakia,1995,5375470\\r\\nSlovakia,1990,5288454\\r\\nMauritania,1955,738299\\r\\nCongo,1995,2707537\\r\\nCongo,1990,2356737\\r\\nCongo,1985,2054312\\r\\nCongo,1980,1777934\\r\\nNew Zealand,1955,2136391\\r\\nCentral African Republic,1965,1639706\\r\\nCentral African Republic,1960,1501668\\r\\nCentral African Republic,1955,1401341\\r\\nIreland,1975,3137176\\r\\nIreland,1970,2908421\\r\\nIreland,1965,2823650\\r\\nLiberia,1975,1600452\\r\\nLiberia,1970,1400730\\r\\nLiberia,1965,1245102\\r\\nLiberia,1960,1118657\\r\\nCosta Rica,1985,2736712\\r\\nCosta Rica,1980,2389977\\r\\nCosta Rica,1975,2094188\\r\\nState of Palestine,1975,1323802\\r\\nState of Palestine,1970,1126629\\r\\nState of Palestine,1965,1191379\\r\\nOman,1970,723851\\r\\nOman,1965,625009\\r\\nOman,1960,551740\\r\\nOman,1955,495818\\r\\nTurkmenistan,2010,5087213\\r\\nTurkmenistan,2005,4754646\\r\\nTurkmenistan,2000,4516133\\r\\nEl Salvador,2010,6183875\\r\\nEl Salvador,2005,6052123\\r\\nEl Salvador,2000,5887936\\r\\nLaos,2020,7275560\\r\\nLaos,2019,7169455\\r\\nHong Kong,2020,7496981\\r\\nHong Kong,2019,7436154\\r\\nHong Kong,2018,7371730\\r\\nNorway,1980,4086076\\r\\nNorway,1975,4008031\\r\\nNorway,1970,3876060\\r\\nNorway,1965,3724463\\r\\nSierra Leone,2020,7976983\\r\\nSierra Leone,2019,7813215\\r\\nSierra Leone,2018,7650150\\r\\nTogo,2020,8278724\\r\\nTogo,2019,8082366\\r\\nLibya,2018,6678559\\r\\nLibya,2017,6580724\\r\\nLibya,2016,6492162\\r\\nLibya,2015,6418315\\r\\nFinland,1990,4996222\\r\\nFinland,1985,4911220\\r\\nFinland,1980,4788243\\r\\nFinland,1975,4718749\\r\\nSwitzerland,2020,8654622\\r\\nSwitzerland,2019,8591365\\r\\nBulgaria,2018,7051608\\r\\nBulgaria,2017,7102444\\r\\nBulgaria,2016,7151953\\r\\nBulgaria,2015,7199741\\r\\nParaguay,2018,6956066\\r\\nParaguay,2017,6867061\\r\\nParaguay,2016,6777872\\r\\nDenmark,1990,5141115\\r\\nDenmark,1985,5114243\\r\\nDenmark,1980,5123945\\r\\nDenmark,1975,5062729\\r\\nSingapore,1995,3525969\\r\\nSingapore,1990,3012966\\r\\nSingapore,1985,2705534\\r\\nKyrgyzstan,2010,5422293\\r\\nKyrgyzstan,2005,5075347\\r\\nKyrgyzstan,2000,4920712\\r\\nKyrgyzstan,1995,4566096\\r\\nNicaragua,2005,5438690\\r\\nNicaragua,2000,5069302\\r\\nNicaragua,1995,4652185\\r\\nNicaragua,1990,4173434\\r\\nLebanon,2010,4953061\\r\\nLebanon,2005,4698763\\r\\nLebanon,2000,3842778\\r\\nLebanon,1995,3528380\\r\\nSlovakia,1985,5166798\\r\\nSlovakia,1980,4996731\\r\\nSlovakia,1975,4752540\\r\\nCongo,1975,1536654\\r\\nCongo,1970,1326885\\r\\nCongo,1965,1155392\\r\\nIreland,1960,2791397\\r\\nIreland,1955,2873415\\r\\nLiberia,1955,1011363\\r\\nCosta Rica,1970,1847394\\r\\nCosta Rica,1965,1592841\\r\\nCosta Rica,1960,1330782\\r\\nState of Palestine,1960,1069320\\r\\nState of Palestine,1955,987755\\r\\nTurkmenistan,1995,4207841\\r\\nTurkmenistan,1990,3683967\\r\\nTurkmenistan,1985,3244018\\r\\nTurkmenistan,1980,2876808\\r\\nEl Salvador,1995,5628600\\r\\nEl Salvador,1990,5270079\\r\\nEl Salvador,1985,4936807\\r\\nLaos,2018,7061507\\r\\nLaos,2017,6953035\\r\\nLaos,2016,6845846\\r\\nLaos,2015,6741164\\r\\nHong Kong,2017,7306322\\r\\nHong Kong,2016,7243542\\r\\nHong Kong,2015,7185996\\r\\nNorway,1960,3582507\\r\\nNorway,1955,3430340\\r\\nSierra Leone,2017,7488423\\r\\nSierra Leone,2016,7328834\\r\\nSierra Leone,2015,7171914\\r\\nSierra Leone,2010,6415634\\r\\nTogo,2018,7889093\\r\\nTogo,2017,7698474\\r\\nTogo,2016,7509951\\r\\nIsrael,2020,8655535\\r\\nIsrael,2019,8519377\\r\\nSerbia,2020,8737371\\r\\nSerbia,2019,8772235\\r\\nLibya,2010,6197663\\r\\nLibya,2005,5798614\\r\\nLibya,2000,5357891\\r\\nLibya,1995,4948798\\r\\nPapua New Guinea,2020,8947024\\r\\nPapua New Guinea,2019,8776109\\r\\nFinland,1970,4612366\\r\\nFinland,1965,4568598\\r\\nFinland,1960,4434590\\r\\nSwitzerland,2018,8525611\\r\\nSwitzerland,2017,8455804\\r\\nSwitzerland,2016,8379917\\r\\nBulgaria,2010,7425008\\r\\nBulgaria,2005,7686962\\r\\nBulgaria,2000,7997957\\r\\nBulgaria,1995,8379308\\r\\nParaguay,2015,6688746\\r\\nParaguay,2010,6248020\\r\\nParaguay,2005,5824096\\r\\nDenmark,1970,4931241\\r\\nDenmark,1965,4760460\\r\\nDenmark,1960,4581101\\r\\nSingapore,1980,2411688\\r\\nSingapore,1975,2259721\\r\\nSingapore,1970,2072283\\r\\nSingapore,1965,1877826\\r\\nKyrgyzstan,1990,4372885\\r\\nKyrgyzstan,1985,3993071\\r\\nKyrgyzstan,1980,3610970\\r\\nNicaragua,1985,3734341\\r\\nNicaragua,1980,3265519\\r\\nNicaragua,1975,2806857\\r\\nLebanon,1990,2803044\\r\\nLebanon,1985,2651995\\r\\nLebanon,1980,2588929\\r\\nSlovakia,1970,4538841\\r\\nSlovakia,1965,4383452\\r\\nSlovakia,1960,4140129\\r\\nSlovakia,1955,3815402\\r\\nCongo,1960,1018253\\r\\nCongo,1955,911029\\r\\nCosta Rica,1955,1110087\\r\\nTurkmenistan,1975,2525364\\r\\nTurkmenistan,1970,2195175\\r\\nTurkmenistan,1965,1892599\\r\\nEl Salvador,1980,4591134\\r\\nEl Salvador,1975,4154692\\r\\nEl Salvador,1970,3673068\\r\\nLaos,2010,6249165\\r\\nLaos,2005,5751676\\r\\nLaos,2000,5323700\\r\\nHong Kong,2010,6966331\\r\\nHong Kong,2005,6769574\\r\\nHong Kong,2000,6606327\\r\\nHong Kong,1995,6084227\\r\\nAustria,2020,9006398\\r\\nBelarus,2020,9449323\\r\\nBelarus,2019,9452411\\r\\nSierra Leone,2005,5645624\\r\\nSierra Leone,2000,4584571\\r\\nSierra Leone,1995,4303957\\r\\nTajikistan,2020,9537645\\r\\nTajikistan,2019,9321018\\r\\nHungary,2020,9660351\\r\\nUnited Arab Emirates,2020,9890402\\r\\nUnited Arab Emirates,2019,9770529\\r\\nTogo,2015,7323158\\r\\nTogo,2010,6421679\\r\\nTogo,2005,5611640\\r\\nIsrael,2018,8381516\\r\\nIsrael,2017,8243848\\r\\nIsrael,2016,8108985\\r\\nSerbia,2018,8802754\\r\\nSerbia,2017,8829628\\r\\nSerbia,2016,8853963\\r\\nLibya,1990,4436661\\r\\nLibya,1985,3873781\\r\\nLibya,1980,3219466\\r\\nPapua New Guinea,2018,8606323\\r\\nPapua New Guinea,2017,8438036\\r\\nPapua New Guinea,2016,8271762\\r\\nPapua New Guinea,2015,8107775\\r\\nFinland,1955,4238275\\r\\nSwitzerland,2015,8296775\\r\\nSwitzerland,2010,7808675\\r\\nBulgaria,1990,8841458\\r\\nBulgaria,1985,8975361\\r\\nBulgaria,1980,8878791\\r\\nParaguay,2000,5323201\\r\\nParaguay,1995,4776843\\r\\nParaguay,1990,4223415\\r\\nDenmark,1955,4440778\\r\\nSingapore,1960,1633130\\r\\nSingapore,1955,1305105\\r\\nKyrgyzstan,1975,3291078\\r\\nKyrgyzstan,1970,2969851\\r\\nKyrgyzstan,1965,2569452\\r\\nNicaragua,1970,2406513\\r\\nNicaragua,1965,2068381\\r\\nNicaragua,1960,1773129\\r\\nNicaragua,1955,1508102\\r\\nLebanon,1975,2575749\\r\\nLebanon,1970,2297434\\r\\nLebanon,1965,2092375\\r\\nTurkmenistan,1960,1603258\\r\\nTurkmenistan,1955,1364635\\r\\nEl Salvador,1965,3201313\\r\\nEl Salvador,1960,2766324\\r\\nEl Salvador,1955,2432880\\r\\nLaos,1995,4846483\\r\\nLaos,1990,4258472\\r\\nLaos,1985,3687898\\r\\nLaos,1980,3258144\\r\\nHong Kong,1990,5727938\\r\\nHong Kong,1985,5287022\\r\\nHong Kong,1980,4868742\\r\\nAustria,2019,8955102\\r\\nAustria,2018,8891388\\r\\nAustria,2017,8819901\\r\\nAustria,2016,8747301\\r\\nBelarus,2018,9452617\\r\\nBelarus,2017,9450231\\r\\nBelarus,2016,9445643\\r\\nBelarus,2015,9439423\\r\\nSierra Leone,1990,4319762\\r\\nSierra Leone,1985,3805311\\r\\nSierra Leone,1980,3388495\\r\\nSierra Leone,1975,3037154\\r\\nTajikistan,2018,9100835\\r\\nTajikistan,2017,8880268\\r\\nTajikistan,2016,8663579\\r\\nTajikistan,2015,8454028\\r\\nHungary,2019,9684679\\r\\nHungary,2018,9707499\\r\\nHungary,2017,9729823\\r\\nHungary,2016,9752975\\r\\nUnited Arab Emirates,2018,9630959\\r\\nUnited Arab Emirates,2017,9487203\\r\\nUnited Arab Emirates,2016,9360980\\r\\nHonduras,2020,9904607\\r\\nHonduras,2019,9746117\\r\\nHonduras,2018,9587522\\r\\nTogo,2000,4924402\\r\\nTogo,1995,4226291\\r\\nTogo,1990,3774312\\r\\nSweden,2020,10099265\\r\\nSweden,2019,10036379\\r\\nAzerbaijan,2020,10139177\\r\\nIsrael,2015,7978490\\r\\nIsrael,2010,7346446\\r\\nIsrael,2005,6529479\\r\\nSerbia,2015,8876777\\r\\nSerbia,2010,8991254\\r\\nSerbia,2005,9193825\\r\\nLibya,1975,2645139\\r\\nLibya,1970,2133526\\r\\nLibya,1965,1733306\\r\\nPapua New Guinea,2010,7310507\\r\\nPapua New Guinea,2005,6494903\\r\\nPapua New Guinea,2000,5847586\\r\\nPapua New Guinea,1995,5187060\\r\\nSwitzerland,2005,7386816\\r\\nSwitzerland,2000,7143761\\r\\nSwitzerland,1995,6995521\\r\\nBulgaria,1975,8738392\\r\\nBulgaria,1970,8507551\\r\\nBulgaria,1965,8222589\\r\\nParaguay,1985,3676210\\r\\nParaguay,1980,3181625\\r\\nParaguay,1975,2791241\\r\\nKyrgyzstan,1960,2170094\\r\\nKyrgyzstan,1955,1904062\\r\\nLebanon,1960,1804941\\r\\nLebanon,1955,1532115\\r\\nLaos,1975,3051577\\r\\nLaos,1970,2688428\\r\\nLaos,1965,2382594\\r\\nLaos,1960,2120898\\r\\nHong Kong,1975,4208955\\r\\nHong Kong,1970,3848924\\r\\nHong Kong,1965,3467220\\r\\nAustria,2015,8678660\\r\\nAustria,2010,8409949\\r\\nAustria,2005,8253650\\r\\nAustria,2000,8069276\\r\\nBelarus,2010,9420574\\r\\nBelarus,2005,9562088\\r\\nBelarus,2000,9871632\\r\\nSierra Leone,1970,2744891\\r\\nSierra Leone,1965,2508219\\r\\nSierra Leone,1960,2317636\\r\\nSierra Leone,1955,2165815\\r\\nPortugal,2020,10196709\\r\\nJordan,2020,10203134\\r\\nJordan,2019,10101694\\r\\nTajikistan,2010,7527394\\r\\nTajikistan,2005,6789321\\r\\nTajikistan,2000,6216341\\r\\nGreece,2020,10423054\\r\\nGreece,2019,10473455\\r\\nCzech Republic (Czechia),2020,10708981\\r\\nCzech Republic (Czechia),2019,10689209\\r\\nDominican Republic,2020,10847910\\r\\nDominican Republic,2019,10738958\\r\\nHungary,2015,9777923\\r\\nHungary,2010,9927370\\r\\nHungary,2005,10085937\\r\\nUnited Arab Emirates,2015,9262900\\r\\nUnited Arab Emirates,2010,8549988\\r\\nUnited Arab Emirates,2005,4588225\\r\\nUnited Arab Emirates,2000,3134062\\r\\nHonduras,2017,9429013\\r\\nHonduras,2016,9270795\\r\\nHonduras,2015,9112916\\r\\nTogo,1985,3252994\\r\\nTogo,1980,2720839\\r\\nTogo,1975,2410446\\r\\nSweden,2018,9971638\\r\\nSweden,2017,9904896\\r\\nSweden,2016,9836007\\r\\nAzerbaijan,2019,10047718\\r\\nAzerbaijan,2018,9949537\\r\\nAzerbaijan,2017,9845320\\r\\nIsrael,2000,5945950\\r\\nIsrael,1995,5271367\\r\\nIsrael,1990,4448353\\r\\nSerbia,2000,9487616\\r\\nSerbia,1995,9884147\\r\\nSerbia,1990,9517675\\r\\nSerbia,1985,9253405\\r\\nLibya,1960,1448417\\r\\nLibya,1955,1245358\\r\\nPapua New Guinea,1990,4615839\\r\\nPapua New Guinea,1985,4081030\\r\\nPapua New Guinea,1980,3571205\\r\\nSwitzerland,1990,6652868\\r\\nSwitzerland,1985,6435424\\r\\nSwitzerland,1980,6283832\\r\\nSwitzerland,1975,6337025\\r\\nBulgaria,1960,7885607\\r\\nBulgaria,1955,7561493\\r\\nParaguay,1970,2474763\\r\\nParaguay,1965,2172306\\r\\nParaguay,1960,1903982\\r\\nLaos,1955,1890854\\r\\nHong Kong,1960,3046050\\r\\nHong Kong,1955,2472658\\r\\nAustria,1995,7990121\\r\\nAustria,1990,7723949\\r\\nAustria,1985,7614868\\r\\nAustria,1980,7609752\\r\\nBelarus,1995,10077608\\r\\nBelarus,1990,10151134\\r\\nBelarus,1985,9901493\\r\\nPortugal,2019,10226187\\r\\nPortugal,2018,10256193\\r\\nPortugal,2017,10288527\\r\\nJordan,2018,9965318\\r\\nJordan,2017,9785843\\r\\nJordan,2016,9554286\\r\\nTajikistan,1995,5764810\\r\\nTajikistan,1990,5283814\\r\\nTajikistan,1985,4537822\\r\\nTajikistan,1980,3905446\\r\\nSouth Sudan,2020,11193725\\r\\nSouth Sudan,2019,11062113\\r\\nSouth Sudan,2018,10975927\\r\\nCuba,2020,11326616\\r\\nCuba,2019,11333483\\r\\nCuba,2018,11338134\\r\\nGreece,2018,10522246\\r\\nGreece,2017,10569450\\r\\nGreece,2016,10615185\\r\\nHaiti,2020,11402528\\r\\nHaiti,2019,11263077\\r\\nCzech Republic (Czechia),2018,10665677\\r\\nCzech Republic (Czechia),2017,10641034\\r\\nCzech Republic (Czechia),2016,10618857\\r\\nDominican Republic,2018,10627141\\r\\nDominican Republic,2017,10513104\\r\\nDominican Republic,2016,10397741\\r\\nDominican Republic,2015,10281680\\r\\nHungary,2000,10220507\\r\\nHungary,1995,10349302\\r\\nHungary,1990,10377137\\r\\nUnited Arab Emirates,1995,2415090\\r\\nUnited Arab Emirates,1990,1828432\\r\\nUnited Arab Emirates,1985,1366164\\r\\nUnited Arab Emirates,1980,1019509\\r\\nHonduras,2010,8317470\\r\\nHonduras,2005,7458985\\r\\nHonduras,2000,6574509\\r\\nTogo,1970,2115522\\r\\nTogo,1965,1708630\\r\\nTogo,1960,1580513\\r\\nSweden,2015,9764950\\r\\nSweden,2010,9390168\\r\\nSweden,2005,9038623\\r\\nAzerbaijan,2016,9736043\\r\\nAzerbaijan,2015,9622745\\r\\nAzerbaijan,2010,9032461\\r\\nIsrael,1985,4035068\\r\\nIsrael,1980,3700919\\r\\nIsrael,1975,3296935\\r\\nSerbia,1980,8908294\\r\\nSerbia,1975,8497170\\r\\nSerbia,1970,8119860\\r\\nSerbia,1965,7835083\\r\\nPapua New Guinea,1975,3139945\\r\\nPapua New Guinea,1970,2783121\\r\\nPapua New Guinea,1965,2485437\\r\\nSwitzerland,1970,6150852\\r\\nSwitzerland,1965,5812851\\r\\nSwitzerland,1960,5280680\\r\\nSwitzerland,1955,4957066\\r\\nParaguay,1955,1673665\\r\\nAustria,1975,7637689\\r\\nAustria,1970,7516239\\r\\nAustria,1965,7305158\\r\\nAustria,1960,7070766\\r\\nBelarus,1980,9569847\\r\\nBelarus,1975,9252779\\r\\nBelarus,1970,8913552\\r\\nPortugal,2016,10325538\\r\\nPortugal,2015,10368351\\r\\nPortugal,2010,10596058\\r\\nPortugal,2005,10508495\\r\\nJordan,2015,9266575\\r\\nJordan,2010,7261539\\r\\nJordan,2005,5765635\\r\\nBelgium,2020,11589623\\r\\nBelgium,2019,11539328\\r\\nTajikistan,1975,3390941\\r\\nTajikistan,1970,2930107\\r\\nTajikistan,1965,2487976\\r\\nTajikistan,1960,2087049\\r\\nBolivia,2020,11673021\\r\\nBolivia,2019,11513100\\r\\nTunisia,2020,11818619\\r\\nTunisia,2019,11694719\\r\\nSouth Sudan,2017,10910763\\r\\nSouth Sudan,2016,10832518\\r\\nSouth Sudan,2015,10715658\\r\\nBurundi,2020,11890784\\r\\nBurundi,2019,11530580\\r\\nBurundi,2018,11175374\\r\\nCuba,2017,11339254\\r\\nCuba,2016,11335104\\r\\nCuba,2015,11324781\\r\\nBenin,2020,12123200\\r\\nBenin,2019,11801151\\r\\nBenin,2018,11485044\\r\\nGreece,2015,10659750\\r\\nGreece,2010,10887637\\r\\nGreece,2005,11224791\\r\\nGreece,2000,11082104\\r\\nHaiti,2018,11123178\\r\\nHaiti,2017,10982366\\r\\nHaiti,2016,10839970\\r\\nCzech Republic (Czechia),2015,10601397\\r\\nCzech Republic (Czechia),2010,10536518\\r\\nCzech Republic (Czechia),2005,10258167\\r\\nCzech Republic (Czechia),2000,10289373\\r\\nDominican Republic,2010,9695121\\r\\nDominican Republic,2005,9097257\\r\\nDominican Republic,2000,8471321\\r\\nHungary,1985,10566323\\r\\nHungary,1980,10754286\\r\\nHungary,1975,10526780\\r\\nUnited Arab Emirates,1975,548301\\r\\nUnited Arab Emirates,1970,234514\\r\\nUnited Arab Emirates,1965,149857\\r\\nUnited Arab Emirates,1960,92418\\r\\nHonduras,1995,5709014\\r\\nHonduras,1990,4955303\\r\\nHonduras,1985,4281161\\r\\nHonduras,1980,3678279\\r\\nTogo,1955,1473839\\r\\nSweden,2000,8881640\\r\\nSweden,1995,8836420\\r\\nSweden,1990,8567384\\r\\nAzerbaijan,2005,8538605\\r\\nAzerbaijan,2000,8122741\\r\\nAzerbaijan,1995,7775424\\r\\nAzerbaijan,1990,7242761\\r\\nIsrael,1970,2813749\\r\\nIsrael,1965,2490317\\r\\nIsrael,1960,2060480\\r\\nSerbia,1960,7556727\\r\\nSerbia,1955,7234922\\r\\nPapua New Guinea,1960,2255859\\r\\nPapua New Guinea,1955,2086247\\r\\nAustria,1955,6953406\\r\\nBelarus,1965,8505722\\r\\nBelarus,1960,8124881\\r\\nBelarus,1955,7747210\\r\\nPortugal,2000,10297112\\r\\nPortugal,1995,10091325\\r\\nPortugal,1990,9895364\\r\\nJordan,2000,5122493\\r\\nJordan,1995,4588843\\r\\nJordan,1990,3565890\\r\\nBelgium,2018,11482178\\r\\nBelgium,2017,11419748\\r\\nTajikistan,1955,1794416\\r\\nBolivia,2018,11353142\\r\\nBolivia,2017,11192855\\r\\nBolivia,2016,11031814\\r\\nBolivia,2015,10869730\\r\\nTunisia,2018,11565201\\r\\nTunisia,2017,11433443\\r\\nTunisia,2016,11303945\\r\\nTunisia,2015,11179949\\r\\nRwanda,2020,12952218\\r\\nRwanda,2019,12626950\\r\\nSouth Sudan,2010,9508364\\r\\nSouth Sudan,2005,7535932\\r\\nSouth Sudan,2000,6199394\\r\\nSouth Sudan,1995,5118083\\r\\nGuinea,2020,13132795\\r\\nGuinea,2019,12771246\\r\\nBurundi,2017,10827019\\r\\nBurundi,2016,10487995\\r\\nBurundi,2015,10160030\\r\\nZimbabwe,2020,14862924\\r\\nZimbabwe,2019,14645468\\r\\nCuba,2010,11225832\\r\\nCuba,2005,11261582\\r\\nCuba,2000,11126430\\r\\nBenin,2017,11175198\\r\\nBenin,2016,10872063\\r\\nBenin,2015,10575952\\r\\nGreece,1995,10745503\\r\\nGreece,1990,10225992\\r\\nGreece,1985,9968238\\r\\nGreece,1980,9627002\\r\\nHaiti,2015,10695542\\r\\nHaiti,2010,9949322\\r\\nHaiti,2005,9195288\\r\\nHaiti,2000,8463806\\r\\nCzech Republic (Czechia),1995,10358193\\r\\nCzech Republic (Czechia),1990,10340875\\r\\nCzech Republic (Czechia),1985,10331143\\r\\nDominican Republic,1995,7819247\\r\\nDominican Republic,1990,7133494\\r\\nDominican Republic,1985,6464229\\r\\nDominican Republic,1980,5803927\\r\\nHungary,1970,10366105\\r\\nHungary,1965,10169799\\r\\nHungary,1960,10000994\\r\\nUnited Arab Emirates,1955,79578\\r\\nHonduras,1975,3153253\\r\\nHonduras,1970,2716654\\r\\nHonduras,1965,2346015\\r\\nHonduras,1960,2038632\\r\\nSweden,1985,8357652\\r\\nSweden,1980,8316338\\r\\nSweden,1975,8197340\\r\\nAzerbaijan,1985,6666447\\r\\nAzerbaijan,1980,6150733\\r\\nAzerbaijan,1975,5674133\\r\\nIsrael,1955,1691878\\r\\nPortugal,1985,9929184\\r\\nPortugal,1980,9750964\\r\\nPortugal,1975,9172241\\r\\nPortugal,1970,8651340\\r\\nJordan,1985,2900049\\r\\nJordan,1980,2377995\\r\\nJordan,1975,2065913\\r\\nBelgium,2016,11354420\\r\\nBelgium,2015,11287940\\r\\nBelgium,2010,10938739\\r\\nSomalia,2020,15893222\\r\\nSomalia,2019,15442905\\r\\nBolivia,2010,10048590\\r\\nBolivia,2005,9232306\\r\\nBolivia,2000,8418264\\r\\nBolivia,1995,7622338\\r\\nChad,2020,16425864\\r\\nChad,2019,15946876\\r\\nCambodia,2020,16718965\\r\\nCambodia,2019,16486542\\r\\nCambodia,2018,16249792\\r\\nSenegal,2020,16743927\\r\\nSenegal,2019,16296364\\r\\nTunisia,2010,10635244\\r\\nTunisia,2005,10106771\\r\\nTunisia,2000,9708350\\r\\nRwanda,2018,12301970\\r\\nRwanda,2017,11980961\\r\\nRwanda,2016,11668827\\r\\nNetherlands,2020,17134872\\r\\nNetherlands,2019,17097130\\r\\nSouth Sudan,1990,5492623\\r\\nSouth Sudan,1985,5220747\\r\\nSouth Sudan,1980,4502604\\r\\nSouth Sudan,1975,3941618\\r\\nGuinea,2018,12414293\\r\\nGuinea,2017,12067519\\r\\nGuinea,2016,11738429\\r\\nBurundi,2010,8675602\\r\\nBurundi,2005,7364862\\r\\nBurundi,2000,6378871\\r\\nZimbabwe,2018,14438802\\r\\nZimbabwe,2017,14236595\\r\\nZimbabwe,2016,14030331\\r\\nZimbabwe,2015,13814629\\r\\nCuba,1995,10888252\\r\\nCuba,1990,10596987\\r\\nCuba,1985,10097911\\r\\nCuba,1980,9849459\\r\\nBenin,2010,9199259\\r\\nBenin,2005,7982225\\r\\nBenin,2000,6865951\\r\\nBenin,1995,5905558\\r\\nGreece,1975,9014085\\r\\nGreece,1970,8663571\\r\\nGreece,1965,8453821\\r\\nHaiti,1995,7744503\\r\\nHaiti,1990,7037917\\r\\nHaiti,1985,6337273\\r\\nHaiti,1980,5643173\\r\\nCzech Republic (Czechia),1980,10349083\\r\\nCzech Republic (Czechia),1975,10069955\\r\\nCzech Republic (Czechia),1970,9817669\\r\\nCzech Republic (Czechia),1965,9811377\\r\\nDominican Republic,1975,5144637\\r\\nDominican Republic,1970,4499720\\r\\nDominican Republic,1965,3877765\\r\\nDominican Republic,1960,3294224\\r\\nHungary,1955,9828494\\r\\nHonduras,1955,1771352\\r\\nSweden,1970,8054916\\r\\nSweden,1965,7745673\\r\\nAzerbaijan,1970,5180023\\r\\nAzerbaijan,1965,4592609\\r\\nAzerbaijan,1960,3895397\\r\\nPortugal,1965,8862280\\r\\nPortugal,1960,8844645\\r\\nPortugal,1955,8625532\\r\\nJordan,1970,1721323\\r\\nJordan,1965,1173606\\r\\nJordan,1960,933102\\r\\nJordan,1955,682968\\r\\nBelgium,2005,10546886\\r\\nBelgium,2000,10282033\\r\\nBelgium,1995,10186305\\r\\nSomalia,2018,15008226\\r\\nSomalia,2017,14589179\\r\\nSomalia,2016,14185636\\r\\nBolivia,1990,6864842\\r\\nBolivia,1985,6179460\\r\\nBolivia,1980,5579935\\r\\nChad,2018,15477729\\r\\nChad,2017,15016753\\r\\nChad,2016,14561660\\r\\nCambodia,2017,16009409\\r\\nCambodia,2016,15766292\\r\\nCambodia,2015,15521436\\r\\nSenegal,2018,15854323\\r\\nSenegal,2017,15419355\\r\\nSenegal,2016,14993519\\r\\nTunisia,1995,9125398\\r\\nTunisia,1990,8242496\\r\\nTunisia,1985,7329594\\r\\nSyria,2020,17500658\\r\\nSyria,2019,17070135\\r\\nRwanda,2015,11369071\\r\\nRwanda,2010,10039338\\r\\nRwanda,2005,8840215\\r\\nRwanda,2000,7933681\\r\\nEcuador,2020,17643054\\r\\nEcuador,2019,17373662\\r\\nNetherlands,2018,17059560\\r\\nNetherlands,2017,17021347\\r\\nNetherlands,2016,16981295\\r\\nGuatemala,2020,17915568\\r\\nGuatemala,2019,17581472\\r\\nGuatemala,2018,17247849\\r\\nSouth Sudan,1970,3494004\\r\\nSouth Sudan,1965,3133150\\r\\nSouth Sudan,1960,2842724\\r\\nSouth Sudan,1955,2619712\\r\\nGuinea,2015,11432088\\r\\nGuinea,2010,10192176\\r\\nGuinea,2005,9109581\\r\\nBurundi,1995,5987043\\r\\nBurundi,1990,5438957\\r\\nBurundi,1985,4750837\\r\\nZimbabwe,2010,12697723\\r\\nZimbabwe,2005,12076699\\r\\nZimbabwe,2000,11881477\\r\\nZimbabwe,1995,11410714\\r\\nCuba,1975,9446442\\r\\nCuba,1970,8712541\\r\\nCuba,1965,7958169\\r\\nCuba,1960,7141250\\r\\nBenin,1990,4978496\\r\\nBenin,1985,4278501\\r\\nBenin,1980,3717165\\r\\nGreece,1960,8273629\\r\\nGreece,1955,8011124\\r\\nHaiti,1975,5094577\\r\\nHaiti,1970,4676230\\r\\nHaiti,1965,4258732\\r\\nCzech Republic (Czechia),1960,9590174\\r\\nCzech Republic (Czechia),1955,9361772\\r\\nDominican Republic,1955,2781336\\r\\nSweden,1960,7482543\\r\\nSweden,1955,7262623\\r\\nAzerbaijan,1955,3329387\\r\\nBelgium,1990,10006544\\r\\nBelgium,1985,9916578\\r\\nBelgium,1980,9868995\\r\\nBelgium,1975,9771586\\r\\nSomalia,2015,13797201\\r\\nSomalia,2010,12043883\\r\\nSomalia,2005,10446863\\r\\nBolivia,1975,5001419\\r\\nBolivia,1970,4484004\\r\\nBolivia,1965,4038872\\r\\nBolivia,1960,3656955\\r\\nChad,2015,14110975\\r\\nChad,2010,11952136\\r\\nChad,2005,10096633\\r\\nChad,2000,8355654\\r\\nCambodia,2010,14312212\\r\\nCambodia,2005,13273354\\r\\nCambodia,2000,12155239\\r\\nZambia,2020,18383955\\r\\nZambia,2019,17861030\\r\\nKazakhstan,2020,18776707\\r\\nKazakhstan,2019,18551427\\r\\nChile,2020,19116201\\r\\nSenegal,2015,14578459\\r\\nSenegal,2010,12678148\\r\\nSenegal,2005,11090116\\r\\nSenegal,2000,9797734\\r\\nMalawi,2020,19129952\\r\\nMalawi,2019,18628747\\r\\nMalawi,2018,18143217\\r\\nTunisia,1980,6374039\\r\\nTunisia,1975,5656914\\r\\nTunisia,1970,5063809\\r\\nRomania,2020,19237691\\r\\nRomania,2019,19364557\\r\\nSyria,2018,16945057\\r\\nSyria,2017,17095678\\r\\nSyria,2016,17465575\\r\\nRwanda,1995,5836495\\r\\nEcuador,2018,17084358\\r\\nEcuador,2017,16785361\\r\\nEcuador,2016,16491116\\r\\nEcuador,2015,16212020\\r\\nNetherlands,2015,16938499\\r\\nNetherlands,2010,16682917\\r\\nNetherlands,2005,16367158\\r\\nNetherlands,2000,15926188\\r\\nGuatemala,2017,16914970\\r\\nGuatemala,2016,16583076\\r\\nGuatemala,2015,16252429\\r\\nGuinea,2000,8240730\\r\\nGuinea,1995,7269625\\r\\nGuinea,1990,6352283\\r\\nBurundi,1980,4157298\\r\\nBurundi,1975,3700880\\r\\nBurundi,1970,3479074\\r\\nZimbabwe,1990,10432421\\r\\nZimbabwe,1985,8877489\\r\\nZimbabwe,1980,7408624\\r\\nZimbabwe,1975,6293875\\r\\nCuba,1955,6539454\\r\\nBenin,1975,3265165\\r\\nBenin,1970,2912340\\r\\nBenin,1965,2632356\\r\\nBenin,1960,2431622\\r\\nHaiti,1960,3866159\\r\\nHaiti,1955,3514074\\r\\nBelgium,1970,9632180\\r\\nBelgium,1965,9443939\\r\\nBelgium,1960,9167365\\r\\nBelgium,1955,8887274\\r\\nSomalia,2000,8872254\\r\\nSomalia,1995,7491637\\r\\nSomalia,1990,7225092\\r\\nBolivia,1955,3331036\\r\\nChad,1995,7010145\\r\\nChad,1990,5963252\\r\\nChad,1985,5095401\\r\\nCambodia,1995,10656138\\r\\nCambodia,1990,8975597\\r\\nCambodia,1985,7714880\\r\\nZambia,2018,17351708\\r\\nZambia,2017,16853599\\r\\nZambia,2016,16363458\\r\\nZambia,2015,15879361\\r\\nKazakhstan,2018,18319618\\r\\nKazakhstan,2017,18080019\\r\\nKazakhstan,2016,17830901\\r\\nKazakhstan,2015,17572016\\r\\nChile,2019,18952038\\r\\nChile,2018,18729160\\r\\nChile,2017,18470439\\r\\nChile,2016,18209068\\r\\nMali,2020,20250833\\r\\nMali,2019,19658031\\r\\nBurkina Faso,2020,20903273\\r\\nBurkina Faso,2019,20321378\\r\\nSenegal,1995,8690164\\r\\nSenegal,1990,7526307\\r\\nSenegal,1985,6471327\\r\\nSri Lanka,2020,21413249\\r\\nSri Lanka,2019,21323733\\r\\nMalawi,2017,17670196\\r\\nMalawi,2016,17205261\\r\\nMalawi,2015,16745303\\r\\nTunisia,1965,4547941\\r\\nTunisia,1960,4178236\\r\\nTunisia,1955,3943540\\r\\nRomania,2018,19506114\\r\\nRomania,2017,19653969\\r\\nRomania,2016,19796285\\r\\nSyria,2015,17997408\\r\\nSyria,2010,21362529\\r\\nSyria,2005,18361176\\r\\nSyria,2000,16410848\\r\\nRwanda,1990,7288882\\r\\nRwanda,1985,6146891\\r\\nRwanda,1980,5153312\\r\\nEcuador,2010,15011117\\r\\nEcuador,2005,13825847\\r\\nEcuador,2000,12681123\\r\\nEcuador,1995,11455204\\r\\nNetherlands,1995,15467851\\r\\nNetherlands,1990,14965448\\r\\nNetherlands,1985,14513949\\r\\nGuatemala,2010,14630417\\r\\nGuatemala,2005,13096028\\r\\nGuatemala,2000,11650743\\r\\nGuatemala,1995,10408489\\r\\nGuinea,1985,5470702\\r\\nGuinea,1980,4871435\\r\\nGuinea,1975,4491248\\r\\nGuinea,1970,4154605\\r\\nBurundi,1965,3094379\\r\\nBurundi,1960,2797932\\r\\nBurundi,1955,2537157\\r\\nZimbabwe,1970,5289303\\r\\nZimbabwe,1965,4471177\\r\\nZimbabwe,1960,3776681\\r\\nBenin,1955,2303587\\r\\nSomalia,1985,6648627\\r\\nSomalia,1980,6281134\\r\\nSomalia,1975,3880292\\r\\nSomalia,1970,3444568\\r\\nChad,1980,4514430\\r\\nChad,1975,4088564\\r\\nChad,1970,3643604\\r\\nChad,1965,3309586\\r\\nCambodia,1980,6693764\\r\\nCambodia,1975,7524447\\r\\nCambodia,1970,6996576\\r\\nCambodia,1965,6467197\\r\\nZambia,2010,13605984\\r\\nZambia,2005,11856247\\r\\nZambia,2000,10415944\\r\\nKazakhstan,2010,16252279\\r\\nKazakhstan,2005,15402807\\r\\nKazakhstan,2000,14922719\\r\\nKazakhstan,1995,15839363\\r\\nTaiwan,2020,23816775\\r\\nTaiwan,2019,23773876\\r\\nNiger,2020,24206644\\r\\nNiger,2019,23310715\\r\\nAustralia,2020,25499884\\r\\nAustralia,2019,25203198\\r\\nNorth Korea,2020,25778816\\r\\nNorth Korea,2019,25666161\\r\\nC\\xc3\\xb4te d'Ivoire,2020,26378274\\r\\nC\\xc3\\xb4te d'Ivoire,2019,25716544\\r\\nChile,2015,17969353\\r\\nChile,2010,17062536\\r\\nChile,2005,16182721\\r\\nChile,2000,15342353\\r\\nMali,2018,19077749\\r\\nMali,2017,18512430\\r\\nMali,2016,17965443\\r\\nBurkina Faso,2018,19751466\\r\\nBurkina Faso,2017,19193234\\r\\nBurkina Faso,2016,18646357\\r\\nSenegal,1980,5583165\\r\\nSenegal,1975,4929846\\r\\nSenegal,1970,4257505\\r\\nSenegal,1965,3682876\\r\\nSri Lanka,2018,21228763\\r\\nSri Lanka,2017,21128032\\r\\nSri Lanka,2016,21021171\\r\\nMalawi,2010,14539612\\r\\nMalawi,2005,12625952\\r\\nMalawi,2000,11148758\\r\\nRomania,2015,19925175\\r\\nRomania,2010,20471864\\r\\nRomania,2005,21417291\\r\\nSyria,1995,14345492\\r\\nSyria,1990,12446171\\r\\nSyria,1985,10648632\\r\\nSyria,1980,8930774\\r\\nRwanda,1975,4364706\\r\\nRwanda,1970,3757358\\r\\nRwanda,1965,3235531\\r\\nEcuador,1990,10230934\\r\\nEcuador,1985,9066109\\r\\nEcuador,1980,7989186\\r\\nEcuador,1975,6994334\\r\\nNetherlands,1980,14148415\\r\\nNetherlands,1975,13683291\\r\\nNetherlands,1970,13001943\\r\\nGuatemala,1990,9263813\\r\\nGuatemala,1985,8240060\\r\\nGuatemala,1980,7283459\\r\\nGuatemala,1975,6433728\\r\\nGuinea,1965,3801705\\r\\nGuinea,1960,3494162\\r\\nGuinea,1955,3229649\\r\\nZimbabwe,1955,3213286\\r\\nSomalia,1965,3068459\\r\\nSomalia,1960,2755972\\r\\nSomalia,1955,2491542\\r\\nChad,1960,3001609\\r\\nChad,1955,2735198\\r\\nCambodia,1960,5722370\\r\\nCambodia,1955,5045288\\r\\nZambia,1995,9096607\\r\\nZambia,1990,8036845\\r\\nZambia,1985,6923149\\r\\nZambia,1980,5851825\\r\\nKazakhstan,1990,16383887\\r\\nKazakhstan,1985,15665595\\r\\nTaiwan,2018,23726460\\r\\nTaiwan,2017,23674546\\r\\nTaiwan,2016,23618200\\r\\nNiger,2018,22442822\\r\\nNiger,2017,21602382\\r\\nNiger,2016,20788798\\r\\nNiger,2015,20001663\\r\\nAustralia,2018,24898152\\r\\nAustralia,2017,24584620\\r\\nAustralia,2016,24262712\\r\\nAustralia,2015,23932502\\r\\nNorth Korea,2018,25549604\\r\\nNorth Korea,2017,25429825\\r\\nNorth Korea,2016,25307665\\r\\nC\\xc3\\xb4te d'Ivoire,2018,25069230\\r\\nC\\xc3\\xb4te d'Ivoire,2017,24437470\\r\\nC\\xc3\\xb4te d'Ivoire,2016,23822714\\r\\nCameroon,2020,26545863\\r\\nCameroon,2019,25876380\\r\\nChile,1995,14380866\\r\\nChile,1990,13274623\\r\\nChile,1985,12257236\\r\\nMadagascar,2020,27691018\\r\\nMadagascar,2019,26969307\\r\\nVenezuela,2020,28435940\\r\\nVenezuela,2019,28515829\\r\\nVenezuela,2018,28887118\\r\\nMali,2015,17438778\\r\\nMali,2010,15049353\\r\\nMali,2005,12775516\\r\\nBurkina Faso,2015,18110624\\r\\nBurkina Faso,2010,15605217\\r\\nBurkina Faso,2005,13421930\\r\\nSenegal,1960,3206749\\r\\nSenegal,1955,2808225\\r\\nSri Lanka,2015,20908027\\r\\nSri Lanka,2010,20261737\\r\\nSri Lanka,2005,19544988\\r\\nMalawi,1995,9844415\\r\\nMalawi,1990,9404500\\r\\nMalawi,1985,7268267\\r\\nRomania,2000,22137419\\r\\nRomania,1995,22964754\\r\\nRomania,1990,23489160\\r\\nRomania,1985,23071274\\r\\nSyria,1975,7535714\\r\\nSyria,1970,6350541\\r\\nSyria,1965,5373137\\r\\nRwanda,1960,2935582\\r\\nRwanda,1955,2527294\\r\\nEcuador,1970,6069376\\r\\nEcuador,1965,5243977\\r\\nEcuador,1960,4543666\\r\\nNetherlands,1965,12248344\\r\\nNetherlands,1960,11448817\\r\\nNetherlands,1955,10709630\\r\\nGuatemala,1970,5621792\\r\\nGuatemala,1965,4869716\\r\\nGuatemala,1960,4210747\\r\\nGuatemala,1955,3625300\\r\\nZambia,1975,4943283\\r\\nZambia,1970,4179067\\r\\nZambia,1965,3570464\\r\\nZambia,1960,3070776\\r\\nKazakhstan,1980,14796174\\r\\nKazakhstan,1975,14050226\\r\\nKazakhstan,1970,13036139\\r\\nTaiwan,2015,23557477\\r\\nTaiwan,2010,23187551\\r\\nTaiwan,2005,22705713\\r\\nNepal,2020,29136808\\r\\nNepal,2019,28608710\\r\\nNiger,2010,16464025\\r\\nNiger,2005,13624467\\r\\nNiger,2000,11331557\\r\\nYemen,2020,29825964\\r\\nYemen,2019,29161922\\r\\nGhana,2020,31072940\\r\\nGhana,2019,30417856\\r\\nAustralia,2010,22154679\\r\\nAustralia,2005,20178540\\r\\nAustralia,2000,18991431\\r\\nMozambique,2020,31255435\\r\\nMozambique,2019,30366036\\r\\nMalaysia,2020,32365999\\r\\nMalaysia,2019,31949777\\r\\nNorth Korea,2015,25183833\\r\\nNorth Korea,2010,24548836\\r\\nNorth Korea,2005,23904167\\r\\nC\\xc3\\xb4te d'Ivoire,2015,23226143\\r\\nC\\xc3\\xb4te d'Ivoire,2010,20532950\\r\\nCameroon,2018,25216267\\r\\nCameroon,2017,24566073\\r\\nCameroon,2016,23926551\\r\\nChile,1980,11419348\\r\\nChile,1975,10592307\\r\\nChile,1970,9783134\\r\\nMadagascar,2018,26262313\\r\\nMadagascar,2017,25570512\\r\\nMadagascar,2016,24894370\\r\\nVenezuela,2017,29402484\\r\\nVenezuela,2016,29851255\\r\\nVenezuela,2015,30081829\\r\\nVenezuela,2010,28439940\\r\\nMali,2000,10946445\\r\\nMali,1995,9585653\\r\\nMali,1990,8449913\\r\\nBurkina Faso,2000,11607942\\r\\nBurkina Faso,1995,10089878\\r\\nBurkina Faso,1990,8811034\\r\\nBurkina Faso,1985,7727907\\r\\nSri Lanka,2000,18777601\\r\\nSri Lanka,1995,18242912\\r\\nMalawi,1980,6250440\\r\\nMalawi,1975,5384795\\r\\nMalawi,1970,4703782\\r\\nRomania,1980,22615639\\r\\nRomania,1975,21665643\\r\\nRomania,1970,20548911\\r\\nSyria,1960,4573512\\r\\nSyria,1955,3911501\\r\\nEcuador,1955,3956620\\r\\nZambia,1955,2644976\\r\\nKazakhstan,1965,11841920\\r\\nKazakhstan,1960,9934563\\r\\nKazakhstan,1955,7932521\\r\\nTaiwan,2000,21966527\\r\\nTaiwan,1995,21356033\\r\\nTaiwan,1990,20478520\\r\\nTaiwan,1985,19303404\\r\\nNepal,2018,28095714\\r\\nNepal,2017,27632681\\r\\nNepal,2016,27263433\\r\\nNiger,1995,9490288\\r\\nNiger,1990,8026591\\r\\nNiger,1985,6915997\\r\\nYemen,2018,28498683\\r\\nYemen,2017,27834819\\r\\nYemen,2016,27168208\\r\\nGhana,2018,29767102\\r\\nGhana,2017,29121465\\r\\nGhana,2016,28481945\\r\\nGhana,2015,27849205\\r\\nAustralia,1995,17993074\\r\\nAustralia,1990,16960597\\r\\nAustralia,1985,15663663\\r\\nAustralia,1980,14588405\\r\\nAngola,2020,32866272\\r\\nAngola,2019,31825295\\r\\nPeru,2020,32971854\\r\\nMozambique,2018,29496004\\r\\nMozambique,2017,28649018\\r\\nMozambique,2016,27829938\\r\\nMozambique,2015,27042002\\r\\nUzbekistan,2020,33469203\\r\\nUzbekistan,2019,32981716\\r\\nMalaysia,2018,31528033\\r\\nMalaysia,2017,31104646\\r\\nMalaysia,2016,30684654\\r\\nNorth Korea,2000,22929075\\r\\nNorth Korea,1995,21862299\\r\\nNorth Korea,1990,20293054\\r\\nC\\xc3\\xb4te d'Ivoire,2005,18354514\\r\\nC\\xc3\\xb4te d'Ivoire,2000,16454668\\r\\nC\\xc3\\xb4te d'Ivoire,1995,14199762\\r\\nCameroon,2015,23298368\\r\\nCameroon,2010,20341241\\r\\nCameroon,2005,17733410\\r\\nChile,1965,8989621\\r\\nChile,1960,8132990\\r\\nChile,1955,7322652\\r\\nMadagascar,2015,24234088\\r\\nMadagascar,2010,21151640\\r\\nMadagascar,2005,18336724\\r\\nVenezuela,2005,26432447\\r\\nVenezuela,2000,24192446\\r\\nVenezuela,1995,21931084\\r\\nVenezuela,1990,19632665\\r\\nMali,1985,7831889\\r\\nMali,1980,7090126\\r\\nMali,1975,6482278\\r\\nMali,1970,5949045\\r\\nBurkina Faso,1980,6822843\\r\\nBurkina Faso,1975,6154545\\r\\nBurkina Faso,1970,5624600\\r\\nBurkina Faso,1965,5174870\\r\\nSri Lanka,1990,17325773\\r\\nSri Lanka,1985,16176280\\r\\nSri Lanka,1980,15035834\\r\\nMalawi,1965,4134460\\r\\nMalawi,1960,3659984\\r\\nMalawi,1955,3270548\\r\\nRomania,1965,19379568\\r\\nRomania,1960,18613939\\r\\nRomania,1955,17483935\\r\\nTaiwan,1980,17905458\\r\\nTaiwan,1975,16464927\\r\\nTaiwan,1970,14924455\\r\\nTaiwan,1965,12901155\\r\\nNepal,2015,27015031\\r\\nNepal,2010,27013212\\r\\nNepal,2005,25744500\\r\\nNepal,2000,23941110\\r\\nNiger,1980,5989004\\r\\nNiger,1975,5184941\\r\\nNiger,1970,4510644\\r\\nYemen,2015,26497889\\r\\nYemen,2010,23154855\\r\\nYemen,2005,20107409\\r\\nYemen,2000,17409072\\r\\nGhana,2010,24779619\\r\\nGhana,2005,21814642\\r\\nGhana,2000,19278856\\r\\nGhana,1995,17014057\\r\\nSaudi Arabia,2020,34813871\\r\\nSaudi Arabia,2019,34268528\\r\\nAustralia,1975,13773288\\r\\nAustralia,1970,12793034\\r\\nAustralia,1965,11313195\\r\\nMorocco,2020,36910560\\r\\nAngola,2018,30809787\\r\\nAngola,2017,29816766\\r\\nAngola,2016,28842489\\r\\nAngola,2015,27884381\\r\\nCanada,2020,37742154\\r\\nCanada,2019,37411047\\r\\nPeru,2019,32510453\\r\\nPeru,2018,31989260\\r\\nPeru,2017,31444298\\r\\nPoland,2020,37846611\\r\\nPoland,2019,37887768\\r\\nMozambique,2010,23531574\\r\\nMozambique,2005,20493925\\r\\nMozambique,2000,17711927\\r\\nMozambique,1995,15483286\\r\\nAfghanistan,2020,38928346\\r\\nAfghanistan,2019,38041754\\r\\nUzbekistan,2018,32476244\\r\\nUzbekistan,2017,31959785\\r\\nUzbekistan,2016,31441751\\r\\nUzbekistan,2015,30929557\\r\\nMalaysia,2015,30270962\\r\\nMalaysia,2010,28208035\\r\\nMalaysia,2005,25690611\\r\\nNorth Korea,1985,18877238\\r\\nNorth Korea,1980,17472140\\r\\nNorth Korea,1975,16274740\\r\\nNorth Korea,1970,14410400\\r\\nC\\xc3\\xb4te d'Ivoire,1990,11924877\\r\\nC\\xc3\\xb4te d'Ivoire,1985,9918196\\r\\nC\\xc3\\xb4te d'Ivoire,1980,8033650\\r\\nC\\xc3\\xb4te d'Ivoire,1975,6412403\\r\\nCameroon,2000,15513945\\r\\nCameroon,1995,13599988\\r\\nCameroon,1990,11780088\\r\\nCameroon,1985,10070806\\r\\nMadagascar,2000,15766806\\r\\nMadagascar,1995,13475400\\r\\nMadagascar,1990,11598633\\r\\nVenezuela,1985,17319520\\r\\nVenezuela,1980,15182611\\r\\nVenezuela,1975,13189509\\r\\nMali,1965,5568484\\r\\nMali,1960,5263733\\r\\nMali,1955,4975398\\r\\nBurkina Faso,1960,4829288\\r\\nBurkina Faso,1955,4517155\\r\\nSri Lanka,1975,13755146\\r\\nSri Lanka,1970,12485740\\r\\nSri Lanka,1965,11110820\\r\\nTaiwan,1960,10876150\\r\\nTaiwan,1955,9189972\\r\\nNepal,1995,21576071\\r\\nNepal,1990,18905478\\r\\nNepal,1985,16858310\\r\\nNiger,1965,3914117\\r\\nNiger,1960,3388764\\r\\nNiger,1955,2955541\\r\\nYemen,1995,14913315\\r\\nYemen,1990,11709993\\r\\nYemen,1985,9572175\\r\\nGhana,1990,14773277\\r\\nGhana,1985,12783613\\r\\nGhana,1980,11056116\\r\\nSaudi Arabia,2018,33702756\\r\\nSaudi Arabia,2017,33101179\\r\\nSaudi Arabia,2016,32443447\\r\\nSaudi Arabia,2015,31717667\\r\\nAustralia,1960,10242076\\r\\nAustralia,1955,9165707\\r\\nIraq,2020,40222493\\r\\nIraq,2019,39309783\\r\\nUkraine,2020,43733762\\r\\nUkraine,2019,43993638\\r\\nMorocco,2019,36471769\\r\\nMorocco,2018,36029093\\r\\nMorocco,2017,35581255\\r\\nMorocco,2016,35126283\\r\\nSudan,2020,43849260\\r\\nSudan,2019,42813238\\r\\nSudan,2018,41801533\\r\\nAngola,2010,23356246\\r\\nAngola,2005,19433602\\r\\nAngola,2000,16395473\\r\\nAngola,1995,13945206\\r\\nCanada,2018,37074562\\r\\nCanada,2017,36732095\\r\\nCanada,2016,36382944\\r\\nPeru,2016,30926032\\r\\nPeru,2015,30470734\\r\\nPeru,2010,29027674\\r\\nPoland,2018,37921592\\r\\nPoland,2017,37953180\\r\\nPoland,2016,37989220\\r\\nMozambique,1990,12987292\\r\\nMozambique,1985,12764387\\r\\nMozambique,1980,11630194\\r\\nAfghanistan,2018,37171921\\r\\nAfghanistan,2017,36296113\\r\\nAfghanistan,2016,35383032\\r\\nUzbekistan,2010,28515909\\r\\nUzbekistan,2005,26427789\\r\\nUzbekistan,2000,24769955\\r\\nMalaysia,2000,23194257\\r\\nMalaysia,1995,20487607\\r\\nMalaysia,1990,18029824\\r\\nMalaysia,1985,15598927\\r\\nNorth Korea,1965,12547525\\r\\nNorth Korea,1960,11424176\\r\\nNorth Korea,1955,10086991\\r\\nC\\xc3\\xb4te d'Ivoire,1970,5102064\\r\\nC\\xc3\\xb4te d'Ivoire,1965,4226844\\r\\nC\\xc3\\xb4te d'Ivoire,1960,3503553\\r\\nCameroon,1980,8621406\\r\\nCameroon,1975,7451054\\r\\nCameroon,1970,6519762\\r\\nMadagascar,1985,10063495\\r\\nMadagascar,1980,8716553\\r\\nMadagascar,1975,7556026\\r\\nMadagascar,1970,6576305\\r\\nVenezuela,1970,11396393\\r\\nVenezuela,1965,9692278\\r\\nSri Lanka,1960,9874476\\r\\nSri Lanka,1955,8778438\\r\\nNepal,1980,15016402\\r\\nNepal,1975,13420369\\r\\nNepal,1970,12074626\\r\\nNepal,1965,10972912\\r\\nYemen,1980,7941898\\r\\nYemen,1975,6784695\\r\\nYemen,1970,6193384\\r\\nYemen,1965,5727751\\r\\nGhana,1975,9985946\\r\\nGhana,1970,8735495\\r\\nGhana,1965,7739473\\r\\nSaudi Arabia,2010,27421461\\r\\nSaudi Arabia,2005,23816183\\r\\nSaudi Arabia,2000,20663843\\r\\nAlgeria,2020,43851044\\r\\nAlgeria,2019,43053054\\r\\nArgentina,2020,45195774\\r\\nArgentina,2019,44780677\\r\\nArgentina,2018,44361150\\r\\nIraq,2018,38433600\\r\\nIraq,2017,37552781\\r\\nIraq,2016,36610632\\r\\nUkraine,2018,44246156\\r\\nUkraine,2017,44487709\\r\\nUkraine,2016,44713702\\r\\nUkraine,2015,44921639\\r\\nUganda,2020,45741007\\r\\nUganda,2019,44269594\\r\\nSpain,2020,46754778\\r\\nSpain,2019,46736776\\r\\nColombia,2020,50882891\\r\\nColombia,2019,50339443\\r\\nMorocco,2015,34663603\\r\\nMorocco,2010,32343389\\r\\nMorocco,2005,30455561\\r\\nMorocco,2000,28793679\\r\\nSudan,2017,40813397\\r\\nSudan,2016,39847439\\r\\nSudan,2015,38902950\\r\\nAngola,1990,11848386\\r\\nAngola,1985,9961997\\r\\nAngola,1980,8341289\\r\\nAngola,1975,7024000\\r\\nCanada,2015,36026676\\r\\nCanada,2010,34147564\\r\\nCanada,2005,32164309\\r\\nPeru,2005,27866145\\r\\nPeru,2000,26459944\\r\\nPeru,1995,24299160\\r\\nPoland,2015,38034079\\r\\nPoland,2010,38329781\\r\\nPoland,2005,38368949\\r\\nPoland,2000,38556693\\r\\nMozambique,1975,10165215\\r\\nMozambique,1970,9022741\\r\\nMozambique,1965,8039215\\r\\nAfghanistan,2015,34413603\\r\\nAfghanistan,2010,29185507\\r\\nAfghanistan,2005,25654277\\r\\nAfghanistan,2000,20779953\\r\\nUzbekistan,1995,22791026\\r\\nUzbekistan,1990,20398348\\r\\nUzbekistan,1985,18061284\\r\\nUzbekistan,1980,15898757\\r\\nMalaysia,1980,13798085\\r\\nMalaysia,1975,12162187\\r\\nMalaysia,1970,10804131\\r\\nMalaysia,1965,9526558\\r\\nC\\xc3\\xb4te d'Ivoire,1955,3004421\\r\\nCameroon,1965,5773543\\r\\nCameroon,1960,5176918\\r\\nCameroon,1955,4706995\\r\\nMadagascar,1965,5769218\\r\\nMadagascar,1960,5099373\\r\\nMadagascar,1955,4543542\\r\\nVenezuela,1960,8141841\\r\\nVenezuela,1955,6744695\\r\\nNepal,1960,10105050\\r\\nNepal,1955,9316916\\r\\nYemen,1960,5315355\\r\\nYemen,1955,4965574\\r\\nGhana,1960,6635230\\r\\nGhana,1955,5730594\\r\\nSaudi Arabia,1995,18638787\\r\\nSaudi Arabia,1990,16233785\\r\\nSaudi Arabia,1985,13118993\\r\\nAlgeria,2018,42228408\\r\\nAlgeria,2017,41389189\\r\\nAlgeria,2016,40551392\\r\\nArgentina,2017,43937140\\r\\nArgentina,2016,43508460\\r\\nArgentina,2015,43075416\\r\\nIraq,2015,35572261\\r\\nIraq,2010,29741976\\r\\nIraq,2005,26922284\\r\\nIraq,2000,23497585\\r\\nPhilippines,2020,109581078\\r\\nPhilippines,2019,108116615\\r\\nEthiopia,2020,114963588\\r\\nEthiopia,2019,112078730\\r\\nUkraine,2010,45792090\\r\\nUkraine,2005,46890772\\r\\nUkraine,2000,48838065\\r\\nUganda,2018,42729036\\r\\nUganda,2017,41166588\\r\\nUganda,2016,39649166\\r\\nUganda,2015,38225453\\r\\nJapan,2020,126476461\\r\\nSpain,2018,46692858\\r\\nSpain,2017,46647428\\r\\nSpain,2016,46634140\\r\\nSpain,2015,46671926\\r\\nColombia,2018,49661048\\r\\nColombia,2017,48909839\\r\\nColombia,2016,48175052\\r\\nMorocco,1995,26994250\\r\\nMorocco,1990,24807462\\r\\nMorocco,1985,22499110\\r\\nSudan,2010,34545013\\r\\nSudan,2005,30949516\\r\\nSudan,2000,27275015\\r\\nSudan,1995,24094747\\r\\nAngola,1970,5890365\\r\\nAngola,1965,5770570\\r\\nAngola,1960,5454933\\r\\nCanada,2000,30588383\\r\\nCanada,1995,29164152\\r\\nCanada,1990,27541319\\r\\nCanada,1985,25744810\\r\\nPeru,1990,22071433\\r\\nPeru,1985,19772872\\r\\nPeru,1980,17547610\\r\\nPoland,1995,38458638\\r\\nPoland,1990,37960193\\r\\nPoland,1985,37133870\\r\\nPoland,1980,35539720\\r\\nMozambique,1960,7184869\\r\\nMozambique,1955,6508398\\r\\nAfghanistan,1995,18110657\\r\\nAfghanistan,1990,12412308\\r\\nAfghanistan,1985,11938208\\r\\nAfghanistan,1980,13356511\\r\\nUzbekistan,1975,13857478\\r\\nUzbekistan,1970,12080317\\r\\nUzbekistan,1965,10116870\\r\\nMalaysia,1960,8156347\\r\\nMalaysia,1955,7038913\\r\\nSaudi Arabia,1980,9691476\\r\\nSaudi Arabia,1975,7419493\\r\\nSaudi Arabia,1970,5836389\\r\\nAlgeria,2015,39728025\\r\\nAlgeria,2010,35977455\\r\\nAlgeria,2005,33149724\\r\\nAlgeria,2000,31042235\\r\\nArgentina,2010,40895752\\r\\nArgentina,2005,38892931\\r\\nArgentina,2000,36870787\\r\\nArgentina,1995,34828170\\r\\nIraq,1995,20149338\\r\\nIraq,1990,17419113\\r\\nIraq,1985,15555800\\r\\nPhilippines,2018,106651394\\r\\nPhilippines,2017,105172925\\r\\nPhilippines,2016,103663816\\r\\nPhilippines,2015,102113212\\r\\nEthiopia,2018,109224414\\r\\nEthiopia,2017,106399924\\r\\nEthiopia,2016,103603462\\r\\nMexico,2020,128932753\\r\\nMexico,2019,127575529\\r\\nRussia,2020,145934462\\r\\nRussia,2019,145872256\\r\\nUkraine,1995,50903785\\r\\nUkraine,1990,51463105\\r\\nUkraine,1985,50919275\\r\\nUkraine,1980,49965874\\r\\nBangladesh,2020,164689383\\r\\nBangladesh,2019,163046161\\r\\nNigeria,2020,206139589\\r\\nNigeria,2019,200963599\\r\\nBrazil,2020,212559417\\r\\nBrazil,2019,211049527\\r\\nUganda,2010,32428167\\r\\nUganda,2005,27684585\\r\\nUganda,2000,23650172\\r\\nJapan,2019,126860301\\r\\nJapan,2018,127202192\\r\\nJapan,2017,127502725\\r\\nJapan,2016,127763265\\r\\nSpain,2010,46931015\\r\\nSpain,2005,44019123\\r\\nSpain,2000,40824754\\r\\nColombia,2015,47520667\\r\\nColombia,2010,45222700\\r\\nColombia,2005,42647723\\r\\nMorocco,1980,19990012\\r\\nMorocco,1975,17796164\\r\\nMorocco,1970,16004731\\r\\nMorocco,1965,14230163\\r\\nSudan,1990,20147590\\r\\nSudan,1985,17210187\\r\\nSudan,1980,14507468\\r\\nSudan,1975,12144135\\r\\nAngola,1955,5043247\\r\\nCanada,1980,24416886\\r\\nCanada,1975,23059265\\r\\nCanada,1970,21374326\\r\\nPeru,1975,15424744\\r\\nPeru,1970,13459794\\r\\nPeru,1965,11711392\\r\\nPeru,1960,10155015\\r\\nPoland,1975,33970724\\r\\nPoland,1970,32639258\\r\\nPoland,1965,31360907\\r\\nAfghanistan,1975,12689160\\r\\nAfghanistan,1970,11173642\\r\\nAfghanistan,1965,9956320\\r\\nUzbekistan,1960,8526300\\r\\nUzbekistan,1955,7277333\\r\\nSaudi Arabia,1965,4843635\\r\\nSaudi Arabia,1960,4086539\\r\\nSaudi Arabia,1955,3558155\\r\\nAlgeria,1995,28757785\\r\\nAlgeria,1990,25758869\\r\\nAlgeria,1985,22431502\\r\\nArgentina,1990,32618651\\r\\nArgentina,1985,30216279\\r\\nArgentina,1980,27896528\\r\\nArgentina,1975,25865776\\r\\nIraq,1980,13653354\\r\\nIraq,1975,11684590\\r\\nIraq,1970,9917983\\r\\nPhilippines,2010,93966780\\r\\nPhilippines,2005,86326250\\r\\nPhilippines,2000,77991755\\r\\nPakistan,2020,220892340\\r\\nPakistan,2019,216565318\\r\\nEthiopia,2015,100835458\\r\\nEthiopia,2010,87639964\\r\\nEthiopia,2005,76346311\\r\\nEthiopia,2000,66224804\\r\\nIndonesia,2020,273523615\\r\\nIndonesia,2019,270625568\\r\\nMexico,2018,126190788\\r\\nMexico,2017,124777324\\r\\nMexico,2016,123333376\\r\\nRussia,2018,145734038\\r\\nRussia,2017,145530082\\r\\nRussia,2016,145275383\\r\\nUnited States,2020,331002651\\r\\nUnited States,2019,329064917\\r\\nUkraine,1975,48755665\\r\\nUkraine,1970,47088857\\r\\nUkraine,1965,45264548\\r\\nBangladesh,2018,161376708\\r\\nBangladesh,2017,159685424\\r\\nBangladesh,2016,157977153\\r\\nBangladesh,2015,156256276\\r\\nNigeria,2018,195874683\\r\\nNigeria,2017,190873244\\r\\nNigeria,2016,185960241\\r\\nNigeria,2015,181137448\\r\\nBrazil,2018,209469323\\r\\nBrazil,2017,207833823\\r\\nBrazil,2016,206163053\\r\\nUganda,1995,20413152\\r\\nUganda,1990,17354392\\r\\nUganda,1985,14559355\\r\\nUganda,1980,12442334\\r\\nJapan,2015,127985133\\r\\nJapan,2010,128542353\\r\\nJapan,2005,128326116\\r\\nSpain,1995,39787419\\r\\nSpain,1990,39202525\\r\\nSpain,1985,38733876\\r\\nColombia,2000,39629968\\r\\nColombia,1995,36421438\\r\\nColombia,1990,33102575\\r\\nMorocco,1960,12328532\\r\\nMorocco,1955,10502666\\r\\nSudan,1970,10281700\\r\\nSudan,1965,8770097\\r\\nSudan,1960,7544491\\r\\nSudan,1955,6549298\\r\\nCanada,1965,19627980\\r\\nCanada,1960,17847405\\r\\nCanada,1955,15673763\\r\\nPeru,1955,8858389\\r\\nPoland,1960,29614201\\r\\nPoland,1955,27269749\\r\\nAfghanistan,1960,8996973\\r\\nAfghanistan,1955,8270991\\r\\nAlgeria,1980,19221665\\r\\nAlgeria,1975,16607707\\r\\nAlgeria,1970,14464985\\r\\nArgentina,1970,23880561\\r\\nArgentina,1965,22159650\\r\\nArgentina,1960,20481779\\r\\nArgentina,1955,18789418\\r\\nIraq,1965,8375790\\r\\nIraq,1960,7289760\\r\\nIraq,1955,6502657\\r\\nPhilippines,1995,69784088\\r\\nPhilippines,1990,61895160\\r\\nPhilippines,1985,54275822\\r\\nPakistan,2018,212228286\\r\\nPakistan,2017,207906209\\r\\nPakistan,2016,203631353\\r\\nEthiopia,1995,57047908\\r\\nEthiopia,1990,47887865\\r\\nEthiopia,1985,40652141\\r\\nEthiopia,1980,35141712\\r\\nIndonesia,2018,267670543\\r\\nIndonesia,2017,264650963\\r\\nIndonesia,2016,261556381\\r\\nMexico,2015,121858258\\r\\nMexico,2010,114092963\\r\\nMexico,2005,106005203\\r\\nMexico,2000,98899845\\r\\nRussia,2015,144985057\\r\\nRussia,2010,143479274\\r\\nRussia,2005,143672116\\r\\nIndia,2020,1380004385\\r\\nIndia,2019,1366417754\\r\\nIndia,2018,1352642280\\r\\nUnited States,2018,327096265\\r\\nUnited States,2017,325084756\\r\\nUnited States,2016,323015995\\r\\nUkraine,1960,42664652\\r\\nUkraine,1955,40019491\\r\\nBangladesh,2010,147575430\\r\\nBangladesh,2005,139035505\\r\\nBangladesh,2000,127657854\\r\\nNigeria,2010,158503197\\r\\nNigeria,2005,138865016\\r\\nNigeria,2000,122283850\\r\\nNigeria,1995,107948335\\r\\nBrazil,2015,204471769\\r\\nBrazil,2010,195713635\\r\\nBrazil,2005,186127103\\r\\nUganda,1975,10737403\\r\\nUganda,1970,9405600\\r\\nUganda,1965,7986066\\r\\nUganda,1960,6767095\\r\\nJapan,2000,127524174\\r\\nJapan,1995,126365484\\r\\nJapan,1990,124505240\\r\\nSpain,1980,37698196\\r\\nSpain,1975,35879209\\r\\nSpain,1970,33883749\\r\\nSpain,1965,32146263\\r\\nColombia,1985,29951201\\r\\nColombia,1980,26900506\\r\\nColombia,1975,24065507\\r\\nAlgeria,1965,12550885\\r\\nAlgeria,1960,11057863\\r\\nAlgeria,1955,9774283\\r\\nPhilippines,1980,47357743\\r\\nPhilippines,1975,41285742\\r\\nPhilippines,1970,35803594\\r\\nPakistan,2015,199426964\\r\\nPakistan,2010,179424641\\r\\nPakistan,2005,160304008\\r\\nPakistan,2000,142343578\\r\\nEthiopia,1975,32566854\\r\\nEthiopia,1970,28415077\\r\\nEthiopia,1965,25013626\\r\\nEthiopia,1960,22151278\\r\\nIndonesia,2015,258383256\\r\\nIndonesia,2010,241834215\\r\\nIndonesia,2005,226289470\\r\\nMexico,1995,91663285\\r\\nMexico,1990,83943132\\r\\nMexico,1985,75983485\\r\\nMexico,1980,67761372\\r\\nRussia,2000,146404903\\r\\nRussia,1995,148227466\\r\\nRussia,1990,147531561\\r\\nIndia,2017,1338676785\\r\\nIndia,2016,1324517249\\r\\nIndia,2015,1310152403\\r\\nUnited States,2015,320878310\\r\\nUnited States,2010,309011475\\r\\nUnited States,2005,294993511\\r\\nBangladesh,1995,115169930\\r\\nBangladesh,1990,103171956\\r\\nBangladesh,1985,90764183\\r\\nBangladesh,1980,79639491\\r\\nNigeria,1990,95212450\\r\\nNigeria,1985,83562785\\r\\nNigeria,1980,73423633\\r\\nBrazil,2000,174790340\\r\\nBrazil,1995,162019896\\r\\nBrazil,1990,149003223\\r\\nUganda,1955,5888793\\r\\nJapan,1985,121883482\\r\\nJapan,1980,117816940\\r\\nJapan,1975,112413359\\r\\nJapan,1970,104929251\\r\\nSpain,1960,30402411\\r\\nSpain,1955,29048395\\r\\nColombia,1970,21480065\\r\\nColombia,1965,18725245\\r\\nColombia,1960,16057724\\r\\nColombia,1955,13775000\\r\\nPhilippines,1965,30909988\\r\\nPhilippines,1960,26269734\\r\\nPhilippines,1955,22177058\\r\\nPakistan,1995,123776839\\r\\nPakistan,1990,107647921\\r\\nPakistan,1985,92191510\\r\\nEthiopia,1955,19947292\\r\\nIndonesia,2000,211513823\\r\\nIndonesia,1995,196934260\\r\\nIndonesia,1990,181413402\\r\\nIndonesia,1985,164982451\\r\\nMexico,1975,59607953\\r\\nMexico,1970,51493565\\r\\nMexico,1965,44123853\\r\\nRussia,1985,142957284\\r\\nRussia,1980,138053150\\r\\nRussia,1975,133804858\\r\\nRussia,1970,130148653\\r\\nIndia,2010,1234281170\\r\\nIndia,2005,1147609927\\r\\nIndia,2000,1056575549\\r\\nUnited States,2000,281710909\\r\\nUnited States,1995,265163745\\r\\nUnited States,1990,252120309\\r\\nUnited States,1985,240499825\\r\\nBangladesh,1975,70066301\\r\\nBangladesh,1970,64232482\\r\\nBangladesh,1965,55385112\\r\\nBangladesh,1960,48013504\\r\\nNigeria,1975,63374298\\r\\nNigeria,1970,55982144\\r\\nBrazil,1985,135274080\\r\\nBrazil,1980,120694009\\r\\nBrazil,1975,107216205\\r\\nBrazil,1970,95113265\\r\\nJapan,1965,98447002\\r\\nJapan,1960,93673615\\r\\nJapan,1955,89018257\\r\\nPakistan,1980,78054343\\r\\nPakistan,1975,66816877\\r\\nPakistan,1970,58142060\\r\\nPakistan,1965,50917975\\r\\nIndonesia,1980,147447836\\r\\nIndonesia,1975,130680727\\r\\nIndonesia,1970,114793178\\r\\nIndonesia,1965,100267062\\r\\nMexico,1960,37771859\\r\\nMexico,1955,32350596\\r\\nRussia,1965,126503736\\r\\nRussia,1960,119871700\\r\\nRussia,1955,111355300\\r\\nIndia,1995,963922588\\r\\nIndia,1990,873277798\\r\\nIndia,1985,784360008\\r\\nIndia,1980,698952844\\r\\nUnited States,1980,229476354\\r\\nUnited States,1975,219081251\\r\\nUnited States,1970,209513341\\r\\nBangladesh,1955,42086301\\r\\nNigeria,1965,50127921\\r\\nNigeria,1960,45138458\\r\\nNigeria,1955,41086100\\r\\nBrazil,1965,83373530\\r\\nBrazil,1960,72179226\\r\\nBrazil,1955,62533919\\r\\nPakistan,1960,44988690\\r\\nPakistan,1955,40488030\\r\\nIndonesia,1960,87751068\\r\\nIndonesia,1955,77273425\\r\\nIndia,1975,623102897\\r\\nIndia,1970,555189792\\r\\nIndia,1965,499123324\\r\\nUnited States,1965,199733676\\r\\nUnited States,1960,186720571\\r\\nUnited States,1955,171685336\\r\\nIndia,1960,450547679\\r\\nIndia,1955,409880595\"}"
            ]
          },
          "metadata": {},
          "execution_count": 2
        }
      ]
    },
    {
      "cell_type": "code",
      "source": [
        "df = pd.read_csv('population_total.csv')"
      ],
      "metadata": {
        "id": "lP0aCe7Y2e3e"
      },
      "execution_count": 3,
      "outputs": []
    },
    {
      "cell_type": "code",
      "source": [
        "df.head()"
      ],
      "metadata": {
        "colab": {
          "base_uri": "https://localhost:8080/",
          "height": 206
        },
        "id": "jUg1ci9x2n9R",
        "outputId": "06f0c4ae-baa6-4391-e16e-f32e64bfdf81"
      },
      "execution_count": 4,
      "outputs": [
        {
          "output_type": "execute_result",
          "data": {
            "text/html": [
              "\n",
              "  <div id=\"df-c64a0659-43bf-4fa8-8ee1-a923ac9e674f\">\n",
              "    <div class=\"colab-df-container\">\n",
              "      <div>\n",
              "<style scoped>\n",
              "    .dataframe tbody tr th:only-of-type {\n",
              "        vertical-align: middle;\n",
              "    }\n",
              "\n",
              "    .dataframe tbody tr th {\n",
              "        vertical-align: top;\n",
              "    }\n",
              "\n",
              "    .dataframe thead th {\n",
              "        text-align: right;\n",
              "    }\n",
              "</style>\n",
              "<table border=\"1\" class=\"dataframe\">\n",
              "  <thead>\n",
              "    <tr style=\"text-align: right;\">\n",
              "      <th></th>\n",
              "      <th>country</th>\n",
              "      <th>year</th>\n",
              "      <th>population</th>\n",
              "    </tr>\n",
              "  </thead>\n",
              "  <tbody>\n",
              "    <tr>\n",
              "      <th>0</th>\n",
              "      <td>China</td>\n",
              "      <td>2020.0</td>\n",
              "      <td>1.439324e+09</td>\n",
              "    </tr>\n",
              "    <tr>\n",
              "      <th>1</th>\n",
              "      <td>China</td>\n",
              "      <td>2019.0</td>\n",
              "      <td>1.433784e+09</td>\n",
              "    </tr>\n",
              "    <tr>\n",
              "      <th>2</th>\n",
              "      <td>China</td>\n",
              "      <td>2018.0</td>\n",
              "      <td>1.427648e+09</td>\n",
              "    </tr>\n",
              "    <tr>\n",
              "      <th>3</th>\n",
              "      <td>China</td>\n",
              "      <td>2017.0</td>\n",
              "      <td>1.421022e+09</td>\n",
              "    </tr>\n",
              "    <tr>\n",
              "      <th>4</th>\n",
              "      <td>China</td>\n",
              "      <td>2016.0</td>\n",
              "      <td>1.414049e+09</td>\n",
              "    </tr>\n",
              "  </tbody>\n",
              "</table>\n",
              "</div>\n",
              "      <button class=\"colab-df-convert\" onclick=\"convertToInteractive('df-c64a0659-43bf-4fa8-8ee1-a923ac9e674f')\"\n",
              "              title=\"Convert this dataframe to an interactive table.\"\n",
              "              style=\"display:none;\">\n",
              "        \n",
              "  <svg xmlns=\"http://www.w3.org/2000/svg\" height=\"24px\"viewBox=\"0 0 24 24\"\n",
              "       width=\"24px\">\n",
              "    <path d=\"M0 0h24v24H0V0z\" fill=\"none\"/>\n",
              "    <path d=\"M18.56 5.44l.94 2.06.94-2.06 2.06-.94-2.06-.94-.94-2.06-.94 2.06-2.06.94zm-11 1L8.5 8.5l.94-2.06 2.06-.94-2.06-.94L8.5 2.5l-.94 2.06-2.06.94zm10 10l.94 2.06.94-2.06 2.06-.94-2.06-.94-.94-2.06-.94 2.06-2.06.94z\"/><path d=\"M17.41 7.96l-1.37-1.37c-.4-.4-.92-.59-1.43-.59-.52 0-1.04.2-1.43.59L10.3 9.45l-7.72 7.72c-.78.78-.78 2.05 0 2.83L4 21.41c.39.39.9.59 1.41.59.51 0 1.02-.2 1.41-.59l7.78-7.78 2.81-2.81c.8-.78.8-2.07 0-2.86zM5.41 20L4 18.59l7.72-7.72 1.47 1.35L5.41 20z\"/>\n",
              "  </svg>\n",
              "      </button>\n",
              "      \n",
              "  <style>\n",
              "    .colab-df-container {\n",
              "      display:flex;\n",
              "      flex-wrap:wrap;\n",
              "      gap: 12px;\n",
              "    }\n",
              "\n",
              "    .colab-df-convert {\n",
              "      background-color: #E8F0FE;\n",
              "      border: none;\n",
              "      border-radius: 50%;\n",
              "      cursor: pointer;\n",
              "      display: none;\n",
              "      fill: #1967D2;\n",
              "      height: 32px;\n",
              "      padding: 0 0 0 0;\n",
              "      width: 32px;\n",
              "    }\n",
              "\n",
              "    .colab-df-convert:hover {\n",
              "      background-color: #E2EBFA;\n",
              "      box-shadow: 0px 1px 2px rgba(60, 64, 67, 0.3), 0px 1px 3px 1px rgba(60, 64, 67, 0.15);\n",
              "      fill: #174EA6;\n",
              "    }\n",
              "\n",
              "    [theme=dark] .colab-df-convert {\n",
              "      background-color: #3B4455;\n",
              "      fill: #D2E3FC;\n",
              "    }\n",
              "\n",
              "    [theme=dark] .colab-df-convert:hover {\n",
              "      background-color: #434B5C;\n",
              "      box-shadow: 0px 1px 3px 1px rgba(0, 0, 0, 0.15);\n",
              "      filter: drop-shadow(0px 1px 2px rgba(0, 0, 0, 0.3));\n",
              "      fill: #FFFFFF;\n",
              "    }\n",
              "  </style>\n",
              "\n",
              "      <script>\n",
              "        const buttonEl =\n",
              "          document.querySelector('#df-c64a0659-43bf-4fa8-8ee1-a923ac9e674f button.colab-df-convert');\n",
              "        buttonEl.style.display =\n",
              "          google.colab.kernel.accessAllowed ? 'block' : 'none';\n",
              "\n",
              "        async function convertToInteractive(key) {\n",
              "          const element = document.querySelector('#df-c64a0659-43bf-4fa8-8ee1-a923ac9e674f');\n",
              "          const dataTable =\n",
              "            await google.colab.kernel.invokeFunction('convertToInteractive',\n",
              "                                                     [key], {});\n",
              "          if (!dataTable) return;\n",
              "\n",
              "          const docLinkHtml = 'Like what you see? Visit the ' +\n",
              "            '<a target=\"_blank\" href=https://colab.research.google.com/notebooks/data_table.ipynb>data table notebook</a>'\n",
              "            + ' to learn more about interactive tables.';\n",
              "          element.innerHTML = '';\n",
              "          dataTable['output_type'] = 'display_data';\n",
              "          await google.colab.output.renderOutput(dataTable, element);\n",
              "          const docLink = document.createElement('div');\n",
              "          docLink.innerHTML = docLinkHtml;\n",
              "          element.appendChild(docLink);\n",
              "        }\n",
              "      </script>\n",
              "    </div>\n",
              "  </div>\n",
              "  "
            ],
            "text/plain": [
              "  country    year    population\n",
              "0   China  2020.0  1.439324e+09\n",
              "1   China  2019.0  1.433784e+09\n",
              "2   China  2018.0  1.427648e+09\n",
              "3   China  2017.0  1.421022e+09\n",
              "4   China  2016.0  1.414049e+09"
            ]
          },
          "metadata": {},
          "execution_count": 4
        }
      ]
    },
    {
      "cell_type": "code",
      "source": [
        "df.shape"
      ],
      "metadata": {
        "colab": {
          "base_uri": "https://localhost:8080/"
        },
        "id": "hd5j4sTR2o9D",
        "outputId": "7722f4b2-c029-49a2-b759-35ced3df7dba"
      },
      "execution_count": 5,
      "outputs": [
        {
          "output_type": "execute_result",
          "data": {
            "text/plain": [
              "(4185, 3)"
            ]
          },
          "metadata": {},
          "execution_count": 5
        }
      ]
    },
    {
      "cell_type": "code",
      "source": [
        "df.isnull().sum()"
      ],
      "metadata": {
        "colab": {
          "base_uri": "https://localhost:8080/"
        },
        "id": "og7oGJG42ssL",
        "outputId": "9aad60c6-3325-4c1f-d946-163778cd8ab0"
      },
      "execution_count": 8,
      "outputs": [
        {
          "output_type": "execute_result",
          "data": {
            "text/plain": [
              "country       0\n",
              "year          0\n",
              "population    0\n",
              "dtype: int64"
            ]
          },
          "metadata": {},
          "execution_count": 8
        }
      ]
    },
    {
      "cell_type": "code",
      "source": [
        "df.dropna(inplace=True)"
      ],
      "metadata": {
        "id": "0hMJBbtI2ws3"
      },
      "execution_count": 7,
      "outputs": []
    },
    {
      "cell_type": "code",
      "source": [
        "df_pivot = df.pivot(index='year', columns='country', values='population')"
      ],
      "metadata": {
        "id": "9uEnemlO2549"
      },
      "execution_count": 10,
      "outputs": []
    },
    {
      "cell_type": "code",
      "source": [
        "df_pivot = df_pivot[['United States', 'India', 'Indonesia', 'China', 'Brazil']]"
      ],
      "metadata": {
        "id": "KPpYe4PT3jTI"
      },
      "execution_count": 13,
      "outputs": []
    },
    {
      "cell_type": "code",
      "source": [
        "df_pivot.head()"
      ],
      "metadata": {
        "colab": {
          "base_uri": "https://localhost:8080/",
          "height": 237
        },
        "id": "NHNObRpk360M",
        "outputId": "85263944-bb09-477c-cff4-81e8622bdf74"
      },
      "execution_count": 14,
      "outputs": [
        {
          "output_type": "execute_result",
          "data": {
            "text/html": [
              "\n",
              "  <div id=\"df-fbeada5a-dcbb-4bc0-b693-8fe5dabe056a\">\n",
              "    <div class=\"colab-df-container\">\n",
              "      <div>\n",
              "<style scoped>\n",
              "    .dataframe tbody tr th:only-of-type {\n",
              "        vertical-align: middle;\n",
              "    }\n",
              "\n",
              "    .dataframe tbody tr th {\n",
              "        vertical-align: top;\n",
              "    }\n",
              "\n",
              "    .dataframe thead th {\n",
              "        text-align: right;\n",
              "    }\n",
              "</style>\n",
              "<table border=\"1\" class=\"dataframe\">\n",
              "  <thead>\n",
              "    <tr style=\"text-align: right;\">\n",
              "      <th>country</th>\n",
              "      <th>United States</th>\n",
              "      <th>India</th>\n",
              "      <th>Indonesia</th>\n",
              "      <th>China</th>\n",
              "      <th>Brazil</th>\n",
              "    </tr>\n",
              "    <tr>\n",
              "      <th>year</th>\n",
              "      <th></th>\n",
              "      <th></th>\n",
              "      <th></th>\n",
              "      <th></th>\n",
              "      <th></th>\n",
              "    </tr>\n",
              "  </thead>\n",
              "  <tbody>\n",
              "    <tr>\n",
              "      <th>1955.0</th>\n",
              "      <td>171685336.0</td>\n",
              "      <td>409880595.0</td>\n",
              "      <td>77273425.0</td>\n",
              "      <td>612241554.0</td>\n",
              "      <td>62533919.0</td>\n",
              "    </tr>\n",
              "    <tr>\n",
              "      <th>1960.0</th>\n",
              "      <td>186720571.0</td>\n",
              "      <td>450547679.0</td>\n",
              "      <td>87751068.0</td>\n",
              "      <td>660408056.0</td>\n",
              "      <td>72179226.0</td>\n",
              "    </tr>\n",
              "    <tr>\n",
              "      <th>1965.0</th>\n",
              "      <td>199733676.0</td>\n",
              "      <td>499123324.0</td>\n",
              "      <td>100267062.0</td>\n",
              "      <td>724218968.0</td>\n",
              "      <td>83373530.0</td>\n",
              "    </tr>\n",
              "    <tr>\n",
              "      <th>1970.0</th>\n",
              "      <td>209513341.0</td>\n",
              "      <td>555189792.0</td>\n",
              "      <td>114793178.0</td>\n",
              "      <td>827601394.0</td>\n",
              "      <td>95113265.0</td>\n",
              "    </tr>\n",
              "    <tr>\n",
              "      <th>1975.0</th>\n",
              "      <td>219081251.0</td>\n",
              "      <td>623102897.0</td>\n",
              "      <td>130680727.0</td>\n",
              "      <td>926240885.0</td>\n",
              "      <td>107216205.0</td>\n",
              "    </tr>\n",
              "  </tbody>\n",
              "</table>\n",
              "</div>\n",
              "      <button class=\"colab-df-convert\" onclick=\"convertToInteractive('df-fbeada5a-dcbb-4bc0-b693-8fe5dabe056a')\"\n",
              "              title=\"Convert this dataframe to an interactive table.\"\n",
              "              style=\"display:none;\">\n",
              "        \n",
              "  <svg xmlns=\"http://www.w3.org/2000/svg\" height=\"24px\"viewBox=\"0 0 24 24\"\n",
              "       width=\"24px\">\n",
              "    <path d=\"M0 0h24v24H0V0z\" fill=\"none\"/>\n",
              "    <path d=\"M18.56 5.44l.94 2.06.94-2.06 2.06-.94-2.06-.94-.94-2.06-.94 2.06-2.06.94zm-11 1L8.5 8.5l.94-2.06 2.06-.94-2.06-.94L8.5 2.5l-.94 2.06-2.06.94zm10 10l.94 2.06.94-2.06 2.06-.94-2.06-.94-.94-2.06-.94 2.06-2.06.94z\"/><path d=\"M17.41 7.96l-1.37-1.37c-.4-.4-.92-.59-1.43-.59-.52 0-1.04.2-1.43.59L10.3 9.45l-7.72 7.72c-.78.78-.78 2.05 0 2.83L4 21.41c.39.39.9.59 1.41.59.51 0 1.02-.2 1.41-.59l7.78-7.78 2.81-2.81c.8-.78.8-2.07 0-2.86zM5.41 20L4 18.59l7.72-7.72 1.47 1.35L5.41 20z\"/>\n",
              "  </svg>\n",
              "      </button>\n",
              "      \n",
              "  <style>\n",
              "    .colab-df-container {\n",
              "      display:flex;\n",
              "      flex-wrap:wrap;\n",
              "      gap: 12px;\n",
              "    }\n",
              "\n",
              "    .colab-df-convert {\n",
              "      background-color: #E8F0FE;\n",
              "      border: none;\n",
              "      border-radius: 50%;\n",
              "      cursor: pointer;\n",
              "      display: none;\n",
              "      fill: #1967D2;\n",
              "      height: 32px;\n",
              "      padding: 0 0 0 0;\n",
              "      width: 32px;\n",
              "    }\n",
              "\n",
              "    .colab-df-convert:hover {\n",
              "      background-color: #E2EBFA;\n",
              "      box-shadow: 0px 1px 2px rgba(60, 64, 67, 0.3), 0px 1px 3px 1px rgba(60, 64, 67, 0.15);\n",
              "      fill: #174EA6;\n",
              "    }\n",
              "\n",
              "    [theme=dark] .colab-df-convert {\n",
              "      background-color: #3B4455;\n",
              "      fill: #D2E3FC;\n",
              "    }\n",
              "\n",
              "    [theme=dark] .colab-df-convert:hover {\n",
              "      background-color: #434B5C;\n",
              "      box-shadow: 0px 1px 3px 1px rgba(0, 0, 0, 0.15);\n",
              "      filter: drop-shadow(0px 1px 2px rgba(0, 0, 0, 0.3));\n",
              "      fill: #FFFFFF;\n",
              "    }\n",
              "  </style>\n",
              "\n",
              "      <script>\n",
              "        const buttonEl =\n",
              "          document.querySelector('#df-fbeada5a-dcbb-4bc0-b693-8fe5dabe056a button.colab-df-convert');\n",
              "        buttonEl.style.display =\n",
              "          google.colab.kernel.accessAllowed ? 'block' : 'none';\n",
              "\n",
              "        async function convertToInteractive(key) {\n",
              "          const element = document.querySelector('#df-fbeada5a-dcbb-4bc0-b693-8fe5dabe056a');\n",
              "          const dataTable =\n",
              "            await google.colab.kernel.invokeFunction('convertToInteractive',\n",
              "                                                     [key], {});\n",
              "          if (!dataTable) return;\n",
              "\n",
              "          const docLinkHtml = 'Like what you see? Visit the ' +\n",
              "            '<a target=\"_blank\" href=https://colab.research.google.com/notebooks/data_table.ipynb>data table notebook</a>'\n",
              "            + ' to learn more about interactive tables.';\n",
              "          element.innerHTML = '';\n",
              "          dataTable['output_type'] = 'display_data';\n",
              "          await google.colab.output.renderOutput(dataTable, element);\n",
              "          const docLink = document.createElement('div');\n",
              "          docLink.innerHTML = docLinkHtml;\n",
              "          element.appendChild(docLink);\n",
              "        }\n",
              "      </script>\n",
              "    </div>\n",
              "  </div>\n",
              "  "
            ],
            "text/plain": [
              "country  United States        India    Indonesia        China       Brazil\n",
              "year                                                                      \n",
              "1955.0     171685336.0  409880595.0   77273425.0  612241554.0   62533919.0\n",
              "1960.0     186720571.0  450547679.0   87751068.0  660408056.0   72179226.0\n",
              "1965.0     199733676.0  499123324.0  100267062.0  724218968.0   83373530.0\n",
              "1970.0     209513341.0  555189792.0  114793178.0  827601394.0   95113265.0\n",
              "1975.0     219081251.0  623102897.0  130680727.0  926240885.0  107216205.0"
            ]
          },
          "metadata": {},
          "execution_count": 14
        }
      ]
    },
    {
      "cell_type": "markdown",
      "source": [
        "### Lineplot"
      ],
      "metadata": {
        "id": "U_yNRk0l4O-j"
      }
    },
    {
      "cell_type": "code",
      "source": [
        "df_pivot.plot(kind='line', xlabel='Year', \n",
        "              ylabel='Population', \n",
        "              title='Population (1955-2020)', \n",
        "              figsize=(8, 4))\n",
        "plt.savefig('my_lineplot.png')\n",
        "plt.show()"
      ],
      "metadata": {
        "colab": {
          "base_uri": "https://localhost:8080/",
          "height": 295
        },
        "id": "PhwfU9c54HsB",
        "outputId": "4a170d01-bbd6-4b01-f1ab-76ba7f45ff9e"
      },
      "execution_count": 50,
      "outputs": [
        {
          "output_type": "display_data",
          "data": {
            "image/png": "[encoded data removed]",
            "text/plain": [
              "<Figure size 576x288 with 1 Axes>"
            ]
          },
          "metadata": {
            "needs_background": "light"
          }
        }
      ]
    },
    {
      "cell_type": "markdown",
      "source": [
        "### Barplot"
      ],
      "metadata": {
        "id": "DzTImzIQ5HMO"
      }
    },
    {
      "cell_type": "code",
      "source": [
        "df_pivot_2020 = df_pivot[df_pivot.index.isin([2020])]"
      ],
      "metadata": {
        "id": "TbLIxMlp4XyR"
      },
      "execution_count": 24,
      "outputs": []
    },
    {
      "cell_type": "code",
      "source": [
        "df_pivot_2020"
      ],
      "metadata": {
        "colab": {
          "base_uri": "https://localhost:8080/",
          "height": 112
        },
        "id": "KfWhb85J5Sad",
        "outputId": "00fee471-d008-4a1b-f7df-145ca6adc9fc"
      },
      "execution_count": 25,
      "outputs": [
        {
          "output_type": "execute_result",
          "data": {
            "text/html": [
              "\n",
              "  <div id=\"df-d82f5922-97c6-407d-a0b0-1d5ccc6b187b\">\n",
              "    <div class=\"colab-df-container\">\n",
              "      <div>\n",
              "<style scoped>\n",
              "    .dataframe tbody tr th:only-of-type {\n",
              "        vertical-align: middle;\n",
              "    }\n",
              "\n",
              "    .dataframe tbody tr th {\n",
              "        vertical-align: top;\n",
              "    }\n",
              "\n",
              "    .dataframe thead th {\n",
              "        text-align: right;\n",
              "    }\n",
              "</style>\n",
              "<table border=\"1\" class=\"dataframe\">\n",
              "  <thead>\n",
              "    <tr style=\"text-align: right;\">\n",
              "      <th>country</th>\n",
              "      <th>United States</th>\n",
              "      <th>India</th>\n",
              "      <th>Indonesia</th>\n",
              "      <th>China</th>\n",
              "      <th>Brazil</th>\n",
              "    </tr>\n",
              "    <tr>\n",
              "      <th>year</th>\n",
              "      <th></th>\n",
              "      <th></th>\n",
              "      <th></th>\n",
              "      <th></th>\n",
              "      <th></th>\n",
              "    </tr>\n",
              "  </thead>\n",
              "  <tbody>\n",
              "    <tr>\n",
              "      <th>2020.0</th>\n",
              "      <td>331002651.0</td>\n",
              "      <td>1.380004e+09</td>\n",
              "      <td>273523615.0</td>\n",
              "      <td>1.439324e+09</td>\n",
              "      <td>212559417.0</td>\n",
              "    </tr>\n",
              "  </tbody>\n",
              "</table>\n",
              "</div>\n",
              "      <button class=\"colab-df-convert\" onclick=\"convertToInteractive('df-d82f5922-97c6-407d-a0b0-1d5ccc6b187b')\"\n",
              "              title=\"Convert this dataframe to an interactive table.\"\n",
              "              style=\"display:none;\">\n",
              "        \n",
              "  <svg xmlns=\"http://www.w3.org/2000/svg\" height=\"24px\"viewBox=\"0 0 24 24\"\n",
              "       width=\"24px\">\n",
              "    <path d=\"M0 0h24v24H0V0z\" fill=\"none\"/>\n",
              "    <path d=\"M18.56 5.44l.94 2.06.94-2.06 2.06-.94-2.06-.94-.94-2.06-.94 2.06-2.06.94zm-11 1L8.5 8.5l.94-2.06 2.06-.94-2.06-.94L8.5 2.5l-.94 2.06-2.06.94zm10 10l.94 2.06.94-2.06 2.06-.94-2.06-.94-.94-2.06-.94 2.06-2.06.94z\"/><path d=\"M17.41 7.96l-1.37-1.37c-.4-.4-.92-.59-1.43-.59-.52 0-1.04.2-1.43.59L10.3 9.45l-7.72 7.72c-.78.78-.78 2.05 0 2.83L4 21.41c.39.39.9.59 1.41.59.51 0 1.02-.2 1.41-.59l7.78-7.78 2.81-2.81c.8-.78.8-2.07 0-2.86zM5.41 20L4 18.59l7.72-7.72 1.47 1.35L5.41 20z\"/>\n",
              "  </svg>\n",
              "      </button>\n",
              "      \n",
              "  <style>\n",
              "    .colab-df-container {\n",
              "      display:flex;\n",
              "      flex-wrap:wrap;\n",
              "      gap: 12px;\n",
              "    }\n",
              "\n",
              "    .colab-df-convert {\n",
              "      background-color: #E8F0FE;\n",
              "      border: none;\n",
              "      border-radius: 50%;\n",
              "      cursor: pointer;\n",
              "      display: none;\n",
              "      fill: #1967D2;\n",
              "      height: 32px;\n",
              "      padding: 0 0 0 0;\n",
              "      width: 32px;\n",
              "    }\n",
              "\n",
              "    .colab-df-convert:hover {\n",
              "      background-color: #E2EBFA;\n",
              "      box-shadow: 0px 1px 2px rgba(60, 64, 67, 0.3), 0px 1px 3px 1px rgba(60, 64, 67, 0.15);\n",
              "      fill: #174EA6;\n",
              "    }\n",
              "\n",
              "    [theme=dark] .colab-df-convert {\n",
              "      background-color: #3B4455;\n",
              "      fill: #D2E3FC;\n",
              "    }\n",
              "\n",
              "    [theme=dark] .colab-df-convert:hover {\n",
              "      background-color: #434B5C;\n",
              "      box-shadow: 0px 1px 3px 1px rgba(0, 0, 0, 0.15);\n",
              "      filter: drop-shadow(0px 1px 2px rgba(0, 0, 0, 0.3));\n",
              "      fill: #FFFFFF;\n",
              "    }\n",
              "  </style>\n",
              "\n",
              "      <script>\n",
              "        const buttonEl =\n",
              "          document.querySelector('#df-d82f5922-97c6-407d-a0b0-1d5ccc6b187b button.colab-df-convert');\n",
              "        buttonEl.style.display =\n",
              "          google.colab.kernel.accessAllowed ? 'block' : 'none';\n",
              "\n",
              "        async function convertToInteractive(key) {\n",
              "          const element = document.querySelector('#df-d82f5922-97c6-407d-a0b0-1d5ccc6b187b');\n",
              "          const dataTable =\n",
              "            await google.colab.kernel.invokeFunction('convertToInteractive',\n",
              "                                                     [key], {});\n",
              "          if (!dataTable) return;\n",
              "\n",
              "          const docLinkHtml = 'Like what you see? Visit the ' +\n",
              "            '<a target=\"_blank\" href=https://colab.research.google.com/notebooks/data_table.ipynb>data table notebook</a>'\n",
              "            + ' to learn more about interactive tables.';\n",
              "          element.innerHTML = '';\n",
              "          dataTable['output_type'] = 'display_data';\n",
              "          await google.colab.output.renderOutput(dataTable, element);\n",
              "          const docLink = document.createElement('div');\n",
              "          docLink.innerHTML = docLinkHtml;\n",
              "          element.appendChild(docLink);\n",
              "        }\n",
              "      </script>\n",
              "    </div>\n",
              "  </div>\n",
              "  "
            ],
            "text/plain": [
              "country  United States         India    Indonesia         China       Brazil\n",
              "year                                                                        \n",
              "2020.0     331002651.0  1.380004e+09  273523615.0  1.439324e+09  212559417.0"
            ]
          },
          "metadata": {},
          "execution_count": 25
        }
      ]
    },
    {
      "cell_type": "code",
      "source": [
        "df_pivot_2020 = df_pivot_2020.T"
      ],
      "metadata": {
        "id": "GDASo5kE5nOm"
      },
      "execution_count": 27,
      "outputs": []
    },
    {
      "cell_type": "code",
      "source": [
        "df_pivot_2020.plot(kind='bar', xlabel='Year', \n",
        "                   ylabel='Population', color='Orange', \n",
        "                   title='Population 2020', figsize=(8,4))"
      ],
      "metadata": {
        "colab": {
          "base_uri": "https://localhost:8080/",
          "height": 371
        },
        "id": "D8QurT8-5tGT",
        "outputId": "b435da6d-cf60-453e-edb9-5e846f511097"
      },
      "execution_count": 33,
      "outputs": [
        {
          "output_type": "execute_result",
          "data": {
            "text/plain": [
              "<matplotlib.axes._subplots.AxesSubplot at 0x7fc458f3e450>"
            ]
          },
          "metadata": {},
          "execution_count": 33
        },
        {
          "output_type": "display_data",
          "data": {
            "image/png": "[encoded data removed]",
            "text/plain": [
              "<Figure size 576x288 with 1 Axes>"
            ]
          },
          "metadata": {
            "needs_background": "light"
          }
        }
      ]
    },
    {
      "cell_type": "code",
      "source": [
        "df_pivot_sample = df_pivot[df_pivot.index.isin([1980, 1990, 2000, 2010, 2020])]"
      ],
      "metadata": {
        "id": "BLJxqk8y53ls"
      },
      "execution_count": 35,
      "outputs": []
    },
    {
      "cell_type": "code",
      "source": [
        "df_pivot_sample.plot(kind='bar', figsize=(10, 10), xlabel='Year', ylabel='Population')"
      ],
      "metadata": {
        "colab": {
          "base_uri": "https://localhost:8080/",
          "height": 659
        },
        "id": "wKMIK-XF6fR0",
        "outputId": "f96b2f1f-8ad9-4081-a270-c0be52b42d00"
      },
      "execution_count": 38,
      "outputs": [
        {
          "output_type": "execute_result",
          "data": {
            "text/plain": [
              "<matplotlib.axes._subplots.AxesSubplot at 0x7fc458cd36d0>"
            ]
          },
          "metadata": {},
          "execution_count": 38
        },
        {
          "output_type": "display_data",
          "data": {
            "image/png": "[encoded data removed]",
            "text/plain": [
              "<Figure size 720x720 with 1 Axes>"
            ]
          },
          "metadata": {
            "needs_background": "light"
          }
        }
      ]
    },
    {
      "cell_type": "markdown",
      "source": [
        "### Piechart"
      ],
      "metadata": {
        "id": "ojHmjpIH62IX"
      }
    },
    {
      "cell_type": "code",
      "source": [
        "df_pivot_2020 = df_pivot_2020.T"
      ],
      "metadata": {
        "id": "Q9ts_jso6nAt"
      },
      "execution_count": 42,
      "outputs": []
    },
    {
      "cell_type": "code",
      "source": [
        "df_pivot_2020.rename(columns={2020: '2020'}, inplace=True)"
      ],
      "metadata": {
        "id": "ONfNjmdn69mE"
      },
      "execution_count": 45,
      "outputs": []
    },
    {
      "cell_type": "code",
      "source": [
        "df_pivot_2020.plot(kind='pie', y='2020', figsize=(10, 10), title='Population 2020')"
      ],
      "metadata": {
        "colab": {
          "base_uri": "https://localhost:8080/",
          "height": 609
        },
        "id": "PD6v4uDS7Na2",
        "outputId": "11a4333b-993d-4ffb-b834-93e6f8c988d4"
      },
      "execution_count": 48,
      "outputs": [
        {
          "output_type": "execute_result",
          "data": {
            "text/plain": [
              "<matplotlib.axes._subplots.AxesSubplot at 0x7fc45934e850>"
            ]
          },
          "metadata": {},
          "execution_count": 48
        },
        {
          "output_type": "display_data",
          "data": {
            "image/png": "[encoded data removed]",
            "text/plain": [
              "<Figure size 720x720 with 1 Axes>"
            ]
          },
          "metadata": {}
        }
      ]
    },
    {
      "cell_type": "markdown",
      "source": [
        "## Export dataframe to excel"
      ],
      "metadata": {
        "id": "pATj6UqF8Fky"
      }
    },
    {
      "cell_type": "code",
      "source": [
        "df_pivot.to_excel('pivot_table.xlsx')"
      ],
      "metadata": {
        "id": "qHRWRXUF7b9X"
      },
      "execution_count": 51,
      "outputs": []
    },
    {
      "cell_type": "code",
      "source": [
        ""
      ],
      "metadata": {
        "id": "7BW8uo3q8Oqw"
      },
      "execution_count": null,
      "outputs": []
    }
  ]
}